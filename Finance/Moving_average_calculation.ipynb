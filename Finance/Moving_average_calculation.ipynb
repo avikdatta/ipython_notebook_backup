{
 "cells": [
  {
   "cell_type": "markdown",
   "metadata": {},
   "source": [
    "## Calculate moving avegare"
   ]
  },
  {
   "cell_type": "code",
   "execution_count": 375,
   "metadata": {
    "collapsed": true
   },
   "outputs": [],
   "source": [
    "import pandas as pd"
   ]
  },
  {
   "cell_type": "code",
   "execution_count": 376,
   "metadata": {
    "collapsed": false
   },
   "outputs": [],
   "source": [
    "import matplotlib.pyplot as plt"
   ]
  },
  {
   "cell_type": "code",
   "execution_count": 377,
   "metadata": {
    "collapsed": false
   },
   "outputs": [],
   "source": [
    "#import pip"
   ]
  },
  {
   "cell_type": "code",
   "execution_count": 378,
   "metadata": {
    "collapsed": false
   },
   "outputs": [],
   "source": [
    "#pip.main(['install','pandas_datareader'] )"
   ]
  },
  {
   "cell_type": "code",
   "execution_count": 379,
   "metadata": {
    "collapsed": false
   },
   "outputs": [],
   "source": [
    "from pandas_datareader import data, wb, Options\n",
    "import datetime"
   ]
  },
  {
   "cell_type": "code",
   "execution_count": 380,
   "metadata": {
    "collapsed": false
   },
   "outputs": [],
   "source": [
    "g1=data.DataReader('INFY.NS', 'yahoo','2016-01-01')"
   ]
  },
  {
   "cell_type": "code",
   "execution_count": 381,
   "metadata": {
    "collapsed": false
   },
   "outputs": [],
   "source": [
    "g1['Avg']=(g1.Open + g1.Close)/2"
   ]
  },
  {
   "cell_type": "code",
   "execution_count": 382,
   "metadata": {
    "collapsed": false
   },
   "outputs": [],
   "source": [
    "d5=g1.Avg.rolling(window=20)"
   ]
  },
  {
   "cell_type": "code",
   "execution_count": 383,
   "metadata": {
    "collapsed": true
   },
   "outputs": [],
   "source": [
    "d20=g1.Avg.rolling(window=100)"
   ]
  },
  {
   "cell_type": "code",
   "execution_count": 386,
   "metadata": {
    "collapsed": false
   },
   "outputs": [],
   "source": [
    "g1=pd.concat([g1, pd.Series(d5.mean(), name='MA20'),pd.Series(d20.mean(),name='MA100')], axis=1).dropna()"
   ]
  },
  {
   "cell_type": "code",
   "execution_count": 394,
   "metadata": {
    "collapsed": false
   },
   "outputs": [],
   "source": [
    "from matplotlib.finance import quotes_historical_yahoo_ohlc, candlestick_ohlc\n",
    "from matplotlib.dates import date2num, DateFormatter\n",
    "from datetime import datetime"
   ]
  },
  {
   "cell_type": "code",
   "execution_count": 395,
   "metadata": {
    "collapsed": true
   },
   "outputs": [],
   "source": [
    "date_format=DateFormatter('%b %y')"
   ]
  },
  {
   "cell_type": "code",
   "execution_count": 396,
   "metadata": {
    "collapsed": false
   },
   "outputs": [
    {
     "name": "stdout",
     "output_type": "stream",
     "text": [
      "<class 'pandas.core.frame.DataFrame'>\n",
      "DatetimeIndex: 177 entries, 2016-05-19 to 2017-01-20\n",
      "Data columns (total 9 columns):\n",
      "Open         177 non-null float64\n",
      "High         177 non-null float64\n",
      "Low          177 non-null float64\n",
      "Close        177 non-null float64\n",
      "Volume       177 non-null int64\n",
      "Adj Close    177 non-null float64\n",
      "Avg          177 non-null float64\n",
      "MA20         177 non-null float64\n",
      "MA100        177 non-null float64\n",
      "dtypes: float64(8), int64(1)\n",
      "memory usage: 13.8 KB\n"
     ]
    }
   ],
   "source": [
    "g1.info()"
   ]
  },
  {
   "cell_type": "code",
   "execution_count": 400,
   "metadata": {
    "collapsed": false
   },
   "outputs": [],
   "source": [
    "g1['Dates']=mdates.date2num(g1.index.to_pydatetime())"
   ]
  },
  {
   "cell_type": "code",
   "execution_count": 404,
   "metadata": {
    "collapsed": false
   },
   "outputs": [],
   "source": [
    "dataAr=[tuple(x) for x in g1[['Dates','Open','High','Low','Close', 'Volume']].to_records(index=False)]"
   ]
  },
  {
   "cell_type": "code",
   "execution_count": 406,
   "metadata": {
    "collapsed": false
   },
   "outputs": [
    {
     "data": {
      "image/png": "[encoded data removed]",
      "text/plain": [
       "<matplotlib.figure.Figure at 0x621d56d0>"
      ]
     },
     "metadata": {},
     "output_type": "display_data"
    }
   ],
   "source": [
    "fig,ax=plt.subplots()\n",
    "ax = plt.subplot2grid((12, 6), (0, 0), rowspan = 6, colspan = 6, axisbg = 'white')\n",
    "ax.xaxis_date()\n",
    "ax.xaxis.set_major_formatter(date_format)\n",
    "mlp=candlestick_ohlc(ax, dataAr, width=0.2, colorup='g', colordown='r' )\n",
    "g1.MA20.plot(style='--',color='orange')\n",
    "g1.MA100.plot(style='--', color='blue')\n",
    "plt.show()"
   ]
  },
  {
   "cell_type": "markdown",
   "metadata": {},
   "source": [
    "## Calculate reinvestment options"
   ]
  },
  {
   "cell_type": "code",
   "execution_count": 174,
   "metadata": {
    "collapsed": false
   },
   "outputs": [
    {
     "name": "stdout",
     "output_type": "stream",
     "text": [
      "642 630 418 65 38\n"
     ]
    }
   ],
   "source": [
    "share_price=642\n",
    "moving_avg=630\n",
    "hold_volume=27\n",
    "hold_price=104\n",
    "count=0\n",
    "\n",
    "def calculate_hold_price(share_price=share_price, hold_volume=hold_volume, \n",
    "                     hold_price=hold_price, moving_avg=moving_avg,   extra=0):\n",
    "    #new_hold_price=((hold_volume + extra) * share_price - hold_price * hold_volume) / hold_volume + extra\n",
    "    \n",
    "    new_hold_price=(hold_volume*hold_price+extra*share_price)/(hold_volume+extra)\n",
    "    return new_hold_price\n",
    "\n",
    "new_hold_price=0\n",
    "\n",
    "while new_hold_price < moving_avg*2/3 :\n",
    "    prev_hold_price=new_hold_price\n",
    "    new_hold_price=calculate_hold_price(extra=count)\n",
    "    if new_hold_price >= moving_avg*2/3:\n",
    "        break\n",
    "    count +=1\n",
    "count -= 1 \n",
    "new_hold_volume=hold_volume+count  \n",
    "print(share_price, moving_avg, int(prev_hold_price), new_hold_volume, count)\n",
    "   "
   ]
  },
  {
   "cell_type": "code",
   "execution_count": null,
   "metadata": {
    "collapsed": true
   },
   "outputs": [],
   "source": []
  },
  {
   "cell_type": "code",
   "execution_count": null,
   "metadata": {
    "collapsed": true
   },
   "outputs": [],
   "source": []
  }
 ],
 "metadata": {
  "kernelspec": {
   "display_name": "Python 3",
   "language": "python",
   "name": "python3"
  },
  "language_info": {
   "codemirror_mode": {
    "name": "ipython",
    "version": 3
   },
   "file_extension": ".py",
   "mimetype": "text/x-python",
   "name": "python",
   "nbconvert_exporter": "python",
   "pygments_lexer": "ipython3",
   "version": "3.5.2"
  }
 },
 "nbformat": 4,
 "nbformat_minor": 2
}
