{
 "cells": [
  {
   "cell_type": "markdown",
   "metadata": {},
   "source": [
    "## Calculate moving avegare"
   ]
  },
  {
   "cell_type": "code",
   "execution_count": 231,
   "metadata": {
    "collapsed": true
   },
   "outputs": [],
   "source": [
    "import pandas as pd"
   ]
  },
  {
   "cell_type": "code",
   "execution_count": 232,
   "metadata": {
    "collapsed": false
   },
   "outputs": [],
   "source": [
    "import matplotlib.pyplot as plt"
   ]
  },
  {
   "cell_type": "code",
   "execution_count": 233,
   "metadata": {
    "collapsed": false
   },
   "outputs": [],
   "source": [
    "#import pip"
   ]
  },
  {
   "cell_type": "code",
   "execution_count": 234,
   "metadata": {
    "collapsed": false
   },
   "outputs": [],
   "source": [
    "#pip.main(['install','pandas_datareader'] )"
   ]
  },
  {
   "cell_type": "code",
   "execution_count": 235,
   "metadata": {
    "collapsed": false
   },
   "outputs": [],
   "source": [
    "from pandas_datareader import data, wb, Options\n",
    "import datetime"
   ]
  },
  {
   "cell_type": "code",
   "execution_count": 236,
   "metadata": {
    "collapsed": false
   },
   "outputs": [],
   "source": [
    "g1=data.DataReader('INFY.NS', 'yahoo','2016-01-01')"
   ]
  },
  {
   "cell_type": "code",
   "execution_count": 237,
   "metadata": {
    "collapsed": false
   },
   "outputs": [],
   "source": [
    "d15=g1['Adj Close'].rolling(window=15)"
   ]
  },
  {
   "cell_type": "code",
   "execution_count": 238,
   "metadata": {
    "collapsed": false
   },
   "outputs": [],
   "source": [
    "d50=g1['Adj Close'].rolling(window=50)"
   ]
  },
  {
   "cell_type": "code",
   "execution_count": 239,
   "metadata": {
    "collapsed": false
   },
   "outputs": [],
   "source": [
    "g1=pd.concat([g1, pd.Series(d15.mean(), name='MA15'),pd.Series(d50.mean(),name='MA50')], axis=1).dropna()"
   ]
  },
  {
   "cell_type": "markdown",
   "metadata": {},
   "source": [
    "## Calculate exponential moving average"
   ]
  },
  {
   "cell_type": "code",
   "execution_count": 240,
   "metadata": {
    "collapsed": false
   },
   "outputs": [],
   "source": [
    "g1.reset_index(inplace=True)"
   ]
  },
  {
   "cell_type": "code",
   "execution_count": 241,
   "metadata": {
    "collapsed": false
   },
   "outputs": [],
   "source": [
    "g1['EMA15']=''\n",
    "g1=g1.set_value(0,'EMA15',g1.at[0,'MA15'])"
   ]
  },
  {
   "cell_type": "code",
   "execution_count": 242,
   "metadata": {
    "collapsed": false
   },
   "outputs": [
    {
     "data": {
      "text/plain": [
       "0    1114.61\n",
       "1           \n",
       "2           \n",
       "Name: EMA15, dtype: object"
      ]
     },
     "execution_count": 242,
     "metadata": {},
     "output_type": "execute_result"
    }
   ],
   "source": [
    "g1['EMA15'][:3]"
   ]
  },
  {
   "cell_type": "code",
   "execution_count": 243,
   "metadata": {
    "collapsed": false
   },
   "outputs": [],
   "source": [
    "sf=2/(15+1)\n",
    "for index, val in enumerate(g1['EMA15']):\n",
    "    if val == '':\n",
    "        ema_val=(g1.at[index, 'Adj Close'] - g1.at[index-1, 'EMA15']) * sf + g1.at[index,'Adj Close']\n",
    "        g1=g1.set_value(index, 'EMA15', ema_val)"
   ]
  },
  {
   "cell_type": "code",
   "execution_count": 244,
   "metadata": {
    "collapsed": false
   },
   "outputs": [
    {
     "data": {
      "text/html": [
       "<div>\n",
       "<table border=\"1\" class=\"dataframe\">\n",
       "  <thead>\n",
       "    <tr style=\"text-align: right;\">\n",
       "      <th></th>\n",
       "      <th>Date</th>\n",
       "      <th>Open</th>\n",
       "      <th>High</th>\n",
       "      <th>Low</th>\n",
       "      <th>Close</th>\n",
       "      <th>Volume</th>\n",
       "      <th>Adj Close</th>\n",
       "      <th>MA15</th>\n",
       "      <th>MA50</th>\n",
       "      <th>EMA15</th>\n",
       "    </tr>\n",
       "  </thead>\n",
       "  <tbody>\n",
       "    <tr>\n",
       "      <th>225</th>\n",
       "      <td>2017-01-19</td>\n",
       "      <td>951.0</td>\n",
       "      <td>959.59998</td>\n",
       "      <td>948.09998</td>\n",
       "      <td>958.09998</td>\n",
       "      <td>4438200</td>\n",
       "      <td>958.09998</td>\n",
       "      <td>978.499993</td>\n",
       "      <td>971.071998</td>\n",
       "      <td>959.088</td>\n",
       "    </tr>\n",
       "  </tbody>\n",
       "</table>\n",
       "</div>"
      ],
      "text/plain": [
       "          Date   Open       High        Low      Close   Volume  Adj Close  \\\n",
       "225 2017-01-19  951.0  959.59998  948.09998  958.09998  4438200  958.09998   \n",
       "\n",
       "           MA15        MA50    EMA15  \n",
       "225  978.499993  971.071998  959.088  "
      ]
     },
     "execution_count": 244,
     "metadata": {},
     "output_type": "execute_result"
    }
   ],
   "source": [
    "g1[-2:-1]"
   ]
  },
  {
   "cell_type": "code",
   "execution_count": 245,
   "metadata": {
    "collapsed": false
   },
   "outputs": [],
   "source": [
    "from matplotlib.finance import quotes_historical_yahoo_ohlc, candlestick_ohlc\n",
    "from matplotlib.dates import date2num, DateFormatter\n",
    "from datetime import datetime"
   ]
  },
  {
   "cell_type": "code",
   "execution_count": 246,
   "metadata": {
    "collapsed": true
   },
   "outputs": [],
   "source": [
    "date_format=DateFormatter('%b %y')"
   ]
  },
  {
   "cell_type": "code",
   "execution_count": 247,
   "metadata": {
    "collapsed": false
   },
   "outputs": [
    {
     "name": "stdout",
     "output_type": "stream",
     "text": [
      "<class 'pandas.core.frame.DataFrame'>\n",
      "RangeIndex: 227 entries, 0 to 226\n",
      "Data columns (total 10 columns):\n",
      "Date         227 non-null datetime64[ns]\n",
      "Open         227 non-null float64\n",
      "High         227 non-null float64\n",
      "Low          227 non-null float64\n",
      "Close        227 non-null float64\n",
      "Volume       227 non-null int64\n",
      "Adj Close    227 non-null float64\n",
      "MA15         227 non-null float64\n",
      "MA50         227 non-null float64\n",
      "EMA15        227 non-null object\n",
      "dtypes: datetime64[ns](1), float64(7), int64(1), object(1)\n",
      "memory usage: 16.9+ KB\n"
     ]
    }
   ],
   "source": [
    "g1.info()"
   ]
  },
  {
   "cell_type": "code",
   "execution_count": 248,
   "metadata": {
    "collapsed": false
   },
   "outputs": [],
   "source": [
    "g1=g1.set_index('Date')"
   ]
  },
  {
   "cell_type": "code",
   "execution_count": 249,
   "metadata": {
    "collapsed": false
   },
   "outputs": [],
   "source": [
    "g1['Dates']=date2num(g1.index.to_pydatetime())"
   ]
  },
  {
   "cell_type": "code",
   "execution_count": 252,
   "metadata": {
    "collapsed": false
   },
   "outputs": [],
   "source": [
    "g1=g1[-20:-1]\n",
    "dataAr=[tuple(x) for x in g1[['Dates','Open','High','Low','Adj Close']].to_records(index=False)]"
   ]
  },
  {
   "cell_type": "code",
   "execution_count": 253,
   "metadata": {
    "collapsed": false
   },
   "outputs": [
    {
     "data": {
      "image/png": "[encoded data removed]",
      "text/plain": [
       "<matplotlib.figure.Figure at 0x6870ae90>"
      ]
     },
     "metadata": {},
     "output_type": "display_data"
    }
   ],
   "source": [
    "fig,ax=plt.subplots()\n",
    "ax.xaxis_date()\n",
    "ax.xaxis.set_major_formatter(date_format)\n",
    "mlp=candlestick_ohlc(ax, dataAr, width=0.7, colorup='g', colordown='r' )\n",
    "g1.MA15.plot(style='-', alpha=0.5, color='orange', label='MA15')\n",
    "g1.MA50.plot(style='-', alpha=0.5, color='blue', label='MA50')\n",
    "g1.EMA15.plot(style='-', alpha=0.5, color='purple', label='EMA15')\n",
    "handles, labels = ax.get_legend_handles_labels()\n",
    "ax.legend(handles, labels, loc='best', fontsize=8)\n",
    "plt.show()"
   ]
  },
  {
   "cell_type": "markdown",
   "metadata": {},
   "source": [
    "## Calculate reinvestment options"
   ]
  },
  {
   "cell_type": "code",
   "execution_count": 174,
   "metadata": {
    "collapsed": false
   },
   "outputs": [
    {
     "name": "stdout",
     "output_type": "stream",
     "text": [
      "642 630 418 65 38\n"
     ]
    }
   ],
   "source": [
    "share_price=642\n",
    "moving_avg=630\n",
    "hold_volume=27\n",
    "hold_price=104\n",
    "count=0\n",
    "\n",
    "def calculate_hold_price(share_price=share_price, hold_volume=hold_volume, \n",
    "                     hold_price=hold_price, moving_avg=moving_avg,   extra=0):\n",
    "    #new_hold_price=((hold_volume + extra) * share_price - hold_price * hold_volume) / hold_volume + extra\n",
    "    \n",
    "    new_hold_price=(hold_volume*hold_price+extra*share_price)/(hold_volume+extra)\n",
    "    return new_hold_price\n",
    "\n",
    "new_hold_price=0\n",
    "\n",
    "while new_hold_price < moving_avg*2/3 :\n",
    "    prev_hold_price=new_hold_price\n",
    "    new_hold_price=calculate_hold_price(extra=count)\n",
    "    if new_hold_price >= moving_avg*2/3:\n",
    "        break\n",
    "    count +=1\n",
    "count -= 1 \n",
    "new_hold_volume=hold_volume+count  \n",
    "print(share_price, moving_avg, int(prev_hold_price), new_hold_volume, count)\n",
    "   "
   ]
  },
  {
   "cell_type": "code",
   "execution_count": null,
   "metadata": {
    "collapsed": true
   },
   "outputs": [],
   "source": []
  },
  {
   "cell_type": "code",
   "execution_count": null,
   "metadata": {
    "collapsed": true
   },
   "outputs": [],
   "source": []
  }
 ],
 "metadata": {
  "kernelspec": {
   "display_name": "Python 3",
   "language": "python",
   "name": "python3"
  }
 },
 "nbformat": 4,
 "nbformat_minor": 2
}
