{
 "cells": [
  {
   "cell_type": "markdown",
   "metadata": {},
   "source": [
    "# Beautiful soup 4 test"
   ]
  },
  {
   "cell_type": "code",
   "execution_count": null,
   "metadata": {
    "collapsed": true
   },
   "outputs": [],
   "source": [
    "import pip\n",
    "#pip.main(['install','pandas_datareader'])"
   ]
  },
  {
   "cell_type": "code",
   "execution_count": 2,
   "metadata": {
    "collapsed": true
   },
   "outputs": [],
   "source": [
    "from bs4 import BeautifulSoup\n",
    "import urllib.request\n",
    "import re\n",
    "import pandas as pd\n",
    "from pandas_datareader import data, wb, Options\n",
    "import matplotlib.pyplot as plt\n",
    "import datetime\n",
    "from matplotlib.finance import quotes_historical_yahoo_ohlc, candlestick_ohlc\n",
    "from matplotlib.dates import date2num, DateFormatter\n",
    "from datetime import datetime"
   ]
  },
  {
   "cell_type": "code",
   "execution_count": 150,
   "metadata": {
    "collapsed": false
   },
   "outputs": [],
   "source": [
    "def get_table_data_list(url='http://www.moneycontrol.com/stocks/marketstats/indexcomp.php?optex=NSE&opttopic=indexcomp&index=9'):\n",
    "  '''\n",
    "  A function for fetching NSE stock information\n",
    "  Input: Url of the index page\n",
    "  Outout: Header and Data list\n",
    "  '''\n",
    "  with urllib.request.urlopen(url) as response:\n",
    "    html = BeautifulSoup(response.read(),'html.parser')\n",
    "    header=[]\n",
    "    data=[]\n",
    "    for row in table.findAll('tr'): \n",
    "        # find header row\n",
    "        if len(header) < 1:\n",
    "            for col in row.findAll('th'):\n",
    "                col_b=col.find('b')\n",
    "                col_br=col.find('br')\n",
    "                if col_b:\n",
    "                    header.append(col_b.string)\n",
    "                elif(col_br):\n",
    "                    header.append('{0} {1}'.format(col_br.previous_sibling.string,col_br.string) \n",
    "                                if col_br.string else col_br.previous_sibling )\n",
    "                else:\n",
    "                    header.append(col.string)\n",
    "                \n",
    "        row_list=[]    \n",
    "        for col in row.findAll('td'):\n",
    "          col_b=col.find('b')\n",
    "          if col_b:\n",
    "            row_list.append(col_b.string)\n",
    "            href=col.find(href=re.compile('stockpricequote'))\n",
    "            if href:\n",
    "              row_list.append(href.get('href'))\n",
    "          else:\n",
    "            row_list.append(col.string)\n",
    "        if len(row_list) > 1:    \n",
    "           data.append(row_list)\n",
    "    header.insert(1,'Link')\n",
    "  return header, data"
   ]
  },
  {
   "cell_type": "code",
   "execution_count": 151,
   "metadata": {
    "collapsed": false
   },
   "outputs": [],
   "source": [
    "header, data = get_table_data_list()"
   ]
  },
  {
   "cell_type": "code",
   "execution_count": 152,
   "metadata": {
    "collapsed": false
   },
   "outputs": [],
   "source": [
    "df=pd.DataFrame(data, columns=header)"
   ]
  },
  {
   "cell_type": "code",
   "execution_count": 153,
   "metadata": {
    "collapsed": false
   },
   "outputs": [],
   "source": [
    "def get_stock_info(url_suffix,url_prefix='http://www.moneycontrol.com'):\n",
    "    '''\n",
    "    A function for fetching stock information \n",
    "    Input: The url suffx for specific stock\n",
    "    Output: A dict containing current_price, \n",
    "    days_low/high,52wk_low/high and NSE symbol\n",
    "    '''\n",
    "    url=url_prefix+url_suffix\n",
    "    data={}\n",
    "    with urllib.request.urlopen(url_prefix+url_suffix) as response:\n",
    "        html = BeautifulSoup(response.read(),'html.parser')\n",
    "        data['current_price']=html.find('div',attrs={'id':'Nse_Prc_tick_div'}).strong.string\n",
    "        data['days_low']=html.find('span', attrs={'id':'n_low_sh'}).string\n",
    "        data['days_high']=html.find('span', attrs={'id':'n_high_sh'}).string\n",
    "        data['52wk_low']=html.find('span', attrs={'id':'n_52low'}).string\n",
    "        data['52wk_high']=html.find('span', attrs={'id':'n_52high'}).string\n",
    "        regexp=re.compile('NSE: \\w+')\n",
    "        data['symbol']=re.sub('NSE: ', '', re.search(regexp, html.\n",
    "                                 find('div',attrs={'class':'PB10'}).\n",
    "                                 find('div',attrs={'class':'FL gry10'}).\n",
    "                                 get_text()).group(0))\n",
    "    return data    "
   ]
  },
  {
   "cell_type": "code",
   "execution_count": 154,
   "metadata": {
    "collapsed": false
   },
   "outputs": [],
   "source": [
    "def populate_data_row(data_frame_row):\n",
    "    '''\n",
    "    A function for adding additional stock information to the input data frame\n",
    "    '''\n",
    "    data=get_stock_info(url_suffix=data_frame_row.Link)\n",
    "    for key,value in data.items():\n",
    "        data_frame_row[key]=value\n",
    "    return data_frame_row"
   ]
  },
  {
   "cell_type": "code",
   "execution_count": 155,
   "metadata": {
    "collapsed": false
   },
   "outputs": [
    {
     "name": "stderr",
     "output_type": "stream",
     "text": [
      "Some characters could not be decoded, and were replaced with REPLACEMENT CHARACTER.\n",
      "Some characters could not be decoded, and were replaced with REPLACEMENT CHARACTER.\n",
      "Some characters could not be decoded, and were replaced with REPLACEMENT CHARACTER.\n"
     ]
    }
   ],
   "source": [
    "df=df.apply(populate_data_row, axis=1)"
   ]
  },
  {
   "cell_type": "code",
   "execution_count": 156,
   "metadata": {
    "collapsed": false
   },
   "outputs": [
    {
     "data": {
      "text/html": [
       "<div>\n",
       "<table border=\"1\" class=\"dataframe\">\n",
       "  <thead>\n",
       "    <tr style=\"text-align: right;\">\n",
       "      <th></th>\n",
       "      <th>Company Name</th>\n",
       "      <th>Link</th>\n",
       "      <th>Industry</th>\n",
       "      <th>Last Price</th>\n",
       "      <th>Change</th>\n",
       "      <th>%Chg</th>\n",
       "      <th>Mkt Cap</th>\n",
       "      <th>52wk_low</th>\n",
       "      <th>52wk_high</th>\n",
       "      <th>days_low</th>\n",
       "      <th>symbol</th>\n",
       "      <th>current_price</th>\n",
       "      <th>days_high</th>\n",
       "    </tr>\n",
       "  </thead>\n",
       "  <tbody>\n",
       "    <tr>\n",
       "      <th>0</th>\n",
       "      <td>ACC</td>\n",
       "      <td>/india/stockpricequote/cementmajor/acc/ACC06</td>\n",
       "      <td>Cement - Major</td>\n",
       "      <td>1,486.00</td>\n",
       "      <td>0.50</td>\n",
       "      <td>0.03</td>\n",
       "      <td>27,905.19</td>\n",
       "      <td>1174.00</td>\n",
       "      <td>1736.40</td>\n",
       "      <td>1480.10</td>\n",
       "      <td>ACC</td>\n",
       "      <td>1484.40</td>\n",
       "      <td>1496.95</td>\n",
       "    </tr>\n",
       "    <tr>\n",
       "      <th>1</th>\n",
       "      <td>Adani Ports</td>\n",
       "      <td>/india/stockpricequote/infrastructuregeneral/a...</td>\n",
       "      <td>Infrastructure - General</td>\n",
       "      <td>310.90</td>\n",
       "      <td>6.10</td>\n",
       "      <td>2.00</td>\n",
       "      <td>64,385.89</td>\n",
       "      <td>169.15</td>\n",
       "      <td>317.00</td>\n",
       "      <td>305.10</td>\n",
       "      <td>ADANIPORTS</td>\n",
       "      <td>311.40</td>\n",
       "      <td>313.70</td>\n",
       "    </tr>\n",
       "    <tr>\n",
       "      <th>2</th>\n",
       "      <td>Ambuja Cements</td>\n",
       "      <td>/india/stockpricequote/cementmajor/ambujacemen...</td>\n",
       "      <td>Cement - Major</td>\n",
       "      <td>238.70</td>\n",
       "      <td>0.30</td>\n",
       "      <td>0.13</td>\n",
       "      <td>47,397.35</td>\n",
       "      <td>185.00</td>\n",
       "      <td>281.70</td>\n",
       "      <td>238.00</td>\n",
       "      <td>AMBUJACEM</td>\n",
       "      <td>238.65</td>\n",
       "      <td>241.30</td>\n",
       "    </tr>\n",
       "  </tbody>\n",
       "</table>\n",
       "</div>"
      ],
      "text/plain": [
       "     Company Name                                               Link  \\\n",
       "0             ACC       /india/stockpricequote/cementmajor/acc/ACC06   \n",
       "1     Adani Ports  /india/stockpricequote/infrastructuregeneral/a...   \n",
       "2  Ambuja Cements  /india/stockpricequote/cementmajor/ambujacemen...   \n",
       "\n",
       "                   Industry Last Price Change  %Chg    Mkt Cap 52wk_low  \\\n",
       "0            Cement - Major   1,486.00   0.50  0.03  27,905.19  1174.00   \n",
       "1  Infrastructure - General     310.90   6.10  2.00  64,385.89   169.15   \n",
       "2            Cement - Major     238.70   0.30  0.13  47,397.35   185.00   \n",
       "\n",
       "  52wk_high days_low      symbol current_price days_high  \n",
       "0   1736.40  1480.10         ACC       1484.40   1496.95  \n",
       "1    317.00   305.10  ADANIPORTS        311.40    313.70  \n",
       "2    281.70   238.00   AMBUJACEM        238.65    241.30  "
      ]
     },
     "execution_count": 156,
     "metadata": {},
     "output_type": "execute_result"
    }
   ],
   "source": [
    "df.head(3)"
   ]
  },
  {
   "cell_type": "code",
   "execution_count": 63,
   "metadata": {
    "collapsed": false
   },
   "outputs": [],
   "source": [
    "df=df.set_index('Company Name')"
   ]
  },
  {
   "cell_type": "code",
   "execution_count": 76,
   "metadata": {
    "collapsed": false
   },
   "outputs": [],
   "source": [
    "df.Change=df.Change.astype(float)"
   ]
  },
  {
   "cell_type": "code",
   "execution_count": 77,
   "metadata": {
    "collapsed": false
   },
   "outputs": [],
   "source": [
    "df.sort_values(by='Change', inplace=True)"
   ]
  },
  {
   "cell_type": "code",
   "execution_count": 146,
   "metadata": {
    "collapsed": false
   },
   "outputs": [],
   "source": [
    "def get_moving_average(stock, date, date_window=None):\n",
    "    '''\n",
    "    Calculate moving average of a given stock\n",
    "    Input: Stock symbol and start date\n",
    "    Output: Dataframe containing MA15, MA50 and EMA15 values and data array\n",
    "    '''\n",
    "    # fetch data from yahoo server\n",
    "    yahoo_data=data.DataReader(stock, 'yahoo',date)\n",
    "    \n",
    "    # set date format\n",
    "    date_format=DateFormatter('%b %y')\n",
    "    \n",
    "    # set values for moving average calculation    \n",
    "    d15=yahoo_data['Adj Close'].rolling(window=15)\n",
    "    d50=yahoo_data['Adj Close'].rolling(window=50)\n",
    "    \n",
    "    # add MA15 and MA50 values to the dataframe    \n",
    "    yahoo_data=pd.concat([yahoo_data, pd.Series(d15.mean(), name='MA15'),\n",
    "              pd.Series(d50.mean(),name='MA50')], axis=1).dropna()\n",
    "    yahoo_data.reset_index(inplace=True)\n",
    "\n",
    "    # add empty EMA15 value    \n",
    "    yahoo_data['EMA15']='' \n",
    "    \n",
    "    # add first EMA15 value\n",
    "    yahoo_data=yahoo_data.set_value(0,'EMA15',yahoo_data.at[0,'MA15']) \n",
    "    \n",
    "    \n",
    "    # calculate EMA15 values    \n",
    "    sf=2/(15+1)\n",
    "    for index, val in enumerate(yahoo_data['EMA15']):\n",
    "        if val == '':\n",
    "            ema_val=(yahoo_data.at[index, 'Adj Close'] - yahoo_data.at[index-1, 'EMA15']) * sf + yahoo_data.at[index,'Adj Close']\n",
    "            yahoo_data=yahoo_data.set_value(index, 'EMA15', ema_val)\n",
    "    \n",
    "    # set index for data frame\n",
    "    yahoo_data=yahoo_data.set_index('Date')        \n",
    "    yahoo_data['Dates']=date2num(yahoo_data.index.to_pydatetime())\n",
    "    \n",
    "    # reset date window\n",
    "    if date_window:\n",
    "        yahoo_data=yahoo_data[-date_window:-1]\n",
    "    \n",
    "    # generate data_array for matplotlib candlelstick plot\n",
    "    data_array=[tuple(x) \n",
    "            for x in yahoo_data[['Dates','Open','High','Low','Adj Close']].\n",
    "            to_records(index=False)]\n",
    "    \n",
    "    return yahoo_data, data_array"
   ]
  },
  {
   "cell_type": "code",
   "execution_count": 147,
   "metadata": {
    "collapsed": false
   },
   "outputs": [],
   "source": [
    "(g2, data_arr)=get_moving_average(stock='ADANIPORTS.NS', date='2016-01-01', date_window=50)"
   ]
  },
  {
   "cell_type": "code",
   "execution_count": 148,
   "metadata": {
    "collapsed": false
   },
   "outputs": [
    {
     "data": {
      "image/png": "[encoded data removed]",
      "text/plain": [
       "<matplotlib.figure.Figure at 0x62683370>"
      ]
     },
     "metadata": {},
     "output_type": "display_data"
    }
   ],
   "source": [
    "fig,ax=plt.subplots()\n",
    "ax.xaxis_date()\n",
    "ax.xaxis.set_major_formatter(date_format)\n",
    "mlp=candlestick_ohlc(ax, data_arr, width=0.7, colorup='g', colordown='r' )\n",
    "g2.MA15.plot(style='-', alpha=0.5, color='orange', label='MA15')\n",
    "g2.MA50.plot(style='-', alpha=0.5, color='blue', label='MA50')\n",
    "g2.EMA15.plot(style='-', alpha=0.5, color='purple', label='EMA15')\n",
    "handles, labels = ax.get_legend_handles_labels()\n",
    "ax.legend(handles, labels, loc='best', fontsize=8)\n",
    "plt.show()"
   ]
  },
  {
   "cell_type": "code",
   "execution_count": null,
   "metadata": {
    "collapsed": true
   },
   "outputs": [],
   "source": []
  }
 ],
 "metadata": {
  "kernelspec": {
   "display_name": "Python 3",
   "language": "python",
   "name": "python3"
  },
  "language_info": {
   "codemirror_mode": {
    "name": "ipython",
    "version": 3
   },
   "file_extension": ".py",
   "mimetype": "text/x-python",
   "name": "python",
   "nbconvert_exporter": "python",
   "pygments_lexer": "ipython3",
   "version": "3.5.2"
  }
 },
 "nbformat": 4,
 "nbformat_minor": 2
}
