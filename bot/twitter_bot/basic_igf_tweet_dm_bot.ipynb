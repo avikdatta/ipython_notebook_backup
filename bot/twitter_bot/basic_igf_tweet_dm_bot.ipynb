{
 "cells": [
  {
   "cell_type": "code",
   "execution_count": 2,
   "metadata": {},
   "outputs": [],
   "source": [
    "#!pip install python-twitter"
   ]
  },
  {
   "cell_type": "code",
   "execution_count": 26,
   "metadata": {},
   "outputs": [],
   "source": [
    "import pandas as pd\n",
    "import twitter, json,re,sqlalchemy\n",
    "from sqlalchemy.sql import select\n",
    "from sqlalchemy.ext.declarative import declarative_base\n",
    "from sqlalchemy.orm import sessionmaker\n",
    "from sqlalchemy import Table,Column,Integer,String,TEXT,create_engine,UniqueConstraint"
   ]
  },
  {
   "cell_type": "code",
   "execution_count": 6,
   "metadata": {},
   "outputs": [],
   "source": [
    "Base = declarative_base()"
   ]
  },
  {
   "cell_type": "code",
   "execution_count": 18,
   "metadata": {},
   "outputs": [],
   "source": [
    "class Tweet_message(Base):\n",
    "  '''\n",
    "  Table schema for Message\n",
    "  '''\n",
    "  __tablename__ = 'tweet_message'\n",
    "  __table_args__ = ( UniqueConstraint('keyword'),)\n",
    "\n",
    "  message_id  = Column(Integer, primary_key=True, nullable=False)\n",
    "  keyword     = Column(String(50), nullable=False)\n",
    "  message_out = Column(TEXT())"
   ]
  },
  {
   "cell_type": "code",
   "execution_count": 19,
   "metadata": {},
   "outputs": [],
   "source": [
    "engine=create_engine('sqlite:///:memory:')"
   ]
  },
  {
   "cell_type": "code",
   "execution_count": 20,
   "metadata": {},
   "outputs": [],
   "source": [
    "Base.metadata.create_all(engine)"
   ]
  },
  {
   "cell_type": "code",
   "execution_count": 21,
   "metadata": {},
   "outputs": [],
   "source": [
    "Session=sessionmaker(bind=engine)"
   ]
  },
  {
   "cell_type": "code",
   "execution_count": 22,
   "metadata": {},
   "outputs": [],
   "source": [
    "session=Session()"
   ]
  },
  {
   "cell_type": "code",
   "execution_count": 27,
   "metadata": {},
   "outputs": [],
   "source": [
    "query=session.query(Tweet_message)"
   ]
  },
  {
   "cell_type": "code",
   "execution_count": 28,
   "metadata": {},
   "outputs": [
    {
     "data": {
      "text/html": [
       "<div>\n",
       "<style scoped>\n",
       "    .dataframe tbody tr th:only-of-type {\n",
       "        vertical-align: middle;\n",
       "    }\n",
       "\n",
       "    .dataframe tbody tr th {\n",
       "        vertical-align: top;\n",
       "    }\n",
       "\n",
       "    .dataframe thead th {\n",
       "        text-align: right;\n",
       "    }\n",
       "</style>\n",
       "<table border=\"1\" class=\"dataframe\">\n",
       "  <thead>\n",
       "    <tr style=\"text-align: right;\">\n",
       "      <th></th>\n",
       "      <th>message_id</th>\n",
       "      <th>keyword</th>\n",
       "      <th>message_out</th>\n",
       "    </tr>\n",
       "  </thead>\n",
       "  <tbody>\n",
       "  </tbody>\n",
       "</table>\n",
       "</div>"
      ],
      "text/plain": [
       "Empty DataFrame\n",
       "Columns: [message_id, keyword, message_out]\n",
       "Index: []"
      ]
     },
     "execution_count": 28,
     "metadata": {},
     "output_type": "execute_result"
    }
   ],
   "source": [
    "pd.read_sql(query.statement, session.bind)"
   ]
  },
  {
   "cell_type": "code",
   "execution_count": 29,
   "metadata": {},
   "outputs": [],
   "source": [
    "def insert_dataframe_row(session, table, df):\n",
    "    df=df.fillna('')\n",
    "    df_dict=df.to_dict()\n",
    "    try:\n",
    "        df_dict={ key:value for key, value in df_dict.items() if value} # filter any empty value\n",
    "        obj=table(**df_dict)\n",
    "        session.add(obj)\n",
    "        session.flush()\n",
    "    except Exception as e:\n",
    "        print(\"Failed to insert row, error: {}\".format(e))\n",
    "        session.rollback()"
   ]
  },
  {
   "cell_type": "code",
   "execution_count": 31,
   "metadata": {},
   "outputs": [],
   "source": [
    "message_data=[{'keyword':'sample_submission',\n",
    "               'message_out':\\\n",
    "               'Please follow these steps: \\\n",
    "                1. Download, complete and send us this form to receive a quote https://www.imperial.ac.uk/terminalfour/SiteManager?ctfn=download&fnno=60&ceid=306973353 \\\n",
    "                2. Check per sample recommended read depth https://www.imperial.ac.uk/medicine/research-and-impact/facilities/genomics-facility/faq/coverage-and-read-recommendations/ \\\n",
    "                3. Check assay specific submission guide https://www.imperial.ac.uk/medicine/research-and-impact/facilities/genomics-facility/guidelines/ \\\n",
    "                4. Deliver samples to facility',\n",
    "              },\n",
    "              {'keyword':'assay_samples',\n",
    "               'message_out':'Check the assay specific sample submission guide https://www.imperial.ac.uk/medicine/research-and-impact/facilities/genomics-facility/guidelines/',\n",
    "              },\n",
    "              {'keyword':'sequencing_cost',\n",
    "               'message_out':'You will require an Imperial College\\'s login for accessing the sequencing cost information https://www.imperial.ac.uk/medicine/research-and-impact/facilities/genomics-facility/services/pricing/',\n",
    "              },\n",
    "              {'keyword':'contact_us',\n",
    "               'message_out':'Our contact infomation can be found here https://www.imperial.ac.uk/medicine/research-and-impact/facilities/genomics-facility/contact/',\n",
    "              },\n",
    "             ]"
   ]
  },
  {
   "cell_type": "code",
   "execution_count": 33,
   "metadata": {},
   "outputs": [],
   "source": [
    "message_data=pd.DataFrame(message_data)"
   ]
  },
  {
   "cell_type": "code",
   "execution_count": 34,
   "metadata": {},
   "outputs": [
    {
     "data": {
      "text/plain": [
       "0    None\n",
       "1    None\n",
       "2    None\n",
       "3    None\n",
       "dtype: object"
      ]
     },
     "execution_count": 34,
     "metadata": {},
     "output_type": "execute_result"
    }
   ],
   "source": [
    "message_data.apply(lambda x: insert_dataframe_row(session,Tweet_message, x), axis=1);"
   ]
  },
  {
   "cell_type": "code",
   "execution_count": 35,
   "metadata": {},
   "outputs": [],
   "source": [
    "session.commit()"
   ]
  },
  {
   "cell_type": "code",
   "execution_count": 40,
   "metadata": {
    "scrolled": true
   },
   "outputs": [
    {
     "data": {
      "text/html": [
       "<div>\n",
       "<style scoped>\n",
       "    .dataframe tbody tr th:only-of-type {\n",
       "        vertical-align: middle;\n",
       "    }\n",
       "\n",
       "    .dataframe tbody tr th {\n",
       "        vertical-align: top;\n",
       "    }\n",
       "\n",
       "    .dataframe thead th {\n",
       "        text-align: right;\n",
       "    }\n",
       "</style>\n",
       "<table border=\"1\" class=\"dataframe\">\n",
       "  <thead>\n",
       "    <tr style=\"text-align: right;\">\n",
       "      <th></th>\n",
       "      <th>message_id</th>\n",
       "      <th>keyword</th>\n",
       "      <th>message_out</th>\n",
       "    </tr>\n",
       "  </thead>\n",
       "  <tbody>\n",
       "    <tr>\n",
       "      <th>0</th>\n",
       "      <td>1</td>\n",
       "      <td>sample_submission</td>\n",
       "      <td>Please follow these steps:                    ...</td>\n",
       "    </tr>\n",
       "    <tr>\n",
       "      <th>1</th>\n",
       "      <td>2</td>\n",
       "      <td>assay_samples</td>\n",
       "      <td>Check the assay specific sample submission gui...</td>\n",
       "    </tr>\n",
       "    <tr>\n",
       "      <th>2</th>\n",
       "      <td>3</td>\n",
       "      <td>sequencing_cost</td>\n",
       "      <td>You will require an Imperial College's login f...</td>\n",
       "    </tr>\n",
       "    <tr>\n",
       "      <th>3</th>\n",
       "      <td>4</td>\n",
       "      <td>contact_us</td>\n",
       "      <td>Our contact infomation can be found here https...</td>\n",
       "    </tr>\n",
       "  </tbody>\n",
       "</table>\n",
       "</div>"
      ],
      "text/plain": [
       "   message_id            keyword  \\\n",
       "0           1  sample_submission   \n",
       "1           2      assay_samples   \n",
       "2           3    sequencing_cost   \n",
       "3           4         contact_us   \n",
       "\n",
       "                                         message_out  \n",
       "0  Please follow these steps:                    ...  \n",
       "1  Check the assay specific sample submission gui...  \n",
       "2  You will require an Imperial College's login f...  \n",
       "3  Our contact infomation can be found here https...  "
      ]
     },
     "execution_count": 40,
     "metadata": {},
     "output_type": "execute_result"
    }
   ],
   "source": [
    "pd.read_sql(query.statement, session.bind)"
   ]
  },
  {
   "cell_type": "code",
   "execution_count": 41,
   "metadata": {},
   "outputs": [],
   "source": [
    "token_file='twep_token.json'"
   ]
  },
  {
   "cell_type": "code",
   "execution_count": 42,
   "metadata": {},
   "outputs": [],
   "source": [
    "with open(token_file,'r') as json_data:\n",
    "    twep_token=json.load(json_data)"
   ]
  },
  {
   "cell_type": "code",
   "execution_count": 43,
   "metadata": {},
   "outputs": [],
   "source": [
    "api = twitter.Api(twep_token['consumer_key'],\n",
    "                  twep_token['consumer_secret'],\n",
    "                  twep_token['access_token_key'],\n",
    "                  twep_token['access_token_secret'])"
   ]
  },
  {
   "cell_type": "code",
   "execution_count": 46,
   "metadata": {},
   "outputs": [],
   "source": [
    "quick_reply_data={\"type\": \"options\",\n",
    "                  \"options\": \n",
    "                  [\n",
    "                   {\n",
    "                     \"label\": \"sample_submission\",\n",
    "                     \"metadata\": \"external_id_1\"\n",
    "                   },\n",
    "                   {\n",
    "                     \"label\": \"assay_samples\",\n",
    "                     \"metadata\": \"external_id_2\"\n",
    "                   },\n",
    "                   {\n",
    "                     \"label\": \"sequencing_cost\",\n",
    "                     \"metadata\": \"external_id_3\"\n",
    "                   },\n",
    "                   {\n",
    "                     \"label\": \"contact_us\",\n",
    "                     \"metadata\": \"external_id_4\"\n",
    "                   }\n",
    "                  ]\n",
    "                 }"
   ]
  },
  {
   "cell_type": "code",
   "execution_count": 47,
   "metadata": {},
   "outputs": [],
   "source": [
    "welcome_data={\n",
    "  \"welcome_message\" : {\n",
    "    \"message_data\": {\n",
    "      \"text\": \"Welcome to IGF bot chat, please select an option from below.\",\n",
    "      \"quick_reply\": quick_reply_data,\n",
    "    }\n",
    "  }\n",
    "}"
   ]
  },
  {
   "cell_type": "code",
   "execution_count": 49,
   "metadata": {},
   "outputs": [],
   "source": [
    "post_data={'event': {\n",
    "             \"type\": \"message_create\",\n",
    "             \"message_create\": {\n",
    "               \"target\": {\n",
    "                 \"recipient_id\": None,\n",
    "               },\n",
    "               \"message_data\": {  \n",
    "                 \"text\": None,\n",
    "                 \"quick_reply\": quick_reply_data,\n",
    "               },\n",
    "              },\n",
    "            }\n",
    "          }"
   ]
  },
  {
   "cell_type": "code",
   "execution_count": 51,
   "metadata": {},
   "outputs": [],
   "source": [
    "url='{0}/direct_messages/events/new.json'.format(api.base_url)"
   ]
  },
  {
   "cell_type": "code",
   "execution_count": 54,
   "metadata": {},
   "outputs": [],
   "source": [
    "def get_message_outpur(keyword,session=session):\n",
    "    try:\n",
    "        message=session.query(Tweet_message).filter(Tweet_message.keyword==keyword).one()\n",
    "        return message.message_out\n",
    "    except:\n",
    "        raise"
   ]
  },
  {
   "cell_type": "code",
   "execution_count": 57,
   "metadata": {},
   "outputs": [],
   "source": [
    "strm=api.GetUserStream()"
   ]
  },
  {
   "cell_type": "code",
   "execution_count": 59,
   "metadata": {},
   "outputs": [],
   "source": [
    "for strm_line in strm:\n",
    "    post_data[\"event\"][\"message_create\"][\"target\"][\"recipient_id\"]=None\n",
    "    post_data[\"event\"][\"message_create\"][\"message_data\"][\"text\"]=None\n",
    "    for strm_key, strm_value in strm_line.items():\n",
    "        if strm_key=='direct_message':\n",
    "            sender_name=strm_value['sender_screen_name']\n",
    "            if not sender_name=='dailybot001':\n",
    "                msg=get_message_outpur(keyword=strm_value['text'])\n",
    "                sender_id=strm_value['sender_id']\n",
    "                post_data[\"event\"][\"message_create\"][\"target\"][\"recipient_id\"]=sender_id\n",
    "                post_data[\"event\"][\"message_create\"][\"message_data\"][\"text\"]=msg\n",
    "                data=json.dumps(post_data)\n",
    "                api._RequestUrl(url, 'POST', data=data)"
   ]
  }
 ],
 "metadata": {
  "kernelspec": {
   "display_name": "Python 3",
   "language": "python",
   "name": "python3"
  },
  "language_info": {
   "codemirror_mode": {
    "name": "ipython",
    "version": 3
   },
   "file_extension": ".py",
   "mimetype": "text/x-python",
   "name": "python",
   "nbconvert_exporter": "python",
   "pygments_lexer": "ipython3",
   "version": "3.5.2"
  }
 },
 "nbformat": 4,
 "nbformat_minor": 2
}
