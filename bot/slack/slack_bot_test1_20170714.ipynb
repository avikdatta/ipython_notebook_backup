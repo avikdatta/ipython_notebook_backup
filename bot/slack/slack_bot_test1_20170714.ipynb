{
 "cells": [
  {
   "cell_type": "code",
   "execution_count": 1,
   "metadata": {
    "collapsed": true
   },
   "outputs": [],
   "source": [
    "from slackclient import SlackClient"
   ]
  },
  {
   "cell_type": "code",
   "execution_count": 2,
   "metadata": {
    "collapsed": true
   },
   "outputs": [],
   "source": [
    "slack_token ='xxxxxxxxxxxxxxxxxxxxxxxxxxxxxxxxxxxxxxxxxxx'"
   ]
  },
  {
   "cell_type": "code",
   "execution_count": 3,
   "metadata": {
    "collapsed": true
   },
   "outputs": [],
   "source": [
    "sc = SlackClient(slack_token)"
   ]
  },
  {
   "cell_type": "code",
   "execution_count": 6,
   "metadata": {
    "collapsed": true
   },
   "outputs": [],
   "source": [
    "api_call = sc.api_call(\"channels.list\")"
   ]
  },
  {
   "cell_type": "code",
   "execution_count": 7,
   "metadata": {
    "collapsed": true
   },
   "outputs": [],
   "source": [
    "channels=api_call.get('channels')"
   ]
  },
  {
   "cell_type": "code",
   "execution_count": 9,
   "metadata": {
    "collapsed": true
   },
   "outputs": [],
   "source": [
    "def post_slack_message(message, channel_id, user_id, thread_ts):\n",
    "    sc.api_call(\n",
    "   \"chat.postMessage\",\n",
    "   channel=channel_id,\n",
    "   user=user_id,\n",
    "   thread_ts=thread_ts,    \n",
    "   is_im=True, \n",
    "   text=message + ' :zzz:'\n",
    "  )"
   ]
  },
  {
   "cell_type": "code",
   "execution_count": 10,
   "metadata": {
    "collapsed": true
   },
   "outputs": [],
   "source": [
    "def parse_slack_output(slack_rtm_output, bot_id='U4WRM54GN', channel_id='C4W664VGE'):\n",
    "     if isinstance(slack_rtm_output, list) and len(slack_rtm_output) > 0:\n",
    "        for output in slack_rtm_output:   \n",
    "            if output and 'text' in output and '@'+bot_id in output['text'] and channel_id in output['channel']:\n",
    "                all_text=output['text']\n",
    "                user_id=output['user']\n",
    "                thread_ts=output['ts']\n",
    "                print(output)\n",
    "                if 'help' in all_text:\n",
    "                    post_slack_message(message=\"I can't help you. Sorry!\", user_id=user_id, channel_id=channel_id, thread_ts=thread_ts)\n",
    "                else:\n",
    "                    post_slack_message(message=\"Type 'help' for all options.\", user_id=user_id, channel_id=channel_id, thread_ts=thread_ts)"
   ]
  },
  {
   "cell_type": "code",
   "execution_count": 12,
   "metadata": {},
   "outputs": [
    {
     "name": "stdout",
     "output_type": "stream",
     "text": [
      "slack bot is up and running!\n"
     ]
    }
   ],
   "source": [
    "if sc.rtm_connect():\n",
    "    print('slack bot is up and running!')\n",
    "    while True:\n",
    "          parse_slack_output(sc.rtm_read()) "
   ]
  },
  {
   "cell_type": "code",
   "execution_count": null,
   "metadata": {
    "collapsed": true
   },
   "outputs": [],
   "source": []
  }
 ],
 "metadata": {
  "kernelspec": {
   "display_name": "Python 3",
   "language": "python",
   "name": "python3"
  },
  "language_info": {
   "codemirror_mode": {
    "name": "ipython",
    "version": 3
   },
   "file_extension": ".py",
   "mimetype": "text/x-python",
   "name": "python",
   "nbconvert_exporter": "python",
   "pygments_lexer": "ipython3",
   "version": "3.5.2"
  }
 },
 "nbformat": 4,
 "nbformat_minor": 2
}
