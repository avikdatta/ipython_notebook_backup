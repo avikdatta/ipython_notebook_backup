{
 "cells": [
  {
   "cell_type": "code",
   "execution_count": 1,
   "metadata": {},
   "outputs": [],
   "source": [
    "import pandas as pd\n",
    "import twitter, json,re,sqlalchemy\n",
    "from slackclient import SlackClient\n",
    "from sqlalchemy.sql import select\n",
    "from sqlalchemy.ext.declarative import declarative_base\n",
    "from sqlalchemy.orm import sessionmaker\n",
    "from sqlalchemy import Table,Column,Integer,String,Enum,TEXT,create_engine,UniqueConstraint"
   ]
  },
  {
   "cell_type": "markdown",
   "metadata": {},
   "source": [
    "### Define database tables"
   ]
  },
  {
   "cell_type": "code",
   "execution_count": 2,
   "metadata": {},
   "outputs": [],
   "source": [
    "Base = declarative_base()"
   ]
  },
  {
   "cell_type": "code",
   "execution_count": 3,
   "metadata": {},
   "outputs": [],
   "source": [
    "class Project_status(Base):\n",
    "  '''\n",
    "  Table schema for project status\n",
    "  '''\n",
    "  __tablename__ = 'project_status'\n",
    "  __table_args__ = ( UniqueConstraint('project_igf_id'),)\n",
    "\n",
    "  project_id        = Column(Integer, primary_key=True, nullable=False)\n",
    "  project_igf_id    = Column(String(50), nullable=False)\n",
    "  total_sample      = Column(Integer)\n",
    "  sample_with_fastq = Column(Integer)\n",
    "\n",
    "class Sample_status(Base):\n",
    "  '''\n",
    "  Table schema for sample status\n",
    "  '''\n",
    "  __tablename__ = 'sample_status'\n",
    "  __table_args__ = ( UniqueConstraint('sample_igf_id'),)\n",
    "\n",
    "  sample_id        = Column(Integer, primary_key=True, nullable=False)\n",
    "  sample_igf_id    = Column(String(50), nullable=False)\n",
    "  fastq_read_count = Column(Integer)\n",
    "    \n",
    "class Seqrun_status(Base):\n",
    "  '''\n",
    "  Table schema for seqrun status\n",
    "  '''\n",
    "  __tablename__ = 'seqrun_status'\n",
    "  __table_args__ = ( UniqueConstraint('seqrun_igf_id'),)\n",
    "\n",
    "  seqrun_id             = Column(Integer, primary_key=True, nullable=False)\n",
    "  seqrun_igf_id         = Column(String(50), nullable=False)\n",
    "  demulieplexing_status = Column(Enum('SEEDED', 'RUNNING', 'FINISHED', 'FAILED', 'UNKNOWN'), nullable=False, server_default='UNKNOWN')"
   ]
  },
  {
   "cell_type": "markdown",
   "metadata": {},
   "source": [
    "### Create database table using SQlite"
   ]
  },
  {
   "cell_type": "code",
   "execution_count": 4,
   "metadata": {},
   "outputs": [],
   "source": [
    "engine=create_engine('sqlite:///:memory:')\n",
    "Base.metadata.create_all(engine)\n",
    "Session=sessionmaker(bind=engine)\n",
    "session=Session()"
   ]
  },
  {
   "cell_type": "markdown",
   "metadata": {},
   "source": [
    "### Define data loading methos for database"
   ]
  },
  {
   "cell_type": "code",
   "execution_count": 5,
   "metadata": {},
   "outputs": [],
   "source": [
    "def insert_dataframe_row(session, table, df):\n",
    "    df=df.fillna('')\n",
    "    df_dict=df.to_dict()\n",
    "    try:\n",
    "        df_dict={ key:value for key, value in df_dict.items() if value} # filter any empty value\n",
    "        obj=table(**df_dict)\n",
    "        session.add(obj)\n",
    "        session.flush()\n",
    "    except Exception as e:\n",
    "        print(\"Failed to insert row, error: {}\".format(e))\n",
    "        session.rollback()"
   ]
  },
  {
   "cell_type": "markdown",
   "metadata": {},
   "source": [
    "### Load demo data to db"
   ]
  },
  {
   "cell_type": "code",
   "execution_count": 6,
   "metadata": {},
   "outputs": [],
   "source": [
    "project_data=pd.DataFrame([{'project_igf_id':'IGFP001','total_sample':30,'sample_with_fastq':25}])\n",
    "sample_data=pd.DataFrame([{'sample_igf_id':'IGFS001','fastq_read_count':3000000}])\n",
    "seqrun_data=pd.DataFrame([{'seqrun_igf_id':'171003_M03291_0089_000000000-TEST','demulieplexing_status':'RUNNING'}])\n",
    "project_data.apply(lambda x: insert_dataframe_row(session,Project_status, x), axis=1);\n",
    "sample_data.apply(lambda x: insert_dataframe_row(session,Sample_status, x), axis=1);\n",
    "seqrun_data.apply(lambda x: insert_dataframe_row(session,Seqrun_status, x), axis=1);\n",
    "session.commit()"
   ]
  },
  {
   "cell_type": "markdown",
   "metadata": {},
   "source": [
    "### Check demo data"
   ]
  },
  {
   "cell_type": "code",
   "execution_count": 7,
   "metadata": {},
   "outputs": [
    {
     "data": {
      "text/html": [
       "<div>\n",
       "<style>\n",
       "    .dataframe thead tr:only-child th {\n",
       "        text-align: right;\n",
       "    }\n",
       "\n",
       "    .dataframe thead th {\n",
       "        text-align: left;\n",
       "    }\n",
       "\n",
       "    .dataframe tbody tr th {\n",
       "        vertical-align: top;\n",
       "    }\n",
       "</style>\n",
       "<table border=\"1\" class=\"dataframe\">\n",
       "  <thead>\n",
       "    <tr style=\"text-align: right;\">\n",
       "      <th></th>\n",
       "      <th>project_id</th>\n",
       "      <th>project_igf_id</th>\n",
       "      <th>total_sample</th>\n",
       "      <th>sample_with_fastq</th>\n",
       "    </tr>\n",
       "  </thead>\n",
       "  <tbody>\n",
       "    <tr>\n",
       "      <th>0</th>\n",
       "      <td>1</td>\n",
       "      <td>IGFP001</td>\n",
       "      <td>30</td>\n",
       "      <td>25</td>\n",
       "    </tr>\n",
       "  </tbody>\n",
       "</table>\n",
       "</div>"
      ],
      "text/plain": [
       "   project_id project_igf_id  total_sample  sample_with_fastq\n",
       "0           1        IGFP001            30                 25"
      ]
     },
     "execution_count": 7,
     "metadata": {},
     "output_type": "execute_result"
    }
   ],
   "source": [
    "p_query=session.query(Project_status)\n",
    "pd.read_sql(p_query.statement, session.bind)"
   ]
  },
  {
   "cell_type": "code",
   "execution_count": 8,
   "metadata": {},
   "outputs": [
    {
     "data": {
      "text/html": [
       "<div>\n",
       "<style>\n",
       "    .dataframe thead tr:only-child th {\n",
       "        text-align: right;\n",
       "    }\n",
       "\n",
       "    .dataframe thead th {\n",
       "        text-align: left;\n",
       "    }\n",
       "\n",
       "    .dataframe tbody tr th {\n",
       "        vertical-align: top;\n",
       "    }\n",
       "</style>\n",
       "<table border=\"1\" class=\"dataframe\">\n",
       "  <thead>\n",
       "    <tr style=\"text-align: right;\">\n",
       "      <th></th>\n",
       "      <th>sample_id</th>\n",
       "      <th>sample_igf_id</th>\n",
       "      <th>fastq_read_count</th>\n",
       "    </tr>\n",
       "  </thead>\n",
       "  <tbody>\n",
       "    <tr>\n",
       "      <th>0</th>\n",
       "      <td>1</td>\n",
       "      <td>IGFS001</td>\n",
       "      <td>3000000</td>\n",
       "    </tr>\n",
       "  </tbody>\n",
       "</table>\n",
       "</div>"
      ],
      "text/plain": [
       "   sample_id sample_igf_id  fastq_read_count\n",
       "0          1       IGFS001           3000000"
      ]
     },
     "execution_count": 8,
     "metadata": {},
     "output_type": "execute_result"
    }
   ],
   "source": [
    "sa_query=session.query(Sample_status)\n",
    "pd.read_sql(sa_query.statement, session.bind)"
   ]
  },
  {
   "cell_type": "code",
   "execution_count": 9,
   "metadata": {},
   "outputs": [
    {
     "data": {
      "text/html": [
       "<div>\n",
       "<style>\n",
       "    .dataframe thead tr:only-child th {\n",
       "        text-align: right;\n",
       "    }\n",
       "\n",
       "    .dataframe thead th {\n",
       "        text-align: left;\n",
       "    }\n",
       "\n",
       "    .dataframe tbody tr th {\n",
       "        vertical-align: top;\n",
       "    }\n",
       "</style>\n",
       "<table border=\"1\" class=\"dataframe\">\n",
       "  <thead>\n",
       "    <tr style=\"text-align: right;\">\n",
       "      <th></th>\n",
       "      <th>seqrun_id</th>\n",
       "      <th>seqrun_igf_id</th>\n",
       "      <th>demulieplexing_status</th>\n",
       "    </tr>\n",
       "  </thead>\n",
       "  <tbody>\n",
       "    <tr>\n",
       "      <th>0</th>\n",
       "      <td>1</td>\n",
       "      <td>171003_M03291_0089_000000000-TEST</td>\n",
       "      <td>RUNNING</td>\n",
       "    </tr>\n",
       "  </tbody>\n",
       "</table>\n",
       "</div>"
      ],
      "text/plain": [
       "   seqrun_id                      seqrun_igf_id demulieplexing_status\n",
       "0          1  171003_M03291_0089_000000000-TEST               RUNNING"
      ]
     },
     "execution_count": 9,
     "metadata": {},
     "output_type": "execute_result"
    }
   ],
   "source": [
    "sr_query=session.query(Seqrun_status)\n",
    "pd.read_sql(sr_query.statement, session.bind)"
   ]
  },
  {
   "cell_type": "markdown",
   "metadata": {},
   "source": [
    "### Define da data fetch methods"
   ]
  },
  {
   "cell_type": "code",
   "execution_count": 10,
   "metadata": {},
   "outputs": [],
   "source": [
    "def get_project_status(project_igf_id,session):\n",
    "    '''\n",
    "    Function for fetching project status\n",
    "    '''\n",
    "    try:\n",
    "        p_query=session.\\\n",
    "                query(Project_status).\\\n",
    "                filter(Project_status.project_igf_id==project_igf_id)\n",
    "        project_status=p_query.one_or_none()\n",
    "        return project_status\n",
    "    except Exception as e:\n",
    "        print(e)"
   ]
  },
  {
   "cell_type": "code",
   "execution_count": 11,
   "metadata": {},
   "outputs": [],
   "source": [
    "def get_sample_status(sample_igf_id,session):\n",
    "    '''\n",
    "    Function for fetching sample status\n",
    "    '''\n",
    "    try:\n",
    "        sa_query=session.\\\n",
    "                 query(Sample_status).\\\n",
    "                 filter(Sample_status.sample_igf_id==sample_igf_id)\n",
    "        sample_status=sa_query.one_or_none()\n",
    "        return sample_status\n",
    "    except Exception as e:\n",
    "        print(e)"
   ]
  },
  {
   "cell_type": "code",
   "execution_count": 12,
   "metadata": {},
   "outputs": [],
   "source": [
    "def get_seqrun_status(seqrun_igf_id,session):\n",
    "    '''\n",
    "    Function for fetching seqrun status\n",
    "    '''\n",
    "    try:\n",
    "        sr_query=session.\\\n",
    "                 query(Seqrun_status).\\\n",
    "                 filter(Seqrun_status.seqrun_igf_id==seqrun_igf_id)\n",
    "        seqrun_status=sr_query.one_or_none()\n",
    "        return seqrun_status\n",
    "    except Exception as e:\n",
    "        print(e)"
   ]
  },
  {
   "cell_type": "markdown",
   "metadata": {},
   "source": [
    "### Method for generating message for Slack"
   ]
  },
  {
   "cell_type": "code",
   "execution_count": 13,
   "metadata": {},
   "outputs": [],
   "source": [
    "def calculate_reply(user_input,session):\n",
    "    '''\n",
    "    Function for calculation reply for the user input\n",
    "    '''\n",
    "    try:\n",
    "        pattern=re.compile(r'^<@\\w+>(\\s+)?(\\S+)(\\s+)?:(\\s+)?(\\S+)$')\n",
    "        m = re.search(pattern,user_input)\n",
    "        if m:\n",
    "            key=m.group(2)\n",
    "            value=m.group(5)\n",
    "            if key.lower()=='project':\n",
    "                project_data=get_project_status(project_igf_id=value,\n",
    "                                                session=session)\n",
    "                if project_data:\n",
    "                    msg='project {0} has {1} samples, currently we have {2} samples with fastq'.\\\n",
    "                        format(value,\\\n",
    "                               project_data.total_sample, \\\n",
    "                               project_data.sample_with_fastq)\n",
    "                else:\n",
    "                    msg='no data found for project {0}'.format(value)\n",
    "            elif key.lower()=='sample':\n",
    "                sample_data=get_sample_status(sample_igf_id=value,\n",
    "                                              session=session)\n",
    "                if sample_data:\n",
    "                    msg='sample {0} has total {1} fastq reads'.\\\n",
    "                        format(value,\\\n",
    "                               sample_data.fastq_read_count)\n",
    "                else:\n",
    "                    msg='no data found for sample {0}'.format(value)\n",
    "            elif key.lower()=='seqrun':\n",
    "                seqrun_data=get_seqrun_status(seqrun_igf_id=value,\n",
    "                                              session=session)\n",
    "                if seqrun_data:\n",
    "                    msg='sequencing run {0} has following status for demultiplexing pipeline: {1}'.\\\n",
    "                        format(value,\\\n",
    "                               seqrun_data.demulieplexing_status)\n",
    "                else:\n",
    "                    msg='no data found for sequencing run {0}'.format(value)\n",
    "            else:\n",
    "                msg='No option present for keyword {0}, available options are: project, sample, seqrun'.\\\n",
    "                     format(key)\n",
    "        else:\n",
    "            msg='No match found'\n",
    "        return msg\n",
    "    except Exception as e:\n",
    "        print(e)"
   ]
  },
  {
   "cell_type": "markdown",
   "metadata": {},
   "source": [
    "### Test reply with demo data"
   ]
  },
  {
   "cell_type": "code",
   "execution_count": 14,
   "metadata": {},
   "outputs": [
    {
     "data": {
      "text/plain": [
       "'project IGFP001 has 30 samples, currently we have 25 samples with fastq'"
      ]
     },
     "execution_count": 14,
     "metadata": {},
     "output_type": "execute_result"
    }
   ],
   "source": [
    "calculate_reply(user_input='<@UAAA42>  project: IGFP001',session=session)"
   ]
  },
  {
   "cell_type": "code",
   "execution_count": 15,
   "metadata": {},
   "outputs": [
    {
     "data": {
      "text/plain": [
       "'sample IGFS001 has total 3000000 fastq reads'"
      ]
     },
     "execution_count": 15,
     "metadata": {},
     "output_type": "execute_result"
    }
   ],
   "source": [
    "calculate_reply(user_input='<@UAAA42>  sample: IGFS001',session=session)"
   ]
  },
  {
   "cell_type": "code",
   "execution_count": 16,
   "metadata": {},
   "outputs": [
    {
     "data": {
      "text/plain": [
       "'sequencing run 171003_M03291_0089_000000000-TEST has following status for demultiplexing pipeline: RUNNING'"
      ]
     },
     "execution_count": 16,
     "metadata": {},
     "output_type": "execute_result"
    }
   ],
   "source": [
    "calculate_reply(user_input='<@UAAA42>  seqrun: 171003_M03291_0089_000000000-TEST',session=session)"
   ]
  },
  {
   "cell_type": "code",
   "execution_count": 17,
   "metadata": {},
   "outputs": [
    {
     "data": {
      "text/plain": [
       "'No option present for keyword sample1, available options are: project, sample, seqrun'"
      ]
     },
     "execution_count": 17,
     "metadata": {},
     "output_type": "execute_result"
    }
   ],
   "source": [
    "calculate_reply(user_input='<@UAAA42>  sample1: IGFS001',session=session)"
   ]
  },
  {
   "cell_type": "markdown",
   "metadata": {},
   "source": [
    "### Load Slack config"
   ]
  },
  {
   "cell_type": "code",
   "execution_count": 18,
   "metadata": {},
   "outputs": [],
   "source": [
    "with open('slack_conf.json','r') as json_data:\n",
    "    slack_token=json.load(json_data)"
   ]
  },
  {
   "cell_type": "code",
   "execution_count": 19,
   "metadata": {},
   "outputs": [],
   "source": [
    "sc = SlackClient(slack_token['slack_token'])\n",
    "slack_token['slack_token']=''\n",
    "slack_bot_id=slack_token['slack_token']\n",
    "slack_channel=slack_token['slack_channel']"
   ]
  },
  {
   "cell_type": "markdown",
   "metadata": {},
   "source": [
    "### Define method for parsing user input and sending reply"
   ]
  },
  {
   "cell_type": "code",
   "execution_count": 20,
   "metadata": {},
   "outputs": [],
   "source": [
    "def post_slack_message(message, channel_id, user_id, attachments=None, thread_ts=None):\n",
    "    '''\n",
    "    message: slack messsage\n",
    "    channel_id: slack channel id\n",
    "    user_id: slack bot user id\n",
    "    thread_ts: slack thread id, if available\n",
    "    '''\n",
    "    sc.api_call(\n",
    "   \"chat.postMessage\",\n",
    "   channel=channel_id,\n",
    "   user=user_id,\n",
    "   thread_ts=thread_ts,    \n",
    "   is_im=True, \n",
    "   attachments=attachments,\n",
    "   text=message\n",
    "  )\n",
    "\n"
   ]
  },
  {
   "cell_type": "code",
   "execution_count": 21,
   "metadata": {},
   "outputs": [],
   "source": [
    "def parse_slack_output(slack_rtm_output, bot_id, channel_id):\n",
    "    '''\n",
    "    slack_rtm_output: slack realtime stream\n",
    "    bot_id: slack bot id\n",
    "    channel_id: slack channel id\n",
    "    '''\n",
    "    if isinstance(slack_rtm_output, list) and \\\n",
    "       len(slack_rtm_output) > 0:\n",
    "            for output in slack_rtm_output:\n",
    "                if output and \\\n",
    "                   'text' in output and \\\n",
    "                   '@'+bot_id in output['text'] and \\\n",
    "                   channel_id in output['channel']:\n",
    "                        yield output\n"
   ]
  },
  {
   "cell_type": "markdown",
   "metadata": {},
   "source": [
    "### Slack RTM process for bot"
   ]
  },
  {
   "cell_type": "code",
   "execution_count": 22,
   "metadata": {
    "scrolled": true
   },
   "outputs": [
    {
     "name": "stdout",
     "output_type": "stream",
     "text": [
      "Stopped bot\n"
     ]
    }
   ],
   "source": [
    "try:\n",
    "    if sc.rtm_connect():\n",
    "        while True:\n",
    "            for output in parse_slack_output(slack_rtm_output=sc.rtm_read(),\\\n",
    "                                             bot_id=slack_bot_id, \\\n",
    "                                             channel_id=slack_channel):\n",
    "                message=calculate_reply(user_input=output['text'],session=session)\n",
    "                post_slack_message(message=message, \\\n",
    "                                   channel_id=slack_channel, \\\n",
    "                                   user_id=slack_bot_id, \\\n",
    "                                   thread_ts=output['ts'])\n",
    "except KeyboardInterrupt:\n",
    "    print('Stopped bot')\n",
    "except:\n",
    "    raise"
   ]
  },
  {
   "cell_type": "code",
   "execution_count": null,
   "metadata": {},
   "outputs": [],
   "source": []
  }
 ],
 "metadata": {
  "kernelspec": {
   "display_name": "Python 3",
   "language": "python",
   "name": "python3"
  },
  "language_info": {
   "codemirror_mode": {
    "name": "ipython",
    "version": 3
   },
   "file_extension": ".py",
   "mimetype": "text/x-python",
   "name": "python",
   "nbconvert_exporter": "python",
   "pygments_lexer": "ipython3",
   "version": "3.5.2"
  }
 },
 "nbformat": 4,
 "nbformat_minor": 2
}
