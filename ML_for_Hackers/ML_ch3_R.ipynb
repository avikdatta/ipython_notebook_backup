{
 "cells": [
  {
   "cell_type": "code",
   "execution_count": 1,
   "metadata": {
    "collapsed": false
   },
   "outputs": [
    {
     "name": "stderr",
     "output_type": "stream",
     "text": [
      "Loading required package: NLP\n"
     ]
    }
   ],
   "source": [
    "library(tm)"
   ]
  },
  {
   "cell_type": "raw",
   "metadata": {
    "collapsed": true
   },
   "source": [
    "library(ggplot2)"
   ]
  },
  {
   "cell_type": "code",
   "execution_count": 2,
   "metadata": {
    "collapsed": true
   },
   "outputs": [],
   "source": [
    "spam.path<-file.path('/root/app/ML_for_Hackers/03-Classification/data', 'spam')\n",
    "spam_2.path<-file.path('/root/app/ML_for_Hackers/03-Classification/data', 'spam_2')\n",
    "easyham.path<-file.path('/root/app/ML_for_Hackers/03-Classification/data', 'easy_ham')\n",
    "easyham_2.path<-file.path('/root/app/ML_for_Hackers/03-Classification/data', 'easy_ham_2')\n",
    "hardham.path<-file.path('/root/app/ML_for_Hackers/03-Classification/data', 'hard_ham')\n",
    "hardham_2.path<-file.path('/root/app/ML_for_Hackers/03-Classification/data', 'hard_ham_2')"
   ]
  },
  {
   "cell_type": "code",
   "execution_count": 3,
   "metadata": {
    "collapsed": false
   },
   "outputs": [
    {
     "data": {
      "text/html": [
       "'/root/app/ML_for_Hackers/03-Classification/data/spam'"
      ],
      "text/latex": [
       "'/root/app/ML\\_for\\_Hackers/03-Classification/data/spam'"
      ],
      "text/markdown": [
       "'/root/app/ML_for_Hackers/03-Classification/data/spam'"
      ],
      "text/plain": [
       "[1] \"/root/app/ML_for_Hackers/03-Classification/data/spam\""
      ]
     },
     "metadata": {},
     "output_type": "display_data"
    }
   ],
   "source": [
    "spam.path"
   ]
  },
  {
   "cell_type": "code",
   "execution_count": 4,
   "metadata": {
    "collapsed": true
   },
   "outputs": [],
   "source": [
    "spam.docs<-dir(spam.path)\n",
    "spam_2.docs<-dir(spam_2.path)\n",
    "easyham.docs<-dir(easyham.path)\n",
    "easyham_2.docs<-dir(easyham_2.path)\n",
    "hardham.docs<-dir(hardham.path)\n",
    "hardham_2.docs<-dir(hardham.path)"
   ]
  },
  {
   "cell_type": "code",
   "execution_count": 5,
   "metadata": {
    "collapsed": false
   },
   "outputs": [
    {
     "data": {
      "text/html": [
       "'cmds'"
      ],
      "text/latex": [
       "'cmds'"
      ],
      "text/markdown": [
       "'cmds'"
      ],
      "text/plain": [
       "[1] \"cmds\""
      ]
     },
     "metadata": {},
     "output_type": "display_data"
    }
   ],
   "source": [
    "spam.docs[spam.docs=='cmds']"
   ]
  },
  {
   "cell_type": "markdown",
   "metadata": {},
   "source": [
    "### Get file which is not 'cmds'"
   ]
  },
  {
   "cell_type": "code",
   "execution_count": 6,
   "metadata": {
    "collapsed": false
   },
   "outputs": [],
   "source": [
    "spam.docs<-spam.docs[spam.docs != 'cmds']\n",
    "spam_2.docs<-spam_2.docs[spam_2.docs != 'cmds']\n",
    "easyham.docs<-easyham.docs[easyham.docs != 'cmds']\n",
    "easyham_2.docs<-easyham_2.docs[easyham_2.docs != 'cmds']\n",
    "hardham.docs<-hardham.docs[hardham.docs != 'cmds']\n",
    "hardham_2.docs<-hardham_2.docs[hardham_2.docs != 'cmds']"
   ]
  },
  {
   "cell_type": "markdown",
   "metadata": {},
   "source": [
    "## Function for reading msg"
   ]
  },
  {
   "cell_type": "code",
   "execution_count": 7,
   "metadata": {
    "collapsed": false
   },
   "outputs": [],
   "source": [
    "get.msg<-function(path){\n",
    "    con<-file(path, open=\"rt\", encoding=\"latin1\")\n",
    "    txt<-readLines(con)\n",
    "    msg<-txt[seq((which(txt==\"\"))[1]+1, length(txt), 1)]\n",
    "    close(con)\n",
    "    return(paste(msg, collapse = '\\n'))\n",
    "}"
   ]
  },
  {
   "cell_type": "code",
   "execution_count": 8,
   "metadata": {
    "collapsed": true
   },
   "outputs": [],
   "source": [
    "all.spam<-sapply(spam.docs, function(p) get.msg(file.path(spam.path, p)))"
   ]
  },
  {
   "cell_type": "code",
   "execution_count": 9,
   "metadata": {
    "collapsed": false
   },
   "outputs": [
    {
     "data": {
      "text/html": [
       "'character'"
      ],
      "text/latex": [
       "'character'"
      ],
      "text/markdown": [
       "'character'"
      ],
      "text/plain": [
       "[1] \"character\""
      ]
     },
     "metadata": {},
     "output_type": "display_data"
    }
   ],
   "source": [
    "typeof(all.spam)"
   ]
  },
  {
   "cell_type": "code",
   "execution_count": 10,
   "metadata": {
    "collapsed": false
   },
   "outputs": [
    {
     "data": {
      "text/html": [
       "'character'"
      ],
      "text/latex": [
       "'character'"
      ],
      "text/markdown": [
       "'character'"
      ],
      "text/plain": [
       "[1] \"character\""
      ]
     },
     "metadata": {},
     "output_type": "display_data"
    }
   ],
   "source": [
    "class(all.spam)"
   ]
  },
  {
   "cell_type": "code",
   "execution_count": 11,
   "metadata": {
    "collapsed": false
   },
   "outputs": [
    {
     "data": {
      "text/html": [
       "<strong>00001.7848dde101aa985090474a91ec93fcf0:</strong> <span style=white-space:pre-wrap>'&lt;!DOCTYPE HTML PUBLIC \"-//W3C//DTD HTML 4.0 Transitional//EN\"&gt;\n",
       "&lt;HTML&gt;&lt;HEAD&gt;\n",
       "&lt;META content=3D\"text/html; charset=3Dwindows-1252\" http-equiv=3DContent-T=\n",
       "ype&gt;\n",
       "&lt;META content=3D\"MSHTML 5.00.2314.1000\" name=3DGENERATOR&gt;&lt;/HEAD&gt;\n",
       "&lt;BODY&gt;&lt;!-- Inserted by Calypso --&gt;\n",
       "&lt;TABLE border=3D0 cellPadding=3D0 cellSpacing=3D2 id=3D_CalyPrintHeader_ r=\n",
       "ules=3Dnone \n",
       "style=3D\"COLOR: black; DISPLAY: none\" width=3D\"100%\"&gt;\n",
       "  &lt;TBODY&gt;\n",
       "  &lt;TR&gt;\n",
       "    &lt;TD colSpan=3D3&gt;\n",
       "      &lt;HR color=3Dblack noShade SIZE=3D1&gt;\n",
       "    &lt;/TD&gt;&lt;/TR&gt;&lt;/TD&gt;&lt;/TR&gt;\n",
       "  &lt;TR&gt;\n",
       "    &lt;TD colSpan=3D3&gt;\n",
       "      &lt;HR color=3Dblack noShade SIZE=3D1&gt;\n",
       "    &lt;/TD&gt;&lt;/TR&gt;&lt;/TBODY&gt;&lt;/TABLE&gt;&lt;!-- End Calypso --&gt;&lt;!-- Inserted by Calypso=\n",
       " --&gt;&lt;FONT \n",
       "color=3D#000000 face=3DVERDANA,ARIAL,HELVETICA size=3D-2&gt;&lt;BR&gt;&lt;/FONT&gt;&lt;/TD&gt;&lt;=\n",
       "/TR&gt;&lt;/TABLE&gt;&lt;!-- End Calypso --&gt;&lt;FONT color=3D#ff0000 \n",
       "face=3D\"Copperplate Gothic Bold\" size=3D5 PTSIZE=3D\"10\"&gt;\n",
       "&lt;CENTER&gt;Save up to 70% on Life Insurance.&lt;/CENTER&gt;&lt;/FONT&gt;&lt;FONT color=3D#ff=\n",
       "0000 \n",
       "face=3D\"Copperplate Gothic Bold\" size=3D5 PTSIZE=3D\"10\"&gt;\n",
       "&lt;CENTER&gt;Why Spend More Than You Have To?\n",
       "&lt;CENTER&gt;&lt;FONT color=3D#ff0000 face=3D\"Copperplate Gothic Bold\" size=3D5 PT=\n",
       "SIZE=3D\"10\"&gt;\n",
       "&lt;CENTER&gt;Life Quote Savings\n",
       "&lt;CENTER&gt;\n",
       "&lt;P align=3Dleft&gt;&lt;/P&gt;\n",
       "&lt;P align=3Dleft&gt;&lt;/P&gt;&lt;/FONT&gt;&lt;/U&gt;&lt;/I&gt;&lt;/B&gt;&lt;BR&gt;&lt;/FONT&gt;&lt;/U&gt;&lt;/B&gt;&lt;/U&gt;&lt;/I&gt;\n",
       "&lt;P&gt;&lt;/P&gt;\n",
       "&lt;CENTER&gt;\n",
       "&lt;TABLE border=3D0 borderColor=3D#111111 cellPadding=3D0 cellSpacing=3D0 wi=\n",
       "dth=3D650&gt;\n",
       "  &lt;TBODY&gt;&lt;/TBODY&gt;&lt;/TABLE&gt;\n",
       "&lt;TABLE border=3D0 borderColor=3D#111111 cellPadding=3D5 cellSpacing=3D0 wi=\n",
       "dth=3D650&gt;\n",
       "  &lt;TBODY&gt;\n",
       "  &lt;TR&gt;\n",
       "    &lt;TD colSpan=3D2 width=3D\"35%\"&gt;&lt;B&gt;&lt;FONT face=3DVerdana size=3D4&gt;Ensurin=\n",
       "g your \n",
       "      family\\'s financial security is very important. Life Quote Savings ma=\n",
       "kes \n",
       "      buying life insurance simple and affordable. We Provide FREE Access =\n",
       "to The \n",
       "      Very Best Companies and The Lowest Rates.&lt;/FONT&gt;&lt;/B&gt;&lt;/TD&gt;&lt;/TR&gt;\n",
       "  &lt;TR&gt;\n",
       "    &lt;TD align=3Dmiddle vAlign=3Dtop width=3D\"18%\"&gt;\n",
       "      &lt;TABLE borderColor=3D#111111 width=3D\"100%\"&gt;\n",
       "        &lt;TBODY&gt;\n",
       "        &lt;TR&gt;\n",
       "          &lt;TD style=3D\"PADDING-LEFT: 5px; PADDING-RIGHT: 5px\" width=3D\"100=\n",
       "%\"&gt;&lt;FONT \n",
       "            face=3DVerdana size=3D4&gt;&lt;B&gt;Life Quote Savings&lt;/B&gt; is FAST, EAS=\n",
       "Y and \n",
       "            SAVES you money! Let us help you get started with the best val=\n",
       "ues in \n",
       "            the country on new coverage. You can SAVE hundreds or even tho=\n",
       "usands \n",
       "            of dollars by requesting a FREE quote from Lifequote Savings. =\n",
       "Our \n",
       "            service will take you less than 5 minutes to complete. Shop an=\n",
       "d \n",
       "            compare. SAVE up to 70% on all types of Life insurance! \n",
       "&lt;/FONT&gt;&lt;/TD&gt;&lt;/TR&gt;\n",
       "        &lt;TR&gt;&lt;BR&gt;&lt;BR&gt;\n",
       "          &lt;TD height=3D50 style=3D\"PADDING-LEFT: 5px; PADDING-RIGHT: 5px\" \n",
       "          width=3D\"100%\"&gt;\n",
       "            &lt;P align=3Dcenter&gt;&lt;B&gt;&lt;FONT face=3DVerdana size=3D5&gt;&lt;A \n",
       "            href=3D\"http://website.e365.cc/savequote/\"&gt;Click Here For Your=\n",
       " \n",
       "            Free Quote!&lt;/A&gt;&lt;/FONT&gt;&lt;/B&gt;&lt;/P&gt;&lt;/TD&gt;\n",
       "          &lt;P&gt;&lt;FONT face=3DVerdana size=3D4&gt;&lt;STRONG&gt;\n",
       "          &lt;CENTER&gt;Protecting your family is the best investment you'll eve=\n",
       "r \n",
       "          make!&lt;BR&gt;&lt;/B&gt;&lt;/TD&gt;&lt;/TR&gt;\n",
       "        &lt;TR&gt;&lt;BR&gt;&lt;BR&gt;&lt;/STRONG&gt;&lt;/FONT&gt;&lt;/TD&gt;&lt;/TR&gt;&lt;/TD&gt;&lt;/TR&gt;\n",
       "        &lt;TR&gt;&lt;/TR&gt;&lt;/TBODY&gt;&lt;/TABLE&gt;\n",
       "      &lt;P align=3Dleft&gt;&lt;FONT face=3D\"Arial, Helvetica, sans-serif\" size=3D2=\n",
       "&gt;&lt;/FONT&gt;&lt;/P&gt;\n",
       "      &lt;P&gt;&lt;/P&gt;\n",
       "      &lt;CENTER&gt;&lt;BR&gt;&lt;BR&gt;&lt;BR&gt;\n",
       "      &lt;P&gt;&lt;/P&gt;\n",
       "      &lt;P align=3Dleft&gt;&lt;BR&gt;&lt;/B&gt;&lt;BR&gt;&lt;BR&gt;&lt;BR&gt;&lt;BR&gt;&lt;/P&gt;\n",
       "      &lt;P align=3Dcenter&gt;&lt;BR&gt;&lt;/P&gt;\n",
       "      &lt;P align=3Dleft&gt;&lt;BR&gt;&lt;/B&gt;&lt;BR&gt;&lt;BR&gt;&lt;/FONT&gt;If you are in receipt of this=\n",
       " email \n",
       "      in error and/or wish to be removed from our list, &lt;A \n",
       "      href=3D\"mailto:coins@btamail.net.cn\"&gt;PLEASE CLICK HERE&lt;/A&gt; AND TYPE =\n",
       "REMOVE. If you \n",
       "      reside in any state which prohibits e-mail solicitations for insuran=\n",
       "ce, \n",
       "      please disregard this \n",
       "      email.&lt;BR&gt;&lt;/FONT&gt;&lt;BR&gt;&lt;BR&gt;&lt;BR&gt;&lt;BR&gt;&lt;BR&gt;&lt;BR&gt;&lt;BR&gt;&lt;BR&gt;&lt;BR&gt;&lt;BR&gt;&lt;BR&gt;&lt;BR&gt;&lt;BR=\n",
       "&gt;&lt;BR&gt;&lt;BR&gt;&lt;BR&gt;&lt;/FONT&gt;&lt;/P&gt;&lt;/CENTER&gt;&lt;/CENTER&gt;&lt;/TR&gt;&lt;/TBODY&gt;&lt;/TABLE&gt;&lt;/CENTER&gt;&lt;/=\n",
       "CENTER&gt;&lt;/CENTER&gt;&lt;/CENTER&gt;&lt;/CENTER&gt;&lt;/BODY&gt;&lt;/HTML&gt;\n",
       "\n",
       "\n",
       "'</span>"
      ],
      "text/latex": [
       "\\textbf{00001.7848dde101aa985090474a91ec93fcf0:} '<!DOCTYPE HTML PUBLIC \"-//W3C//DTD HTML 4.0 Transitional//EN\">\n",
       "<HTML><HEAD>\n",
       "<META content=3D\"text/html; charset=3Dwindows-1252\" http-equiv=3DContent-T=\n",
       "ype>\n",
       "<META content=3D\"MSHTML 5.00.2314.1000\" name=3DGENERATOR></HEAD>\n",
       "<BODY><!-- Inserted by Calypso -->\n",
       "<TABLE border=3D0 cellPadding=3D0 cellSpacing=3D2 id=3D\\_CalyPrintHeader\\_ r=\n",
       "ules=3Dnone \n",
       "style=3D\"COLOR: black; DISPLAY: none\" width=3D\"100\\%\">\n",
       "  <TBODY>\n",
       "  <TR>\n",
       "    <TD colSpan=3D3>\n",
       "      <HR color=3Dblack noShade SIZE=3D1>\n",
       "    </TD></TR></TD></TR>\n",
       "  <TR>\n",
       "    <TD colSpan=3D3>\n",
       "      <HR color=3Dblack noShade SIZE=3D1>\n",
       "    </TD></TR></TBODY></TABLE><!-- End Calypso --><!-- Inserted by Calypso=\n",
       " --><FONT \n",
       "color=3D\\#000000 face=3DVERDANA,ARIAL,HELVETICA size=3D-2><BR></FONT></TD><=\n",
       "/TR></TABLE><!-- End Calypso --><FONT color=3D\\#ff0000 \n",
       "face=3D\"Copperplate Gothic Bold\" size=3D5 PTSIZE=3D\"10\">\n",
       "<CENTER>Save up to 70\\% on Life Insurance.</CENTER></FONT><FONT color=3D\\#ff=\n",
       "0000 \n",
       "face=3D\"Copperplate Gothic Bold\" size=3D5 PTSIZE=3D\"10\">\n",
       "<CENTER>Why Spend More Than You Have To?\n",
       "<CENTER><FONT color=3D\\#ff0000 face=3D\"Copperplate Gothic Bold\" size=3D5 PT=\n",
       "SIZE=3D\"10\">\n",
       "<CENTER>Life Quote Savings\n",
       "<CENTER>\n",
       "<P align=3Dleft></P>\n",
       "<P align=3Dleft></P></FONT></U></I></B><BR></FONT></U></B></U></I>\n",
       "<P></P>\n",
       "<CENTER>\n",
       "<TABLE border=3D0 borderColor=3D\\#111111 cellPadding=3D0 cellSpacing=3D0 wi=\n",
       "dth=3D650>\n",
       "  <TBODY></TBODY></TABLE>\n",
       "<TABLE border=3D0 borderColor=3D\\#111111 cellPadding=3D5 cellSpacing=3D0 wi=\n",
       "dth=3D650>\n",
       "  <TBODY>\n",
       "  <TR>\n",
       "    <TD colSpan=3D2 width=3D\"35\\%\"><B><FONT face=3DVerdana size=3D4>Ensurin=\n",
       "g your \n",
       "      family\\textbackslash{}'s financial security is very important. Life Quote Savings ma=\n",
       "kes \n",
       "      buying life insurance simple and affordable. We Provide FREE Access =\n",
       "to The \n",
       "      Very Best Companies and The Lowest Rates.</FONT></B></TD></TR>\n",
       "  <TR>\n",
       "    <TD align=3Dmiddle vAlign=3Dtop width=3D\"18\\%\">\n",
       "      <TABLE borderColor=3D\\#111111 width=3D\"100\\%\">\n",
       "        <TBODY>\n",
       "        <TR>\n",
       "          <TD style=3D\"PADDING-LEFT: 5px; PADDING-RIGHT: 5px\" width=3D\"100=\n",
       "\\%\"><FONT \n",
       "            face=3DVerdana size=3D4><B>Life Quote Savings</B> is FAST, EAS=\n",
       "Y and \n",
       "            SAVES you money! Let us help you get started with the best val=\n",
       "ues in \n",
       "            the country on new coverage. You can SAVE hundreds or even tho=\n",
       "usands \n",
       "            of dollars by requesting a FREE quote from Lifequote Savings. =\n",
       "Our \n",
       "            service will take you less than 5 minutes to complete. Shop an=\n",
       "d \n",
       "            compare. SAVE up to 70\\% on all types of Life insurance! \n",
       "</FONT></TD></TR>\n",
       "        <TR><BR><BR>\n",
       "          <TD height=3D50 style=3D\"PADDING-LEFT: 5px; PADDING-RIGHT: 5px\" \n",
       "          width=3D\"100\\%\">\n",
       "            <P align=3Dcenter><B><FONT face=3DVerdana size=3D5><A \n",
       "            href=3D\"http://website.e365.cc/savequote/\">Click Here For Your=\n",
       " \n",
       "            Free Quote!</A></FONT></B></P></TD>\n",
       "          <P><FONT face=3DVerdana size=3D4><STRONG>\n",
       "          <CENTER>Protecting your family is the best investment you'll eve=\n",
       "r \n",
       "          make!<BR></B></TD></TR>\n",
       "        <TR><BR><BR></STRONG></FONT></TD></TR></TD></TR>\n",
       "        <TR></TR></TBODY></TABLE>\n",
       "      <P align=3Dleft><FONT face=3D\"Arial, Helvetica, sans-serif\" size=3D2=\n",
       "></FONT></P>\n",
       "      <P></P>\n",
       "      <CENTER><BR><BR><BR>\n",
       "      <P></P>\n",
       "      <P align=3Dleft><BR></B><BR><BR><BR><BR></P>\n",
       "      <P align=3Dcenter><BR></P>\n",
       "      <P align=3Dleft><BR></B><BR><BR></FONT>If you are in receipt of this=\n",
       " email \n",
       "      in error and/or wish to be removed from our list, <A \n",
       "      href=3D\"mailto:coins@btamail.net.cn\">PLEASE CLICK HERE</A> AND TYPE =\n",
       "REMOVE. If you \n",
       "      reside in any state which prohibits e-mail solicitations for insuran=\n",
       "ce, \n",
       "      please disregard this \n",
       "      email.<BR></FONT><BR><BR><BR><BR><BR><BR><BR><BR><BR><BR><BR><BR><BR=\n",
       "><BR><BR><BR></FONT></P></CENTER></CENTER></TR></TBODY></TABLE></CENTER></=\n",
       "CENTER></CENTER></CENTER></CENTER></BODY></HTML>\n",
       "\n",
       "\n",
       "'"
      ],
      "text/markdown": [
       "**00001.7848dde101aa985090474a91ec93fcf0:** <span style=white-space:pre-wrap>'&lt;!DOCTYPE HTML PUBLIC \"-//W3C//DTD HTML 4.0 Transitional//EN\"&gt;\n",
       "&lt;HTML&gt;&lt;HEAD&gt;\n",
       "&lt;META content=3D\"text/html; charset=3Dwindows-1252\" http-equiv=3DContent-T=\n",
       "ype&gt;\n",
       "&lt;META content=3D\"MSHTML 5.00.2314.1000\" name=3DGENERATOR&gt;&lt;/HEAD&gt;\n",
       "&lt;BODY&gt;&lt;!-- Inserted by Calypso --&gt;\n",
       "&lt;TABLE border=3D0 cellPadding=3D0 cellSpacing=3D2 id=3D_CalyPrintHeader_ r=\n",
       "ules=3Dnone \n",
       "style=3D\"COLOR: black; DISPLAY: none\" width=3D\"100%\"&gt;\n",
       "  &lt;TBODY&gt;\n",
       "  &lt;TR&gt;\n",
       "    &lt;TD colSpan=3D3&gt;\n",
       "      &lt;HR color=3Dblack noShade SIZE=3D1&gt;\n",
       "    &lt;/TD&gt;&lt;/TR&gt;&lt;/TD&gt;&lt;/TR&gt;\n",
       "  &lt;TR&gt;\n",
       "    &lt;TD colSpan=3D3&gt;\n",
       "      &lt;HR color=3Dblack noShade SIZE=3D1&gt;\n",
       "    &lt;/TD&gt;&lt;/TR&gt;&lt;/TBODY&gt;&lt;/TABLE&gt;&lt;!-- End Calypso --&gt;&lt;!-- Inserted by Calypso=\n",
       " --&gt;&lt;FONT \n",
       "color=3D#000000 face=3DVERDANA,ARIAL,HELVETICA size=3D-2&gt;&lt;BR&gt;&lt;/FONT&gt;&lt;/TD&gt;&lt;=\n",
       "/TR&gt;&lt;/TABLE&gt;&lt;!-- End Calypso --&gt;&lt;FONT color=3D#ff0000 \n",
       "face=3D\"Copperplate Gothic Bold\" size=3D5 PTSIZE=3D\"10\"&gt;\n",
       "&lt;CENTER&gt;Save up to 70% on Life Insurance.&lt;/CENTER&gt;&lt;/FONT&gt;&lt;FONT color=3D#ff=\n",
       "0000 \n",
       "face=3D\"Copperplate Gothic Bold\" size=3D5 PTSIZE=3D\"10\"&gt;\n",
       "&lt;CENTER&gt;Why Spend More Than You Have To?\n",
       "&lt;CENTER&gt;&lt;FONT color=3D#ff0000 face=3D\"Copperplate Gothic Bold\" size=3D5 PT=\n",
       "SIZE=3D\"10\"&gt;\n",
       "&lt;CENTER&gt;Life Quote Savings\n",
       "&lt;CENTER&gt;\n",
       "&lt;P align=3Dleft&gt;&lt;/P&gt;\n",
       "&lt;P align=3Dleft&gt;&lt;/P&gt;&lt;/FONT&gt;&lt;/U&gt;&lt;/I&gt;&lt;/B&gt;&lt;BR&gt;&lt;/FONT&gt;&lt;/U&gt;&lt;/B&gt;&lt;/U&gt;&lt;/I&gt;\n",
       "&lt;P&gt;&lt;/P&gt;\n",
       "&lt;CENTER&gt;\n",
       "&lt;TABLE border=3D0 borderColor=3D#111111 cellPadding=3D0 cellSpacing=3D0 wi=\n",
       "dth=3D650&gt;\n",
       "  &lt;TBODY&gt;&lt;/TBODY&gt;&lt;/TABLE&gt;\n",
       "&lt;TABLE border=3D0 borderColor=3D#111111 cellPadding=3D5 cellSpacing=3D0 wi=\n",
       "dth=3D650&gt;\n",
       "  &lt;TBODY&gt;\n",
       "  &lt;TR&gt;\n",
       "    &lt;TD colSpan=3D2 width=3D\"35%\"&gt;&lt;B&gt;&lt;FONT face=3DVerdana size=3D4&gt;Ensurin=\n",
       "g your \n",
       "      family\\'s financial security is very important. Life Quote Savings ma=\n",
       "kes \n",
       "      buying life insurance simple and affordable. We Provide FREE Access =\n",
       "to The \n",
       "      Very Best Companies and The Lowest Rates.&lt;/FONT&gt;&lt;/B&gt;&lt;/TD&gt;&lt;/TR&gt;\n",
       "  &lt;TR&gt;\n",
       "    &lt;TD align=3Dmiddle vAlign=3Dtop width=3D\"18%\"&gt;\n",
       "      &lt;TABLE borderColor=3D#111111 width=3D\"100%\"&gt;\n",
       "        &lt;TBODY&gt;\n",
       "        &lt;TR&gt;\n",
       "          &lt;TD style=3D\"PADDING-LEFT: 5px; PADDING-RIGHT: 5px\" width=3D\"100=\n",
       "%\"&gt;&lt;FONT \n",
       "            face=3DVerdana size=3D4&gt;&lt;B&gt;Life Quote Savings&lt;/B&gt; is FAST, EAS=\n",
       "Y and \n",
       "            SAVES you money! Let us help you get started with the best val=\n",
       "ues in \n",
       "            the country on new coverage. You can SAVE hundreds or even tho=\n",
       "usands \n",
       "            of dollars by requesting a FREE quote from Lifequote Savings. =\n",
       "Our \n",
       "            service will take you less than 5 minutes to complete. Shop an=\n",
       "d \n",
       "            compare. SAVE up to 70% on all types of Life insurance! \n",
       "&lt;/FONT&gt;&lt;/TD&gt;&lt;/TR&gt;\n",
       "        &lt;TR&gt;&lt;BR&gt;&lt;BR&gt;\n",
       "          &lt;TD height=3D50 style=3D\"PADDING-LEFT: 5px; PADDING-RIGHT: 5px\" \n",
       "          width=3D\"100%\"&gt;\n",
       "            &lt;P align=3Dcenter&gt;&lt;B&gt;&lt;FONT face=3DVerdana size=3D5&gt;&lt;A \n",
       "            href=3D\"http://website.e365.cc/savequote/\"&gt;Click Here For Your=\n",
       " \n",
       "            Free Quote!&lt;/A&gt;&lt;/FONT&gt;&lt;/B&gt;&lt;/P&gt;&lt;/TD&gt;\n",
       "          &lt;P&gt;&lt;FONT face=3DVerdana size=3D4&gt;&lt;STRONG&gt;\n",
       "          &lt;CENTER&gt;Protecting your family is the best investment you'll eve=\n",
       "r \n",
       "          make!&lt;BR&gt;&lt;/B&gt;&lt;/TD&gt;&lt;/TR&gt;\n",
       "        &lt;TR&gt;&lt;BR&gt;&lt;BR&gt;&lt;/STRONG&gt;&lt;/FONT&gt;&lt;/TD&gt;&lt;/TR&gt;&lt;/TD&gt;&lt;/TR&gt;\n",
       "        &lt;TR&gt;&lt;/TR&gt;&lt;/TBODY&gt;&lt;/TABLE&gt;\n",
       "      &lt;P align=3Dleft&gt;&lt;FONT face=3D\"Arial, Helvetica, sans-serif\" size=3D2=\n",
       "&gt;&lt;/FONT&gt;&lt;/P&gt;\n",
       "      &lt;P&gt;&lt;/P&gt;\n",
       "      &lt;CENTER&gt;&lt;BR&gt;&lt;BR&gt;&lt;BR&gt;\n",
       "      &lt;P&gt;&lt;/P&gt;\n",
       "      &lt;P align=3Dleft&gt;&lt;BR&gt;&lt;/B&gt;&lt;BR&gt;&lt;BR&gt;&lt;BR&gt;&lt;BR&gt;&lt;/P&gt;\n",
       "      &lt;P align=3Dcenter&gt;&lt;BR&gt;&lt;/P&gt;\n",
       "      &lt;P align=3Dleft&gt;&lt;BR&gt;&lt;/B&gt;&lt;BR&gt;&lt;BR&gt;&lt;/FONT&gt;If you are in receipt of this=\n",
       " email \n",
       "      in error and/or wish to be removed from our list, &lt;A \n",
       "      href=3D\"mailto:coins@btamail.net.cn\"&gt;PLEASE CLICK HERE&lt;/A&gt; AND TYPE =\n",
       "REMOVE. If you \n",
       "      reside in any state which prohibits e-mail solicitations for insuran=\n",
       "ce, \n",
       "      please disregard this \n",
       "      email.&lt;BR&gt;&lt;/FONT&gt;&lt;BR&gt;&lt;BR&gt;&lt;BR&gt;&lt;BR&gt;&lt;BR&gt;&lt;BR&gt;&lt;BR&gt;&lt;BR&gt;&lt;BR&gt;&lt;BR&gt;&lt;BR&gt;&lt;BR&gt;&lt;BR=\n",
       "&gt;&lt;BR&gt;&lt;BR&gt;&lt;BR&gt;&lt;/FONT&gt;&lt;/P&gt;&lt;/CENTER&gt;&lt;/CENTER&gt;&lt;/TR&gt;&lt;/TBODY&gt;&lt;/TABLE&gt;&lt;/CENTER&gt;&lt;/=\n",
       "CENTER&gt;&lt;/CENTER&gt;&lt;/CENTER&gt;&lt;/CENTER&gt;&lt;/BODY&gt;&lt;/HTML&gt;\n",
       "\n",
       "\n",
       "'</span>"
      ],
      "text/plain": [
       "                                                                                                                                                                                                                                                                                                                                                                                                                                                                                                                                                                                                                                                                                                                                                                                                                                                                                                                                                                                                                                                                                                                                                                                                                                                                                                                                                                                                                                                                                                                                                                                                                                                                                                                                                                                                                                                                                                                                                                                                                                                                                                                                                                                                                                                                                                                                                                                                                                                                                                                                                                                                                                                                                                                                                                                                                                                                                                                                                                                                                                                                                                                                                                                                                                                                                                                                                                                                                                                                                                                                                                                                                                                                                                                                                                                                                                                                                                                                                                                                                                                                                                                                   00001.7848dde101aa985090474a91ec93fcf0 \n",
       "\"<!DOCTYPE HTML PUBLIC \\\"-//W3C//DTD HTML 4.0 Transitional//EN\\\">\\n<HTML><HEAD>\\n<META content=3D\\\"text/html; charset=3Dwindows-1252\\\" http-equiv=3DContent-T=\\nype>\\n<META content=3D\\\"MSHTML 5.00.2314.1000\\\" name=3DGENERATOR></HEAD>\\n<BODY><!-- Inserted by Calypso -->\\n<TABLE border=3D0 cellPadding=3D0 cellSpacing=3D2 id=3D_CalyPrintHeader_ r=\\nules=3Dnone \\nstyle=3D\\\"COLOR: black; DISPLAY: none\\\" width=3D\\\"100%\\\">\\n  <TBODY>\\n  <TR>\\n    <TD colSpan=3D3>\\n      <HR color=3Dblack noShade SIZE=3D1>\\n    </TD></TR></TD></TR>\\n  <TR>\\n    <TD colSpan=3D3>\\n      <HR color=3Dblack noShade SIZE=3D1>\\n    </TD></TR></TBODY></TABLE><!-- End Calypso --><!-- Inserted by Calypso=\\n --><FONT \\ncolor=3D#000000 face=3DVERDANA,ARIAL,HELVETICA size=3D-2><BR></FONT></TD><=\\n/TR></TABLE><!-- End Calypso --><FONT color=3D#ff0000 \\nface=3D\\\"Copperplate Gothic Bold\\\" size=3D5 PTSIZE=3D\\\"10\\\">\\n<CENTER>Save up to 70% on Life Insurance.</CENTER></FONT><FONT color=3D#ff=\\n0000 \\nface=3D\\\"Copperplate Gothic Bold\\\" size=3D5 PTSIZE=3D\\\"10\\\">\\n<CENTER>Why Spend More Than You Have To?\\n<CENTER><FONT color=3D#ff0000 face=3D\\\"Copperplate Gothic Bold\\\" size=3D5 PT=\\nSIZE=3D\\\"10\\\">\\n<CENTER>Life Quote Savings\\n<CENTER>\\n<P align=3Dleft></P>\\n<P align=3Dleft></P></FONT></U></I></B><BR></FONT></U></B></U></I>\\n<P></P>\\n<CENTER>\\n<TABLE border=3D0 borderColor=3D#111111 cellPadding=3D0 cellSpacing=3D0 wi=\\ndth=3D650>\\n  <TBODY></TBODY></TABLE>\\n<TABLE border=3D0 borderColor=3D#111111 cellPadding=3D5 cellSpacing=3D0 wi=\\ndth=3D650>\\n  <TBODY>\\n  <TR>\\n    <TD colSpan=3D2 width=3D\\\"35%\\\"><B><FONT face=3DVerdana size=3D4>Ensurin=\\ng your \\n      family's financial security is very important. Life Quote Savings ma=\\nkes \\n      buying life insurance simple and affordable. We Provide FREE Access =\\nto The \\n      Very Best Companies and The Lowest Rates.</FONT></B></TD></TR>\\n  <TR>\\n    <TD align=3Dmiddle vAlign=3Dtop width=3D\\\"18%\\\">\\n      <TABLE borderColor=3D#111111 width=3D\\\"100%\\\">\\n        <TBODY>\\n        <TR>\\n          <TD style=3D\\\"PADDING-LEFT: 5px; PADDING-RIGHT: 5px\\\" width=3D\\\"100=\\n%\\\"><FONT \\n            face=3DVerdana size=3D4><B>Life Quote Savings</B> is FAST, EAS=\\nY and \\n            SAVES you money! Let us help you get started with the best val=\\nues in \\n            the country on new coverage. You can SAVE hundreds or even tho=\\nusands \\n            of dollars by requesting a FREE quote from Lifequote Savings. =\\nOur \\n            service will take you less than 5 minutes to complete. Shop an=\\nd \\n            compare. SAVE up to 70% on all types of Life insurance! \\n</FONT></TD></TR>\\n        <TR><BR><BR>\\n          <TD height=3D50 style=3D\\\"PADDING-LEFT: 5px; PADDING-RIGHT: 5px\\\" \\n          width=3D\\\"100%\\\">\\n            <P align=3Dcenter><B><FONT face=3DVerdana size=3D5><A \\n            href=3D\\\"http://website.e365.cc/savequote/\\\">Click Here For Your=\\n \\n            Free Quote!</A></FONT></B></P></TD>\\n          <P><FONT face=3DVerdana size=3D4><STRONG>\\n          <CENTER>Protecting your family is the best investment you'll eve=\\nr \\n          make!<BR></B></TD></TR>\\n        <TR><BR><BR></STRONG></FONT></TD></TR></TD></TR>\\n        <TR></TR></TBODY></TABLE>\\n      <P align=3Dleft><FONT face=3D\\\"Arial, Helvetica, sans-serif\\\" size=3D2=\\n></FONT></P>\\n      <P></P>\\n      <CENTER><BR><BR><BR>\\n      <P></P>\\n      <P align=3Dleft><BR></B><BR><BR><BR><BR></P>\\n      <P align=3Dcenter><BR></P>\\n      <P align=3Dleft><BR></B><BR><BR></FONT>If you are in receipt of this=\\n email \\n      in error and/or wish to be removed from our list, <A \\n      href=3D\\\"mailto:coins@btamail.net.cn\\\">PLEASE CLICK HERE</A> AND TYPE =\\nREMOVE. If you \\n      reside in any state which prohibits e-mail solicitations for insuran=\\nce, \\n      please disregard this \\n      email.<BR></FONT><BR><BR><BR><BR><BR><BR><BR><BR><BR><BR><BR><BR><BR=\\n><BR><BR><BR></FONT></P></CENTER></CENTER></TR></TBODY></TABLE></CENTER></=\\nCENTER></CENTER></CENTER></CENTER></BODY></HTML>\\n\\n\\n\" "
      ]
     },
     "metadata": {},
     "output_type": "display_data"
    }
   ],
   "source": [
    "head(all.spam, 1)"
   ]
  },
  {
   "cell_type": "code",
   "execution_count": 9,
   "metadata": {
    "collapsed": false
   },
   "outputs": [],
   "source": [
    "doc.corpus<-Corpus(VectorSource(all.spam['00029.de865ad8d5ad0df985ae2f72388befba']))"
   ]
  },
  {
   "cell_type": "code",
   "execution_count": 10,
   "metadata": {
    "collapsed": false
   },
   "outputs": [],
   "source": [
    "control<-list(stopwords=TRUE, removePunctuation=TRUE, removeNumbers=TRUE, minDocFreq=2)"
   ]
  },
  {
   "cell_type": "code",
   "execution_count": 11,
   "metadata": {
    "collapsed": false
   },
   "outputs": [],
   "source": [
    "doc.tdm<-TermDocumentMatrix(doc.corpus, control)"
   ]
  },
  {
   "cell_type": "code",
   "execution_count": 15,
   "metadata": {
    "collapsed": false
   },
   "outputs": [
    {
     "data": {
      "text/plain": [
       "<<TermDocumentMatrix (terms: 79, documents: 1)>>\n",
       "Non-/sparse entries: 79/0\n",
       "Sparsity           : 0%\n",
       "Maximal term length: 50\n",
       "Weighting          : term frequency (tf)"
      ]
     },
     "metadata": {},
     "output_type": "display_data"
    }
   ],
   "source": [
    "doc.tdm"
   ]
  },
  {
   "cell_type": "code",
   "execution_count": 16,
   "metadata": {
    "collapsed": false
   },
   "outputs": [
    {
     "data": {
      "text/html": [
       "<ol class=list-inline>\n",
       "\t<li>'i'</li>\n",
       "\t<li>'j'</li>\n",
       "\t<li>'v'</li>\n",
       "\t<li>'nrow'</li>\n",
       "\t<li>'ncol'</li>\n",
       "\t<li>'dimnames'</li>\n",
       "</ol>\n"
      ],
      "text/latex": [
       "\\begin{enumerate*}\n",
       "\\item 'i'\n",
       "\\item 'j'\n",
       "\\item 'v'\n",
       "\\item 'nrow'\n",
       "\\item 'ncol'\n",
       "\\item 'dimnames'\n",
       "\\end{enumerate*}\n"
      ],
      "text/markdown": [
       "1. 'i'\n",
       "2. 'j'\n",
       "3. 'v'\n",
       "4. 'nrow'\n",
       "5. 'ncol'\n",
       "6. 'dimnames'\n",
       "\n",
       "\n"
      ],
      "text/plain": [
       "[1] \"i\"        \"j\"        \"v\"        \"nrow\"     \"ncol\"     \"dimnames\""
      ]
     },
     "metadata": {},
     "output_type": "display_data"
    }
   ],
   "source": [
    "names(doc.tdm)"
   ]
  },
  {
   "cell_type": "code",
   "execution_count": 17,
   "metadata": {
    "collapsed": false
   },
   "outputs": [
    {
     "data": {
      "text/html": [
       "79"
      ],
      "text/latex": [
       "79"
      ],
      "text/markdown": [
       "79"
      ],
      "text/plain": [
       "[1] 79"
      ]
     },
     "metadata": {},
     "output_type": "display_data"
    }
   ],
   "source": [
    "doc.tdm[['nrow']]"
   ]
  },
  {
   "cell_type": "code",
   "execution_count": 18,
   "metadata": {
    "collapsed": false
   },
   "outputs": [
    {
     "data": {
      "text/html": [
       "<dl>\n",
       "\t<dt>$Terms</dt>\n",
       "\t\t<dd><ol class=list-inline>\n",
       "\t<li>'able'</li>\n",
       "\t<li>'aligndcenterbrbr'</li>\n",
       "\t<li>'always'</li>\n",
       "\t<li>'apfont'</li>\n",
       "\t<li>'application'</li>\n",
       "\t<li>'apply'</li>\n",
       "\t<li>'around'</li>\n",
       "\t<li>'bcompare'</li>\n",
       "\t<li>'bget'</li>\n",
       "\t<li>'bin'</li>\n",
       "\t<li>'body'</li>\n",
       "\t<li>'brbeing'</li>\n",
       "\t<li>'brbr'</li>\n",
       "\t<li>'can'</li>\n",
       "\t<li>'center'</li>\n",
       "\t<li>'centertrtablecenterbrbr'</li>\n",
       "\t<li>'choose'</li>\n",
       "\t<li>'colord'</li>\n",
       "\t<li>'colordabp'</li>\n",
       "\t<li>'colordd'</li>\n",
       "\t<li>'colordff'</li>\n",
       "\t<li>'colordfffont'</li>\n",
       "\t<li>'colordfffontibfont'</li>\n",
       "\t<li>'colordsave'</li>\n",
       "\t<li>'comfortable'</li>\n",
       "\t<li>'companies'</li>\n",
       "\t<li>'company'</li>\n",
       "\t<li>'compare'</li>\n",
       "\t<li>'contacts'</li>\n",
       "\t<li>'countryifont'</li>\n",
       "\t<li>'coveragebfonta'</li>\n",
       "\t<li>'excluded'</li>\n",
       "\t<li>'facedarial'</li>\n",
       "\t<li>'facedarialverdana'</li>\n",
       "\t<li>'facedtimes'</li>\n",
       "\t<li>'familys'</li>\n",
       "\t<li>'financially'</li>\n",
       "\t<li>'font'</li>\n",
       "\t<li>'free'</li>\n",
       "\t<li>'future'</li>\n",
       "\t<li>'get'</li>\n",
       "\t<li>'head'</li>\n",
       "\t<li>'hrefdhttpinsurancequotesourcecomusertermquotes'</li>\n",
       "\t<li>'hrefdhttpinsurancequotesourcecomusertermquotesfont'</li>\n",
       "\t<li>'hrefdhttpmarketingfashioncomlightwatchaspto'</li>\n",
       "\t<li>'html'</li>\n",
       "\t<li>'iclick'</li>\n",
       "\t<li>'icompare'</li>\n",
       "\t<li>'iless'</li>\n",
       "\t<li>'important'</li>\n",
       "\t<li>'instant'</li>\n",
       "\t<li>'insurance'</li>\n",
       "\t<li>'insurancefont'</li>\n",
       "\t<li>'itifont'</li>\n",
       "\t<li>'iyou'</li>\n",
       "\t<li>'life'</li>\n",
       "\t<li>'link'</li>\n",
       "\t<li>'lowest'</li>\n",
       "\t<li>'minuteifont'</li>\n",
       "\t<li>'nowbfonta'</li>\n",
       "\t<li>'onlinebfont'</li>\n",
       "\t<li>'plan'</li>\n",
       "\t<li>'policy'</li>\n",
       "\t<li>'predict'</li>\n",
       "\t<li>'prepare'</li>\n",
       "\t<li>'prices'</li>\n",
       "\t<li>'quote'</li>\n",
       "\t<li>'quotesbr'</li>\n",
       "\t<li>'rates'</li>\n",
       "\t<li>'right'</li>\n",
       "\t<li>'save'</li>\n",
       "\t<li>'select'</li>\n",
       "\t<li>'sized'</li>\n",
       "\t<li>'term'</li>\n",
       "\t<li>'thenbr'</li>\n",
       "\t<li>'times'</li>\n",
       "\t<li>'todayfont'</li>\n",
       "\t<li>'top'</li>\n",
       "\t<li>'tuckers'</li>\n",
       "</ol>\n",
       "</dd>\n",
       "\t<dt>$Docs</dt>\n",
       "\t\t<dd>'1'</dd>\n",
       "</dl>\n"
      ],
      "text/latex": [
       "\\begin{description}\n",
       "\\item[\\$Terms] \\begin{enumerate*}\n",
       "\\item 'able'\n",
       "\\item 'aligndcenterbrbr'\n",
       "\\item 'always'\n",
       "\\item 'apfont'\n",
       "\\item 'application'\n",
       "\\item 'apply'\n",
       "\\item 'around'\n",
       "\\item 'bcompare'\n",
       "\\item 'bget'\n",
       "\\item 'bin'\n",
       "\\item 'body'\n",
       "\\item 'brbeing'\n",
       "\\item 'brbr'\n",
       "\\item 'can'\n",
       "\\item 'center'\n",
       "\\item 'centertrtablecenterbrbr'\n",
       "\\item 'choose'\n",
       "\\item 'colord'\n",
       "\\item 'colordabp'\n",
       "\\item 'colordd'\n",
       "\\item 'colordff'\n",
       "\\item 'colordfffont'\n",
       "\\item 'colordfffontibfont'\n",
       "\\item 'colordsave'\n",
       "\\item 'comfortable'\n",
       "\\item 'companies'\n",
       "\\item 'company'\n",
       "\\item 'compare'\n",
       "\\item 'contacts'\n",
       "\\item 'countryifont'\n",
       "\\item 'coveragebfonta'\n",
       "\\item 'excluded'\n",
       "\\item 'facedarial'\n",
       "\\item 'facedarialverdana'\n",
       "\\item 'facedtimes'\n",
       "\\item 'familys'\n",
       "\\item 'financially'\n",
       "\\item 'font'\n",
       "\\item 'free'\n",
       "\\item 'future'\n",
       "\\item 'get'\n",
       "\\item 'head'\n",
       "\\item 'hrefdhttpinsurancequotesourcecomusertermquotes'\n",
       "\\item 'hrefdhttpinsurancequotesourcecomusertermquotesfont'\n",
       "\\item 'hrefdhttpmarketingfashioncomlightwatchaspto'\n",
       "\\item 'html'\n",
       "\\item 'iclick'\n",
       "\\item 'icompare'\n",
       "\\item 'iless'\n",
       "\\item 'important'\n",
       "\\item 'instant'\n",
       "\\item 'insurance'\n",
       "\\item 'insurancefont'\n",
       "\\item 'itifont'\n",
       "\\item 'iyou'\n",
       "\\item 'life'\n",
       "\\item 'link'\n",
       "\\item 'lowest'\n",
       "\\item 'minuteifont'\n",
       "\\item 'nowbfonta'\n",
       "\\item 'onlinebfont'\n",
       "\\item 'plan'\n",
       "\\item 'policy'\n",
       "\\item 'predict'\n",
       "\\item 'prepare'\n",
       "\\item 'prices'\n",
       "\\item 'quote'\n",
       "\\item 'quotesbr'\n",
       "\\item 'rates'\n",
       "\\item 'right'\n",
       "\\item 'save'\n",
       "\\item 'select'\n",
       "\\item 'sized'\n",
       "\\item 'term'\n",
       "\\item 'thenbr'\n",
       "\\item 'times'\n",
       "\\item 'todayfont'\n",
       "\\item 'top'\n",
       "\\item 'tuckers'\n",
       "\\end{enumerate*}\n",
       "\n",
       "\\item[\\$Docs] '1'\n",
       "\\end{description}\n"
      ],
      "text/markdown": [
       "$Terms\n",
       ":   1. 'able'\n",
       "2. 'aligndcenterbrbr'\n",
       "3. 'always'\n",
       "4. 'apfont'\n",
       "5. 'application'\n",
       "6. 'apply'\n",
       "7. 'around'\n",
       "8. 'bcompare'\n",
       "9. 'bget'\n",
       "10. 'bin'\n",
       "11. 'body'\n",
       "12. 'brbeing'\n",
       "13. 'brbr'\n",
       "14. 'can'\n",
       "15. 'center'\n",
       "16. 'centertrtablecenterbrbr'\n",
       "17. 'choose'\n",
       "18. 'colord'\n",
       "19. 'colordabp'\n",
       "20. 'colordd'\n",
       "21. 'colordff'\n",
       "22. 'colordfffont'\n",
       "23. 'colordfffontibfont'\n",
       "24. 'colordsave'\n",
       "25. 'comfortable'\n",
       "26. 'companies'\n",
       "27. 'company'\n",
       "28. 'compare'\n",
       "29. 'contacts'\n",
       "30. 'countryifont'\n",
       "31. 'coveragebfonta'\n",
       "32. 'excluded'\n",
       "33. 'facedarial'\n",
       "34. 'facedarialverdana'\n",
       "35. 'facedtimes'\n",
       "36. 'familys'\n",
       "37. 'financially'\n",
       "38. 'font'\n",
       "39. 'free'\n",
       "40. 'future'\n",
       "41. 'get'\n",
       "42. 'head'\n",
       "43. 'hrefdhttpinsurancequotesourcecomusertermquotes'\n",
       "44. 'hrefdhttpinsurancequotesourcecomusertermquotesfont'\n",
       "45. 'hrefdhttpmarketingfashioncomlightwatchaspto'\n",
       "46. 'html'\n",
       "47. 'iclick'\n",
       "48. 'icompare'\n",
       "49. 'iless'\n",
       "50. 'important'\n",
       "51. 'instant'\n",
       "52. 'insurance'\n",
       "53. 'insurancefont'\n",
       "54. 'itifont'\n",
       "55. 'iyou'\n",
       "56. 'life'\n",
       "57. 'link'\n",
       "58. 'lowest'\n",
       "59. 'minuteifont'\n",
       "60. 'nowbfonta'\n",
       "61. 'onlinebfont'\n",
       "62. 'plan'\n",
       "63. 'policy'\n",
       "64. 'predict'\n",
       "65. 'prepare'\n",
       "66. 'prices'\n",
       "67. 'quote'\n",
       "68. 'quotesbr'\n",
       "69. 'rates'\n",
       "70. 'right'\n",
       "71. 'save'\n",
       "72. 'select'\n",
       "73. 'sized'\n",
       "74. 'term'\n",
       "75. 'thenbr'\n",
       "76. 'times'\n",
       "77. 'todayfont'\n",
       "78. 'top'\n",
       "79. 'tuckers'\n",
       "\n",
       "\n",
       "\n",
       "$Docs\n",
       ":   '1'\n",
       "\n",
       "\n"
      ],
      "text/plain": [
       "$Terms\n",
       " [1] \"able\"                                              \n",
       " [2] \"aligndcenterbrbr\"                                  \n",
       " [3] \"always\"                                            \n",
       " [4] \"apfont\"                                            \n",
       " [5] \"application\"                                       \n",
       " [6] \"apply\"                                             \n",
       " [7] \"around\"                                            \n",
       " [8] \"bcompare\"                                          \n",
       " [9] \"bget\"                                              \n",
       "[10] \"bin\"                                               \n",
       "[11] \"body\"                                              \n",
       "[12] \"brbeing\"                                           \n",
       "[13] \"brbr\"                                              \n",
       "[14] \"can\"                                               \n",
       "[15] \"center\"                                            \n",
       "[16] \"centertrtablecenterbrbr\"                           \n",
       "[17] \"choose\"                                            \n",
       "[18] \"colord\"                                            \n",
       "[19] \"colordabp\"                                         \n",
       "[20] \"colordd\"                                           \n",
       "[21] \"colordff\"                                          \n",
       "[22] \"colordfffont\"                                      \n",
       "[23] \"colordfffontibfont\"                                \n",
       "[24] \"colordsave\"                                        \n",
       "[25] \"comfortable\"                                       \n",
       "[26] \"companies\"                                         \n",
       "[27] \"company\"                                           \n",
       "[28] \"compare\"                                           \n",
       "[29] \"contacts\"                                          \n",
       "[30] \"countryifont\"                                      \n",
       "[31] \"coveragebfonta\"                                    \n",
       "[32] \"excluded\"                                          \n",
       "[33] \"facedarial\"                                        \n",
       "[34] \"facedarialverdana\"                                 \n",
       "[35] \"facedtimes\"                                        \n",
       "[36] \"familys\"                                           \n",
       "[37] \"financially\"                                       \n",
       "[38] \"font\"                                              \n",
       "[39] \"free\"                                              \n",
       "[40] \"future\"                                            \n",
       "[41] \"get\"                                               \n",
       "[42] \"head\"                                              \n",
       "[43] \"hrefdhttpinsurancequotesourcecomusertermquotes\"    \n",
       "[44] \"hrefdhttpinsurancequotesourcecomusertermquotesfont\"\n",
       "[45] \"hrefdhttpmarketingfashioncomlightwatchaspto\"       \n",
       "[46] \"html\"                                              \n",
       "[47] \"iclick\"                                            \n",
       "[48] \"icompare\"                                          \n",
       "[49] \"iless\"                                             \n",
       "[50] \"important\"                                         \n",
       "[51] \"instant\"                                           \n",
       "[52] \"insurance\"                                         \n",
       "[53] \"insurancefont\"                                     \n",
       "[54] \"itifont\"                                           \n",
       "[55] \"iyou\"                                              \n",
       "[56] \"life\"                                              \n",
       "[57] \"link\"                                              \n",
       "[58] \"lowest\"                                            \n",
       "[59] \"minuteifont\"                                       \n",
       "[60] \"nowbfonta\"                                         \n",
       "[61] \"onlinebfont\"                                       \n",
       "[62] \"plan\"                                              \n",
       "[63] \"policy\"                                            \n",
       "[64] \"predict\"                                           \n",
       "[65] \"prepare\"                                           \n",
       "[66] \"prices\"                                            \n",
       "[67] \"quote\"                                             \n",
       "[68] \"quotesbr\"                                          \n",
       "[69] \"rates\"                                             \n",
       "[70] \"right\"                                             \n",
       "[71] \"save\"                                              \n",
       "[72] \"select\"                                            \n",
       "[73] \"sized\"                                             \n",
       "[74] \"term\"                                              \n",
       "[75] \"thenbr\"                                            \n",
       "[76] \"times\"                                             \n",
       "[77] \"todayfont\"                                         \n",
       "[78] \"top\"                                               \n",
       "[79] \"tuckers\"                                           \n",
       "\n",
       "$Docs\n",
       "[1] \"1\"\n"
      ]
     },
     "metadata": {},
     "output_type": "display_data"
    }
   ],
   "source": [
    "doc.tdm[[\"dimnames\"]]"
   ]
  },
  {
   "cell_type": "code",
   "execution_count": 11,
   "metadata": {
    "collapsed": false
   },
   "outputs": [],
   "source": [
    "get.tdm<-function(docs){\n",
    "    doc.corpus<-Corpus(VectorSource(docs))\n",
    "    c<-list(stopwords=TRUE, removePunctuation=TRUE, removeNumbers=TRUE, minDocFreq=2)\n",
    "    docs.tdm<-TermDocumentMatrix(doc.corpus, control = c)\n",
    "    return(docs.tdm)\n",
    "}\n",
    "\n",
    "spam.tdm<-get.tdm(all.spam)"
   ]
  },
  {
   "cell_type": "code",
   "execution_count": 20,
   "metadata": {
    "collapsed": false
   },
   "outputs": [
    {
     "data": {
      "text/plain": [
       "<<TermDocumentMatrix (terms: 28974, documents: 500)>>\n",
       "Non-/sparse entries: 82635/14404365\n",
       "Sparsity           : 99%\n",
       "Maximal term length: 298\n",
       "Weighting          : term frequency (tf)"
      ]
     },
     "metadata": {},
     "output_type": "display_data"
    }
   ],
   "source": [
    "spam.tdm"
   ]
  },
  {
   "cell_type": "markdown",
   "metadata": {},
   "source": [
    "### Construction of a data frame from tdm"
   ]
  },
  {
   "cell_type": "code",
   "execution_count": 12,
   "metadata": {
    "collapsed": true
   },
   "outputs": [],
   "source": [
    "spam.matrix<-as.matrix(spam.tdm) # converting tdm obj to matrix"
   ]
  },
  {
   "cell_type": "code",
   "execution_count": null,
   "metadata": {
    "collapsed": false,
    "scrolled": true
   },
   "outputs": [],
   "source": [
    "#spam.matrix[0:2,1:10]"
   ]
  },
  {
   "cell_type": "code",
   "execution_count": 15,
   "metadata": {
    "collapsed": false
   },
   "outputs": [],
   "source": [
    "spam.count<-rowSums(spam.matrix) # vector containing total frequency counts for each term"
   ]
  },
  {
   "cell_type": "code",
   "execution_count": 16,
   "metadata": {
    "collapsed": true
   },
   "outputs": [],
   "source": [
    "df<-data.frame(cbind(names(spam.count), as.numeric(spam.count)), stringsAsFactors = FALSE)"
   ]
  },
  {
   "cell_type": "code",
   "execution_count": 17,
   "metadata": {
    "collapsed": false
   },
   "outputs": [
    {
     "data": {
      "text/html": [
       "28974"
      ],
      "text/latex": [
       "28974"
      ],
      "text/markdown": [
       "28974"
      ],
      "text/plain": [
       "[1] 28974"
      ]
     },
     "metadata": {},
     "output_type": "display_data"
    }
   ],
   "source": [
    "nrow(df)"
   ]
  },
  {
   "cell_type": "code",
   "execution_count": null,
   "metadata": {
    "collapsed": true
   },
   "outputs": [],
   "source": [
    "df[1:2,1]"
   ]
  },
  {
   "cell_type": "code",
   "execution_count": 19,
   "metadata": {
    "collapsed": false
   },
   "outputs": [
    {
     "data": {
      "text/html": [
       "<ol class=list-inline>\n",
       "\t<li>'X1'</li>\n",
       "\t<li>'X2'</li>\n",
       "</ol>\n"
      ],
      "text/latex": [
       "\\begin{enumerate*}\n",
       "\\item 'X1'\n",
       "\\item 'X2'\n",
       "\\end{enumerate*}\n"
      ],
      "text/markdown": [
       "1. 'X1'\n",
       "2. 'X2'\n",
       "\n",
       "\n"
      ],
      "text/plain": [
       "[1] \"X1\" \"X2\""
      ]
     },
     "metadata": {},
     "output_type": "display_data"
    }
   ],
   "source": [
    "names(df)"
   ]
  },
  {
   "cell_type": "code",
   "execution_count": null,
   "metadata": {
    "collapsed": true
   },
   "outputs": [],
   "source": [
    "df[1,1]"
   ]
  },
  {
   "cell_type": "code",
   "execution_count": 26,
   "metadata": {
    "collapsed": true
   },
   "outputs": [],
   "source": [
    "names(df)<-c('term','frequency')"
   ]
  },
  {
   "cell_type": "code",
   "execution_count": 27,
   "metadata": {
    "collapsed": false
   },
   "outputs": [
    {
     "data": {
      "text/html": [
       "<ol class=list-inline>\n",
       "\t<li>'term'</li>\n",
       "\t<li>'frequency'</li>\n",
       "</ol>\n"
      ],
      "text/latex": [
       "\\begin{enumerate*}\n",
       "\\item 'term'\n",
       "\\item 'frequency'\n",
       "\\end{enumerate*}\n"
      ],
      "text/markdown": [
       "1. 'term'\n",
       "2. 'frequency'\n",
       "\n",
       "\n"
      ],
      "text/plain": [
       "[1] \"term\"      \"frequency\""
      ]
     },
     "metadata": {},
     "output_type": "display_data"
    }
   ],
   "source": [
    "names(df)"
   ]
  },
  {
   "cell_type": "code",
   "execution_count": 28,
   "metadata": {
    "collapsed": false
   },
   "outputs": [],
   "source": [
    "df$frequency<-as.numeric(df$frequency)"
   ]
  },
  {
   "cell_type": "code",
   "execution_count": 29,
   "metadata": {
    "collapsed": false
   },
   "outputs": [
    {
     "data": {
      "text/html": [
       "'double'"
      ],
      "text/latex": [
       "'double'"
      ],
      "text/markdown": [
       "'double'"
      ],
      "text/plain": [
       "[1] \"double\""
      ]
     },
     "metadata": {},
     "output_type": "display_data"
    }
   ],
   "source": [
    "typeof(df$frequency)"
   ]
  },
  {
   "cell_type": "code",
   "execution_count": 30,
   "metadata": {
    "collapsed": false
   },
   "outputs": [
    {
     "data": {
      "text/html": [
       "500"
      ],
      "text/latex": [
       "500"
      ],
      "text/markdown": [
       "500"
      ],
      "text/plain": [
       "[1] 500"
      ]
     },
     "metadata": {},
     "output_type": "display_data"
    }
   ],
   "source": [
    "ncol(spam.matrix)"
   ]
  },
  {
   "cell_type": "code",
   "execution_count": 31,
   "metadata": {
    "collapsed": false
   },
   "outputs": [
    {
     "data": {
      "text/html": [
       "28974"
      ],
      "text/latex": [
       "28974"
      ],
      "text/markdown": [
       "28974"
      ],
      "text/plain": [
       "[1] 28974"
      ]
     },
     "metadata": {},
     "output_type": "display_data"
    }
   ],
   "source": [
    "nrow(spam.matrix)"
   ]
  },
  {
   "cell_type": "markdown",
   "metadata": {},
   "source": [
    "### calculating percentage of document in which each given term occurs"
   ]
  },
  {
   "cell_type": "code",
   "execution_count": 32,
   "metadata": {
    "collapsed": false
   },
   "outputs": [],
   "source": [
    "spam.occur<-sapply(1:nrow(spam.matrix),\n",
    "                   function(i){\n",
    "                     length(which(spam.matrix[i,]>0))/ncol(spam.matrix)\n",
    "                   })"
   ]
  },
  {
   "cell_type": "code",
   "execution_count": 33,
   "metadata": {
    "collapsed": true
   },
   "outputs": [],
   "source": [
    "spam.density<-df$frequency/sum(df$frequency) # calculating frequency of each words"
   ]
  },
  {
   "cell_type": "code",
   "execution_count": 34,
   "metadata": {
    "collapsed": true
   },
   "outputs": [],
   "source": [
    "df<-transform(df, density=spam.density, occurrence=spam.occur) # adding occurrence anf frequency in data frame"
   ]
  },
  {
   "cell_type": "code",
   "execution_count": 35,
   "metadata": {
    "collapsed": false
   },
   "outputs": [
    {
     "data": {
      "text/html": [
       "<ol class=list-inline>\n",
       "\t<li>'term'</li>\n",
       "\t<li>'frequency'</li>\n",
       "\t<li>'density'</li>\n",
       "\t<li>'occurrence'</li>\n",
       "</ol>\n"
      ],
      "text/latex": [
       "\\begin{enumerate*}\n",
       "\\item 'term'\n",
       "\\item 'frequency'\n",
       "\\item 'density'\n",
       "\\item 'occurrence'\n",
       "\\end{enumerate*}\n"
      ],
      "text/markdown": [
       "1. 'term'\n",
       "2. 'frequency'\n",
       "3. 'density'\n",
       "4. 'occurrence'\n",
       "\n",
       "\n"
      ],
      "text/plain": [
       "[1] \"term\"       \"frequency\"  \"density\"    \"occurrence\""
      ]
     },
     "metadata": {},
     "output_type": "display_data"
    }
   ],
   "source": [
    "names(df)"
   ]
  },
  {
   "cell_type": "code",
   "execution_count": 36,
   "metadata": {
    "collapsed": false
   },
   "outputs": [
    {
     "data": {
      "text/html": [
       "<table>\n",
       "<thead><tr><th></th><th scope=col>term</th><th scope=col>frequency</th><th scope=col>density</th><th scope=col>occurrence</th></tr></thead>\n",
       "<tbody>\n",
       "\t<tr><th scope=row>7693</th><td>email      </td><td> 813       </td><td>0.005855914</td><td>0.566      </td></tr>\n",
       "\t<tr><th scope=row>18706</th><td>please     </td><td> 425       </td><td>0.003061210</td><td>0.508      </td></tr>\n",
       "\t<tr><th scope=row>14623</th><td>list       </td><td> 409       </td><td>0.002945964</td><td>0.444      </td></tr>\n",
       "\t<tr><th scope=row>27202</th><td>will       </td><td> 828       </td><td>0.005963957</td><td>0.422      </td></tr>\n",
       "\t<tr><th scope=row>2970</th><td>body       </td><td> 379       </td><td>0.002729879</td><td>0.408      </td></tr>\n",
       "\t<tr><th scope=row>9369</th><td>free       </td><td> 543       </td><td>0.003911146</td><td>0.390      </td></tr>\n",
       "\t<tr><th scope=row>11445</th><td>html       </td><td> 398       </td><td>0.002866733</td><td>0.380      </td></tr>\n",
       "\t<tr><th scope=row>12684</th><td>information</td><td> 311       </td><td>0.002240085</td><td>0.366      </td></tr>\n",
       "\t<tr><th scope=row>3759</th><td>can        </td><td> 512       </td><td>0.003687857</td><td>0.342      </td></tr>\n",
       "\t<tr><th scope=row>9107</th><td>font       </td><td> 899       </td><td>0.006475359</td><td>0.326      </td></tr>\n",
       "\t<tr><th scope=row>9785</th><td>get        </td><td> 392       </td><td>0.002823516</td><td>0.320      </td></tr>\n",
       "\t<tr><th scope=row>17635</th><td>one        </td><td> 361       </td><td>0.002600228</td><td>0.320      </td></tr>\n",
       "\t<tr><th scope=row>23758</th><td>table      </td><td>1196       </td><td>0.008614604</td><td>0.312      </td></tr>\n",
       "\t<tr><th scope=row>16703</th><td>new        </td><td> 390       </td><td>0.002809110</td><td>0.310      </td></tr>\n",
       "\t<tr><th scope=row>4557</th><td>click      </td><td> 218       </td><td>0.001570221</td><td>0.300      </td></tr>\n",
       "\t<tr><th scope=row>10462</th><td>head       </td><td> 281       </td><td>0.002024000</td><td>0.300      </td></tr>\n",
       "\t<tr><th scope=row>17057</th><td>now        </td><td> 272       </td><td>0.001959174</td><td>0.300      </td></tr>\n",
       "\t<tr><th scope=row>20155</th><td>receive    </td><td> 324       </td><td>0.002333722</td><td>0.294      </td></tr>\n",
       "\t<tr><th scope=row>24273</th><td>time       </td><td> 302       </td><td>0.002175260</td><td>0.292      </td></tr>\n",
       "\t<tr><th scope=row>15531</th><td>message    </td><td> 242       </td><td>0.001743089</td><td>0.284      </td></tr>\n",
       "</tbody>\n",
       "</table>\n"
      ],
      "text/latex": [
       "\\begin{tabular}{r|llll}\n",
       "  & term & frequency & density & occurrence\\\\\n",
       "\\hline\n",
       "\t7693 & email       &  813        & 0.005855914 & 0.566      \\\\\n",
       "\t18706 & please      &  425        & 0.003061210 & 0.508      \\\\\n",
       "\t14623 & list        &  409        & 0.002945964 & 0.444      \\\\\n",
       "\t27202 & will        &  828        & 0.005963957 & 0.422      \\\\\n",
       "\t2970 & body        &  379        & 0.002729879 & 0.408      \\\\\n",
       "\t9369 & free        &  543        & 0.003911146 & 0.390      \\\\\n",
       "\t11445 & html        &  398        & 0.002866733 & 0.380      \\\\\n",
       "\t12684 & information &  311        & 0.002240085 & 0.366      \\\\\n",
       "\t3759 & can         &  512        & 0.003687857 & 0.342      \\\\\n",
       "\t9107 & font        &  899        & 0.006475359 & 0.326      \\\\\n",
       "\t9785 & get         &  392        & 0.002823516 & 0.320      \\\\\n",
       "\t17635 & one         &  361        & 0.002600228 & 0.320      \\\\\n",
       "\t23758 & table       & 1196        & 0.008614604 & 0.312      \\\\\n",
       "\t16703 & new         &  390        & 0.002809110 & 0.310      \\\\\n",
       "\t4557 & click       &  218        & 0.001570221 & 0.300      \\\\\n",
       "\t10462 & head        &  281        & 0.002024000 & 0.300      \\\\\n",
       "\t17057 & now         &  272        & 0.001959174 & 0.300      \\\\\n",
       "\t20155 & receive     &  324        & 0.002333722 & 0.294      \\\\\n",
       "\t24273 & time        &  302        & 0.002175260 & 0.292      \\\\\n",
       "\t15531 & message     &  242        & 0.001743089 & 0.284      \\\\\n",
       "\\end{tabular}\n"
      ],
      "text/markdown": [
       "\n",
       "| <!--/--> | term | frequency | density | occurrence | \n",
       "|---|---|---|---|---|---|---|---|---|---|---|---|---|---|---|---|---|---|---|---|\n",
       "| 7693 | email       |  813        | 0.005855914 | 0.566       | \n",
       "| 18706 | please      |  425        | 0.003061210 | 0.508       | \n",
       "| 14623 | list        |  409        | 0.002945964 | 0.444       | \n",
       "| 27202 | will        |  828        | 0.005963957 | 0.422       | \n",
       "| 2970 | body        |  379        | 0.002729879 | 0.408       | \n",
       "| 9369 | free        |  543        | 0.003911146 | 0.390       | \n",
       "| 11445 | html        |  398        | 0.002866733 | 0.380       | \n",
       "| 12684 | information |  311        | 0.002240085 | 0.366       | \n",
       "| 3759 | can         |  512        | 0.003687857 | 0.342       | \n",
       "| 9107 | font        |  899        | 0.006475359 | 0.326       | \n",
       "| 9785 | get         |  392        | 0.002823516 | 0.320       | \n",
       "| 17635 | one         |  361        | 0.002600228 | 0.320       | \n",
       "| 23758 | table       | 1196        | 0.008614604 | 0.312       | \n",
       "| 16703 | new         |  390        | 0.002809110 | 0.310       | \n",
       "| 4557 | click       |  218        | 0.001570221 | 0.300       | \n",
       "| 10462 | head        |  281        | 0.002024000 | 0.300       | \n",
       "| 17057 | now         |  272        | 0.001959174 | 0.300       | \n",
       "| 20155 | receive     |  324        | 0.002333722 | 0.294       | \n",
       "| 24273 | time        |  302        | 0.002175260 | 0.292       | \n",
       "| 15531 | message     |  242        | 0.001743089 | 0.284       | \n",
       "\n",
       "\n"
      ],
      "text/plain": [
       "      term        frequency density     occurrence\n",
       "7693  email        813      0.005855914 0.566     \n",
       "18706 please       425      0.003061210 0.508     \n",
       "14623 list         409      0.002945964 0.444     \n",
       "27202 will         828      0.005963957 0.422     \n",
       "2970  body         379      0.002729879 0.408     \n",
       "9369  free         543      0.003911146 0.390     \n",
       "11445 html         398      0.002866733 0.380     \n",
       "12684 information  311      0.002240085 0.366     \n",
       "3759  can          512      0.003687857 0.342     \n",
       "9107  font         899      0.006475359 0.326     \n",
       "9785  get          392      0.002823516 0.320     \n",
       "17635 one          361      0.002600228 0.320     \n",
       "23758 table       1196      0.008614604 0.312     \n",
       "16703 new          390      0.002809110 0.310     \n",
       "4557  click        218      0.001570221 0.300     \n",
       "10462 head         281      0.002024000 0.300     \n",
       "17057 now          272      0.001959174 0.300     \n",
       "20155 receive      324      0.002333722 0.294     \n",
       "24273 time         302      0.002175260 0.292     \n",
       "15531 message      242      0.001743089 0.284     "
      ]
     },
     "metadata": {},
     "output_type": "display_data"
    }
   ],
   "source": [
    "head(df[with(df, order(-occurrence)),],20)"
   ]
  },
  {
   "cell_type": "code",
   "execution_count": 37,
   "metadata": {
    "collapsed": false
   },
   "outputs": [
    {
     "data": {
      "text/html": [
       "2500"
      ],
      "text/latex": [
       "2500"
      ],
      "text/markdown": [
       "2500"
      ],
      "text/plain": [
       "[1] 2500"
      ]
     },
     "metadata": {},
     "output_type": "display_data"
    }
   ],
   "source": [
    "length(easyham.docs)"
   ]
  },
  {
   "cell_type": "code",
   "execution_count": 38,
   "metadata": {
    "collapsed": false
   },
   "outputs": [
    {
     "data": {
      "text/html": [
       "500"
      ],
      "text/latex": [
       "500"
      ],
      "text/markdown": [
       "500"
      ],
      "text/plain": [
       "[1] 500"
      ]
     },
     "metadata": {},
     "output_type": "display_data"
    }
   ],
   "source": [
    "length(spam.docs)"
   ]
  },
  {
   "cell_type": "code",
   "execution_count": 39,
   "metadata": {
    "collapsed": false
   },
   "outputs": [
    {
     "data": {
      "text/html": [
       "500"
      ],
      "text/latex": [
       "500"
      ],
      "text/markdown": [
       "500"
      ],
      "text/plain": [
       "[1] 500"
      ]
     },
     "metadata": {},
     "output_type": "display_data"
    }
   ],
   "source": [
    "length(easyham.docs[1:length(spam.docs)])"
   ]
  },
  {
   "cell_type": "code",
   "execution_count": 40,
   "metadata": {
    "collapsed": true
   },
   "outputs": [],
   "source": [
    "all.ham<-sapply(easyham.docs[1:length(spam.docs)],\n",
    "                function(p) get.msg(file.path(easyham.path, p))\n",
    "               )"
   ]
  },
  {
   "cell_type": "code",
   "execution_count": 41,
   "metadata": {
    "collapsed": false
   },
   "outputs": [
    {
     "data": {
      "text/html": [
       "500"
      ],
      "text/latex": [
       "500"
      ],
      "text/markdown": [
       "500"
      ],
      "text/plain": [
       "[1] 500"
      ]
     },
     "metadata": {},
     "output_type": "display_data"
    }
   ],
   "source": [
    "length(all.ham)"
   ]
  },
  {
   "cell_type": "code",
   "execution_count": 42,
   "metadata": {
    "collapsed": true
   },
   "outputs": [],
   "source": [
    "ham.tdm<-get.tdm(all.ham)"
   ]
  },
  {
   "cell_type": "code",
   "execution_count": 43,
   "metadata": {
    "collapsed": false
   },
   "outputs": [
    {
     "data": {
      "text/html": [
       "<ol class=list-inline>\n",
       "\t<li>'i'</li>\n",
       "\t<li>'j'</li>\n",
       "\t<li>'v'</li>\n",
       "\t<li>'nrow'</li>\n",
       "\t<li>'ncol'</li>\n",
       "\t<li>'dimnames'</li>\n",
       "</ol>\n"
      ],
      "text/latex": [
       "\\begin{enumerate*}\n",
       "\\item 'i'\n",
       "\\item 'j'\n",
       "\\item 'v'\n",
       "\\item 'nrow'\n",
       "\\item 'ncol'\n",
       "\\item 'dimnames'\n",
       "\\end{enumerate*}\n"
      ],
      "text/markdown": [
       "1. 'i'\n",
       "2. 'j'\n",
       "3. 'v'\n",
       "4. 'nrow'\n",
       "5. 'ncol'\n",
       "6. 'dimnames'\n",
       "\n",
       "\n"
      ],
      "text/plain": [
       "[1] \"i\"        \"j\"        \"v\"        \"nrow\"     \"ncol\"     \"dimnames\""
      ]
     },
     "metadata": {},
     "output_type": "display_data"
    }
   ],
   "source": [
    "names(ham.tdm)"
   ]
  },
  {
   "cell_type": "markdown",
   "metadata": {},
   "source": [
    "### Convert ham.tdm to dataframe"
   ]
  },
  {
   "cell_type": "code",
   "execution_count": 44,
   "metadata": {
    "collapsed": true
   },
   "outputs": [],
   "source": [
    "ham.matrix<-as.matrix(ham.tdm)"
   ]
  },
  {
   "cell_type": "code",
   "execution_count": 45,
   "metadata": {
    "collapsed": true
   },
   "outputs": [],
   "source": [
    "ham.df<-data.frame(ham.matrix)"
   ]
  },
  {
   "cell_type": "markdown",
   "metadata": {},
   "source": [
    "#### Calculate frequency"
   ]
  },
  {
   "cell_type": "code",
   "execution_count": 46,
   "metadata": {
    "collapsed": true
   },
   "outputs": [],
   "source": [
    "ham.counts<-rowSums(ham.df)"
   ]
  },
  {
   "cell_type": "markdown",
   "metadata": {},
   "source": [
    "#### Add to dataframe"
   ]
  },
  {
   "cell_type": "code",
   "execution_count": 47,
   "metadata": {
    "collapsed": false
   },
   "outputs": [],
   "source": [
    "ham.df<-data.frame(cbind(names(ham.counts), as.numeric(ham.counts)), stringsAsFactors=FALSE )"
   ]
  },
  {
   "cell_type": "code",
   "execution_count": 48,
   "metadata": {
    "collapsed": false
   },
   "outputs": [
    {
     "data": {
      "text/html": [
       "<ol class=list-inline>\n",
       "\t<li>'X1'</li>\n",
       "\t<li>'X2'</li>\n",
       "</ol>\n"
      ],
      "text/latex": [
       "\\begin{enumerate*}\n",
       "\\item 'X1'\n",
       "\\item 'X2'\n",
       "\\end{enumerate*}\n"
      ],
      "text/markdown": [
       "1. 'X1'\n",
       "2. 'X2'\n",
       "\n",
       "\n"
      ],
      "text/plain": [
       "[1] \"X1\" \"X2\""
      ]
     },
     "metadata": {},
     "output_type": "display_data"
    }
   ],
   "source": [
    "names(ham.df)"
   ]
  },
  {
   "cell_type": "code",
   "execution_count": 49,
   "metadata": {
    "collapsed": true
   },
   "outputs": [],
   "source": [
    "names(ham.df)<-c('term','frequency')"
   ]
  },
  {
   "cell_type": "code",
   "execution_count": 50,
   "metadata": {
    "collapsed": false
   },
   "outputs": [
    {
     "data": {
      "text/html": [
       "<ol class=list-inline>\n",
       "\t<li>'term'</li>\n",
       "\t<li>'frequency'</li>\n",
       "</ol>\n"
      ],
      "text/latex": [
       "\\begin{enumerate*}\n",
       "\\item 'term'\n",
       "\\item 'frequency'\n",
       "\\end{enumerate*}\n"
      ],
      "text/markdown": [
       "1. 'term'\n",
       "2. 'frequency'\n",
       "\n",
       "\n"
      ],
      "text/plain": [
       "[1] \"term\"      \"frequency\""
      ]
     },
     "metadata": {},
     "output_type": "display_data"
    }
   ],
   "source": [
    "names(ham.df)"
   ]
  },
  {
   "cell_type": "code",
   "execution_count": 51,
   "metadata": {
    "collapsed": true
   },
   "outputs": [],
   "source": [
    "ham.occur<-sapply(1:nrow(ham.matrix),\n",
    "                  function(i){\n",
    "                      length(which(ham.matrix[i,]>0))/ncol(ham.matrix)\n",
    "                  }\n",
    "                 )"
   ]
  },
  {
   "cell_type": "code",
   "execution_count": 52,
   "metadata": {
    "collapsed": true
   },
   "outputs": [],
   "source": [
    "ham.df$frequency<-as.numeric(ham.df$frequency)"
   ]
  },
  {
   "cell_type": "code",
   "execution_count": 53,
   "metadata": {
    "collapsed": false
   },
   "outputs": [],
   "source": [
    "ham.density<-ham.df$frequency/sum(ham.df$frequency)"
   ]
  },
  {
   "cell_type": "code",
   "execution_count": 54,
   "metadata": {
    "collapsed": true
   },
   "outputs": [],
   "source": [
    "ham.df<-transform(ham.df, occurrence=ham.occur, density=ham.density)"
   ]
  },
  {
   "cell_type": "code",
   "execution_count": 55,
   "metadata": {
    "collapsed": false
   },
   "outputs": [
    {
     "data": {
      "text/html": [
       "<ol class=list-inline>\n",
       "\t<li>'term'</li>\n",
       "\t<li>'frequency'</li>\n",
       "\t<li>'occurrence'</li>\n",
       "\t<li>'density'</li>\n",
       "</ol>\n"
      ],
      "text/latex": [
       "\\begin{enumerate*}\n",
       "\\item 'term'\n",
       "\\item 'frequency'\n",
       "\\item 'occurrence'\n",
       "\\item 'density'\n",
       "\\end{enumerate*}\n"
      ],
      "text/markdown": [
       "1. 'term'\n",
       "2. 'frequency'\n",
       "3. 'occurrence'\n",
       "4. 'density'\n",
       "\n",
       "\n"
      ],
      "text/plain": [
       "[1] \"term\"       \"frequency\"  \"occurrence\" \"density\"   "
      ]
     },
     "metadata": {},
     "output_type": "display_data"
    }
   ],
   "source": [
    "names(ham.df)"
   ]
  },
  {
   "cell_type": "code",
   "execution_count": 56,
   "metadata": {
    "collapsed": false
   },
   "outputs": [
    {
     "data": {
      "text/html": [
       "<table>\n",
       "<thead><tr><th></th><th scope=col>term</th><th scope=col>frequency</th><th scope=col>occurrence</th><th scope=col>density</th></tr></thead>\n",
       "<tbody>\n",
       "\t<tr><th scope=row>5193</th><td>group      </td><td>232        </td><td>0.388      </td><td>0.003317366</td></tr>\n",
       "\t<tr><th scope=row>12877</th><td>use        </td><td>271        </td><td>0.378      </td><td>0.003875027</td></tr>\n",
       "\t<tr><th scope=row>13511</th><td>wrote      </td><td>237        </td><td>0.378      </td><td>0.003388861</td></tr>\n",
       "\t<tr><th scope=row>1629</th><td>can        </td><td>348        </td><td>0.368      </td><td>0.004976049</td></tr>\n",
       "\t<tr><th scope=row>7244</th><td>list       </td><td>248        </td><td>0.368      </td><td>0.003546150</td></tr>\n",
       "\t<tr><th scope=row>8581</th><td>one        </td><td>356        </td><td>0.336      </td><td>0.005090441</td></tr>\n",
       "\t<tr><th scope=row>6784</th><td>just       </td><td>273        </td><td>0.326      </td><td>0.003903625</td></tr>\n",
       "\t<tr><th scope=row>8435</th><td>now        </td><td>231        </td><td>0.324      </td><td>0.003303067</td></tr>\n",
       "\t<tr><th scope=row>4950</th><td>get        </td><td>230        </td><td>0.282      </td><td>0.003288768</td></tr>\n",
       "\t<tr><th scope=row>7184</th><td>like       </td><td>232        </td><td>0.282      </td><td>0.003317366</td></tr>\n",
       "\t<tr><th scope=row>3766</th><td>email      </td><td>188        </td><td>0.276      </td><td>0.002688210</td></tr>\n",
       "\t<tr><th scope=row>11763</th><td>subject    </td><td>162        </td><td>0.270      </td><td>0.002316437</td></tr>\n",
       "\t<tr><th scope=row>12318</th><td>time       </td><td>188        </td><td>0.258      </td><td>0.002688210</td></tr>\n",
       "\t<tr><th scope=row>13355</th><td>will       </td><td>318        </td><td>0.254      </td><td>0.004547079</td></tr>\n",
       "\t<tr><th scope=row>6355</th><td>information</td><td>162        </td><td>0.232      </td><td>0.002316437</td></tr>\n",
       "\t<tr><th scope=row>7229</th><td>linux      </td><td>233        </td><td>0.232      </td><td>0.003331665</td></tr>\n",
       "\t<tr><th scope=row>6911</th><td>know       </td><td>148        </td><td>0.230      </td><td>0.002116251</td></tr>\n",
       "\t<tr><th scope=row>10902</th><td>send       </td><td>124        </td><td>0.224      </td><td>0.001773075</td></tr>\n",
       "\t<tr><th scope=row>4007</th><td>even       </td><td>182        </td><td>0.222      </td><td>0.002602417</td></tr>\n",
       "\t<tr><th scope=row>13205</th><td>way        </td><td>172        </td><td>0.222      </td><td>0.002459427</td></tr>\n",
       "</tbody>\n",
       "</table>\n"
      ],
      "text/latex": [
       "\\begin{tabular}{r|llll}\n",
       "  & term & frequency & occurrence & density\\\\\n",
       "\\hline\n",
       "\t5193 & group       & 232         & 0.388       & 0.003317366\\\\\n",
       "\t12877 & use         & 271         & 0.378       & 0.003875027\\\\\n",
       "\t13511 & wrote       & 237         & 0.378       & 0.003388861\\\\\n",
       "\t1629 & can         & 348         & 0.368       & 0.004976049\\\\\n",
       "\t7244 & list        & 248         & 0.368       & 0.003546150\\\\\n",
       "\t8581 & one         & 356         & 0.336       & 0.005090441\\\\\n",
       "\t6784 & just        & 273         & 0.326       & 0.003903625\\\\\n",
       "\t8435 & now         & 231         & 0.324       & 0.003303067\\\\\n",
       "\t4950 & get         & 230         & 0.282       & 0.003288768\\\\\n",
       "\t7184 & like        & 232         & 0.282       & 0.003317366\\\\\n",
       "\t3766 & email       & 188         & 0.276       & 0.002688210\\\\\n",
       "\t11763 & subject     & 162         & 0.270       & 0.002316437\\\\\n",
       "\t12318 & time        & 188         & 0.258       & 0.002688210\\\\\n",
       "\t13355 & will        & 318         & 0.254       & 0.004547079\\\\\n",
       "\t6355 & information & 162         & 0.232       & 0.002316437\\\\\n",
       "\t7229 & linux       & 233         & 0.232       & 0.003331665\\\\\n",
       "\t6911 & know        & 148         & 0.230       & 0.002116251\\\\\n",
       "\t10902 & send        & 124         & 0.224       & 0.001773075\\\\\n",
       "\t4007 & even        & 182         & 0.222       & 0.002602417\\\\\n",
       "\t13205 & way         & 172         & 0.222       & 0.002459427\\\\\n",
       "\\end{tabular}\n"
      ],
      "text/markdown": [
       "\n",
       "| <!--/--> | term | frequency | occurrence | density | \n",
       "|---|---|---|---|---|---|---|---|---|---|---|---|---|---|---|---|---|---|---|---|\n",
       "| 5193 | group       | 232         | 0.388       | 0.003317366 | \n",
       "| 12877 | use         | 271         | 0.378       | 0.003875027 | \n",
       "| 13511 | wrote       | 237         | 0.378       | 0.003388861 | \n",
       "| 1629 | can         | 348         | 0.368       | 0.004976049 | \n",
       "| 7244 | list        | 248         | 0.368       | 0.003546150 | \n",
       "| 8581 | one         | 356         | 0.336       | 0.005090441 | \n",
       "| 6784 | just        | 273         | 0.326       | 0.003903625 | \n",
       "| 8435 | now         | 231         | 0.324       | 0.003303067 | \n",
       "| 4950 | get         | 230         | 0.282       | 0.003288768 | \n",
       "| 7184 | like        | 232         | 0.282       | 0.003317366 | \n",
       "| 3766 | email       | 188         | 0.276       | 0.002688210 | \n",
       "| 11763 | subject     | 162         | 0.270       | 0.002316437 | \n",
       "| 12318 | time        | 188         | 0.258       | 0.002688210 | \n",
       "| 13355 | will        | 318         | 0.254       | 0.004547079 | \n",
       "| 6355 | information | 162         | 0.232       | 0.002316437 | \n",
       "| 7229 | linux       | 233         | 0.232       | 0.003331665 | \n",
       "| 6911 | know        | 148         | 0.230       | 0.002116251 | \n",
       "| 10902 | send        | 124         | 0.224       | 0.001773075 | \n",
       "| 4007 | even        | 182         | 0.222       | 0.002602417 | \n",
       "| 13205 | way         | 172         | 0.222       | 0.002459427 | \n",
       "\n",
       "\n"
      ],
      "text/plain": [
       "      term        frequency occurrence density    \n",
       "5193  group       232       0.388      0.003317366\n",
       "12877 use         271       0.378      0.003875027\n",
       "13511 wrote       237       0.378      0.003388861\n",
       "1629  can         348       0.368      0.004976049\n",
       "7244  list        248       0.368      0.003546150\n",
       "8581  one         356       0.336      0.005090441\n",
       "6784  just        273       0.326      0.003903625\n",
       "8435  now         231       0.324      0.003303067\n",
       "4950  get         230       0.282      0.003288768\n",
       "7184  like        232       0.282      0.003317366\n",
       "3766  email       188       0.276      0.002688210\n",
       "11763 subject     162       0.270      0.002316437\n",
       "12318 time        188       0.258      0.002688210\n",
       "13355 will        318       0.254      0.004547079\n",
       "6355  information 162       0.232      0.002316437\n",
       "7229  linux       233       0.232      0.003331665\n",
       "6911  know        148       0.230      0.002116251\n",
       "10902 send        124       0.224      0.001773075\n",
       "4007  even        182       0.222      0.002602417\n",
       "13205 way         172       0.222      0.002459427"
      ]
     },
     "metadata": {},
     "output_type": "display_data"
    }
   ],
   "source": [
    "head(ham.df[with(ham.df, order(-occurrence)),],20)"
   ]
  },
  {
   "cell_type": "markdown",
   "metadata": {},
   "source": [
    "## Spam prob calculation"
   ]
  },
  {
   "cell_type": "code",
   "execution_count": 57,
   "metadata": {
    "collapsed": false
   },
   "outputs": [],
   "source": [
    "calculate_prob<-function(msg_file, training.df, prior=0.5, c=1e-6){\n",
    "    msg<-get.msg(msg_file)\n",
    "    tdm<-get.tdm(msg)\n",
    "    msg.frq<-rowSums(as.matrix(tdm))\n",
    "    msg.match<-intersect(names(msg.frq), training.df$term)\n",
    "    #print(length(msg.match))\n",
    "    #print(length(msg.frq))\n",
    "    if(length(msg.match)<1){\n",
    "        return(prior*c^(length(msg.frq)))\n",
    "    }\n",
    "    else{\n",
    "        msg.prob<-training.df$occurrence[match(msg.match, training.df$term)]\n",
    "        #print(prod(msg.prob))\n",
    "        return(prior*prod(msg.prob)*c^(length(msg.frq)-length(msg.match)))\n",
    "    }\n",
    "}"
   ]
  },
  {
   "cell_type": "code",
   "execution_count": 58,
   "metadata": {
    "collapsed": false
   },
   "outputs": [
    {
     "data": {
      "text/html": [
       "'00001.317e78fa8ee2f54cd4890fdc09ba8176'"
      ],
      "text/latex": [
       "'00001.317e78fa8ee2f54cd4890fdc09ba8176'"
      ],
      "text/markdown": [
       "'00001.317e78fa8ee2f54cd4890fdc09ba8176'"
      ],
      "text/plain": [
       "[1] \"00001.317e78fa8ee2f54cd4890fdc09ba8176\""
      ]
     },
     "metadata": {},
     "output_type": "display_data"
    }
   ],
   "source": [
    "spam_2.docs[1]"
   ]
  },
  {
   "cell_type": "code",
   "execution_count": 59,
   "metadata": {
    "collapsed": false
   },
   "outputs": [],
   "source": [
    "test_prob<-calculate_prob(file.path(spam_2.path,spam_2.docs[1]), df)"
   ]
  },
  {
   "cell_type": "code",
   "execution_count": 60,
   "metadata": {
    "collapsed": false
   },
   "outputs": [
    {
     "data": {
      "text/html": [
       "1.72181839877247e-286"
      ],
      "text/latex": [
       "1.72181839877247e-286"
      ],
      "text/markdown": [
       "1.72181839877247e-286"
      ],
      "text/plain": [
       "[1] 1.721818e-286"
      ]
     },
     "metadata": {},
     "output_type": "display_data"
    }
   ],
   "source": [
    "test_prob"
   ]
  },
  {
   "cell_type": "code",
   "execution_count": 61,
   "metadata": {
    "collapsed": false
   },
   "outputs": [],
   "source": [
    "test_prob<-calculate_prob(file.path(spam_2.path,spam_2.docs[1]), ham.df)"
   ]
  },
  {
   "cell_type": "code",
   "execution_count": 62,
   "metadata": {
    "collapsed": false
   },
   "outputs": [
    {
     "data": {
      "text/html": [
       "0"
      ],
      "text/latex": [
       "0"
      ],
      "text/markdown": [
       "0"
      ],
      "text/plain": [
       "[1] 0"
      ]
     },
     "metadata": {},
     "output_type": "display_data"
    }
   ],
   "source": [
    "test_prob"
   ]
  },
  {
   "cell_type": "code",
   "execution_count": 63,
   "metadata": {
    "collapsed": false
   },
   "outputs": [
    {
     "data": {
      "text/html": [
       "'00001.7c53336b37003a9286aba55d2945844c'"
      ],
      "text/latex": [
       "'00001.7c53336b37003a9286aba55d2945844c'"
      ],
      "text/markdown": [
       "'00001.7c53336b37003a9286aba55d2945844c'"
      ],
      "text/plain": [
       "[1] \"00001.7c53336b37003a9286aba55d2945844c\""
      ]
     },
     "metadata": {},
     "output_type": "display_data"
    }
   ],
   "source": [
    "easyham.docs[1]"
   ]
  },
  {
   "cell_type": "code",
   "execution_count": 64,
   "metadata": {
    "collapsed": false
   },
   "outputs": [
    {
     "data": {
      "text/html": [
       "'/root/app/ML_for_Hackers/03-Classification/data/easy_ham'"
      ],
      "text/latex": [
       "'/root/app/ML\\_for\\_Hackers/03-Classification/data/easy\\_ham'"
      ],
      "text/markdown": [
       "'/root/app/ML_for_Hackers/03-Classification/data/easy_ham'"
      ],
      "text/plain": [
       "[1] \"/root/app/ML_for_Hackers/03-Classification/data/easy_ham\""
      ]
     },
     "metadata": {},
     "output_type": "display_data"
    }
   ],
   "source": [
    "easyham.path"
   ]
  },
  {
   "cell_type": "code",
   "execution_count": 65,
   "metadata": {
    "collapsed": false
   },
   "outputs": [],
   "source": [
    "test_prob<-calculate_prob(file.path(easyham.path, easyham.docs[2]), training.df=df)"
   ]
  },
  {
   "cell_type": "code",
   "execution_count": 66,
   "metadata": {
    "collapsed": false
   },
   "outputs": [
    {
     "data": {
      "text/html": [
       "1.91264411930862e-207"
      ],
      "text/latex": [
       "1.91264411930862e-207"
      ],
      "text/markdown": [
       "1.91264411930862e-207"
      ],
      "text/plain": [
       "[1] 1.912644e-207"
      ]
     },
     "metadata": {},
     "output_type": "display_data"
    }
   ],
   "source": [
    "test_prob"
   ]
  },
  {
   "cell_type": "code",
   "execution_count": 67,
   "metadata": {
    "collapsed": false
   },
   "outputs": [],
   "source": [
    "test_prob<-calculate_prob(file.path(easyham.path, easyham.docs[1]), training.df=ham.df)"
   ]
  },
  {
   "cell_type": "code",
   "execution_count": 68,
   "metadata": {
    "collapsed": false
   },
   "outputs": [
    {
     "data": {
      "text/html": [
       "3.47561941020312e-152"
      ],
      "text/latex": [
       "3.47561941020312e-152"
      ],
      "text/markdown": [
       "3.47561941020312e-152"
      ],
      "text/plain": [
       "[1] 3.475619e-152"
      ]
     },
     "metadata": {},
     "output_type": "display_data"
    }
   ],
   "source": [
    "test_prob"
   ]
  },
  {
   "cell_type": "code",
   "execution_count": 69,
   "metadata": {
    "collapsed": false
   },
   "outputs": [
    {
     "data": {
      "text/html": [
       "0"
      ],
      "text/latex": [
       "0"
      ],
      "text/markdown": [
       "0"
      ],
      "text/plain": [
       "[1] 0"
      ]
     },
     "metadata": {},
     "output_type": "display_data"
    }
   ],
   "source": [
    "length(which(df$occurrence==0))"
   ]
  },
  {
   "cell_type": "code",
   "execution_count": 70,
   "metadata": {
    "collapsed": true
   },
   "outputs": [],
   "source": [
    "hardham.spamtest<-sapply(hardham.docs,\n",
    "                         function(p){\n",
    "                             calculate_prob(file.path(hardham.path, p), training.df=df)\n",
    "                         }\n",
    "                        )"
   ]
  },
  {
   "cell_type": "code",
   "execution_count": 71,
   "metadata": {
    "collapsed": true
   },
   "outputs": [],
   "source": [
    "hardham.hamtest<-sapply(hardham.docs,\n",
    "                        function(p){\n",
    "                            calculate_prob(file.path(hardham.path,p), training.df = ham.df)\n",
    "                        }\n",
    "                       )"
   ]
  },
  {
   "cell_type": "code",
   "execution_count": 72,
   "metadata": {
    "collapsed": false
   },
   "outputs": [],
   "source": [
    "hardham.res<-ifelse(hardham.spamtest > hardham.hamtest, 1, 0)"
   ]
  },
  {
   "cell_type": "code",
   "execution_count": 73,
   "metadata": {
    "collapsed": false
   },
   "outputs": [
    {
     "data": {
      "text/html": [
       "6"
      ],
      "text/latex": [
       "6"
      ],
      "text/markdown": [
       "6"
      ],
      "text/plain": [
       "[1] 6"
      ]
     },
     "metadata": {},
     "output_type": "display_data"
    },
    {
     "data": {
      "text/html": [
       "243"
      ],
      "text/latex": [
       "243"
      ],
      "text/markdown": [
       "243"
      ],
      "text/plain": [
       "[1] 243"
      ]
     },
     "metadata": {},
     "output_type": "display_data"
    }
   ],
   "source": [
    "sum(hardham.res)\n",
    "length(hardham.res)-sum(hardham.res)"
   ]
  },
  {
   "cell_type": "code",
   "execution_count": 74,
   "metadata": {
    "collapsed": false
   },
   "outputs": [],
   "source": [
    "spam.classify<-function(file_path, class){\n",
    "    pr.spam<-calculate_prob(file_path, training.df=df)\n",
    "    pr.ham <-calculate_prob(file_path, training.df = ham.df)\n",
    "    df_list<-list(c(PR_SPAM=pr.spam, PR_HAM=pr.ham, SPAM_SCORE=ifelse(pr.spam > pr.ham, 1,0)))\n",
    "    df<-do.call(rbind, df_list)\n",
    "    df<-cbind(df, class)\n",
    "    return(df)\n",
    "}"
   ]
  },
  {
   "cell_type": "code",
   "execution_count": 75,
   "metadata": {
    "collapsed": false
   },
   "outputs": [],
   "source": [
    "test_spam<-spam.classify(file.path(spam_2.path, spam_2.docs[10]), class='SPAM')"
   ]
  },
  {
   "cell_type": "code",
   "execution_count": 76,
   "metadata": {
    "collapsed": false
   },
   "outputs": [
    {
     "data": {
      "text/html": [
       "<table>\n",
       "<thead><tr><th scope=col>PR_SPAM</th><th scope=col>PR_HAM</th><th scope=col>SPAM_SCORE</th><th scope=col>class</th></tr></thead>\n",
       "<tbody>\n",
       "\t<tr><td>1.13867028044094e-160</td><td>1.21705463865902e-223</td><td>1                    </td><td>SPAM                 </td></tr>\n",
       "</tbody>\n",
       "</table>\n"
      ],
      "text/latex": [
       "\\begin{tabular}{llll}\n",
       " PR\\_SPAM & PR\\_HAM & SPAM\\_SCORE & class\\\\\n",
       "\\hline\n",
       "\t 1.13867028044094e-160 & 1.21705463865902e-223 & 1                     & SPAM                 \\\\\n",
       "\\end{tabular}\n"
      ],
      "text/markdown": [
       "\n",
       "PR_SPAM | PR_HAM | SPAM_SCORE | class | \n",
       "|---|\n",
       "| 1.13867028044094e-160 | 1.21705463865902e-223 | 1                     | SPAM                  | \n",
       "\n",
       "\n"
      ],
      "text/plain": [
       "     PR_SPAM               PR_HAM                SPAM_SCORE class\n",
       "[1,] 1.13867028044094e-160 1.21705463865902e-223 1          SPAM "
      ]
     },
     "metadata": {},
     "output_type": "display_data"
    }
   ],
   "source": [
    "test_spam"
   ]
  },
  {
   "cell_type": "code",
   "execution_count": 77,
   "metadata": {
    "collapsed": true
   },
   "outputs": [],
   "source": [
    "spam_2_df_list<-lapply(spam_2.docs,\n",
    "                       function(x)  spam.classify(file.path(spam_2.path, x), class='SPAM')                                  \n",
    "                      )  "
   ]
  },
  {
   "cell_type": "code",
   "execution_count": 78,
   "metadata": {
    "collapsed": true
   },
   "outputs": [],
   "source": [
    "easyham_2_df_list<-lapply(easyham_2.docs,\n",
    "                       function(x)  spam.classify(file.path(easyham_2.path, x), class='EASYHAM')                                  \n",
    "                      )  "
   ]
  },
  {
   "cell_type": "code",
   "execution_count": 79,
   "metadata": {
    "collapsed": true
   },
   "outputs": [],
   "source": [
    "hardham_df_list<-lapply(hardham.docs,\n",
    "                       function(x)  spam.classify(file.path(hardham.path, x), class='HARDHAM')                                  \n",
    "                      )  "
   ]
  },
  {
   "cell_type": "code",
   "execution_count": 80,
   "metadata": {
    "collapsed": true
   },
   "outputs": [],
   "source": [
    "spam_2_df<-do.call(rbind, spam_2_df_list)"
   ]
  },
  {
   "cell_type": "code",
   "execution_count": 81,
   "metadata": {
    "collapsed": true
   },
   "outputs": [],
   "source": [
    "easyham_2_df<-do.call(rbind, easyham_2_df_list)"
   ]
  },
  {
   "cell_type": "code",
   "execution_count": 82,
   "metadata": {
    "collapsed": true
   },
   "outputs": [],
   "source": [
    "hardham_df<-do.call(rbind, hardham_df_list)"
   ]
  },
  {
   "cell_type": "code",
   "execution_count": 83,
   "metadata": {
    "collapsed": false
   },
   "outputs": [],
   "source": [
    "all_df<-data.frame()\n",
    "all_df<-rbind(all_df, spam_2_df)\n",
    "all_df<-rbind(all_df, easyham_2_df)\n",
    "all_df<-rbind(all_df, hardham_df)"
   ]
  },
  {
   "cell_type": "code",
   "execution_count": 84,
   "metadata": {
    "collapsed": false
   },
   "outputs": [
    {
     "data": {
      "text/plain": [
       "                  PR_SPAM                       PR_HAM     SPAM_SCORE\n",
       " 0                    :1171   0                    :1223   0:2272    \n",
       " 2.87645044564903e-104:   8   5.39095308007932e-181:   8   1: 774    \n",
       " 2.89462712462861e-103:   7   4.39984070785899e-124:   7             \n",
       " 1.34118369904242e-106:   6   5.17928696678444e-91 :   7             \n",
       " 2.95392596840724e-82 :   6   7.74114599457422e-187:   7             \n",
       " 3.48736464592713e-209:   6   1.33449381157254e-111:   6             \n",
       " (Other)              :1842   (Other)              :1788             \n",
       "     class     \n",
       " SPAM   :1397  \n",
       " EASYHAM:1400  \n",
       " HARDHAM: 249  \n",
       "               \n",
       "               \n",
       "               \n",
       "               "
      ]
     },
     "metadata": {},
     "output_type": "display_data"
    }
   ],
   "source": [
    "summary(all_df)"
   ]
  },
  {
   "cell_type": "code",
   "execution_count": 85,
   "metadata": {
    "collapsed": false
   },
   "outputs": [
    {
     "data": {
      "text/html": [
       "<ol class=list-inline>\n",
       "\t<li>'PR_SPAM'</li>\n",
       "\t<li>'PR_HAM'</li>\n",
       "\t<li>'SPAM_SCORE'</li>\n",
       "\t<li>'class'</li>\n",
       "</ol>\n"
      ],
      "text/latex": [
       "\\begin{enumerate*}\n",
       "\\item 'PR\\_SPAM'\n",
       "\\item 'PR\\_HAM'\n",
       "\\item 'SPAM\\_SCORE'\n",
       "\\item 'class'\n",
       "\\end{enumerate*}\n"
      ],
      "text/markdown": [
       "1. 'PR_SPAM'\n",
       "2. 'PR_HAM'\n",
       "3. 'SPAM_SCORE'\n",
       "4. 'class'\n",
       "\n",
       "\n"
      ],
      "text/plain": [
       "[1] \"PR_SPAM\"    \"PR_HAM\"     \"SPAM_SCORE\" \"class\"     "
      ]
     },
     "metadata": {},
     "output_type": "display_data"
    }
   ],
   "source": [
    "names(all_df)"
   ]
  },
  {
   "cell_type": "code",
   "execution_count": 95,
   "metadata": {
    "collapsed": false
   },
   "outputs": [
    {
     "data": {
      "text/html": [
       "<dl class=dl-horizontal>\n",
       "\t<dt>0</dt>\n",
       "\t\t<dd>647</dd>\n",
       "\t<dt>1</dt>\n",
       "\t\t<dd>750</dd>\n",
       "</dl>\n"
      ],
      "text/latex": [
       "\\begin{description*}\n",
       "\\item[0] 647\n",
       "\\item[1] 750\n",
       "\\end{description*}\n"
      ],
      "text/markdown": [
       "0\n",
       ":   6471\n",
       ":   750\n",
       "\n"
      ],
      "text/plain": [
       "  0   1 \n",
       "647 750 "
      ]
     },
     "metadata": {},
     "output_type": "display_data"
    }
   ],
   "source": [
    "summary(all_df$SPAM_SCORE[which(all_df$class == \"SPAM\")])"
   ]
  },
  {
   "cell_type": "code",
   "execution_count": 116,
   "metadata": {
    "collapsed": true
   },
   "outputs": [],
   "source": [
    "all_df$PR_SPAM<-as.numeric(all_df$PR_SPAM)\n",
    "all_df$PR_HAM<-as.numeric(all_df$PR_HAM)"
   ]
  },
  {
   "cell_type": "code",
   "execution_count": 117,
   "metadata": {
    "collapsed": false
   },
   "outputs": [
    {
     "data": {
      "text/plain": [
       "    PR_SPAM          PR_HAM    SPAM_SCORE     class     \n",
       " Min.   :  1.0   Min.   :  1   0:647      SPAM   :1397  \n",
       " 1st Qu.:  1.0   1st Qu.:  1   1:750      EASYHAM:   0  \n",
       " Median : 64.0   Median :  1              HARDHAM:   0  \n",
       " Mean   :163.1   Mean   :101                            \n",
       " 3rd Qu.:314.0   3rd Qu.:199                            \n",
       " Max.   :584.0   Max.   :454                            "
      ]
     },
     "metadata": {},
     "output_type": "display_data"
    }
   ],
   "source": [
    "summary(all_df[(all_df$class=='SPAM') & (all_df$PR_SPAM >=1 ),])"
   ]
  },
  {
   "cell_type": "code",
   "execution_count": 96,
   "metadata": {
    "collapsed": false
   },
   "outputs": [
    {
     "data": {
      "text/html": [
       "<dl class=dl-horizontal>\n",
       "\t<dt>0</dt>\n",
       "\t\t<dd>1382</dd>\n",
       "\t<dt>1</dt>\n",
       "\t\t<dd>18</dd>\n",
       "</dl>\n"
      ],
      "text/latex": [
       "\\begin{description*}\n",
       "\\item[0] 1382\n",
       "\\item[1] 18\n",
       "\\end{description*}\n"
      ],
      "text/markdown": [
       "0\n",
       ":   13821\n",
       ":   18\n",
       "\n"
      ],
      "text/plain": [
       "   0    1 \n",
       "1382   18 "
      ]
     },
     "metadata": {},
     "output_type": "display_data"
    }
   ],
   "source": [
    "summary(all_df$SPAM_SCORE[which(all_df$class == \"EASYHAM\")])"
   ]
  },
  {
   "cell_type": "code",
   "execution_count": 111,
   "metadata": {
    "collapsed": false
   },
   "outputs": [
    {
     "data": {
      "text/html": [
       "<dl class=dl-horizontal>\n",
       "\t<dt>0</dt>\n",
       "\t\t<dd>243</dd>\n",
       "\t<dt>1</dt>\n",
       "\t\t<dd>6</dd>\n",
       "</dl>\n"
      ],
      "text/latex": [
       "\\begin{description*}\n",
       "\\item[0] 243\n",
       "\\item[1] 6\n",
       "\\end{description*}\n"
      ],
      "text/markdown": [
       "0\n",
       ":   2431\n",
       ":   6\n",
       "\n"
      ],
      "text/plain": [
       "  0   1 \n",
       "243   6 "
      ]
     },
     "metadata": {},
     "output_type": "display_data"
    }
   ],
   "source": [
    "summary(all_df$SPAM_SCORE[all_df$class == \"HARDHAM\"])"
   ]
  },
  {
   "cell_type": "code",
   "execution_count": 104,
   "metadata": {
    "collapsed": false
   },
   "outputs": [],
   "source": [
    "library(ggplot2)"
   ]
  },
  {
   "cell_type": "code",
   "execution_count": 125,
   "metadata": {
    "collapsed": false
   },
   "outputs": [
    {
     "data": {},
     "metadata": {},
     "output_type": "display_data"
    },
    {
     "data": {
      "image/png": "[encoded data removed]",
      "text/plain": [
       "plot without title"
      ]
     },
     "metadata": {},
     "output_type": "display_data"
    }
   ],
   "source": [
    "ggplot(all_df, aes(x=log(PR_HAM),log(PR_SPAM))) + \n",
    "        geom_point(aes(shape=class, colour=class))+\n",
    "        scale_shape_manual(values = c('EASYHAM'=1, 'SPAM'=2, 'HARDHAM'=3))"
   ]
  },
  {
   "cell_type": "code",
   "execution_count": null,
   "metadata": {
    "collapsed": true
   },
   "outputs": [],
   "source": []
  }
 ],
 "metadata": {
  "kernelspec": {
   "display_name": "R",
   "language": "R",
   "name": "ir"
  },
  "language_info": {
   "codemirror_mode": "r",
   "file_extension": ".r",
   "mimetype": "text/x-r-source",
   "name": "R",
   "pygments_lexer": "r",
   "version": "3.3.2"
  }
 },
 "nbformat": 4,
 "nbformat_minor": 2
}
