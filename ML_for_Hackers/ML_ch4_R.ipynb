{
 "cells": [
  {
   "cell_type": "code",
   "execution_count": 10,
   "metadata": {
    "collapsed": false
   },
   "outputs": [],
   "source": [
    "text<-c('From: Ad <a@d.com>',\n",
    "       'From: bc (b@c.org)',\n",
    "       'To: av')"
   ]
  },
  {
   "cell_type": "code",
   "execution_count": 11,
   "metadata": {
    "collapsed": false
   },
   "outputs": [
    {
     "data": {
      "text/html": [
       "<ol class=list-inline>\n",
       "\t<li>'From: Ad &lt;a@d.com&gt;'</li>\n",
       "\t<li>'From: bc (b@c.org)'</li>\n",
       "\t<li>'To: av'</li>\n",
       "</ol>\n"
      ],
      "text/latex": [
       "\\begin{enumerate*}\n",
       "\\item 'From: Ad <a@d.com>'\n",
       "\\item 'From: bc (b@c.org)'\n",
       "\\item 'To: av'\n",
       "\\end{enumerate*}\n"
      ],
      "text/markdown": [
       "1. 'From: Ad &lt;a@d.com&gt;'\n",
       "2. 'From: bc (b@c.org)'\n",
       "3. 'To: av'\n",
       "\n",
       "\n"
      ],
      "text/plain": [
       "[1] \"From: Ad <a@d.com>\" \"From: bc (b@c.org)\" \"To: av\"            "
      ]
     },
     "metadata": {},
     "output_type": "display_data"
    }
   ],
   "source": [
    "text"
   ]
  },
  {
   "cell_type": "code",
   "execution_count": 12,
   "metadata": {
    "collapsed": false
   },
   "outputs": [
    {
     "data": {
      "text/html": [
       "<ol class=list-inline>\n",
       "\t<li>TRUE</li>\n",
       "\t<li>TRUE</li>\n",
       "\t<li>FALSE</li>\n",
       "</ol>\n"
      ],
      "text/latex": [
       "\\begin{enumerate*}\n",
       "\\item TRUE\n",
       "\\item TRUE\n",
       "\\item FALSE\n",
       "\\end{enumerate*}\n"
      ],
      "text/markdown": [
       "1. TRUE\n",
       "2. TRUE\n",
       "3. FALSE\n",
       "\n",
       "\n"
      ],
      "text/plain": [
       "[1]  TRUE  TRUE FALSE"
      ]
     },
     "metadata": {},
     "output_type": "display_data"
    }
   ],
   "source": [
    "grepl('From: ', text)"
   ]
  },
  {
   "cell_type": "code",
   "execution_count": 14,
   "metadata": {
    "collapsed": false
   },
   "outputs": [],
   "source": [
    "e<-text[grepl('From: ', text)]"
   ]
  },
  {
   "cell_type": "code",
   "execution_count": 15,
   "metadata": {
    "collapsed": false
   },
   "outputs": [
    {
     "data": {
      "text/html": [
       "<ol class=list-inline>\n",
       "\t<li>'From: Ad &lt;a@d.com&gt;'</li>\n",
       "\t<li>'From: bc (b@c.org)'</li>\n",
       "</ol>\n"
      ],
      "text/latex": [
       "\\begin{enumerate*}\n",
       "\\item 'From: Ad <a@d.com>'\n",
       "\\item 'From: bc (b@c.org)'\n",
       "\\end{enumerate*}\n"
      ],
      "text/markdown": [
       "1. 'From: Ad &lt;a@d.com&gt;'\n",
       "2. 'From: bc (b@c.org)'\n",
       "\n",
       "\n"
      ],
      "text/plain": [
       "[1] \"From: Ad <a@d.com>\" \"From: bc (b@c.org)\""
      ]
     },
     "metadata": {},
     "output_type": "display_data"
    }
   ],
   "source": [
    "e"
   ]
  },
  {
   "cell_type": "code",
   "execution_count": 23,
   "metadata": {
    "collapsed": false
   },
   "outputs": [],
   "source": [
    "s<-strsplit(e, '[\":<>] ')[[1]]"
   ]
  },
  {
   "cell_type": "code",
   "execution_count": 24,
   "metadata": {
    "collapsed": false
   },
   "outputs": [
    {
     "data": {
      "text/html": [
       "<ol class=list-inline>\n",
       "\t<li>'From'</li>\n",
       "\t<li>'Ad &lt;a@d.com&gt;'</li>\n",
       "</ol>\n"
      ],
      "text/latex": [
       "\\begin{enumerate*}\n",
       "\\item 'From'\n",
       "\\item 'Ad <a@d.com>'\n",
       "\\end{enumerate*}\n"
      ],
      "text/markdown": [
       "1. 'From'\n",
       "2. 'Ad &lt;a@d.com&gt;'\n",
       "\n",
       "\n"
      ],
      "text/plain": [
       "[1] \"From\"         \"Ad <a@d.com>\""
      ]
     },
     "metadata": {},
     "output_type": "display_data"
    }
   ],
   "source": [
    "s"
   ]
  },
  {
   "cell_type": "code",
   "execution_count": 25,
   "metadata": {
    "collapsed": false
   },
   "outputs": [
    {
     "data": {
      "text/html": [
       "<ol class=list-inline>\n",
       "\t<li>'From'</li>\n",
       "\t<li>'Ad &lt;a@d.com&gt;'</li>\n",
       "</ol>\n"
      ],
      "text/latex": [
       "\\begin{enumerate*}\n",
       "\\item 'From'\n",
       "\\item 'Ad <a@d.com>'\n",
       "\\end{enumerate*}\n"
      ],
      "text/markdown": [
       "1. 'From'\n",
       "2. 'Ad &lt;a@d.com&gt;'\n",
       "\n",
       "\n"
      ],
      "text/plain": [
       "[1] \"From\"         \"Ad <a@d.com>\""
      ]
     },
     "metadata": {},
     "output_type": "display_data"
    }
   ],
   "source": [
    "s[which(s !=' ' & s != '')]"
   ]
  },
  {
   "cell_type": "code",
   "execution_count": 28,
   "metadata": {
    "collapsed": false
   },
   "outputs": [
    {
     "data": {
      "text/html": [
       "'Ad &lt;a@d.com&gt;'"
      ],
      "text/latex": [
       "'Ad <a@d.com>'"
      ],
      "text/markdown": [
       "'Ad &lt;a@d.com&gt;'"
      ],
      "text/plain": [
       "[1] \"Ad <a@d.com>\""
      ]
     },
     "metadata": {},
     "output_type": "display_data"
    }
   ],
   "source": [
    "s[grepl('@', s)][[1]]"
   ]
  },
  {
   "cell_type": "code",
   "execution_count": null,
   "metadata": {
    "collapsed": true
   },
   "outputs": [],
   "source": []
  }
 ],
 "metadata": {
  "kernelspec": {
   "display_name": "R",
   "language": "R",
   "name": "ir"
  },
  "language_info": {
   "codemirror_mode": "r",
   "file_extension": ".r",
   "mimetype": "text/x-r-source",
   "name": "R",
   "pygments_lexer": "r",
   "version": "3.3.2"
  }
 },
 "nbformat": 4,
 "nbformat_minor": 2
}
