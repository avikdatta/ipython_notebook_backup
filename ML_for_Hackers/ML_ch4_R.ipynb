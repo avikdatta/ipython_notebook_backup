{
 "cells": [
  {
   "cell_type": "code",
   "execution_count": 1,
   "metadata": {
    "collapsed": false
   },
   "outputs": [],
   "source": [
    "text<-c('From: Ad <a@d.com>',\n",
    "       'From: bc (b@c.org)',\n",
    "       'To: av')"
   ]
  },
  {
   "cell_type": "code",
   "execution_count": 2,
   "metadata": {
    "collapsed": false
   },
   "outputs": [
    {
     "data": {
      "text/html": [
       "<ol class=list-inline>\n",
       "\t<li>'From: Ad &lt;a@d.com&gt;'</li>\n",
       "\t<li>'From: bc (b@c.org)'</li>\n",
       "\t<li>'To: av'</li>\n",
       "</ol>\n"
      ],
      "text/latex": [
       "\\begin{enumerate*}\n",
       "\\item 'From: Ad <a@d.com>'\n",
       "\\item 'From: bc (b@c.org)'\n",
       "\\item 'To: av'\n",
       "\\end{enumerate*}\n"
      ],
      "text/markdown": [
       "1. 'From: Ad &lt;a@d.com&gt;'\n",
       "2. 'From: bc (b@c.org)'\n",
       "3. 'To: av'\n",
       "\n",
       "\n"
      ],
      "text/plain": [
       "[1] \"From: Ad <a@d.com>\" \"From: bc (b@c.org)\" \"To: av\"            "
      ]
     },
     "metadata": {},
     "output_type": "display_data"
    }
   ],
   "source": [
    "text"
   ]
  },
  {
   "cell_type": "code",
   "execution_count": 3,
   "metadata": {
    "collapsed": false
   },
   "outputs": [
    {
     "data": {
      "text/html": [
       "<ol class=list-inline>\n",
       "\t<li>TRUE</li>\n",
       "\t<li>TRUE</li>\n",
       "\t<li>FALSE</li>\n",
       "</ol>\n"
      ],
      "text/latex": [
       "\\begin{enumerate*}\n",
       "\\item TRUE\n",
       "\\item TRUE\n",
       "\\item FALSE\n",
       "\\end{enumerate*}\n"
      ],
      "text/markdown": [
       "1. TRUE\n",
       "2. TRUE\n",
       "3. FALSE\n",
       "\n",
       "\n"
      ],
      "text/plain": [
       "[1]  TRUE  TRUE FALSE"
      ]
     },
     "metadata": {},
     "output_type": "display_data"
    }
   ],
   "source": [
    "grepl('From: ', text)"
   ]
  },
  {
   "cell_type": "code",
   "execution_count": 4,
   "metadata": {
    "collapsed": false
   },
   "outputs": [],
   "source": [
    "e<-text[grepl('From: ', text)]"
   ]
  },
  {
   "cell_type": "code",
   "execution_count": 5,
   "metadata": {
    "collapsed": false
   },
   "outputs": [
    {
     "data": {
      "text/html": [
       "<ol class=list-inline>\n",
       "\t<li>'From: Ad &lt;a@d.com&gt;'</li>\n",
       "\t<li>'From: bc (b@c.org)'</li>\n",
       "</ol>\n"
      ],
      "text/latex": [
       "\\begin{enumerate*}\n",
       "\\item 'From: Ad <a@d.com>'\n",
       "\\item 'From: bc (b@c.org)'\n",
       "\\end{enumerate*}\n"
      ],
      "text/markdown": [
       "1. 'From: Ad &lt;a@d.com&gt;'\n",
       "2. 'From: bc (b@c.org)'\n",
       "\n",
       "\n"
      ],
      "text/plain": [
       "[1] \"From: Ad <a@d.com>\" \"From: bc (b@c.org)\""
      ]
     },
     "metadata": {},
     "output_type": "display_data"
    }
   ],
   "source": [
    "e"
   ]
  },
  {
   "cell_type": "code",
   "execution_count": 68,
   "metadata": {
    "collapsed": false
   },
   "outputs": [],
   "source": [
    "s<-strsplit(e, '[\":<>()] ')[[1]]"
   ]
  },
  {
   "cell_type": "code",
   "execution_count": 69,
   "metadata": {
    "collapsed": false
   },
   "outputs": [
    {
     "data": {
      "text/html": [
       "<ol class=list-inline>\n",
       "\t<li>'From'</li>\n",
       "\t<li>'Ad &lt;a@d.com&gt;'</li>\n",
       "</ol>\n"
      ],
      "text/latex": [
       "\\begin{enumerate*}\n",
       "\\item 'From'\n",
       "\\item 'Ad <a@d.com>'\n",
       "\\end{enumerate*}\n"
      ],
      "text/markdown": [
       "1. 'From'\n",
       "2. 'Ad &lt;a@d.com&gt;'\n",
       "\n",
       "\n"
      ],
      "text/plain": [
       "[1] \"From\"         \"Ad <a@d.com>\""
      ]
     },
     "metadata": {},
     "output_type": "display_data"
    }
   ],
   "source": [
    "s"
   ]
  },
  {
   "cell_type": "code",
   "execution_count": 70,
   "metadata": {
    "collapsed": false
   },
   "outputs": [
    {
     "data": {
      "text/html": [
       "<ol class=list-inline>\n",
       "\t<li>'From'</li>\n",
       "\t<li>'Ad &lt;a@d.com&gt;'</li>\n",
       "</ol>\n"
      ],
      "text/latex": [
       "\\begin{enumerate*}\n",
       "\\item 'From'\n",
       "\\item 'Ad <a@d.com>'\n",
       "\\end{enumerate*}\n"
      ],
      "text/markdown": [
       "1. 'From'\n",
       "2. 'Ad &lt;a@d.com&gt;'\n",
       "\n",
       "\n"
      ],
      "text/plain": [
       "[1] \"From\"         \"Ad <a@d.com>\""
      ]
     },
     "metadata": {},
     "output_type": "display_data"
    }
   ],
   "source": [
    "s[which(s !=' ' & s != '')]"
   ]
  },
  {
   "cell_type": "code",
   "execution_count": 62,
   "metadata": {
    "collapsed": false
   },
   "outputs": [
    {
     "data": {
      "text/html": [
       "'bc (b@c.org)'"
      ],
      "text/latex": [
       "'bc (b@c.org)'"
      ],
      "text/markdown": [
       "'bc (b@c.org)'"
      ],
      "text/plain": [
       "[1] \"bc (b@c.org)\""
      ]
     },
     "metadata": {},
     "output_type": "display_data"
    }
   ],
   "source": [
    "s[grepl('@', s)][[1]]"
   ]
  },
  {
   "cell_type": "code",
   "execution_count": 85,
   "metadata": {
    "collapsed": true
   },
   "outputs": [],
   "source": [
    "easyham_path<-'/root//app/ML_for_Hackers/03-Classification/data/easy_ham/'"
   ]
  },
  {
   "cell_type": "code",
   "execution_count": 86,
   "metadata": {
    "collapsed": true
   },
   "outputs": [],
   "source": [
    "file1<-dir(easyham_path)[[1]]"
   ]
  },
  {
   "cell_type": "code",
   "execution_count": 87,
   "metadata": {
    "collapsed": false
   },
   "outputs": [
    {
     "data": {
      "text/html": [
       "'00001.7c53336b37003a9286aba55d2945844c'"
      ],
      "text/latex": [
       "'00001.7c53336b37003a9286aba55d2945844c'"
      ],
      "text/markdown": [
       "'00001.7c53336b37003a9286aba55d2945844c'"
      ],
      "text/plain": [
       "[1] \"00001.7c53336b37003a9286aba55d2945844c\""
      ]
     },
     "metadata": {},
     "output_type": "display_data"
    }
   ],
   "source": [
    "file1"
   ]
  },
  {
   "cell_type": "code",
   "execution_count": 88,
   "metadata": {
    "collapsed": true
   },
   "outputs": [],
   "source": [
    "read.msg<-function(path){\n",
    "    con<-file(path, open='rt', encoding='latin1')\n",
    "    msg<-readLines(con)\n",
    "    close(con)\n",
    "    return(msg)\n",
    "}"
   ]
  },
  {
   "cell_type": "code",
   "execution_count": 89,
   "metadata": {
    "collapsed": false
   },
   "outputs": [],
   "source": [
    "f_data1<-read.msg(file.path(easyham_path, file1))"
   ]
  },
  {
   "cell_type": "code",
   "execution_count": 90,
   "metadata": {
    "collapsed": false
   },
   "outputs": [
    {
     "data": {
      "text/html": [
       "<ol class=list-inline>\n",
       "\t<li><span style=white-space:pre-wrap>'From exmh-workers-admin@redhat.com  Thu Aug 22 12:36:23 2002'</span></li>\n",
       "\t<li>'Return-Path: &lt;exmh-workers-admin@spamassassin.taint.org&gt;'</li>\n",
       "\t<li>'Delivered-To: zzzz@localhost.netnoteinc.com'</li>\n",
       "\t<li>'Received: from localhost (localhost [127.0.0.1])'</li>\n",
       "\t<li>'\tby phobos.labs.netnoteinc.com (Postfix) with ESMTP id D03E543C36'</li>\n",
       "\t<li>'\tfor &lt;zzzz@localhost&gt;; Thu, 22 Aug 2002 07:36:16 -0400 (EDT)'</li>\n",
       "\t<li>'Received: from phobos [127.0.0.1]'</li>\n",
       "\t<li>'\tby localhost with IMAP (fetchmail-5.9.0)'</li>\n",
       "\t<li>'\tfor zzzz@localhost (single-drop); Thu, 22 Aug 2002 12:36:16 +0100 (IST)'</li>\n",
       "\t<li>'Received: from listman.spamassassin.taint.org (listman.spamassassin.taint.org [66.187.233.211]) by'</li>\n",
       "</ol>\n"
      ],
      "text/latex": [
       "\\begin{enumerate*}\n",
       "\\item 'From exmh-workers-admin@redhat.com  Thu Aug 22 12:36:23 2002'\n",
       "\\item 'Return-Path: <exmh-workers-admin@spamassassin.taint.org>'\n",
       "\\item 'Delivered-To: zzzz@localhost.netnoteinc.com'\n",
       "\\item 'Received: from localhost (localhost {[}127.0.0.1{]})'\n",
       "\\item '\tby phobos.labs.netnoteinc.com (Postfix) with ESMTP id D03E543C36'\n",
       "\\item '\tfor <zzzz@localhost>; Thu, 22 Aug 2002 07:36:16 -0400 (EDT)'\n",
       "\\item 'Received: from phobos {[}127.0.0.1{]}'\n",
       "\\item '\tby localhost with IMAP (fetchmail-5.9.0)'\n",
       "\\item '\tfor zzzz@localhost (single-drop); Thu, 22 Aug 2002 12:36:16 +0100 (IST)'\n",
       "\\item 'Received: from listman.spamassassin.taint.org (listman.spamassassin.taint.org {[}66.187.233.211{]}) by'\n",
       "\\end{enumerate*}\n"
      ],
      "text/markdown": [
       "1. <span style=white-space:pre-wrap>'From exmh-workers-admin@redhat.com  Thu Aug 22 12:36:23 2002'</span>\n",
       "2. 'Return-Path: &lt;exmh-workers-admin@spamassassin.taint.org&gt;'\n",
       "3. 'Delivered-To: zzzz@localhost.netnoteinc.com'\n",
       "4. 'Received: from localhost (localhost [127.0.0.1])'\n",
       "5. '\tby phobos.labs.netnoteinc.com (Postfix) with ESMTP id D03E543C36'\n",
       "6. '\tfor &lt;zzzz@localhost&gt;; Thu, 22 Aug 2002 07:36:16 -0400 (EDT)'\n",
       "7. 'Received: from phobos [127.0.0.1]'\n",
       "8. '\tby localhost with IMAP (fetchmail-5.9.0)'\n",
       "9. '\tfor zzzz@localhost (single-drop); Thu, 22 Aug 2002 12:36:16 +0100 (IST)'\n",
       "10. 'Received: from listman.spamassassin.taint.org (listman.spamassassin.taint.org [66.187.233.211]) by'\n",
       "\n",
       "\n"
      ],
      "text/plain": [
       " [1] \"From exmh-workers-admin@redhat.com  Thu Aug 22 12:36:23 2002\"                                      \n",
       " [2] \"Return-Path: <exmh-workers-admin@spamassassin.taint.org>\"                                          \n",
       " [3] \"Delivered-To: zzzz@localhost.netnoteinc.com\"                                                       \n",
       " [4] \"Received: from localhost (localhost [127.0.0.1])\"                                                  \n",
       " [5] \"\\tby phobos.labs.netnoteinc.com (Postfix) with ESMTP id D03E543C36\"                                \n",
       " [6] \"\\tfor <zzzz@localhost>; Thu, 22 Aug 2002 07:36:16 -0400 (EDT)\"                                     \n",
       " [7] \"Received: from phobos [127.0.0.1]\"                                                                 \n",
       " [8] \"\\tby localhost with IMAP (fetchmail-5.9.0)\"                                                        \n",
       " [9] \"\\tfor zzzz@localhost (single-drop); Thu, 22 Aug 2002 12:36:16 +0100 (IST)\"                         \n",
       "[10] \"Received: from listman.spamassassin.taint.org (listman.spamassassin.taint.org [66.187.233.211]) by\""
      ]
     },
     "metadata": {},
     "output_type": "display_data"
    }
   ],
   "source": [
    "f_data1[1:10]"
   ]
  },
  {
   "cell_type": "code",
   "execution_count": 92,
   "metadata": {
    "collapsed": false
   },
   "outputs": [],
   "source": [
    "e<-f_data1[grepl('From', f_data1)]"
   ]
  },
  {
   "cell_type": "code",
   "execution_count": null,
   "metadata": {
    "collapsed": true
   },
   "outputs": [],
   "source": [
    "E"
   ]
  }
 ],
 "metadata": {
  "kernelspec": {
   "display_name": "R",
   "language": "R",
   "name": "ir"
  },
  "language_info": {
   "codemirror_mode": "r",
   "file_extension": ".r",
   "mimetype": "text/x-r-source",
   "name": "R",
   "pygments_lexer": "r",
   "version": "3.3.2"
  }
 },
 "nbformat": 4,
 "nbformat_minor": 2
}
