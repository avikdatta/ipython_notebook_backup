{
 "cells": [
  {
   "cell_type": "markdown",
   "metadata": {},
   "source": [
    "# Spark stream processing from kafka source"
   ]
  },
  {
   "cell_type": "markdown",
   "metadata": {},
   "source": [
    "I have used following two docker images to setup the kafka stream source and run the saprk streaming jupyter notebook.\n",
    "*  ches/kafka\n",
    "*  avikdatta/sparkjupyterdockerimage\n",
    "\n",
    "### 1. Setup kafka stream source\n",
    "\n",
    "#### A. Create a docker network\n",
    "```bash\n",
    "docker network create kafka-net\n",
    "```\n",
    "\n",
    "#### B. Setup Kafka data stream\n",
    "* Setup zookeeper\n",
    "```bash\n",
    "docker run \\\n",
    " -d \\\n",
    " --name zookeeper \\\n",
    " --network kafka-net zookeeper:3.4\n",
    "```\n",
    "* Create kafka server\n",
    "```bash\n",
    " docker run \\\n",
    "  -d \n",
    "  --name kafka \\\n",
    "  --network kafka-net \\\n",
    "  --env ZOOKEEPER_IP=zookeeper ches/kafka\n",
    "```\n",
    "* Create kafka topic\n",
    "```bash\n",
    " docker run \\\n",
    "  --rm \\\n",
    "  --network kafka-net ches/kafka kafka-topics.sh \\\n",
    "  --create --topic test \\\n",
    "  --replication-factor 1 \\\n",
    "  --partitions 1 \\\n",
    "  --zookeeper zookeeper:2181\n",
    "```"
   ]
  },
  {
   "cell_type": "markdown",
   "metadata": {},
   "source": [
    "### 2. Start data stream source\n",
    "Run the following command from a new terminal.\n",
    "```bash\n",
    " docker run \\\n",
    "  --rm --interactive \\\n",
    "  --network kafka-net ches/kafka \\\n",
    "  kafka-console-producer.sh \\\n",
    "  --topic test \\\n",
    "  --broker-list kafka:9092\n",
    "```\n",
    "Now type new input messages when its running\n",
    "\n",
    "`<Type new message>`"
   ]
  },
  {
   "cell_type": "markdown",
   "metadata": {},
   "source": [
    "### 3.  Start spark jupyter notebook\n",
    "Run following command from another terminal.\n",
    "\n",
    "#### A. Download docker image\n",
    "```bash\n",
    "docker pull avikdatta/sparkjupyterdockerimage\n",
    "```\n",
    "#### B. Start notebook server\n",
    "\n",
    "```bash\n",
    " docker run    \\\n",
    "   --rm  \\\n",
    "   --network kafka-net \\\n",
    "   -d \\\n",
    "   -p 8887:8887 \\\n",
    "   -p 4040:4040 \\\n",
    "   --name spark-client \\\n",
    "   avikdatta/sparkjupyterdockerimage \\\n",
    "   jupyter-notebook \\\n",
    "   --ip=0.0.0.0 \\\n",
    "   --port=8887 \\\n",
    "   --no-browser\n",
    "```\n",
    "#### C. Access notebook server\n",
    "Use following address to connect to notebook server\n",
    "\n",
    "`http://<DOCKER HOST IP ADDRESS>:8887`"
   ]
  },
  {
   "cell_type": "markdown",
   "metadata": {},
   "source": [
    "### 4. Process data stream from notebook\n",
    "Open a new python notebook page and run the following codes."
   ]
  },
  {
   "cell_type": "code",
   "execution_count": 1,
   "metadata": {},
   "outputs": [],
   "source": [
    "import os\n",
    "from pyspark import SparkContext,SparkConf\n",
    "from pyspark.streaming import StreamingContext\n",
    "from pyspark.streaming.kafka import KafkaUtils"
   ]
  },
  {
   "cell_type": "markdown",
   "metadata": {},
   "source": [
    "Set Kafka package information for Spark"
   ]
  },
  {
   "cell_type": "code",
   "execution_count": 2,
   "metadata": {},
   "outputs": [],
   "source": [
    "os.environ['PYSPARK_SUBMIT_ARGS'] = \\\n",
    "'--packages org.apache.spark:spark-streaming-kafka-0-8_2.11:2.0.2 pyspark-shell'"
   ]
  },
  {
   "cell_type": "code",
   "execution_count": 3,
   "metadata": {},
   "outputs": [],
   "source": [
    "sc = SparkContext(\"local[2]\", \"KafkaStream\")\n",
    "sc.setLogLevel(\"WARN\")"
   ]
  },
  {
   "cell_type": "code",
   "execution_count": 4,
   "metadata": {},
   "outputs": [],
   "source": [
    "ssc = StreamingContext(sc, 20)"
   ]
  },
  {
   "cell_type": "code",
   "execution_count": 5,
   "metadata": {},
   "outputs": [],
   "source": [
    "kafkaStream = KafkaUtils.\\\n",
    "              createDirectStream(ssc, \\\n",
    "                                 [\"test\"], \\\n",
    "                                 {\"metadata.broker.list\": 'kafka:9092'})"
   ]
  },
  {
   "cell_type": "markdown",
   "metadata": {},
   "source": [
    "Transform stream data"
   ]
  },
  {
   "cell_type": "code",
   "execution_count": 6,
   "metadata": {},
   "outputs": [],
   "source": [
    "kafkaStream.pprint()"
   ]
  },
  {
   "cell_type": "markdown",
   "metadata": {},
   "source": [
    "Start stream processing"
   ]
  },
  {
   "cell_type": "code",
   "execution_count": 7,
   "metadata": {},
   "outputs": [],
   "source": [
    "ssc.start()\n",
    "ssc.awaitTermination()"
   ]
  },
  {
   "cell_type": "markdown",
   "metadata": {},
   "source": [
    "It will show messages typed in the kafka input stream terminal\n",
    "e.g.\n",
    "\n",
    "```bash\n",
    "[(None, 'hello there')]\n",
    "[(None, 'message from kafka')]\n",
    "```"
   ]
  },
  {
   "cell_type": "markdown",
   "metadata": {},
   "source": [
    "Stop spark context when processing is finished"
   ]
  },
  {
   "cell_type": "code",
   "execution_count": 8,
   "metadata": {},
   "outputs": [],
   "source": [
    "sc.stop()"
   ]
  }
 ],
 "metadata": {
  "kernelspec": {
   "display_name": "Python 3",
   "language": "python",
   "name": "python3"
  },
  "language_info": {
   "codemirror_mode": {
    "name": "ipython",
    "version": 3
   },
   "file_extension": ".py",
   "mimetype": "text/x-python",
   "name": "python",
   "nbconvert_exporter": "python",
   "pygments_lexer": "ipython3",
   "version": "3.5.2"
  }
 },
 "nbformat": 4,
 "nbformat_minor": 2
}
