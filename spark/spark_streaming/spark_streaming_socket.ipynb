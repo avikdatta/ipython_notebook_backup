{
 "cells": [
  {
   "cell_type": "markdown",
   "metadata": {},
   "source": [
    "# Spark streaming using socket"
   ]
  },
  {
   "cell_type": "markdown",
   "metadata": {},
   "source": [
    "### 1. Setup a stream source"
   ]
  },
  {
   "cell_type": "markdown",
   "metadata": {},
   "source": [
    "I used a centos docker image to setup a stream data source."
   ]
  },
  {
   "cell_type": "markdown",
   "metadata": {},
   "source": [
    "#### A. Create a docker network\n",
    "\n",
    "```bash\n",
    "docker network create stream-net\n",
    "```\n",
    "\n",
    "#### B. Use a centos image to install netcat\n",
    "\n",
    "```bash\n",
    "docker run -t centos yum -y install nc\n",
    "```\n",
    "\n",
    "#### C. Save the active container as a new image\n",
    "\n",
    "* Get the docker container id\n",
    "\n",
    "```bash\n",
    "docker ps -a|grep 'yum -y install nc'\n",
    "```\n",
    "\n",
    "* Save as docker image\n",
    "\n",
    "```bash\n",
    "docker commit CONTAINER_ID nc-image\n",
    "```\n",
    "\n",
    "* Kill the active container\n",
    "\n",
    "```bash\n",
    "docker kill CONTAINER_ID\n",
    "```"
   ]
  },
  {
   "cell_type": "markdown",
   "metadata": {},
   "source": [
    "### 2. Start the data stream"
   ]
  },
  {
   "cell_type": "markdown",
   "metadata": {},
   "source": [
    "Start a new container of the new image from a new terminal.\n",
    "\n",
    "```bash\n",
    "docker run \\\n",
    "--rm \\                   # remove container after stop\n",
    "-it \\                    # run it interactively from the terminal\n",
    "-p 9999 \\                # expose port 9999\n",
    "--network stream-net \\   # use the new docker network\n",
    "--name nc-server \\       # assign container name\n",
    "nc-image \\               \n",
    "nc -lk nc-server 9999    # netcat command\n",
    "```\n",
    "\n",
    "Type new messages to the terminal when the netcat command is running.\n",
    "\n",
    "`<Type some text>`"
   ]
  },
  {
   "cell_type": "markdown",
   "metadata": {},
   "source": [
    "### 3. Start spark jupyter notebook"
   ]
  },
  {
   "cell_type": "markdown",
   "metadata": {},
   "source": [
    "I used a docker image to run the jupyter notebook for pyspark. Following commands should be run from a new terminal.\n",
    "\n",
    "#### A. Download jupyter notebook docker image\n",
    "```bash\n",
    "docker pull avikdatta/sparkjupyterdockerimage\n",
    "```\n",
    "#### B. Start jupyter notebook and link it to the stream source \n",
    "```bash\n",
    "docker run    \\\n",
    " --network stream-net \\              # use new docker network\n",
    " --link nc-server:bash \\             # link to the stream source\n",
    " -d \\                                # run in detached mode\n",
    " -p 8887:8887 \\                      # expose port 8887 for notebook\n",
    " -p 4040:4040 \\                      # expose port 4040 for spark ui\n",
    " --name spark-client \\               # name of container\n",
    " avikdatta/sparkjupyterdockerimage \\\n",
    " jupyter-notebook \\\n",
    " --ip=0.0.0.0 \\                      # notebook ip\n",
    " --port=8887 \\                       # notebook port\n",
    " --no-browser                        # run notebook without browser\n",
    "```\n",
    "\n",
    "#### C. Access notebook from a browser\n",
    "Use following network address to connect to the notebook.\n",
    "\n",
    "`http://<DOCKER HOST IP ADDRESS>:8887`\n",
    "    \n",
    "It will connect to the notebook server and ask for password."
   ]
  },
  {
   "cell_type": "markdown",
   "metadata": {},
   "source": [
    "## 4. Process data stream from notebook"
   ]
  },
  {
   "cell_type": "markdown",
   "metadata": {},
   "source": [
    "Open a new notebook page and run following steps."
   ]
  },
  {
   "cell_type": "code",
   "execution_count": 2,
   "metadata": {},
   "outputs": [],
   "source": [
    "# Load pyspark package\n",
    "from pyspark import SparkContext\n",
    "from pyspark.streaming import StreamingContext"
   ]
  },
  {
   "cell_type": "code",
   "execution_count": 3,
   "metadata": {},
   "outputs": [],
   "source": [
    "# Create spark context\n",
    "sc = SparkContext(\"local[2]\", \"NetworkWordCount\")\n",
    "ssc = StreamingContext(sc, 20)"
   ]
  },
  {
   "cell_type": "code",
   "execution_count": 4,
   "metadata": {},
   "outputs": [],
   "source": [
    "# Connect to the stream data source\n",
    "lines = ssc.socketTextStream(\"nc-server\", 9999)"
   ]
  },
  {
   "cell_type": "code",
   "execution_count": 5,
   "metadata": {},
   "outputs": [],
   "source": [
    "# Data transformation using Spark\n",
    "words = lines.flatMap(lambda line: line.split(\" \"))\n",
    "pairs = words.map(lambda word: (word, 1))\n",
    "wordCounts = pairs.reduceByKey(lambda x, y: x + y)\n",
    "wordCounts.pprint()"
   ]
  },
  {
   "cell_type": "code",
   "execution_count": 6,
   "metadata": {},
   "outputs": [],
   "source": [
    "# Start the stream processing\n",
    "ssc.start() \n",
    "ssc.awaitTermination()"
   ]
  },
  {
   "cell_type": "markdown",
   "metadata": {},
   "source": [
    "```\n",
    "-------------------------------------------\n",
    "Time: 2018-02-18 22:47:20\n",
    "-------------------------------------------\n",
    "('systems', 1)\n",
    "('\"one', 1)\n",
    "('in', 2)\n",
    "('is', 1)\n",
    "('world\".', 1)\n",
    "('of', 2)\n",
    "```"
   ]
  },
  {
   "cell_type": "code",
   "execution_count": 8,
   "metadata": {},
   "outputs": [],
   "source": [
    "# Stop streaming and spark context\n",
    "ssc.stop()"
   ]
  },
  {
   "cell_type": "code",
   "execution_count": null,
   "metadata": {},
   "outputs": [],
   "source": []
  }
 ],
 "metadata": {
  "kernelspec": {
   "display_name": "Python 3",
   "language": "python",
   "name": "python3"
  },
  "language_info": {
   "codemirror_mode": {
    "name": "ipython",
    "version": 3
   },
   "file_extension": ".py",
   "mimetype": "text/x-python",
   "name": "python",
   "nbconvert_exporter": "python",
   "pygments_lexer": "ipython3",
   "version": "3.5.2"
  }
 },
 "nbformat": 4,
 "nbformat_minor": 2
}
