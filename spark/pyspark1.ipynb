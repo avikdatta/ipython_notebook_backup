{
 "cells": [
  {
   "cell_type": "code",
   "execution_count": 1,
   "metadata": {
    "collapsed": true
   },
   "outputs": [],
   "source": [
    "from pyspark import SparkConf, SparkContext"
   ]
  },
  {
   "cell_type": "code",
   "execution_count": 2,
   "metadata": {
    "collapsed": true
   },
   "outputs": [],
   "source": [
    "conf=SparkConf().setMaster('yarn-client').setAppName(\"My App\").set('spark.executor.memory','128m').set('spark.memory.fraction','0.1').set('spark.memory.useLegacyMode','true').set('spark.yarn.am.memory','128m')"
   ]
  },
  {
   "cell_type": "code",
   "execution_count": null,
   "metadata": {
    "collapsed": true
   },
   "outputs": [],
   "source": [
    "sc=SparkContext(conf=conf)"
   ]
  },
  {
   "cell_type": "code",
   "execution_count": null,
   "metadata": {
    "collapsed": true
   },
   "outputs": [],
   "source": [
    "ls /root/app"
   ]
  },
  {
   "cell_type": "code",
   "execution_count": null,
   "metadata": {
    "collapsed": true
   },
   "outputs": [],
   "source": [
    "file='/home/pi/app/20160816.data.index'"
   ]
  },
  {
   "cell_type": "code",
   "execution_count": 7,
   "metadata": {
    "collapsed": true
   },
   "outputs": [],
   "source": [
    "lines=sc.textFile(file)"
   ]
  },
  {
   "cell_type": "code",
   "execution_count": 8,
   "metadata": {},
   "outputs": [
    {
     "data": {
      "text/plain": [
       "11278"
      ]
     },
     "execution_count": 8,
     "metadata": {},
     "output_type": "execute_result"
    }
   ],
   "source": [
    "lines.count()"
   ]
  },
  {
   "cell_type": "code",
   "execution_count": 9,
   "metadata": {
    "collapsed": true
   },
   "outputs": [],
   "source": [
    "h3k4me3Lines=lines.filter(lambda line: 'H3K4me3' in line)"
   ]
  },
  {
   "cell_type": "code",
   "execution_count": 10,
   "metadata": {},
   "outputs": [
    {
     "data": {
      "text/plain": [
       "1224"
      ]
     },
     "execution_count": 10,
     "metadata": {},
     "output_type": "execute_result"
    }
   ],
   "source": [
    "h3k4me3Lines.count()"
   ]
  },
  {
   "cell_type": "code",
   "execution_count": 1,
   "metadata": {},
   "outputs": [],
   "source": [
    "#which java"
   ]
  },
  {
   "cell_type": "code",
   "execution_count": 11,
   "metadata": {},
   "outputs": [
    {
     "name": "stdout",
     "output_type": "stream",
     "text": [
      "20160816.data.index  jupyter_spark.sh    scp_cmd\r\n",
      "\u001b[0m\u001b[01;34mbed_dir\u001b[0m/             \u001b[01;32mmapper.py\u001b[0m*          \u001b[01;34mspark-2.0.2-bin-hadoop2.7\u001b[0m/\r\n",
      "bed_peak_mapper.py   \u001b[01;32mmapper.sh\u001b[0m*          spark-2.0.2-bin-hadoop2.7.tgz\r\n",
      "derby.log            \u001b[01;34mmetastore_db\u001b[0m/       t.txt\r\n",
      "\u001b[01;34mgit\u001b[0m/                 mysql_tunnel.sh     t1\r\n",
      "\u001b[01;34mhadoop-2.7.3\u001b[0m/        py_hadoop_data.tar  \u001b[01;34mtest\u001b[0m/\r\n",
      "jupyter_cmd.sh       pyspark1.ipynb\r\n"
     ]
    }
   ],
   "source": [
    "ls /root/app"
   ]
  },
  {
   "cell_type": "code",
   "execution_count": 4,
   "metadata": {
    "collapsed": true
   },
   "outputs": [],
   "source": [
    "import os"
   ]
  },
  {
   "cell_type": "code",
   "execution_count": 9,
   "metadata": {},
   "outputs": [
    {
     "name": "stdout",
     "output_type": "stream",
     "text": [
      "/home/pi/app/hadoop-2.7.3/etc/hadoop/\n"
     ]
    }
   ],
   "source": [
    "print(os.environ['YARN_CONF_DIR'])"
   ]
  },
  {
   "cell_type": "code",
   "execution_count": 8,
   "metadata": {
    "collapsed": true
   },
   "outputs": [],
   "source": [
    "os.environ['YARN_CONF_DIR']='/home/pi/app/hadoop-2.7.3/etc/hadoop/'"
   ]
  },
  {
   "cell_type": "code",
   "execution_count": 26,
   "metadata": {},
   "outputs": [
    {
     "name": "stdout",
     "output_type": "stream",
     "text": [
      "ls: cannot access /root/java: No such file or directory\r\n"
     ]
    }
   ],
   "source": [
    "ll /root/java"
   ]
  },
  {
   "cell_type": "code",
   "execution_count": 27,
   "metadata": {
    "collapsed": true
   },
   "outputs": [],
   "source": [
    "os.environ['JAVA_HOME']='/usr/lib/jvm/jdk-8-oracle-arm32-vfp-hflt'"
   ]
  },
  {
   "cell_type": "code",
   "execution_count": null,
   "metadata": {
    "collapsed": true
   },
   "outputs": [],
   "source": []
  }
 ],
 "metadata": {
  "kernelspec": {
   "display_name": "Python 2",
   "language": "python",
   "name": "python2"
  },
  "language_info": {
   "codemirror_mode": {
    "name": "ipython",
    "version": 2
   },
   "file_extension": ".py",
   "mimetype": "text/x-python",
   "name": "python",
   "nbconvert_exporter": "python",
   "pygments_lexer": "ipython2",
   "version": "2.7.13"
  }
 },
 "nbformat": 4,
 "nbformat_minor": 2
}
