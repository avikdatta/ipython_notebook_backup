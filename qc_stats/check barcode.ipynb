{
 "cells": [
  {
   "cell_type": "code",
   "execution_count": 1,
   "metadata": {},
   "outputs": [],
   "source": [
    "import json\n",
    "import pandas as pd\n",
    "import matplotlib.pyplot as plt\n",
    "import seaborn as sns\n",
    "import numpy as np"
   ]
  },
  {
   "cell_type": "code",
   "execution_count": 2,
   "metadata": {
    "collapsed": true
   },
   "outputs": [],
   "source": [
    "file='Stats/Stats.json'"
   ]
  },
  {
   "cell_type": "code",
   "execution_count": 6,
   "metadata": {
    "collapsed": true
   },
   "outputs": [],
   "source": [
    "def get_dataframe_from_stats_json(json_file):\n",
    "  with open(json_file,'r') as json_data:\n",
    "    json_stats=json.load(json_data)\n",
    "  \n",
    "  data1=list()\n",
    "    \n",
    "  total_read=None\n",
    "  for row in json_stats['ConversionResults']:\n",
    "    lane=row['LaneNumber']\n",
    "    total_read=row['TotalClustersPF']\n",
    "    for sample in row['DemuxResults']:\n",
    "        sample_id=sample['SampleId']\n",
    "        number_reads=sample['NumberReads']\n",
    "        for index in sample['IndexMetrics']:\n",
    "            index_seq=index['IndexSequence']\n",
    "            data1.append({'lane':lane,'sample':sample_id,'index':index_seq,'reads':number_reads})\n",
    "  df1=pd.DataFrame(data1)\n",
    "  df1=df1.sort_values(['reads'],ascending=True).head(30)\n",
    "  \n",
    "  data2=list()\n",
    "  for row in json_stats['UnknownBarcodes']:\n",
    "    lane=row['Lane']\n",
    "    max_index=10\n",
    "    index_count=0\n",
    "    for barcode,count in sorted(row['Barcodes'].items(), key=lambda x: x[1], reverse=True):\n",
    "      index_count +=1\n",
    "      if index_count < max_index:\n",
    "        data2.append({'lane':lane,'sample':'undetermined','index':barcode,'reads':count})     \n",
    "        \n",
    "  df2=pd.DataFrame(data2)\n",
    "  df=pd.concat([df1,df2])\n",
    "  df['mapping_ratio']=df['reads'].map(lambda x: x/total_read)\n",
    "  return df"
   ]
  },
  {
   "cell_type": "code",
   "execution_count": 7,
   "metadata": {
    "collapsed": true
   },
   "outputs": [],
   "source": [
    "data=get_dataframe_from_stats_json(json_file=file)"
   ]
  },
  {
   "cell_type": "code",
   "execution_count": 8,
   "metadata": {},
   "outputs": [
    {
     "data": {
      "text/html": [
       "<div>\n",
       "<style>\n",
       "    .dataframe thead tr:only-child th {\n",
       "        text-align: right;\n",
       "    }\n",
       "\n",
       "    .dataframe thead th {\n",
       "        text-align: left;\n",
       "    }\n",
       "\n",
       "    .dataframe tbody tr th {\n",
       "        vertical-align: top;\n",
       "    }\n",
       "</style>\n",
       "<table border=\"1\" class=\"dataframe\">\n",
       "  <thead>\n",
       "    <tr style=\"text-align: right;\">\n",
       "      <th></th>\n",
       "      <th>index</th>\n",
       "      <th>lane</th>\n",
       "      <th>reads</th>\n",
       "      <th>sample</th>\n",
       "      <th>mapping_ratio</th>\n",
       "    </tr>\n",
       "  </thead>\n",
       "  <tbody>\n",
       "    <tr>\n",
       "      <th>0</th>\n",
       "      <td>ACATCGAT</td>\n",
       "      <td>4</td>\n",
       "      <td>2874146</td>\n",
       "      <td>IGF0009189_1</td>\n",
       "      <td>0.065216</td>\n",
       "    </tr>\n",
       "    <tr>\n",
       "      <th>2</th>\n",
       "      <td>GATCTGAT</td>\n",
       "      <td>4</td>\n",
       "      <td>3050135</td>\n",
       "      <td>IGF0009189_3</td>\n",
       "      <td>0.069209</td>\n",
       "    </tr>\n",
       "    <tr>\n",
       "      <th>1</th>\n",
       "      <td>ATTGGCAT</td>\n",
       "      <td>4</td>\n",
       "      <td>3209658</td>\n",
       "      <td>IGF0009189_2</td>\n",
       "      <td>0.072829</td>\n",
       "    </tr>\n",
       "    <tr>\n",
       "      <th>3</th>\n",
       "      <td>TACAAGAT</td>\n",
       "      <td>4</td>\n",
       "      <td>3275797</td>\n",
       "      <td>IGF0009189_4</td>\n",
       "      <td>0.074330</td>\n",
       "    </tr>\n",
       "    <tr>\n",
       "      <th>4</th>\n",
       "      <td>TTTCACAT</td>\n",
       "      <td>4</td>\n",
       "      <td>3986532</td>\n",
       "      <td>IGF0009189_5</td>\n",
       "      <td>0.090457</td>\n",
       "    </tr>\n",
       "    <tr>\n",
       "      <th>0</th>\n",
       "      <td>GTATGCCG</td>\n",
       "      <td>4</td>\n",
       "      <td>26401420</td>\n",
       "      <td>undetermined</td>\n",
       "      <td>0.599064</td>\n",
       "    </tr>\n",
       "    <tr>\n",
       "      <th>1</th>\n",
       "      <td>GTATGCCC</td>\n",
       "      <td>4</td>\n",
       "      <td>260378</td>\n",
       "      <td>undetermined</td>\n",
       "      <td>0.005908</td>\n",
       "    </tr>\n",
       "    <tr>\n",
       "      <th>2</th>\n",
       "      <td>CCCCCCCC</td>\n",
       "      <td>4</td>\n",
       "      <td>98736</td>\n",
       "      <td>undetermined</td>\n",
       "      <td>0.002240</td>\n",
       "    </tr>\n",
       "    <tr>\n",
       "      <th>3</th>\n",
       "      <td>GTATGTCG</td>\n",
       "      <td>4</td>\n",
       "      <td>47132</td>\n",
       "      <td>undetermined</td>\n",
       "      <td>0.001069</td>\n",
       "    </tr>\n",
       "    <tr>\n",
       "      <th>4</th>\n",
       "      <td>GTATGACG</td>\n",
       "      <td>4</td>\n",
       "      <td>46667</td>\n",
       "      <td>undetermined</td>\n",
       "      <td>0.001059</td>\n",
       "    </tr>\n",
       "    <tr>\n",
       "      <th>5</th>\n",
       "      <td>NTATGCCG</td>\n",
       "      <td>4</td>\n",
       "      <td>44789</td>\n",
       "      <td>undetermined</td>\n",
       "      <td>0.001016</td>\n",
       "    </tr>\n",
       "    <tr>\n",
       "      <th>6</th>\n",
       "      <td>GTATTCCG</td>\n",
       "      <td>4</td>\n",
       "      <td>42086</td>\n",
       "      <td>undetermined</td>\n",
       "      <td>0.000955</td>\n",
       "    </tr>\n",
       "    <tr>\n",
       "      <th>7</th>\n",
       "      <td>GTATCCCG</td>\n",
       "      <td>4</td>\n",
       "      <td>41504</td>\n",
       "      <td>undetermined</td>\n",
       "      <td>0.000942</td>\n",
       "    </tr>\n",
       "    <tr>\n",
       "      <th>8</th>\n",
       "      <td>TTATGCCG</td>\n",
       "      <td>4</td>\n",
       "      <td>26457</td>\n",
       "      <td>undetermined</td>\n",
       "      <td>0.000600</td>\n",
       "    </tr>\n",
       "  </tbody>\n",
       "</table>\n",
       "</div>"
      ],
      "text/plain": [
       "      index  lane     reads        sample  mapping_ratio\n",
       "0  ACATCGAT     4   2874146  IGF0009189_1       0.065216\n",
       "2  GATCTGAT     4   3050135  IGF0009189_3       0.069209\n",
       "1  ATTGGCAT     4   3209658  IGF0009189_2       0.072829\n",
       "3  TACAAGAT     4   3275797  IGF0009189_4       0.074330\n",
       "4  TTTCACAT     4   3986532  IGF0009189_5       0.090457\n",
       "0  GTATGCCG     4  26401420  undetermined       0.599064\n",
       "1  GTATGCCC     4    260378  undetermined       0.005908\n",
       "2  CCCCCCCC     4     98736  undetermined       0.002240\n",
       "3  GTATGTCG     4     47132  undetermined       0.001069\n",
       "4  GTATGACG     4     46667  undetermined       0.001059\n",
       "5  NTATGCCG     4     44789  undetermined       0.001016\n",
       "6  GTATTCCG     4     42086  undetermined       0.000955\n",
       "7  GTATCCCG     4     41504  undetermined       0.000942\n",
       "8  TTATGCCG     4     26457  undetermined       0.000600"
      ]
     },
     "execution_count": 8,
     "metadata": {},
     "output_type": "execute_result"
    }
   ],
   "source": [
    "data"
   ]
  },
  {
   "cell_type": "code",
   "execution_count": 9,
   "metadata": {},
   "outputs": [
    {
     "data": {
      "image/png": "[encoded data removed]",
      "text/plain": [
       "<matplotlib.figure.Figure at 0x7ff0d9c5dd30>"
      ]
     },
     "metadata": {},
     "output_type": "display_data"
    }
   ],
   "source": [
    "fig, ax=plt.subplots()\n",
    "ax=sns.barplot(data=data, x='index',y='mapping_ratio',hue='sample')\n",
    "labels=ax.set_xticklabels(data['sample'],rotation=90)\n",
    "plt.show()"
   ]
  },
  {
   "cell_type": "code",
   "execution_count": 10,
   "metadata": {
    "collapsed": true
   },
   "outputs": [],
   "source": [
    "data=get_dataframe_from_stats_json(json_file='atanur_Stats.json')"
   ]
  },
  {
   "cell_type": "code",
   "execution_count": 11,
   "metadata": {},
   "outputs": [
    {
     "data": {
      "image/png": "[encoded data removed]",
      "text/plain": [
       "<matplotlib.figure.Figure at 0x7ff0d753ddd8>"
      ]
     },
     "metadata": {},
     "output_type": "display_data"
    }
   ],
   "source": [
    "fig, ax=plt.subplots()\n",
    "ax=sns.barplot(data=data, x='index',y='mapping_ratio',hue='sample')\n",
    "labels=ax.set_xticklabels(data['sample'],rotation=90)\n",
    "plt.show()"
   ]
  },
  {
   "cell_type": "code",
   "execution_count": 12,
   "metadata": {
    "collapsed": true
   },
   "outputs": [],
   "source": [
    "data=get_dataframe_from_stats_json(json_file='fisher_6-7-2017_amplicon_Stats.json')"
   ]
  },
  {
   "cell_type": "code",
   "execution_count": 15,
   "metadata": {},
   "outputs": [],
   "source": [
    "#data"
   ]
  },
  {
   "cell_type": "code",
   "execution_count": 14,
   "metadata": {},
   "outputs": [
    {
     "data": {
      "image/png": "[encoded data removed]",
      "text/plain": [
       "<matplotlib.figure.Figure at 0x7ff0d753d3c8>"
      ]
     },
     "metadata": {},
     "output_type": "display_data"
    }
   ],
   "source": [
    "fig, ax=plt.subplots()\n",
    "ax=sns.barplot(data=data, x='index',y='mapping_ratio',hue='sample')\n",
    "labels=ax.set_xticklabels(data['sample'],rotation=90)\n",
    "plt.show()"
   ]
  },
  {
   "cell_type": "code",
   "execution_count": 199,
   "metadata": {},
   "outputs": [],
   "source": [
    "def get_dataframe_from_stats_json(json_file):\n",
    "  with open(json_file,'r') as json_data:\n",
    "    json_stats=json.load(json_data)\n",
    "  \n",
    "  data1=list()\n",
    "  runid=json_stats['RunId']  \n",
    "  total_read=None\n",
    "  for row in json_stats['ConversionResults']:\n",
    "    lane=row['LaneNumber']\n",
    "    total_read=row['TotalClustersPF']\n",
    "    for sample in row['DemuxResults']:\n",
    "        sample_id=sample['SampleId']\n",
    "        number_reads=sample['NumberReads']\n",
    "        for index in sample['IndexMetrics']:\n",
    "            index_seq=index['IndexSequence']\n",
    "            data1.append({'lane':lane,\n",
    "                          'sample':sample_id,\n",
    "                          'index':index_seq,\n",
    "                          'reads':number_reads,\n",
    "                          'tag':'known',\n",
    "                          'runid':runid,\n",
    "                          'total_read':total_read})\n",
    "  df1=pd.DataFrame(data1)\n",
    "  df1=df1.sort_values(['reads'],ascending=True)\n",
    "  \n",
    "  data2=list()\n",
    "  for row in json_stats['UnknownBarcodes']:\n",
    "    lane=row['Lane']\n",
    "    max_index=10\n",
    "    index_count=0\n",
    "    for barcode,count in sorted(row['Barcodes'].items(), key=lambda x: x[1], reverse=True):\n",
    "        data2.append({'lane':lane,\n",
    "                      'sample':'undetermined',\n",
    "                      'index':barcode,\n",
    "                      'reads':count,\n",
    "                      'tag':'unknown',\n",
    "                      'runid':runid,\n",
    "                      'total_read':total_read})     \n",
    "        \n",
    "  df2=pd.DataFrame(data2)\n",
    "  df=pd.concat([df1,df2])\n",
    "  df['mapping_ratio']=df['reads'].map(lambda x: x/total_read)\n",
    "  return df"
   ]
  },
  {
   "cell_type": "code",
   "execution_count": 200,
   "metadata": {},
   "outputs": [],
   "source": [
    "data1=get_dataframe_from_stats_json(json_file='../../test_dir/stats_parsing/atanur_3-7-2017_starr_Stats.json')"
   ]
  },
  {
   "cell_type": "code",
   "execution_count": 201,
   "metadata": {},
   "outputs": [],
   "source": [
    "data2=get_dataframe_from_stats_json(json_file='../../test_dir/stats_parsing/ferrer_10-8-2017_CRISPR_4_8_Stats.json')"
   ]
  },
  {
   "cell_type": "code",
   "execution_count": 202,
   "metadata": {},
   "outputs": [],
   "source": [
    "data3=get_dataframe_from_stats_json(json_file='../../test_dir/stats_parsing/fisher_6-7-2017_amplicon_1_16_Stats.json')"
   ]
  },
  {
   "cell_type": "code",
   "execution_count": 203,
   "metadata": {},
   "outputs": [],
   "source": [
    "data=pd.concat([data1,data2,data3])"
   ]
  },
  {
   "cell_type": "code",
   "execution_count": 204,
   "metadata": {},
   "outputs": [
    {
     "data": {
      "text/html": [
       "<div>\n",
       "<style>\n",
       "    .dataframe thead tr:only-child th {\n",
       "        text-align: right;\n",
       "    }\n",
       "\n",
       "    .dataframe thead th {\n",
       "        text-align: left;\n",
       "    }\n",
       "\n",
       "    .dataframe tbody tr th {\n",
       "        vertical-align: top;\n",
       "    }\n",
       "</style>\n",
       "<table border=\"1\" class=\"dataframe\">\n",
       "  <thead>\n",
       "    <tr style=\"text-align: right;\">\n",
       "      <th></th>\n",
       "      <th>index</th>\n",
       "      <th>lane</th>\n",
       "      <th>reads</th>\n",
       "      <th>runid</th>\n",
       "      <th>sample</th>\n",
       "      <th>tag</th>\n",
       "      <th>total_read</th>\n",
       "      <th>mapping_ratio</th>\n",
       "    </tr>\n",
       "  </thead>\n",
       "  <tbody>\n",
       "    <tr>\n",
       "      <th>4</th>\n",
       "      <td>ACTTGA</td>\n",
       "      <td>6</td>\n",
       "      <td>64015463</td>\n",
       "      <td>170908_K00345_0020_AHJMN5BBXX</td>\n",
       "      <td>IGF0008601_5</td>\n",
       "      <td>known</td>\n",
       "      <td>413800538</td>\n",
       "      <td>0.154701</td>\n",
       "    </tr>\n",
       "    <tr>\n",
       "      <th>3</th>\n",
       "      <td>GCCAAT</td>\n",
       "      <td>6</td>\n",
       "      <td>66220700</td>\n",
       "      <td>170908_K00345_0020_AHJMN5BBXX</td>\n",
       "      <td>IGF0008601_4</td>\n",
       "      <td>known</td>\n",
       "      <td>413800538</td>\n",
       "      <td>0.160030</td>\n",
       "    </tr>\n",
       "    <tr>\n",
       "      <th>2</th>\n",
       "      <td>ACAGTG</td>\n",
       "      <td>6</td>\n",
       "      <td>76514482</td>\n",
       "      <td>170908_K00345_0020_AHJMN5BBXX</td>\n",
       "      <td>IGF0008601_3</td>\n",
       "      <td>known</td>\n",
       "      <td>413800538</td>\n",
       "      <td>0.184907</td>\n",
       "    </tr>\n",
       "    <tr>\n",
       "      <th>1</th>\n",
       "      <td>TGACCA</td>\n",
       "      <td>6</td>\n",
       "      <td>95437540</td>\n",
       "      <td>170908_K00345_0020_AHJMN5BBXX</td>\n",
       "      <td>IGF0008601_2</td>\n",
       "      <td>known</td>\n",
       "      <td>413800538</td>\n",
       "      <td>0.230637</td>\n",
       "    </tr>\n",
       "    <tr>\n",
       "      <th>0</th>\n",
       "      <td>CGATGT</td>\n",
       "      <td>6</td>\n",
       "      <td>99450906</td>\n",
       "      <td>170908_K00345_0020_AHJMN5BBXX</td>\n",
       "      <td>IGF0008601_1</td>\n",
       "      <td>known</td>\n",
       "      <td>413800538</td>\n",
       "      <td>0.240335</td>\n",
       "    </tr>\n",
       "  </tbody>\n",
       "</table>\n",
       "</div>"
      ],
      "text/plain": [
       "    index  lane     reads                          runid        sample    tag  \\\n",
       "4  ACTTGA     6  64015463  170908_K00345_0020_AHJMN5BBXX  IGF0008601_5  known   \n",
       "3  GCCAAT     6  66220700  170908_K00345_0020_AHJMN5BBXX  IGF0008601_4  known   \n",
       "2  ACAGTG     6  76514482  170908_K00345_0020_AHJMN5BBXX  IGF0008601_3  known   \n",
       "1  TGACCA     6  95437540  170908_K00345_0020_AHJMN5BBXX  IGF0008601_2  known   \n",
       "0  CGATGT     6  99450906  170908_K00345_0020_AHJMN5BBXX  IGF0008601_1  known   \n",
       "\n",
       "   total_read  mapping_ratio  \n",
       "4   413800538       0.154701  \n",
       "3   413800538       0.160030  \n",
       "2   413800538       0.184907  \n",
       "1   413800538       0.230637  \n",
       "0   413800538       0.240335  "
      ]
     },
     "execution_count": 204,
     "metadata": {},
     "output_type": "execute_result"
    }
   ],
   "source": [
    "data.head()"
   ]
  },
  {
   "cell_type": "code",
   "execution_count": 179,
   "metadata": {},
   "outputs": [],
   "source": [
    "summary_df=data.pivot_table(values=['reads'],index=['tag','lane','runid'],aggfunc=np.sum)"
   ]
  },
  {
   "cell_type": "code",
   "execution_count": 180,
   "metadata": {},
   "outputs": [
    {
     "data": {
      "text/html": [
       "<div>\n",
       "<style>\n",
       "    .dataframe thead tr:only-child th {\n",
       "        text-align: right;\n",
       "    }\n",
       "\n",
       "    .dataframe thead th {\n",
       "        text-align: left;\n",
       "    }\n",
       "\n",
       "    .dataframe tbody tr th {\n",
       "        vertical-align: top;\n",
       "    }\n",
       "</style>\n",
       "<table border=\"1\" class=\"dataframe\">\n",
       "  <thead>\n",
       "    <tr style=\"text-align: right;\">\n",
       "      <th></th>\n",
       "      <th></th>\n",
       "      <th></th>\n",
       "      <th>reads</th>\n",
       "    </tr>\n",
       "    <tr>\n",
       "      <th>tag</th>\n",
       "      <th>lane</th>\n",
       "      <th>runid</th>\n",
       "      <th></th>\n",
       "    </tr>\n",
       "  </thead>\n",
       "  <tbody>\n",
       "    <tr>\n",
       "      <th rowspan=\"3\" valign=\"top\">known</th>\n",
       "      <th>1</th>\n",
       "      <th>170714_M03291_0074_000000000-AV4VF</th>\n",
       "      <td>11652742</td>\n",
       "    </tr>\n",
       "    <tr>\n",
       "      <th>4</th>\n",
       "      <th>170908_K00345_0020_AHJMN5BBXX</th>\n",
       "      <td>16396268</td>\n",
       "    </tr>\n",
       "    <tr>\n",
       "      <th>6</th>\n",
       "      <th>170908_K00345_0020_AHJMN5BBXX</th>\n",
       "      <td>401639091</td>\n",
       "    </tr>\n",
       "    <tr>\n",
       "      <th rowspan=\"3\" valign=\"top\">unknown</th>\n",
       "      <th>1</th>\n",
       "      <th>170714_M03291_0074_000000000-AV4VF</th>\n",
       "      <td>958479</td>\n",
       "    </tr>\n",
       "    <tr>\n",
       "      <th>4</th>\n",
       "      <th>170908_K00345_0020_AHJMN5BBXX</th>\n",
       "      <td>27595744</td>\n",
       "    </tr>\n",
       "    <tr>\n",
       "      <th>6</th>\n",
       "      <th>170908_K00345_0020_AHJMN5BBXX</th>\n",
       "      <td>12105689</td>\n",
       "    </tr>\n",
       "  </tbody>\n",
       "</table>\n",
       "</div>"
      ],
      "text/plain": [
       "                                                     reads\n",
       "tag     lane runid                                        \n",
       "known   1    170714_M03291_0074_000000000-AV4VF   11652742\n",
       "        4    170908_K00345_0020_AHJMN5BBXX        16396268\n",
       "        6    170908_K00345_0020_AHJMN5BBXX       401639091\n",
       "unknown 1    170714_M03291_0074_000000000-AV4VF     958479\n",
       "        4    170908_K00345_0020_AHJMN5BBXX        27595744\n",
       "        6    170908_K00345_0020_AHJMN5BBXX        12105689"
      ]
     },
     "execution_count": 180,
     "metadata": {},
     "output_type": "execute_result"
    }
   ],
   "source": [
    "summary_df"
   ]
  },
  {
   "cell_type": "code",
   "execution_count": 181,
   "metadata": {},
   "outputs": [],
   "source": [
    "processed_df=pd.DataFrame(columns=['id','known_read','unknown_read'])"
   ]
  },
  {
   "cell_type": "code",
   "execution_count": 182,
   "metadata": {},
   "outputs": [
    {
     "data": {
      "text/html": [
       "<div>\n",
       "<style>\n",
       "    .dataframe thead tr:only-child th {\n",
       "        text-align: right;\n",
       "    }\n",
       "\n",
       "    .dataframe thead th {\n",
       "        text-align: left;\n",
       "    }\n",
       "\n",
       "    .dataframe tbody tr th {\n",
       "        vertical-align: top;\n",
       "    }\n",
       "</style>\n",
       "<table border=\"1\" class=\"dataframe\">\n",
       "  <thead>\n",
       "    <tr style=\"text-align: right;\">\n",
       "      <th></th>\n",
       "      <th>id</th>\n",
       "      <th>known_read</th>\n",
       "      <th>unknown_read</th>\n",
       "    </tr>\n",
       "  </thead>\n",
       "  <tbody>\n",
       "  </tbody>\n",
       "</table>\n",
       "</div>"
      ],
      "text/plain": [
       "Empty DataFrame\n",
       "Columns: [id, known_read, unknown_read]\n",
       "Index: []"
      ]
     },
     "execution_count": 182,
     "metadata": {},
     "output_type": "execute_result"
    }
   ],
   "source": [
    "processed_df"
   ]
  },
  {
   "cell_type": "code",
   "execution_count": 183,
   "metadata": {},
   "outputs": [],
   "source": [
    "for rid, rg in summary_df.groupby('runid'):\n",
    "    for lid, lg in rg.groupby('lane'):\n",
    "        known_reads=lg.loc['known']['reads'].values[0]\n",
    "        unknown_reads=lg.loc['unknown']['reads'].values[0]\n",
    "        runid='{0}_{1}'.format(rid, lid)\n",
    "        df=pd.DataFrame([{'id':runid,'known_read':known_reads,'unknown_read':unknown_reads}])\n",
    "        processed_df=pd.concat([df,processed_df])"
   ]
  },
  {
   "cell_type": "code",
   "execution_count": 184,
   "metadata": {},
   "outputs": [],
   "source": [
    "def generate_pct(x):\n",
    "    known_read=int(x['known_read'])\n",
    "    unknown_read=int(x['unknown_read'])\n",
    "    known_pct=(known_read/(known_read+unknown_read))*100\n",
    "    x['known_pct']=known_pct\n",
    "    unknown_pct=(unknown_read/(known_read+unknown_read))*100\n",
    "    x['unknown_pct']=unknown_pct\n",
    "    return x"
   ]
  },
  {
   "cell_type": "code",
   "execution_count": 185,
   "metadata": {},
   "outputs": [
    {
     "data": {
      "text/html": [
       "<div>\n",
       "<style>\n",
       "    .dataframe thead tr:only-child th {\n",
       "        text-align: right;\n",
       "    }\n",
       "\n",
       "    .dataframe thead th {\n",
       "        text-align: left;\n",
       "    }\n",
       "\n",
       "    .dataframe tbody tr th {\n",
       "        vertical-align: top;\n",
       "    }\n",
       "</style>\n",
       "<table border=\"1\" class=\"dataframe\">\n",
       "  <thead>\n",
       "    <tr style=\"text-align: right;\">\n",
       "      <th></th>\n",
       "      <th>id</th>\n",
       "      <th>known_read</th>\n",
       "      <th>unknown_read</th>\n",
       "    </tr>\n",
       "  </thead>\n",
       "  <tbody>\n",
       "    <tr>\n",
       "      <th>0</th>\n",
       "      <td>170908_K00345_0020_AHJMN5BBXX_6</td>\n",
       "      <td>401639091</td>\n",
       "      <td>12105689</td>\n",
       "    </tr>\n",
       "    <tr>\n",
       "      <th>0</th>\n",
       "      <td>170908_K00345_0020_AHJMN5BBXX_4</td>\n",
       "      <td>16396268</td>\n",
       "      <td>27595744</td>\n",
       "    </tr>\n",
       "    <tr>\n",
       "      <th>0</th>\n",
       "      <td>170714_M03291_0074_000000000-AV4VF_1</td>\n",
       "      <td>11652742</td>\n",
       "      <td>958479</td>\n",
       "    </tr>\n",
       "  </tbody>\n",
       "</table>\n",
       "</div>"
      ],
      "text/plain": [
       "                                     id known_read unknown_read\n",
       "0       170908_K00345_0020_AHJMN5BBXX_6  401639091     12105689\n",
       "0       170908_K00345_0020_AHJMN5BBXX_4   16396268     27595744\n",
       "0  170714_M03291_0074_000000000-AV4VF_1   11652742       958479"
      ]
     },
     "execution_count": 185,
     "metadata": {},
     "output_type": "execute_result"
    }
   ],
   "source": [
    "processed_df"
   ]
  },
  {
   "cell_type": "code",
   "execution_count": 186,
   "metadata": {},
   "outputs": [],
   "source": [
    "processed_df=processed_df.apply(lambda x: generate_pct(x), axis=1)"
   ]
  },
  {
   "cell_type": "code",
   "execution_count": 187,
   "metadata": {},
   "outputs": [
    {
     "data": {
      "text/html": [
       "<div>\n",
       "<style>\n",
       "    .dataframe thead tr:only-child th {\n",
       "        text-align: right;\n",
       "    }\n",
       "\n",
       "    .dataframe thead th {\n",
       "        text-align: left;\n",
       "    }\n",
       "\n",
       "    .dataframe tbody tr th {\n",
       "        vertical-align: top;\n",
       "    }\n",
       "</style>\n",
       "<table border=\"1\" class=\"dataframe\">\n",
       "  <thead>\n",
       "    <tr style=\"text-align: right;\">\n",
       "      <th></th>\n",
       "      <th>id</th>\n",
       "      <th>known_read</th>\n",
       "      <th>unknown_read</th>\n",
       "      <th>known_pct</th>\n",
       "      <th>unknown_pct</th>\n",
       "    </tr>\n",
       "  </thead>\n",
       "  <tbody>\n",
       "    <tr>\n",
       "      <th>0</th>\n",
       "      <td>170908_K00345_0020_AHJMN5BBXX_6</td>\n",
       "      <td>401639091</td>\n",
       "      <td>12105689</td>\n",
       "      <td>97.074117</td>\n",
       "      <td>2.925883</td>\n",
       "    </tr>\n",
       "    <tr>\n",
       "      <th>0</th>\n",
       "      <td>170908_K00345_0020_AHJMN5BBXX_4</td>\n",
       "      <td>16396268</td>\n",
       "      <td>27595744</td>\n",
       "      <td>37.271012</td>\n",
       "      <td>62.728988</td>\n",
       "    </tr>\n",
       "    <tr>\n",
       "      <th>0</th>\n",
       "      <td>170714_M03291_0074_000000000-AV4VF_1</td>\n",
       "      <td>11652742</td>\n",
       "      <td>958479</td>\n",
       "      <td>92.399792</td>\n",
       "      <td>7.600208</td>\n",
       "    </tr>\n",
       "  </tbody>\n",
       "</table>\n",
       "</div>"
      ],
      "text/plain": [
       "                                     id  known_read  unknown_read  known_pct  \\\n",
       "0       170908_K00345_0020_AHJMN5BBXX_6   401639091      12105689  97.074117   \n",
       "0       170908_K00345_0020_AHJMN5BBXX_4    16396268      27595744  37.271012   \n",
       "0  170714_M03291_0074_000000000-AV4VF_1    11652742        958479  92.399792   \n",
       "\n",
       "   unknown_pct  \n",
       "0     2.925883  \n",
       "0    62.728988  \n",
       "0     7.600208  "
      ]
     },
     "execution_count": 187,
     "metadata": {},
     "output_type": "execute_result"
    }
   ],
   "source": [
    "processed_df"
   ]
  },
  {
   "cell_type": "code",
   "execution_count": 188,
   "metadata": {},
   "outputs": [],
   "source": [
    "processed_df=processed_df.set_index('id')"
   ]
  },
  {
   "cell_type": "code",
   "execution_count": 189,
   "metadata": {},
   "outputs": [],
   "source": [
    "fig, ax=plt.subplots()"
   ]
  },
  {
   "cell_type": "code",
   "execution_count": 190,
   "metadata": {},
   "outputs": [
    {
     "data": {
      "text/plain": [
       "<matplotlib.axes._subplots.AxesSubplot at 0x7f36cf4c6710>"
      ]
     },
     "execution_count": 190,
     "metadata": {},
     "output_type": "execute_result"
    }
   ],
   "source": [
    "processed_df[['known_pct','unknown_pct']].plot(ax=ax,kind='bar',stacked=True)"
   ]
  },
  {
   "cell_type": "code",
   "execution_count": 191,
   "metadata": {},
   "outputs": [
    {
     "data": {
      "image/png": "[encoded data removed]",
      "text/plain": [
       "<matplotlib.figure.Figure at 0x7f36cf4bccf8>"
      ]
     },
     "metadata": {},
     "output_type": "display_data"
    }
   ],
   "source": [
    "plt.show()"
   ]
  },
  {
   "cell_type": "code",
   "execution_count": 192,
   "metadata": {},
   "outputs": [],
   "source": [
    "import math"
   ]
  },
  {
   "cell_type": "code",
   "execution_count": 194,
   "metadata": {},
   "outputs": [
    {
     "data": {
      "text/plain": [
       "25.931917095869373"
      ]
     },
     "execution_count": 194,
     "metadata": {},
     "output_type": "execute_result"
    }
   ],
   "source": [
    "math.log2(64015463)"
   ]
  },
  {
   "cell_type": "code",
   "execution_count": 198,
   "metadata": {},
   "outputs": [
    {
     "data": {
      "text/plain": [
       "-2.692445572370756"
      ]
     },
     "execution_count": 198,
     "metadata": {},
     "output_type": "execute_result"
    }
   ],
   "source": [
    "math.log2(0.154701)"
   ]
  },
  {
   "cell_type": "code",
   "execution_count": 206,
   "metadata": {},
   "outputs": [],
   "source": [
    "data['log_total_read']=data['total_read'].map(lambda x: math.log2(x))"
   ]
  },
  {
   "cell_type": "code",
   "execution_count": 207,
   "metadata": {},
   "outputs": [
    {
     "data": {
      "text/html": [
       "<div>\n",
       "<style>\n",
       "    .dataframe thead tr:only-child th {\n",
       "        text-align: right;\n",
       "    }\n",
       "\n",
       "    .dataframe thead th {\n",
       "        text-align: left;\n",
       "    }\n",
       "\n",
       "    .dataframe tbody tr th {\n",
       "        vertical-align: top;\n",
       "    }\n",
       "</style>\n",
       "<table border=\"1\" class=\"dataframe\">\n",
       "  <thead>\n",
       "    <tr style=\"text-align: right;\">\n",
       "      <th></th>\n",
       "      <th>index</th>\n",
       "      <th>lane</th>\n",
       "      <th>reads</th>\n",
       "      <th>runid</th>\n",
       "      <th>sample</th>\n",
       "      <th>tag</th>\n",
       "      <th>total_read</th>\n",
       "      <th>mapping_ratio</th>\n",
       "      <th>log_total_read</th>\n",
       "    </tr>\n",
       "  </thead>\n",
       "  <tbody>\n",
       "    <tr>\n",
       "      <th>4</th>\n",
       "      <td>ACTTGA</td>\n",
       "      <td>6</td>\n",
       "      <td>64015463</td>\n",
       "      <td>170908_K00345_0020_AHJMN5BBXX</td>\n",
       "      <td>IGF0008601_5</td>\n",
       "      <td>known</td>\n",
       "      <td>413800538</td>\n",
       "      <td>0.154701</td>\n",
       "      <td>28.62436</td>\n",
       "    </tr>\n",
       "    <tr>\n",
       "      <th>3</th>\n",
       "      <td>GCCAAT</td>\n",
       "      <td>6</td>\n",
       "      <td>66220700</td>\n",
       "      <td>170908_K00345_0020_AHJMN5BBXX</td>\n",
       "      <td>IGF0008601_4</td>\n",
       "      <td>known</td>\n",
       "      <td>413800538</td>\n",
       "      <td>0.160030</td>\n",
       "      <td>28.62436</td>\n",
       "    </tr>\n",
       "    <tr>\n",
       "      <th>2</th>\n",
       "      <td>ACAGTG</td>\n",
       "      <td>6</td>\n",
       "      <td>76514482</td>\n",
       "      <td>170908_K00345_0020_AHJMN5BBXX</td>\n",
       "      <td>IGF0008601_3</td>\n",
       "      <td>known</td>\n",
       "      <td>413800538</td>\n",
       "      <td>0.184907</td>\n",
       "      <td>28.62436</td>\n",
       "    </tr>\n",
       "    <tr>\n",
       "      <th>1</th>\n",
       "      <td>TGACCA</td>\n",
       "      <td>6</td>\n",
       "      <td>95437540</td>\n",
       "      <td>170908_K00345_0020_AHJMN5BBXX</td>\n",
       "      <td>IGF0008601_2</td>\n",
       "      <td>known</td>\n",
       "      <td>413800538</td>\n",
       "      <td>0.230637</td>\n",
       "      <td>28.62436</td>\n",
       "    </tr>\n",
       "    <tr>\n",
       "      <th>0</th>\n",
       "      <td>CGATGT</td>\n",
       "      <td>6</td>\n",
       "      <td>99450906</td>\n",
       "      <td>170908_K00345_0020_AHJMN5BBXX</td>\n",
       "      <td>IGF0008601_1</td>\n",
       "      <td>known</td>\n",
       "      <td>413800538</td>\n",
       "      <td>0.240335</td>\n",
       "      <td>28.62436</td>\n",
       "    </tr>\n",
       "  </tbody>\n",
       "</table>\n",
       "</div>"
      ],
      "text/plain": [
       "    index  lane     reads                          runid        sample    tag  \\\n",
       "4  ACTTGA     6  64015463  170908_K00345_0020_AHJMN5BBXX  IGF0008601_5  known   \n",
       "3  GCCAAT     6  66220700  170908_K00345_0020_AHJMN5BBXX  IGF0008601_4  known   \n",
       "2  ACAGTG     6  76514482  170908_K00345_0020_AHJMN5BBXX  IGF0008601_3  known   \n",
       "1  TGACCA     6  95437540  170908_K00345_0020_AHJMN5BBXX  IGF0008601_2  known   \n",
       "0  CGATGT     6  99450906  170908_K00345_0020_AHJMN5BBXX  IGF0008601_1  known   \n",
       "\n",
       "   total_read  mapping_ratio  log_total_read  \n",
       "4   413800538       0.154701        28.62436  \n",
       "3   413800538       0.160030        28.62436  \n",
       "2   413800538       0.184907        28.62436  \n",
       "1   413800538       0.230637        28.62436  \n",
       "0   413800538       0.240335        28.62436  "
      ]
     },
     "execution_count": 207,
     "metadata": {},
     "output_type": "execute_result"
    }
   ],
   "source": [
    "data.head()"
   ]
  },
  {
   "cell_type": "code",
   "execution_count": 228,
   "metadata": {},
   "outputs": [],
   "source": [
    "fig, ax=plt.subplots()"
   ]
  },
  {
   "cell_type": "code",
   "execution_count": 229,
   "metadata": {},
   "outputs": [],
   "source": [
    "for gk,gr in data.groupby('tag'):\n",
    "    if gk=='known':\n",
    "      ax.scatter(x=gr['log_total_read'],y=gr['mapping_ratio'],color='green')\n",
    "    elif gk=='unknown':\n",
    "      ax.scatter(x=gr['log_total_read'],y=gr['mapping_ratio'],color='blue')  "
   ]
  },
  {
   "cell_type": "code",
   "execution_count": 230,
   "metadata": {
    "scrolled": true
   },
   "outputs": [
    {
     "data": {
      "image/png": "[encoded data removed]",
      "text/plain": [
       "<matplotlib.figure.Figure at 0x7f36cf229b38>"
      ]
     },
     "metadata": {},
     "output_type": "display_data"
    }
   ],
   "source": [
    "plt.show()"
   ]
  },
  {
   "cell_type": "code",
   "execution_count": null,
   "metadata": {},
   "outputs": [],
   "source": []
  },
  {
   "cell_type": "code",
   "execution_count": null,
   "metadata": {},
   "outputs": [],
   "source": []
  }
 ],
 "metadata": {
  "kernelspec": {
   "display_name": "Python 3",
   "language": "python",
   "name": "python3"
  },
  "language_info": {
   "codemirror_mode": {
    "name": "ipython",
    "version": 3
   },
   "file_extension": ".py",
   "mimetype": "text/x-python",
   "name": "python",
   "nbconvert_exporter": "python",
   "pygments_lexer": "ipython3",
   "version": "3.5.2"
  }
 },
 "nbformat": 4,
 "nbformat_minor": 2
}
