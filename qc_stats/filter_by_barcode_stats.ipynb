{
 "cells": [
  {
   "cell_type": "code",
   "execution_count": 34,
   "metadata": {},
   "outputs": [],
   "source": [
    "import json\n",
    "import pandas as pd\n",
    "import matplotlib.pyplot as plt\n",
    "import seaborn as sns\n",
    "import numpy as np\n",
    "import math"
   ]
  },
  {
   "cell_type": "code",
   "execution_count": 2,
   "metadata": {},
   "outputs": [],
   "source": [
    "from igf_data.illumina.samplesheet import SampleSheet"
   ]
  },
  {
   "cell_type": "code",
   "execution_count": 3,
   "metadata": {},
   "outputs": [],
   "source": [
    "def get_dataframe_from_stats_json(json_file):\n",
    "  with open(json_file,'r') as json_data:\n",
    "    json_stats=json.load(json_data)\n",
    "  \n",
    "  data1=list()\n",
    "  runid=json_stats['RunId']  \n",
    "  total_read=None\n",
    "  for row in json_stats['ConversionResults']:\n",
    "    lane=row['LaneNumber']\n",
    "    total_read=row['TotalClustersPF']\n",
    "    for sample in row['DemuxResults']:\n",
    "        sample_id=sample['SampleId']\n",
    "        number_reads=sample['NumberReads']\n",
    "        for index in sample['IndexMetrics']:\n",
    "            index_seq=index['IndexSequence']\n",
    "            data1.append({'lane':lane,\n",
    "                          'sample':sample_id,\n",
    "                          'index':index_seq,\n",
    "                          'reads':number_reads,\n",
    "                          'tag':'known',\n",
    "                          'runid':runid,\n",
    "                          'total_read':total_read})\n",
    "  df1=pd.DataFrame(data1)\n",
    "  df1=df1.sort_values(['reads'],ascending=True)\n",
    "  \n",
    "  data2=list()\n",
    "  for row in json_stats['UnknownBarcodes']:\n",
    "    lane=row['Lane']\n",
    "    max_index=10\n",
    "    index_count=0\n",
    "    for barcode,count in sorted(row['Barcodes'].items(), key=lambda x: x[1], reverse=True):\n",
    "        data2.append({'lane':lane,\n",
    "                      'sample':'undetermined',\n",
    "                      'index':barcode,\n",
    "                      'reads':count,\n",
    "                      'tag':'unknown',\n",
    "                      'runid':runid,\n",
    "                      'total_read':total_read})     \n",
    "        \n",
    "  df2=pd.DataFrame(data2)\n",
    "  df=pd.concat([df1,df2])\n",
    "  df['mapping_ratio']=df['reads'].map(lambda x: x/total_read)\n",
    "  return df"
   ]
  },
  {
   "cell_type": "code",
   "execution_count": 4,
   "metadata": {},
   "outputs": [],
   "source": [
    "def generate_pct(x):\n",
    "    known_read=int(x['known_read'])\n",
    "    unknown_read=int(x['unknown_read'])\n",
    "    known_pct=(known_read/(known_read+unknown_read))*100\n",
    "    x['known_pct']=known_pct\n",
    "    unknown_pct=(unknown_read/(known_read+unknown_read))*100\n",
    "    x['unknown_pct']=unknown_pct\n",
    "    return x"
   ]
  },
  {
   "cell_type": "code",
   "execution_count": 51,
   "metadata": {},
   "outputs": [],
   "source": [
    "def check_barcode_stats(stats_json, sample_sheet,lane_number):\n",
    "    stats_df=pd.DataFrame(columns=['index','lane','reads',\n",
    "                                   'runid','sample','tag',\n",
    "                                   'total_read','mapping_ratio'])     # define structure for stats df\n",
    "    \n",
    "    json_data=get_dataframe_from_stats_json(json_file=stats_json)     # get stats json data for each file\n",
    "    stats_df=pd.concat([json_data,stats_df])                          # combine all json files \n",
    "    \n",
    "    samplesheet_data=SampleSheet(infile=sample_sheet)\n",
    "    samplesheet_data.filter_sample_data(condition_key='Lane', \\\n",
    "                                        condition_value=lane_number)  # filter samplesheet for the lane\n",
    "    all_known_indexes=samplesheet_data.get_indexes()                  # get all known indexes present on the lane\n",
    "    \n",
    "    u_stats_df=stats_df.groupby('tag').get_group('unknown')\n",
    "    k_stats_df=stats_df.groupby('tag').get_group('known')             # separate known and unknown groups\n",
    "    u_stats_df=u_stats_df[u_stats_df['index'].\\\n",
    "                          isin(all_known_indexes)==False]             # filter all known barcodes 4m unknown\n",
    "    stats_df=pd.concat([k_stats_df,u_stats_df])                       # merge dataframe back together\n",
    "    stats_df['log_total_read']=stats_df['total_read'].\\\n",
    "                               map(lambda x: math.log2(x))            # add log2 of total reads in df\n",
    "        \n",
    "    summary_df=stats_df.pivot_table(values=['reads'],\\\n",
    "                                    index=['tag','lane','runid'], \\\n",
    "                                    aggfunc=np.sum)                   # create summary df\n",
    "    \n",
    "    processed_df=pd.DataFrame(columns=['id','known_read','unknown_read']) # define processed df structure\n",
    "    \n",
    "    for rid, rg in summary_df.groupby('runid'):\n",
    "      for lid, lg in rg.groupby('lane'):\n",
    "        known_reads=lg.loc['known']['reads'].values[0]\n",
    "        unknown_reads=lg.loc['unknown']['reads'].values[0]\n",
    "        runid='{0}_{1}'.format(rid, lid)\n",
    "        df=pd.DataFrame([{'id':runid,'known_read':known_reads,\n",
    "                          'unknown_read':unknown_reads}])\n",
    "        processed_df=pd.concat([df,processed_df])                      # format processed df\n",
    "        \n",
    "    processed_df=processed_df.apply(lambda x: generate_pct(x), axis=1) # calculate % of known and unknown barcodes\n",
    "    return (stats_df, processed_df)"
   ]
  },
  {
   "cell_type": "code",
   "execution_count": 77,
   "metadata": {},
   "outputs": [],
   "source": [
    "def validate_barcode_stats(raw_df,summary_df,know_barcode_ratio_cutoff=0.8):\n",
    "    try:\n",
    "      # check known_pct/unknown_pct\n",
    "      for runid, grp in summary_df.groupby('id'):\n",
    "          known_barcode_ratio=grp['known_pct'].values[0]/grp['unknown_pct'].values[0]\n",
    "          if known_barcode_ratio < know_barcode_ratio_cutoff:\n",
    "              raise ValueError('{0} failed total barcode check'.format(runid))\n",
    "          else:\n",
    "              print('{0} passed total barcode check'.format(runid))\n",
    "                \n",
    "      # check for individual barcodes mapping ratios\n",
    "      for rid, rgrp in raw_df.groupby('runid'):\n",
    "            for lid,lgrp in rgrp.groupby('lane'):\n",
    "                known_grp=lgrp.groupby('tag').get_group('known')\n",
    "                min_known_mpr=known_grp['mapping_ratio'].min()\n",
    "                unknown_grp=lgrp.groupby('tag').get_group('unknown')\n",
    "                max_unknown_mpr=unknown_grp['mapping_ratio'].max()\n",
    "                if min_known_mpr > max_unknown_mpr:\n",
    "                    print('{0}{1} passed mapping ratio check'.format(rid,lid))\n",
    "                else:\n",
    "                    raise ValueError('{0} {1} failed mapping ratio check'.format(rid, lid))\n",
    "    except:\n",
    "        raise"
   ]
  },
  {
   "cell_type": "code",
   "execution_count": 126,
   "metadata": {},
   "outputs": [],
   "source": [
    "def generate_barcode_plots(raw_df,summary_df):\n",
    "    summary_df_temp=summary_df.set_index('id')\n",
    "    fig, ax=plt.subplots()\n",
    "    summary_df_temp[['known_pct','unknown_pct']].plot(ax=ax,kind='bar',color=['blue','orange'],stacked=True)\n",
    "    plt.show()\n",
    "    raw_df_tmp=raw_df.set_index('index')\n",
    "    fig, ax=plt.subplots()\n",
    "    for gk,gr in raw_df_tmp.groupby('tag'):\n",
    "      if gk=='known':\n",
    "        ax.scatter(x=gr['log_total_read'],y=gr['mapping_ratio'],color='green')\n",
    "      elif gk=='unknown':\n",
    "        ax.scatter(x=gr['log_total_read'],y=gr['mapping_ratio'],color='blue')\n",
    "    plt.show()\n",
    "    raw_df_tmp['log_mapping_ratio']=raw_df_tmp['mapping_ratio'].map(lambda x: math.log(x))\n",
    "    fig, ax=plt.subplots()\n",
    "    for gk,gr in raw_df_tmp.groupby('tag'):\n",
    "      if gk=='known':\n",
    "        gr['log_mapping_ratio'].plot(ax=ax,kind='kde',color='blue')\n",
    "      elif gk=='unknown':\n",
    "        gr['log_mappibng_ratio'].sort_values(ascending=False).head(20).plot(ax=ax,kind='kde',color='orange')\n",
    "    plt.show()"
   ]
  },
  {
   "cell_type": "code",
   "execution_count": 137,
   "metadata": {},
   "outputs": [],
   "source": [
    "(stats_df, processed_df)=check_barcode_stats(stats_json='../../test_dir/test5_barcode_stats/atanur_Stats.json',\\\n",
    "                                             sample_sheet='../../test_dir/test5_barcode_stats/HJM5MBBXX.csv',\\\n",
    "                                             lane_number=1)"
   ]
  },
  {
   "cell_type": "code",
   "execution_count": 138,
   "metadata": {},
   "outputs": [
    {
     "name": "stdout",
     "output_type": "stream",
     "text": [
      "170908_K00345_0020_AHJMN5BBXX_6 passed total barcode check\n",
      "170908_K00345_0020_AHJMN5BBXX6 passed mapping ratio check\n"
     ]
    }
   ],
   "source": [
    "validate_barcode_stats(raw_df=stats_df,summary_df=processed_df)"
   ]
  },
  {
   "cell_type": "code",
   "execution_count": 139,
   "metadata": {},
   "outputs": [
    {
     "data": {
      "image/png": "[encoded data removed]",
      "text/plain": [
       "<matplotlib.figure.Figure at 0x7f4080f42710>"
      ]
     },
     "metadata": {},
     "output_type": "display_data"
    },
    {
     "data": {
      "image/png": "[encoded data removed]",
      "text/plain": [
       "<matplotlib.figure.Figure at 0x7f407e66a128>"
      ]
     },
     "metadata": {},
     "output_type": "display_data"
    },
    {
     "data": {
      "image/png": "[encoded data removed]",
      "text/plain": [
       "<matplotlib.figure.Figure at 0x7f407e646c18>"
      ]
     },
     "metadata": {},
     "output_type": "display_data"
    }
   ],
   "source": [
    "generate_barcode_plots(raw_df=stats_df,summary_df=processed_df)"
   ]
  }
 ],
 "metadata": {
  "kernelspec": {
   "display_name": "Python 3",
   "language": "python",
   "name": "python3"
  },
  "language_info": {
   "codemirror_mode": {
    "name": "ipython",
    "version": 3
   },
   "file_extension": ".py",
   "mimetype": "text/x-python",
   "name": "python",
   "nbconvert_exporter": "python",
   "pygments_lexer": "ipython3",
   "version": "3.5.2"
  }
 },
 "nbformat": 4,
 "nbformat_minor": 2
}
