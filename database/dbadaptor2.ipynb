{
 "cells": [
  {
   "cell_type": "markdown",
   "metadata": {},
   "source": [
    "## Import libraries"
   ]
  },
  {
   "cell_type": "code",
   "execution_count": 18,
   "metadata": {
    "collapsed": true
   },
   "outputs": [],
   "source": [
    "import datetime\n",
    "import pandas as pd\n",
    "import matplotlib.pyplot as plt\n",
    "from sqlalchemy.sql import select\n",
    "from sqlalchemy.orm import relationship\n",
    "from sqlalchemy.orm import sessionmaker\n",
    "from sqlalchemy.ext.declarative import declarative_base\n",
    "from sqlalchemy import Table, Column, Integer, String, Enum, TIMESTAMP, TEXT, ForeignKey, text, DATE, create_engine, ForeignKeyConstraint, UniqueConstraint, create_engine"
   ]
  },
  {
   "cell_type": "markdown",
   "metadata": {},
   "source": [
    "## Define base"
   ]
  },
  {
   "cell_type": "code",
   "execution_count": 19,
   "metadata": {
    "collapsed": true
   },
   "outputs": [],
   "source": [
    "Base = declarative_base()"
   ]
  },
  {
   "cell_type": "markdown",
   "metadata": {},
   "source": [
    "## Table definition"
   ]
  },
  {
   "cell_type": "code",
   "execution_count": 20,
   "metadata": {
    "collapsed": true
   },
   "outputs": [],
   "source": [
    "class Project(Base):\n",
    "  '''\n",
    "  Table schema for Project\n",
    "  '''\n",
    "  __tablename__ = 'project'\n",
    "  __table_args__ = ( UniqueConstraint('igf_id'),)\n",
    "\n",
    "  project_id   = Column('project_id', Integer, primary_key=True, nullable=False)\n",
    "  igf_id       = Column('igf_id', String(20), nullable=False)\n",
    "  project_name = Column('project_name', String(100))\n",
    "  start_date   = Column('start_date', DATE(), nullable=True)\n",
    "  description  = Column('description', TEXT())\n",
    "  requirement  = Column('requirement', Enum('FASTQ', 'ALIGNMENT', 'ANALYSIS'), server_default='FASTQ')\n",
    "  projectuser  = relationship('ProjectUser', backref=\"project\")\n",
    "    \n",
    "  def __repr__(self):\n",
    "    return \"Project(project_id = '{self.project_id}', \" \\\n",
    "                    \"igf_id = '{self.igf_id}',\" \\\n",
    "                    \"project_name = '{self.project_name}',\" \\\n",
    "                    \"start_date = '{self.start_date}',\" \\\n",
    "                    \"description = '{self.description}',\" \\\n",
    "                    \"requirement = '{self.requirement}')\".format(self=self)\n",
    "class User(Base):\n",
    "  '''\n",
    "  Table schema for User\n",
    "  '''\n",
    "  __tablename__ = 'user'\n",
    "  __table_args__ = (\n",
    "    UniqueConstraint('user_igf_id'),\n",
    "    UniqueConstraint('email_id'))\n",
    "\n",
    "  user_id       = Column('user_id', Integer, primary_key=True, nullable=False) \n",
    "  user_igf_id   = Column('user_igf_id', String(10))\n",
    "  name          = Column('name', String(25), nullable=False)\n",
    "  hpc_user_name = Column('hpc_user_name', String(8))\n",
    "  category      = Column('category', Enum('HPC_USER','NON_HPC_USER','EXTERNAL'), nullable=False, server_default='NON_HPC_USER')\n",
    "  status        = Column('status', Enum('ACTIVE', 'BLOCKED', 'WITHDRAWN'), nullable=False, server_default='ACTIVE')\n",
    "  email_id      = Column('email_id', String(20), nullable=False)\n",
    "  date_stamp    = Column('date_stamp', TIMESTAMP(), nullable=True)\n",
    "  password      = Column('password', String(129))\n",
    "  projectuser   = relationship('ProjectUser', backref=\"user\")\n",
    "  \n",
    "  def __repr__(self):\n",
    "    return \"User(user_id = '{self.user_id}',\" \\\n",
    "                 \"user_igf_id = '{self.user_igf_id}',\" \\\n",
    "                 \"name = '{self.name}', \" \\\n",
    "                 \"hpc_user_name = '{self.hpc_user_name}',\"\\\n",
    "                 \"category = '{self.category}',\" \\\n",
    "                 \"status = '{self.status}',\" \\\n",
    "                 \"email_id = '{self.email_id}',\" \\\n",
    "                 \"date_stamp = '{self.date_stamp}',\" \\\n",
    "                 \"password = '{self.password}')\".format(self=self)\n",
    "\n",
    "class ProjectUser(Base):\n",
    "  '''\n",
    "  Table schema for ProjectUser\n",
    "  '''\n",
    "  __tablename__ = 'project_user'\n",
    "  __table_args__ = (\n",
    "    UniqueConstraint('project_id','data_authority'),)\n",
    "    \n",
    "  project_user_id = Column('project_user_id', Integer, primary_key=True, nullable=False)\n",
    "  project_id      = Column('project_id', Integer, ForeignKey(\"project.project_id\", onupdate=\"CASCADE\", ondelete=\"CASCADE\"), nullable=False)\n",
    "  user_id         = Column('user_id', Integer, ForeignKey(\"user.user_id\", onupdate=\"CASCADE\", ondelete=\"CASCADE\"), nullable=False)\n",
    "  data_authority  = Column('data_authority', Enum('T'))\n",
    "\n",
    "  def __repr__(self):\n",
    "    return \"ProjectUser(project_user_id = '{self.project_user_id}',\" \\\n",
    "                        \"project_id = '{self.project_id}',\" \\\n",
    "                        \"user_id = '{self.user_id}',\" \\\n",
    "                        \"data_authority = '{self.data_authority}')\".format(self=self)"
   ]
  },
  {
   "cell_type": "markdown",
   "metadata": {},
   "source": [
    "## Create tables"
   ]
  },
  {
   "cell_type": "code",
   "execution_count": 21,
   "metadata": {
    "collapsed": true
   },
   "outputs": [],
   "source": [
    "engine=create_engine('sqlite:///:memory:')\n",
    "Base.metadata.create_all(engine)"
   ]
  },
  {
   "cell_type": "markdown",
   "metadata": {},
   "source": [
    "## Create sessions"
   ]
  },
  {
   "cell_type": "code",
   "execution_count": 22,
   "metadata": {
    "collapsed": true
   },
   "outputs": [],
   "source": [
    "Session=sessionmaker(bind=engine)\n",
    "session=Session()"
   ]
  },
  {
   "cell_type": "markdown",
   "metadata": {},
   "source": [
    "## Create dataframe for project"
   ]
  },
  {
   "cell_type": "code",
   "execution_count": 23,
   "metadata": {
    "collapsed": true
   },
   "outputs": [],
   "source": [
    "project_data=pd.DataFrame([{'igf_id':'IGFP0001', 'project_name':'Project A', 'description':'Its project A'},\n",
    " {'igf_id':'IGFP0002', 'project_name':'Project B', 'description':'Its project B'}])"
   ]
  },
  {
   "cell_type": "markdown",
   "metadata": {},
   "source": [
    "### Manipulate data"
   ]
  },
  {
   "cell_type": "code",
   "execution_count": 24,
   "metadata": {
    "collapsed": true
   },
   "outputs": [],
   "source": [
    "project_data['start_date']=datetime.date.today()"
   ]
  },
  {
   "cell_type": "code",
   "execution_count": 25,
   "metadata": {},
   "outputs": [
    {
     "data": {
      "text/html": [
       "<div>\n",
       "<style>\n",
       "    .dataframe thead tr:only-child th {\n",
       "        text-align: right;\n",
       "    }\n",
       "\n",
       "    .dataframe thead th {\n",
       "        text-align: left;\n",
       "    }\n",
       "\n",
       "    .dataframe tbody tr th {\n",
       "        vertical-align: top;\n",
       "    }\n",
       "</style>\n",
       "<table border=\"1\" class=\"dataframe\">\n",
       "  <thead>\n",
       "    <tr style=\"text-align: right;\">\n",
       "      <th></th>\n",
       "      <th>description</th>\n",
       "      <th>igf_id</th>\n",
       "      <th>project_name</th>\n",
       "      <th>start_date</th>\n",
       "    </tr>\n",
       "  </thead>\n",
       "  <tbody>\n",
       "    <tr>\n",
       "      <th>0</th>\n",
       "      <td>Its project A</td>\n",
       "      <td>IGFP0001</td>\n",
       "      <td>Project A</td>\n",
       "      <td>2017-06-11</td>\n",
       "    </tr>\n",
       "    <tr>\n",
       "      <th>1</th>\n",
       "      <td>Its project B</td>\n",
       "      <td>IGFP0002</td>\n",
       "      <td>Project B</td>\n",
       "      <td>2017-06-11</td>\n",
       "    </tr>\n",
       "  </tbody>\n",
       "</table>\n",
       "</div>"
      ],
      "text/plain": [
       "     description    igf_id project_name  start_date\n",
       "0  Its project A  IGFP0001    Project A  2017-06-11\n",
       "1  Its project B  IGFP0002    Project B  2017-06-11"
      ]
     },
     "execution_count": 25,
     "metadata": {},
     "output_type": "execute_result"
    }
   ],
   "source": [
    "project_data"
   ]
  },
  {
   "cell_type": "code",
   "execution_count": 32,
   "metadata": {},
   "outputs": [],
   "source": [
    "project_data_dict=project_data.to_dict(orient='records')"
   ]
  },
  {
   "cell_type": "code",
   "execution_count": 33,
   "metadata": {},
   "outputs": [
    {
     "data": {
      "text/plain": [
       "[{'description': 'Its project A',\n",
       "  'igf_id': 'IGFP0001',\n",
       "  'project_name': 'Project A',\n",
       "  'start_date': datetime.date(2017, 6, 11)},\n",
       " {'description': 'Its project B',\n",
       "  'igf_id': 'IGFP0002',\n",
       "  'project_name': 'Project B',\n",
       "  'start_date': datetime.date(2017, 6, 11)}]"
      ]
     },
     "execution_count": 33,
     "metadata": {},
     "output_type": "execute_result"
    }
   ],
   "source": [
    "project_data_dict"
   ]
  },
  {
   "cell_type": "markdown",
   "metadata": {},
   "source": [
    "### Insert data to table"
   ]
  },
  {
   "cell_type": "code",
   "execution_count": 34,
   "metadata": {
    "collapsed": true
   },
   "outputs": [],
   "source": [
    "session.bulk_insert_mappings(Project,project_data_dict )"
   ]
  },
  {
   "cell_type": "code",
   "execution_count": 296,
   "metadata": {
    "collapsed": true
   },
   "outputs": [],
   "source": [
    "#project_data.to_sql('project', engine, index=False, if_exists='append')"
   ]
  },
  {
   "cell_type": "code",
   "execution_count": 35,
   "metadata": {
    "collapsed": true
   },
   "outputs": [],
   "source": [
    "session.commit()"
   ]
  },
  {
   "cell_type": "markdown",
   "metadata": {},
   "source": [
    "## Create dataframe for user"
   ]
  },
  {
   "cell_type": "code",
   "execution_count": 36,
   "metadata": {
    "collapsed": true
   },
   "outputs": [],
   "source": [
    "user_data=pd.DataFrame([{'user_igf_id':'IGFC0001', 'name':'User A', 'hpc_user_name':'usera', 'category':'HPC_USER', 'email_id':'usera@ic.ac.uk'},\n",
    "                        {'user_igf_id':'IGFC0002', 'name':'User B', 'hpc_user_name':'userb', 'email_id':'userb@ic.ac.uk'}])"
   ]
  },
  {
   "cell_type": "markdown",
   "metadata": {},
   "source": [
    "### Manipulate data"
   ]
  },
  {
   "cell_type": "code",
   "execution_count": 37,
   "metadata": {
    "collapsed": true
   },
   "outputs": [],
   "source": [
    "user_data['category']=user_data['category'].fillna('NON_HPC_USER')"
   ]
  },
  {
   "cell_type": "code",
   "execution_count": 38,
   "metadata": {},
   "outputs": [
    {
     "data": {
      "text/html": [
       "<div>\n",
       "<style>\n",
       "    .dataframe thead tr:only-child th {\n",
       "        text-align: right;\n",
       "    }\n",
       "\n",
       "    .dataframe thead th {\n",
       "        text-align: left;\n",
       "    }\n",
       "\n",
       "    .dataframe tbody tr th {\n",
       "        vertical-align: top;\n",
       "    }\n",
       "</style>\n",
       "<table border=\"1\" class=\"dataframe\">\n",
       "  <thead>\n",
       "    <tr style=\"text-align: right;\">\n",
       "      <th></th>\n",
       "      <th>category</th>\n",
       "      <th>email_id</th>\n",
       "      <th>hpc_user_name</th>\n",
       "      <th>name</th>\n",
       "      <th>user_igf_id</th>\n",
       "    </tr>\n",
       "  </thead>\n",
       "  <tbody>\n",
       "    <tr>\n",
       "      <th>0</th>\n",
       "      <td>HPC_USER</td>\n",
       "      <td>usera@ic.ac.uk</td>\n",
       "      <td>usera</td>\n",
       "      <td>User A</td>\n",
       "      <td>IGFC0001</td>\n",
       "    </tr>\n",
       "    <tr>\n",
       "      <th>1</th>\n",
       "      <td>NON_HPC_USER</td>\n",
       "      <td>userb@ic.ac.uk</td>\n",
       "      <td>userb</td>\n",
       "      <td>User B</td>\n",
       "      <td>IGFC0002</td>\n",
       "    </tr>\n",
       "  </tbody>\n",
       "</table>\n",
       "</div>"
      ],
      "text/plain": [
       "       category        email_id hpc_user_name    name user_igf_id\n",
       "0      HPC_USER  usera@ic.ac.uk         usera  User A    IGFC0001\n",
       "1  NON_HPC_USER  userb@ic.ac.uk         userb  User B    IGFC0002"
      ]
     },
     "execution_count": 38,
     "metadata": {},
     "output_type": "execute_result"
    }
   ],
   "source": [
    "user_data"
   ]
  },
  {
   "cell_type": "code",
   "execution_count": 39,
   "metadata": {
    "collapsed": true
   },
   "outputs": [],
   "source": [
    "user_data_dict=user_data.to_dict(orient='records')"
   ]
  },
  {
   "cell_type": "code",
   "execution_count": 40,
   "metadata": {},
   "outputs": [
    {
     "data": {
      "text/plain": [
       "[{'category': 'HPC_USER',\n",
       "  'email_id': 'usera@ic.ac.uk',\n",
       "  'hpc_user_name': 'usera',\n",
       "  'name': 'User A',\n",
       "  'user_igf_id': 'IGFC0001'},\n",
       " {'category': 'NON_HPC_USER',\n",
       "  'email_id': 'userb@ic.ac.uk',\n",
       "  'hpc_user_name': 'userb',\n",
       "  'name': 'User B',\n",
       "  'user_igf_id': 'IGFC0002'}]"
      ]
     },
     "execution_count": 40,
     "metadata": {},
     "output_type": "execute_result"
    }
   ],
   "source": [
    "user_data_dict"
   ]
  },
  {
   "cell_type": "markdown",
   "metadata": {},
   "source": [
    "### Insert data to table"
   ]
  },
  {
   "cell_type": "code",
   "execution_count": 41,
   "metadata": {
    "collapsed": true
   },
   "outputs": [],
   "source": [
    "session.bulk_insert_mappings(User, user_data_dict )"
   ]
  },
  {
   "cell_type": "code",
   "execution_count": 42,
   "metadata": {
    "collapsed": true
   },
   "outputs": [],
   "source": [
    "#user_data.to_sql('user', engine, index=False, if_exists='append')"
   ]
  },
  {
   "cell_type": "code",
   "execution_count": 43,
   "metadata": {
    "collapsed": true
   },
   "outputs": [],
   "source": [
    "session.commit()\n",
    "session.close()"
   ]
  },
  {
   "cell_type": "markdown",
   "metadata": {},
   "source": [
    "## Link Users to Project"
   ]
  },
  {
   "cell_type": "code",
   "execution_count": 44,
   "metadata": {
    "collapsed": true
   },
   "outputs": [],
   "source": [
    "Session=sessionmaker(bind=engine)\n",
    "session=Session()"
   ]
  },
  {
   "cell_type": "markdown",
   "metadata": {},
   "source": [
    "### Fetch Projects and Users"
   ]
  },
  {
   "cell_type": "code",
   "execution_count": 45,
   "metadata": {
    "collapsed": true
   },
   "outputs": [],
   "source": [
    "project1=session.query(Project).filter(Project.igf_id=='IGFP0001').one()\n",
    "project2=session.query(Project).filter(Project.igf_id=='IGFP0002').one()\n",
    "user1=session.query(User).filter(User.user_igf_id=='IGFC0001').one()\n",
    "user2=session.query(User).filter(User.user_igf_id=='IGFC0002').one()"
   ]
  },
  {
   "cell_type": "markdown",
   "metadata": {},
   "source": [
    "### Create ProjectUser object"
   ]
  },
  {
   "cell_type": "code",
   "execution_count": 46,
   "metadata": {
    "collapsed": true
   },
   "outputs": [],
   "source": [
    "projectuser1=ProjectUser(project_id=project1.project_id, user_id=user1.user_id, data_authority='T')\n",
    "projectuser2=ProjectUser(project_id=project1.project_id, user_id=user2.user_id)\n",
    "projectuser3=ProjectUser(project_id=project2.project_id, user_id=user2.user_id, data_authority='T')"
   ]
  },
  {
   "cell_type": "markdown",
   "metadata": {},
   "source": [
    "### Add data to ProjectUser table"
   ]
  },
  {
   "cell_type": "code",
   "execution_count": 47,
   "metadata": {
    "collapsed": true
   },
   "outputs": [],
   "source": [
    "session.add(projectuser1)\n",
    "session.add(projectuser2)\n",
    "session.add(projectuser3)\n",
    "session.flush()"
   ]
  },
  {
   "cell_type": "code",
   "execution_count": 48,
   "metadata": {},
   "outputs": [
    {
     "data": {
      "text/plain": [
       "ProjectUser(project_user_id = '1',project_id = '1',user_id = '1',data_authority = 'T')"
      ]
     },
     "execution_count": 48,
     "metadata": {},
     "output_type": "execute_result"
    }
   ],
   "source": [
    "projectuser1"
   ]
  },
  {
   "cell_type": "code",
   "execution_count": 49,
   "metadata": {
    "collapsed": true
   },
   "outputs": [],
   "source": [
    "session.commit()"
   ]
  },
  {
   "cell_type": "markdown",
   "metadata": {},
   "source": [
    "## Fetch data from tables to data frame"
   ]
  },
  {
   "cell_type": "markdown",
   "metadata": {},
   "source": [
    "### Read single table"
   ]
  },
  {
   "cell_type": "code",
   "execution_count": 326,
   "metadata": {
    "collapsed": true
   },
   "outputs": [],
   "source": [
    "project_df=pd.read_sql_table('project', engine)"
   ]
  },
  {
   "cell_type": "code",
   "execution_count": 327,
   "metadata": {},
   "outputs": [
    {
     "data": {
      "text/html": [
       "<div>\n",
       "<style>\n",
       "    .dataframe thead tr:only-child th {\n",
       "        text-align: right;\n",
       "    }\n",
       "\n",
       "    .dataframe thead th {\n",
       "        text-align: left;\n",
       "    }\n",
       "\n",
       "    .dataframe tbody tr th {\n",
       "        vertical-align: top;\n",
       "    }\n",
       "</style>\n",
       "<table border=\"1\" class=\"dataframe\">\n",
       "  <thead>\n",
       "    <tr style=\"text-align: right;\">\n",
       "      <th></th>\n",
       "      <th>project_id</th>\n",
       "      <th>igf_id</th>\n",
       "      <th>project_name</th>\n",
       "      <th>start_date</th>\n",
       "      <th>description</th>\n",
       "      <th>requirement</th>\n",
       "    </tr>\n",
       "  </thead>\n",
       "  <tbody>\n",
       "    <tr>\n",
       "      <th>0</th>\n",
       "      <td>1</td>\n",
       "      <td>IGFP0001</td>\n",
       "      <td>Project A</td>\n",
       "      <td>2017-06-11</td>\n",
       "      <td>Its project A</td>\n",
       "      <td>FASTQ</td>\n",
       "    </tr>\n",
       "    <tr>\n",
       "      <th>1</th>\n",
       "      <td>2</td>\n",
       "      <td>IGFP0002</td>\n",
       "      <td>Project B</td>\n",
       "      <td>2017-06-11</td>\n",
       "      <td>Its project B</td>\n",
       "      <td>FASTQ</td>\n",
       "    </tr>\n",
       "  </tbody>\n",
       "</table>\n",
       "</div>"
      ],
      "text/plain": [
       "   project_id    igf_id project_name start_date    description requirement\n",
       "0           1  IGFP0001    Project A 2017-06-11  Its project A       FASTQ\n",
       "1           2  IGFP0002    Project B 2017-06-11  Its project B       FASTQ"
      ]
     },
     "execution_count": 327,
     "metadata": {},
     "output_type": "execute_result"
    }
   ],
   "source": [
    "project_df.fillna('')"
   ]
  },
  {
   "cell_type": "markdown",
   "metadata": {},
   "source": [
    "### Read multiple tables using join"
   ]
  },
  {
   "cell_type": "code",
   "execution_count": 50,
   "metadata": {
    "collapsed": true
   },
   "outputs": [],
   "source": [
    "def get_project_user(engine, session, project_igf_id=''):\n",
    "  '''\n",
    "  An adaptor method for fetching all users linked to projects\n",
    "  It takes an optional parameter for specific project IGF id\n",
    "  '''\n",
    "  query=session.query(Project.project_name, User.name, User.email_id, ProjectUser.data_authority)\n",
    "  query=query.join(ProjectUser).join(User)\n",
    "\n",
    "  if project_igf_id:\n",
    "    query=query.filter(Project.igf_id==project_igf_id)\n",
    "    \n",
    "  project_user=pd.read_sql(query.statement, session.bind)\n",
    "  return project_user"
   ]
  },
  {
   "cell_type": "code",
   "execution_count": 51,
   "metadata": {
    "collapsed": true
   },
   "outputs": [],
   "source": [
    "project_user=get_project_user(engine, session)"
   ]
  },
  {
   "cell_type": "code",
   "execution_count": 52,
   "metadata": {
    "collapsed": true
   },
   "outputs": [],
   "source": [
    "project_user=project_user.fillna('')"
   ]
  },
  {
   "cell_type": "code",
   "execution_count": 53,
   "metadata": {},
   "outputs": [
    {
     "data": {
      "text/html": [
       "<div>\n",
       "<style>\n",
       "    .dataframe thead tr:only-child th {\n",
       "        text-align: right;\n",
       "    }\n",
       "\n",
       "    .dataframe thead th {\n",
       "        text-align: left;\n",
       "    }\n",
       "\n",
       "    .dataframe tbody tr th {\n",
       "        vertical-align: top;\n",
       "    }\n",
       "</style>\n",
       "<table border=\"1\" class=\"dataframe\">\n",
       "  <thead>\n",
       "    <tr style=\"text-align: right;\">\n",
       "      <th></th>\n",
       "      <th>project_name</th>\n",
       "      <th>name</th>\n",
       "      <th>email_id</th>\n",
       "      <th>data_authority</th>\n",
       "    </tr>\n",
       "  </thead>\n",
       "  <tbody>\n",
       "    <tr>\n",
       "      <th>0</th>\n",
       "      <td>Project A</td>\n",
       "      <td>User A</td>\n",
       "      <td>usera@ic.ac.uk</td>\n",
       "      <td>T</td>\n",
       "    </tr>\n",
       "    <tr>\n",
       "      <th>1</th>\n",
       "      <td>Project A</td>\n",
       "      <td>User B</td>\n",
       "      <td>userb@ic.ac.uk</td>\n",
       "      <td></td>\n",
       "    </tr>\n",
       "    <tr>\n",
       "      <th>2</th>\n",
       "      <td>Project B</td>\n",
       "      <td>User B</td>\n",
       "      <td>userb@ic.ac.uk</td>\n",
       "      <td>T</td>\n",
       "    </tr>\n",
       "  </tbody>\n",
       "</table>\n",
       "</div>"
      ],
      "text/plain": [
       "  project_name    name        email_id data_authority\n",
       "0    Project A  User A  usera@ic.ac.uk              T\n",
       "1    Project A  User B  userb@ic.ac.uk               \n",
       "2    Project B  User B  userb@ic.ac.uk              T"
      ]
     },
     "execution_count": 53,
     "metadata": {},
     "output_type": "execute_result"
    }
   ],
   "source": [
    "project_user"
   ]
  },
  {
   "cell_type": "markdown",
   "metadata": {},
   "source": [
    "## Analyse data"
   ]
  },
  {
   "cell_type": "code",
   "execution_count": 54,
   "metadata": {
    "collapsed": true
   },
   "outputs": [],
   "source": [
    "project_user_group=project_user.groupby('project_name')"
   ]
  },
  {
   "cell_type": "code",
   "execution_count": 55,
   "metadata": {},
   "outputs": [
    {
     "data": {
      "text/plain": [
       "{'Project A': Int64Index([0, 1], dtype='int64'),\n",
       " 'Project B': Int64Index([2], dtype='int64')}"
      ]
     },
     "execution_count": 55,
     "metadata": {},
     "output_type": "execute_result"
    }
   ],
   "source": [
    "project_user_group.groups"
   ]
  },
  {
   "cell_type": "code",
   "execution_count": 56,
   "metadata": {
    "collapsed": true
   },
   "outputs": [],
   "source": [
    "project_user_count=project_user_group['project_name'].count()"
   ]
  },
  {
   "cell_type": "code",
   "execution_count": 57,
   "metadata": {
    "collapsed": true
   },
   "outputs": [],
   "source": [
    "project_user_count=project_user_count.rename_axis('user_count')"
   ]
  },
  {
   "cell_type": "code",
   "execution_count": 58,
   "metadata": {},
   "outputs": [
    {
     "data": {
      "image/png": "[encoded data removed]",
      "text/plain": [
       "<matplotlib.figure.Figure at 0x6eba75d0>"
      ]
     },
     "metadata": {},
     "output_type": "display_data"
    }
   ],
   "source": [
    "fig,ax=plt.subplots()\n",
    "project_user_count.plot(kind='bar')\n",
    "plt.show()"
   ]
  },
  {
   "cell_type": "code",
   "execution_count": null,
   "metadata": {
    "collapsed": true
   },
   "outputs": [],
   "source": []
  }
 ],
 "metadata": {
  "kernelspec": {
   "display_name": "Python 3",
   "language": "python",
   "name": "python3"
  },
  "language_info": {
   "codemirror_mode": {
    "name": "ipython",
    "version": 3
   },
   "file_extension": ".py",
   "mimetype": "text/x-python",
   "name": "python",
   "nbconvert_exporter": "python",
   "pygments_lexer": "ipython3",
   "version": "3.5.2"
  }
 },
 "nbformat": 4,
 "nbformat_minor": 2
}
