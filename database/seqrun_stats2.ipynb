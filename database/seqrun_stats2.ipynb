{
 "cells": [
  {
   "cell_type": "code",
   "execution_count": 1,
   "metadata": {
    "collapsed": true
   },
   "outputs": [],
   "source": [
    "import datetime\n",
    "import pandas as pd\n",
    "from igf_data.igfdb.igfTables import Base, Seqrun, Seqrun_stats, Platform\n",
    "from igf_data.igfdb.baseadaptor import BaseAdaptor\n",
    "from igf_data.igfdb.platformadaptor import PlatformAdaptor\n",
    "from igf_data.igfdb.seqrunadaptor import SeqrunAdaptor\n",
    "from sqlalchemy import create_engine"
   ]
  },
  {
   "cell_type": "code",
   "execution_count": 2,
   "metadata": {
    "collapsed": true
   },
   "outputs": [],
   "source": [
    "dbparams={'dbhost':'0.0.0.0', \\\n",
    "          'dbuser':'root', \\\n",
    "          'dbpass':'xxxx', \\\n",
    "          'dbname':'igfdb', \\\n",
    "          'driver':'mysql', \\\n",
    "          'connector':'pymysql'}"
   ]
  },
  {
   "cell_type": "code",
   "execution_count": 3,
   "metadata": {
    "collapsed": true
   },
   "outputs": [],
   "source": [
    "base=BaseAdaptor(**dbparams)\n",
    "session_class=base.get_session_class()"
   ]
  },
  {
   "cell_type": "code",
   "execution_count": 4,
   "metadata": {
    "collapsed": true
   },
   "outputs": [],
   "source": [
    "Base.metadata.drop_all(base.engine)\n",
    "Base.metadata.create_all(base.engine)"
   ]
  },
  {
   "cell_type": "code",
   "execution_count": 5,
   "metadata": {
    "collapsed": true
   },
   "outputs": [],
   "source": [
    "platform_data=[{'platform_igf_id':'ILM4K_001', \\\n",
    "                'model_name':'HISEQ4000',\\\n",
    "                'vendor_name':'ILLUMINA', \\\n",
    "                'software_name':'RTA', \\\n",
    "                'software_version':'RTA2'},\n",
    "               {'platform_igf_id':'ILMNS_001', \\\n",
    "                'model_name':'NEXTSEQ',\\\n",
    "                'vendor_name':'ILLUMINA', \\\n",
    "                'software_name':'RTA', \\\n",
    "                'software_version':'RTA2'},\n",
    "               {'platform_igf_id':'ILMMS_001', \\\n",
    "                'model_name':'MISEQ',\\\n",
    "                'vendor_name':'ILLUMINA', \\\n",
    "                'software_name':'RTA', \\\n",
    "                'software_version':'RTA1.18.64'},\n",
    "              ]"
   ]
  },
  {
   "cell_type": "code",
   "execution_count": 6,
   "metadata": {
    "collapsed": true
   },
   "outputs": [],
   "source": [
    "pl=PlatformAdaptor(**{'session_class':base.session_class})\n",
    "pl.start_session()\n",
    "pl.store_platform_data(data=platform_data)"
   ]
  },
  {
   "cell_type": "code",
   "execution_count": 7,
   "metadata": {
    "collapsed": true
   },
   "outputs": [],
   "source": [
    "seqrun_data=[{'seqrun_igf_id':'170627_K00345_0012_AHJJKTBBXX', \n",
    "              'flowcell_id':'AHJJKTBBXX', \n",
    "              'platform_igf_id':'ILM4K_001',\n",
    "              'lib_type':'type1'},\n",
    "             {'seqrun_igf_id':'170627_M03291_0071_000000000-D0V30', \n",
    "              'flowcell_id':'D0V30', \n",
    "              'platform_igf_id':'ILMMS_001',\n",
    "              'lib_type':'type2' },\n",
    "            ]"
   ]
  },
  {
   "cell_type": "code",
   "execution_count": 8,
   "metadata": {
    "collapsed": true
   },
   "outputs": [],
   "source": [
    "sra=SeqrunAdaptor(**{'session_class':base.session_class})\n",
    "sra.start_session()\n",
    "sra.store_seqrun_and_attribute_data(data=seqrun_data)"
   ]
  },
  {
   "cell_type": "code",
   "execution_count": 9,
   "metadata": {
    "collapsed": true
   },
   "outputs": [],
   "source": [
    "sra_data=sra.fetch_records(sra.session.query(Seqrun))"
   ]
  },
  {
   "cell_type": "code",
   "execution_count": 10,
   "metadata": {},
   "outputs": [
    {
     "data": {
      "text/html": [
       "<div>\n",
       "<style>\n",
       "    .dataframe thead tr:only-child th {\n",
       "        text-align: right;\n",
       "    }\n",
       "\n",
       "    .dataframe thead th {\n",
       "        text-align: left;\n",
       "    }\n",
       "\n",
       "    .dataframe tbody tr th {\n",
       "        vertical-align: top;\n",
       "    }\n",
       "</style>\n",
       "<table border=\"1\" class=\"dataframe\">\n",
       "  <thead>\n",
       "    <tr style=\"text-align: right;\">\n",
       "      <th></th>\n",
       "      <th>seqrun_id</th>\n",
       "      <th>seqrun_igf_id</th>\n",
       "      <th>reject_run</th>\n",
       "      <th>date_created</th>\n",
       "      <th>flowcell_id</th>\n",
       "      <th>platform_id</th>\n",
       "    </tr>\n",
       "  </thead>\n",
       "  <tbody>\n",
       "    <tr>\n",
       "      <th>0</th>\n",
       "      <td>1</td>\n",
       "      <td>170627_K00345_0012_AHJJKTBBXX</td>\n",
       "      <td>N</td>\n",
       "      <td>2017-07-25 18:23:28</td>\n",
       "      <td>AHJJKTBBXX</td>\n",
       "      <td>1</td>\n",
       "    </tr>\n",
       "    <tr>\n",
       "      <th>1</th>\n",
       "      <td>2</td>\n",
       "      <td>170627_M03291_0071_000000000-D0V30</td>\n",
       "      <td>N</td>\n",
       "      <td>2017-07-25 18:23:28</td>\n",
       "      <td>D0V30</td>\n",
       "      <td>3</td>\n",
       "    </tr>\n",
       "  </tbody>\n",
       "</table>\n",
       "</div>"
      ],
      "text/plain": [
       "   seqrun_id                       seqrun_igf_id reject_run  \\\n",
       "0          1       170627_K00345_0012_AHJJKTBBXX          N   \n",
       "1          2  170627_M03291_0071_000000000-D0V30          N   \n",
       "\n",
       "         date_created flowcell_id  platform_id  \n",
       "0 2017-07-25 18:23:28  AHJJKTBBXX            1  \n",
       "1 2017-07-25 18:23:28       D0V30            3  "
      ]
     },
     "execution_count": 10,
     "metadata": {},
     "output_type": "execute_result"
    }
   ],
   "source": [
    "sra_data"
   ]
  },
  {
   "cell_type": "code",
   "execution_count": 11,
   "metadata": {
    "collapsed": true
   },
   "outputs": [],
   "source": [
    "sra.close_session()\n",
    "pl.close_session()"
   ]
  },
  {
   "cell_type": "code",
   "execution_count": 16,
   "metadata": {
    "collapsed": true
   },
   "outputs": [],
   "source": [
    "seqrun_stats_data=[ {'seqrun_id':'1', \n",
    "                     'lane_number':'1', \n",
    "                     'bases_mask':'y150n1,i8,i8,y150n1',\n",
    "                     'undetermined_barcodes':{'ATTTA+GGGC':50, 'TTTA+CCCG':150},\n",
    "                     'known_barcodes':{'AAAAA+TTTT':10, 'CCCC+GGGG':20},\n",
    "                     'undetermined_fastqc':{'read1':{'number':130},'read2':{'number':130}},\n",
    "                    }   \n",
    "                 ]"
   ]
  },
  {
   "cell_type": "code",
   "execution_count": 19,
   "metadata": {},
   "outputs": [],
   "source": [
    "base.start_session()\n",
    "base.store_records(table=Seqrun_stats, data=seqrun_stats_data, mode='serial')\n",
    "base.commit_session()"
   ]
  },
  {
   "cell_type": "code",
   "execution_count": 20,
   "metadata": {
    "collapsed": true
   },
   "outputs": [],
   "source": [
    "base.close_session()"
   ]
  },
  {
   "cell_type": "code",
   "execution_count": 24,
   "metadata": {},
   "outputs": [],
   "source": [
    "base.start_session()\n",
    "data=base.fetch_records(query=base.session.query(Seqrun_stats))\n",
    "base.close_session()"
   ]
  },
  {
   "cell_type": "code",
   "execution_count": 27,
   "metadata": {},
   "outputs": [
    {
     "data": {
      "text/plain": [
       "0    {'CCCC+GGGG': 20, 'AAAAA+TTTT': 10}\n",
       "Name: known_barcodes, dtype: object"
      ]
     },
     "execution_count": 27,
     "metadata": {},
     "output_type": "execute_result"
    }
   ],
   "source": [
    "data.known_barcodes"
   ]
  },
  {
   "cell_type": "code",
   "execution_count": null,
   "metadata": {
    "collapsed": true
   },
   "outputs": [],
   "source": []
  }
 ],
 "metadata": {
  "kernelspec": {
   "display_name": "Python 3",
   "language": "python",
   "name": "python3"
  },
  "language_info": {
   "codemirror_mode": {
    "name": "ipython",
    "version": 3
   },
   "file_extension": ".py",
   "mimetype": "text/x-python",
   "name": "python",
   "nbconvert_exporter": "python",
   "pygments_lexer": "ipython3",
   "version": "3.5.2"
  }
 },
 "nbformat": 4,
 "nbformat_minor": 2
}
