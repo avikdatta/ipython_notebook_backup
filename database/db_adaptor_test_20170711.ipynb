{
 "cells": [
  {
   "cell_type": "markdown",
   "metadata": {},
   "source": [
    "## Import libraries"
   ]
  },
  {
   "cell_type": "code",
   "execution_count": 81,
   "metadata": {
    "collapsed": true
   },
   "outputs": [],
   "source": [
    "import datetime\n",
    "import pandas as pd\n",
    "from igf_data.igfdb.igfTables import Base, Project, User, Platform, Sample, Experiment, Seqrun, Run, Seqrun_stats, Pipeline, Pipeline_seed\n",
    "from igf_data.igfdb.igfTables import Project_attribute, Sample_attribute, Experiment_attribute, Seqrun_attribute,Run_attribute\n",
    "from igf_data.igfdb.baseadaptor import BaseAdaptor\n",
    "from igf_data.igfdb.projectadaptor import ProjectAdaptor\n",
    "from igf_data.igfdb.useradaptor import UserAdaptor\n",
    "from igf_data.igfdb.sampleadaptor import SampleAdaptor\n",
    "from igf_data.igfdb.platformadaptor import PlatformAdaptor\n",
    "from igf_data.igfdb.seqrunadaptor import SeqrunAdaptor\n",
    "from igf_data.igfdb.experimentadaptor import ExperimentAdaptor\n",
    "from igf_data.igfdb.runadaptor import RunAdaptor\n",
    "from igf_data.igfdb.collectionadaptor import CollectionAdaptor\n",
    "from igf_data.igfdb.fileadaptor import FileAdaptor\n",
    "from igf_data.igfdb.pipelineadaptor import PipelineAdaptor\n",
    "from igf_data.igfdb.analysisadaptor import AnalysisAdaptor\n",
    "from sqlalchemy import create_engine"
   ]
  },
  {
   "cell_type": "markdown",
   "metadata": {},
   "source": [
    "## Define database connection"
   ]
  },
  {
   "cell_type": "markdown",
   "metadata": {},
   "source": [
    "### MySQL config"
   ]
  },
  {
   "cell_type": "code",
   "execution_count": 5,
   "metadata": {
    "collapsed": true
   },
   "outputs": [],
   "source": [
    "dbparams={'dbhost':'0.0.0.0', \\\n",
    "          'dbuser':'igf', \\\n",
    "          'dbpass':'xxxx', \\\n",
    "          'dbname':'igfdb', \\\n",
    "          'driver':'mysql', \\\n",
    "          'connector':'pymysql'}\n",
    "         # 'engine_config':{'echo':True}} "
   ]
  },
  {
   "cell_type": "markdown",
   "metadata": {},
   "source": [
    "### SQLite config"
   ]
  },
  {
   "cell_type": "code",
   "execution_count": 55,
   "metadata": {
    "collapsed": true
   },
   "outputs": [],
   "source": [
    "#dbparams={'dbname':'test.db'} #"
   ]
  },
  {
   "cell_type": "markdown",
   "metadata": {},
   "source": [
    "## Create base adaptor instance"
   ]
  },
  {
   "cell_type": "code",
   "execution_count": 6,
   "metadata": {
    "collapsed": true
   },
   "outputs": [],
   "source": [
    "base=BaseAdaptor(**dbparams)\n",
    "session_class=base.get_session_class()"
   ]
  },
  {
   "cell_type": "markdown",
   "metadata": {},
   "source": [
    "## Delete existing database and create new"
   ]
  },
  {
   "cell_type": "code",
   "execution_count": 7,
   "metadata": {},
   "outputs": [],
   "source": [
    "Base.metadata.drop_all(base.engine)\n",
    "Base.metadata.create_all(base.engine)"
   ]
  },
  {
   "cell_type": "markdown",
   "metadata": {},
   "source": [
    "## Sequencing platform details for facility"
   ]
  },
  {
   "cell_type": "code",
   "execution_count": 8,
   "metadata": {
    "collapsed": true
   },
   "outputs": [],
   "source": [
    "platform_data=[{'platform_igf_id':'ILM4K_001', \\\n",
    "                'model_name':'HISEQ4000',\\\n",
    "                'vendor_name':'ILLUMINA', \\\n",
    "                'software_name':'RTA', \\\n",
    "                'software_version':'RTA2'},\n",
    "               {'platform_igf_id':'ILMNS_001', \\\n",
    "                'model_name':'NEXTSEQ',\\\n",
    "                'vendor_name':'ILLUMINA', \\\n",
    "                'software_name':'RTA', \\\n",
    "                'software_version':'RTA2'},\n",
    "               {'platform_igf_id':'ILMMS_001', \\\n",
    "                'model_name':'MISEQ',\\\n",
    "                'vendor_name':'ILLUMINA', \\\n",
    "                'software_name':'RTA', \\\n",
    "                'software_version':'RTA1.18.64'},\n",
    "              ]"
   ]
  },
  {
   "cell_type": "code",
   "execution_count": 9,
   "metadata": {
    "collapsed": true
   },
   "outputs": [],
   "source": [
    "pl=PlatformAdaptor(**{'session_class':base.session_class})\n",
    "pl.start_session()\n",
    "pl.store_platform_data(data=platform_data)"
   ]
  },
  {
   "cell_type": "markdown",
   "metadata": {},
   "source": [
    "### Check sequencing platforms"
   ]
  },
  {
   "cell_type": "code",
   "execution_count": 10,
   "metadata": {
    "collapsed": true
   },
   "outputs": [],
   "source": [
    "pl_data=pl.fetch_records(query=pl.session.query(Platform))"
   ]
  },
  {
   "cell_type": "code",
   "execution_count": 11,
   "metadata": {},
   "outputs": [
    {
     "data": {
      "text/html": [
       "<div>\n",
       "<table border=\"1\" class=\"dataframe\">\n",
       "  <thead>\n",
       "    <tr style=\"text-align: right;\">\n",
       "      <th></th>\n",
       "      <th>platform_igf_id</th>\n",
       "      <th>model_name</th>\n",
       "      <th>vendor_name</th>\n",
       "      <th>software_name</th>\n",
       "      <th>software_version</th>\n",
       "      <th>date_created</th>\n",
       "    </tr>\n",
       "    <tr>\n",
       "      <th>platform_id</th>\n",
       "      <th></th>\n",
       "      <th></th>\n",
       "      <th></th>\n",
       "      <th></th>\n",
       "      <th></th>\n",
       "      <th></th>\n",
       "    </tr>\n",
       "  </thead>\n",
       "  <tbody>\n",
       "    <tr>\n",
       "      <th>1</th>\n",
       "      <td>ILM4K_001</td>\n",
       "      <td>HISEQ4000</td>\n",
       "      <td>ILLUMINA</td>\n",
       "      <td>RTA</td>\n",
       "      <td>RTA2</td>\n",
       "      <td>2017-08-16 15:08:41</td>\n",
       "    </tr>\n",
       "    <tr>\n",
       "      <th>2</th>\n",
       "      <td>ILMNS_001</td>\n",
       "      <td>NEXTSEQ</td>\n",
       "      <td>ILLUMINA</td>\n",
       "      <td>RTA</td>\n",
       "      <td>RTA2</td>\n",
       "      <td>2017-08-16 15:08:41</td>\n",
       "    </tr>\n",
       "    <tr>\n",
       "      <th>3</th>\n",
       "      <td>ILMMS_001</td>\n",
       "      <td>MISEQ</td>\n",
       "      <td>ILLUMINA</td>\n",
       "      <td>RTA</td>\n",
       "      <td>RTA1.18.64</td>\n",
       "      <td>2017-08-16 15:08:41</td>\n",
       "    </tr>\n",
       "  </tbody>\n",
       "</table>\n",
       "</div>"
      ],
      "text/plain": [
       "            platform_igf_id model_name vendor_name software_name  \\\n",
       "platform_id                                                        \n",
       "1                 ILM4K_001  HISEQ4000    ILLUMINA           RTA   \n",
       "2                 ILMNS_001    NEXTSEQ    ILLUMINA           RTA   \n",
       "3                 ILMMS_001      MISEQ    ILLUMINA           RTA   \n",
       "\n",
       "            software_version        date_created  \n",
       "platform_id                                       \n",
       "1                       RTA2 2017-08-16 15:08:41  \n",
       "2                       RTA2 2017-08-16 15:08:41  \n",
       "3                 RTA1.18.64 2017-08-16 15:08:41  "
      ]
     },
     "execution_count": 11,
     "metadata": {},
     "output_type": "execute_result"
    }
   ],
   "source": [
    "pl_data.set_index('platform_id')"
   ]
  },
  {
   "cell_type": "code",
   "execution_count": 12,
   "metadata": {
    "collapsed": true
   },
   "outputs": [],
   "source": [
    "pl.close_session()"
   ]
  },
  {
   "cell_type": "markdown",
   "metadata": {},
   "source": [
    "## Get Project, User and Sample Information"
   ]
  },
  {
   "cell_type": "markdown",
   "metadata": {},
   "source": [
    "Read all the information from project submission form (modification required)"
   ]
  },
  {
   "cell_type": "markdown",
   "metadata": {},
   "source": [
    "## Define and store project data"
   ]
  },
  {
   "cell_type": "code",
   "execution_count": 13,
   "metadata": {
    "collapsed": true
   },
   "outputs": [],
   "source": [
    "data=[{'project_igf_id':'IGFP0003', \\\n",
    "       'project_name':'project_C',  \\\n",
    "       'description':'Its project C', \\\n",
    "       'project_deadline':'Before August 2017', \\\n",
    "       'comments':'Some samples are treated with drug X'},\n",
    "      {'project_igf_id':'IGFP0004', \\\n",
    "       'project_name':'project_D',  \\\n",
    "       'description':'Its project D', \\\n",
    "       'project_deadline':'Second week of July', \\\n",
    "       'special_requirement':'Signal files for RNA samples'}]"
   ]
  },
  {
   "cell_type": "code",
   "execution_count": 14,
   "metadata": {
    "collapsed": true
   },
   "outputs": [],
   "source": [
    "pa=ProjectAdaptor(**{'session_class':base.session_class})\n",
    "pa.start_session()\n",
    "pa.store_project_and_attribute_data(data)"
   ]
  },
  {
   "cell_type": "markdown",
   "metadata": {},
   "source": [
    "### Check projects"
   ]
  },
  {
   "cell_type": "code",
   "execution_count": 15,
   "metadata": {
    "collapsed": true
   },
   "outputs": [],
   "source": [
    "p_data=pa.fetch_records(query=pa.session.query(Project))"
   ]
  },
  {
   "cell_type": "code",
   "execution_count": 16,
   "metadata": {},
   "outputs": [
    {
     "data": {
      "text/html": [
       "<div>\n",
       "<table border=\"1\" class=\"dataframe\">\n",
       "  <thead>\n",
       "    <tr style=\"text-align: right;\">\n",
       "      <th></th>\n",
       "      <th>project_igf_id</th>\n",
       "      <th>project_name</th>\n",
       "      <th>start_timestamp</th>\n",
       "      <th>description</th>\n",
       "      <th>deliverable</th>\n",
       "    </tr>\n",
       "    <tr>\n",
       "      <th>project_id</th>\n",
       "      <th></th>\n",
       "      <th></th>\n",
       "      <th></th>\n",
       "      <th></th>\n",
       "      <th></th>\n",
       "    </tr>\n",
       "  </thead>\n",
       "  <tbody>\n",
       "    <tr>\n",
       "      <th>1</th>\n",
       "      <td>IGFP0003</td>\n",
       "      <td>project_C</td>\n",
       "      <td>2017-08-16 15:10:01</td>\n",
       "      <td>Its project C</td>\n",
       "      <td>FASTQ</td>\n",
       "    </tr>\n",
       "    <tr>\n",
       "      <th>2</th>\n",
       "      <td>IGFP0004</td>\n",
       "      <td>project_D</td>\n",
       "      <td>2017-08-16 15:10:01</td>\n",
       "      <td>Its project D</td>\n",
       "      <td>FASTQ</td>\n",
       "    </tr>\n",
       "  </tbody>\n",
       "</table>\n",
       "</div>"
      ],
      "text/plain": [
       "           project_igf_id project_name     start_timestamp    description  \\\n",
       "project_id                                                                  \n",
       "1                IGFP0003    project_C 2017-08-16 15:10:01  Its project C   \n",
       "2                IGFP0004    project_D 2017-08-16 15:10:01  Its project D   \n",
       "\n",
       "           deliverable  \n",
       "project_id              \n",
       "1                FASTQ  \n",
       "2                FASTQ  "
      ]
     },
     "execution_count": 16,
     "metadata": {},
     "output_type": "execute_result"
    }
   ],
   "source": [
    "p_data.set_index('project_id')"
   ]
  },
  {
   "cell_type": "code",
   "execution_count": 17,
   "metadata": {
    "collapsed": true
   },
   "outputs": [],
   "source": [
    "pa_data=pa.fetch_records(query=pa.session.query(Project_attribute))"
   ]
  },
  {
   "cell_type": "code",
   "execution_count": 18,
   "metadata": {},
   "outputs": [
    {
     "data": {
      "text/html": [
       "<div>\n",
       "<table border=\"1\" class=\"dataframe\">\n",
       "  <thead>\n",
       "    <tr style=\"text-align: right;\">\n",
       "      <th></th>\n",
       "      <th>attribute_name</th>\n",
       "      <th>attribute_value</th>\n",
       "      <th>project_id</th>\n",
       "    </tr>\n",
       "    <tr>\n",
       "      <th>project_attribute_id</th>\n",
       "      <th></th>\n",
       "      <th></th>\n",
       "      <th></th>\n",
       "    </tr>\n",
       "  </thead>\n",
       "  <tbody>\n",
       "    <tr>\n",
       "      <th>2</th>\n",
       "      <td>comments</td>\n",
       "      <td>Some samples are treated with drug X</td>\n",
       "      <td>1</td>\n",
       "    </tr>\n",
       "    <tr>\n",
       "      <th>1</th>\n",
       "      <td>project_deadline</td>\n",
       "      <td>Before August 2017</td>\n",
       "      <td>1</td>\n",
       "    </tr>\n",
       "    <tr>\n",
       "      <th>3</th>\n",
       "      <td>project_deadline</td>\n",
       "      <td>Second week of July</td>\n",
       "      <td>2</td>\n",
       "    </tr>\n",
       "    <tr>\n",
       "      <th>4</th>\n",
       "      <td>special_requirement</td>\n",
       "      <td>Signal files for RNA samples</td>\n",
       "      <td>2</td>\n",
       "    </tr>\n",
       "  </tbody>\n",
       "</table>\n",
       "</div>"
      ],
      "text/plain": [
       "                           attribute_name  \\\n",
       "project_attribute_id                        \n",
       "2                                comments   \n",
       "1                        project_deadline   \n",
       "3                        project_deadline   \n",
       "4                     special_requirement   \n",
       "\n",
       "                                           attribute_value  project_id  \n",
       "project_attribute_id                                                    \n",
       "2                     Some samples are treated with drug X           1  \n",
       "1                                       Before August 2017           1  \n",
       "3                                      Second week of July           2  \n",
       "4                             Signal files for RNA samples           2  "
      ]
     },
     "execution_count": 18,
     "metadata": {},
     "output_type": "execute_result"
    }
   ],
   "source": [
    "pa_data.set_index('project_attribute_id')"
   ]
  },
  {
   "cell_type": "markdown",
   "metadata": {},
   "source": [
    "## Define and store User data"
   ]
  },
  {
   "cell_type": "code",
   "execution_count": 19,
   "metadata": {
    "collapsed": true
   },
   "outputs": [],
   "source": [
    "data=[{'user_igf_id':'IGFC0001', \\\n",
    "       'name':'User A', \\\n",
    "       'email_id':'usera@ic.ac.uk', \\\n",
    "       'username':'usera', \\\n",
    "       'password':'passa'}, \n",
    "      {'user_igf_id':'IGFC0002', \\\n",
    "       'name':'User B', \\\n",
    "       'email_id':'userb@ic.ac.uk', \\\n",
    "       'username':'userb', \\\n",
    "       'hpc_username':'buser', \\\n",
    "       'password':'passb'}\n",
    "     ]"
   ]
  },
  {
   "cell_type": "markdown",
   "metadata": {},
   "source": [
    "### Check users"
   ]
  },
  {
   "cell_type": "code",
   "execution_count": 20,
   "metadata": {
    "collapsed": true
   },
   "outputs": [],
   "source": [
    "ua=UserAdaptor(**{'session_class':base.session_class})\n",
    "ua.start_session()\n",
    "ua.store_user_data(data=data)"
   ]
  },
  {
   "cell_type": "code",
   "execution_count": 21,
   "metadata": {
    "collapsed": true
   },
   "outputs": [],
   "source": [
    "u_data=ua.fetch_records(query=ua.session.query(User))"
   ]
  },
  {
   "cell_type": "code",
   "execution_count": 22,
   "metadata": {},
   "outputs": [
    {
     "data": {
      "text/html": [
       "<div>\n",
       "<table border=\"1\" class=\"dataframe\">\n",
       "  <thead>\n",
       "    <tr style=\"text-align: right;\">\n",
       "      <th></th>\n",
       "      <th>user_igf_id</th>\n",
       "      <th>name</th>\n",
       "      <th>email_id</th>\n",
       "      <th>username</th>\n",
       "      <th>hpc_username</th>\n",
       "      <th>category</th>\n",
       "      <th>status</th>\n",
       "      <th>date_created</th>\n",
       "      <th>password</th>\n",
       "      <th>encryption_salt</th>\n",
       "    </tr>\n",
       "    <tr>\n",
       "      <th>user_id</th>\n",
       "      <th></th>\n",
       "      <th></th>\n",
       "      <th></th>\n",
       "      <th></th>\n",
       "      <th></th>\n",
       "      <th></th>\n",
       "      <th></th>\n",
       "      <th></th>\n",
       "      <th></th>\n",
       "      <th></th>\n",
       "    </tr>\n",
       "  </thead>\n",
       "  <tbody>\n",
       "    <tr>\n",
       "      <th>1</th>\n",
       "      <td>IGFC0001</td>\n",
       "      <td>User A</td>\n",
       "      <td>usera@ic.ac.uk</td>\n",
       "      <td>usera</td>\n",
       "      <td>None</td>\n",
       "      <td>NON_HPC_USER</td>\n",
       "      <td>ACTIVE</td>\n",
       "      <td>2017-08-16 15:10:12</td>\n",
       "      <td>d0c1d497a062b181efd9afcb7ae2f50eeadcb4b7ea3268...</td>\n",
       "      <td>4a29f3c8ca01ad14fe23bbcee1e93b08fe61ba04f4e21a...</td>\n",
       "    </tr>\n",
       "    <tr>\n",
       "      <th>2</th>\n",
       "      <td>IGFC0002</td>\n",
       "      <td>User B</td>\n",
       "      <td>userb@ic.ac.uk</td>\n",
       "      <td>userb</td>\n",
       "      <td>buser</td>\n",
       "      <td>HPC_USER</td>\n",
       "      <td>ACTIVE</td>\n",
       "      <td>2017-08-16 15:10:12</td>\n",
       "      <td>e268e5fb093fffaf083eaeefad77eff733a0679baf30f9...</td>\n",
       "      <td>55114b16d46af67fc1a7309a0b65fb91f1c6958616fda8...</td>\n",
       "    </tr>\n",
       "  </tbody>\n",
       "</table>\n",
       "</div>"
      ],
      "text/plain": [
       "        user_igf_id    name        email_id username hpc_username  \\\n",
       "user_id                                                             \n",
       "1          IGFC0001  User A  usera@ic.ac.uk    usera         None   \n",
       "2          IGFC0002  User B  userb@ic.ac.uk    userb        buser   \n",
       "\n",
       "             category  status        date_created  \\\n",
       "user_id                                             \n",
       "1        NON_HPC_USER  ACTIVE 2017-08-16 15:10:12   \n",
       "2            HPC_USER  ACTIVE 2017-08-16 15:10:12   \n",
       "\n",
       "                                                  password  \\\n",
       "user_id                                                      \n",
       "1        d0c1d497a062b181efd9afcb7ae2f50eeadcb4b7ea3268...   \n",
       "2        e268e5fb093fffaf083eaeefad77eff733a0679baf30f9...   \n",
       "\n",
       "                                           encryption_salt  \n",
       "user_id                                                     \n",
       "1        4a29f3c8ca01ad14fe23bbcee1e93b08fe61ba04f4e21a...  \n",
       "2        55114b16d46af67fc1a7309a0b65fb91f1c6958616fda8...  "
      ]
     },
     "execution_count": 22,
     "metadata": {},
     "output_type": "execute_result"
    }
   ],
   "source": [
    "u_data.set_index('user_id')"
   ]
  },
  {
   "cell_type": "code",
   "execution_count": 23,
   "metadata": {
    "collapsed": true
   },
   "outputs": [],
   "source": [
    "ua.close_session()"
   ]
  },
  {
   "cell_type": "markdown",
   "metadata": {},
   "source": [
    "## Link users to relevant projects"
   ]
  },
  {
   "cell_type": "code",
   "execution_count": 24,
   "metadata": {
    "collapsed": true
   },
   "outputs": [],
   "source": [
    "project_user_data=[{'project_igf_id': 'IGFP0003', 'user_igf_id': 'IGFC0001', 'data_authority':True},\n",
    "                   {'project_igf_id': 'IGFP0003', 'user_igf_id': 'IGFC0002' },\n",
    "                   {'project_igf_id': 'IGFP0004', 'user_igf_id': 'IGFC0002', 'data_authority':True}\n",
    "                  ]"
   ]
  },
  {
   "cell_type": "code",
   "execution_count": 25,
   "metadata": {
    "collapsed": true
   },
   "outputs": [],
   "source": [
    "pa.assign_user_to_project(data=project_user_data)"
   ]
  },
  {
   "cell_type": "code",
   "execution_count": 26,
   "metadata": {
    "collapsed": true
   },
   "outputs": [],
   "source": [
    "pu_data=pa.get_project_user_info()"
   ]
  },
  {
   "cell_type": "markdown",
   "metadata": {},
   "source": [
    "### Check project users"
   ]
  },
  {
   "cell_type": "code",
   "execution_count": 27,
   "metadata": {},
   "outputs": [
    {
     "data": {
      "text/html": [
       "<div>\n",
       "<table border=\"1\" class=\"dataframe\">\n",
       "  <thead>\n",
       "    <tr style=\"text-align: right;\">\n",
       "      <th></th>\n",
       "      <th>project_igf_id</th>\n",
       "      <th>project_name</th>\n",
       "      <th>start_timestamp</th>\n",
       "      <th>description</th>\n",
       "      <th>deliverable</th>\n",
       "      <th>user_id</th>\n",
       "      <th>user_igf_id</th>\n",
       "      <th>name</th>\n",
       "      <th>email_id</th>\n",
       "      <th>username</th>\n",
       "      <th>hpc_username</th>\n",
       "      <th>category</th>\n",
       "      <th>status</th>\n",
       "      <th>date_created</th>\n",
       "      <th>password</th>\n",
       "      <th>encryption_salt</th>\n",
       "      <th>data_authority</th>\n",
       "    </tr>\n",
       "    <tr>\n",
       "      <th>project_id</th>\n",
       "      <th></th>\n",
       "      <th></th>\n",
       "      <th></th>\n",
       "      <th></th>\n",
       "      <th></th>\n",
       "      <th></th>\n",
       "      <th></th>\n",
       "      <th></th>\n",
       "      <th></th>\n",
       "      <th></th>\n",
       "      <th></th>\n",
       "      <th></th>\n",
       "      <th></th>\n",
       "      <th></th>\n",
       "      <th></th>\n",
       "      <th></th>\n",
       "      <th></th>\n",
       "    </tr>\n",
       "  </thead>\n",
       "  <tbody>\n",
       "    <tr>\n",
       "      <th>1</th>\n",
       "      <td>IGFP0003</td>\n",
       "      <td>project_C</td>\n",
       "      <td>2017-08-16 15:10:01</td>\n",
       "      <td>Its project C</td>\n",
       "      <td>FASTQ</td>\n",
       "      <td>1</td>\n",
       "      <td>IGFC0001</td>\n",
       "      <td>User A</td>\n",
       "      <td>usera@ic.ac.uk</td>\n",
       "      <td>usera</td>\n",
       "      <td>None</td>\n",
       "      <td>NON_HPC_USER</td>\n",
       "      <td>ACTIVE</td>\n",
       "      <td>2017-08-16 15:10:12</td>\n",
       "      <td>d0c1d497a062b181efd9afcb7ae2f50eeadcb4b7ea3268...</td>\n",
       "      <td>4a29f3c8ca01ad14fe23bbcee1e93b08fe61ba04f4e21a...</td>\n",
       "      <td>T</td>\n",
       "    </tr>\n",
       "    <tr>\n",
       "      <th>1</th>\n",
       "      <td>IGFP0003</td>\n",
       "      <td>project_C</td>\n",
       "      <td>2017-08-16 15:10:01</td>\n",
       "      <td>Its project C</td>\n",
       "      <td>FASTQ</td>\n",
       "      <td>2</td>\n",
       "      <td>IGFC0002</td>\n",
       "      <td>User B</td>\n",
       "      <td>userb@ic.ac.uk</td>\n",
       "      <td>userb</td>\n",
       "      <td>buser</td>\n",
       "      <td>HPC_USER</td>\n",
       "      <td>ACTIVE</td>\n",
       "      <td>2017-08-16 15:10:12</td>\n",
       "      <td>e268e5fb093fffaf083eaeefad77eff733a0679baf30f9...</td>\n",
       "      <td>55114b16d46af67fc1a7309a0b65fb91f1c6958616fda8...</td>\n",
       "      <td>None</td>\n",
       "    </tr>\n",
       "    <tr>\n",
       "      <th>2</th>\n",
       "      <td>IGFP0004</td>\n",
       "      <td>project_D</td>\n",
       "      <td>2017-08-16 15:10:01</td>\n",
       "      <td>Its project D</td>\n",
       "      <td>FASTQ</td>\n",
       "      <td>2</td>\n",
       "      <td>IGFC0002</td>\n",
       "      <td>User B</td>\n",
       "      <td>userb@ic.ac.uk</td>\n",
       "      <td>userb</td>\n",
       "      <td>buser</td>\n",
       "      <td>HPC_USER</td>\n",
       "      <td>ACTIVE</td>\n",
       "      <td>2017-08-16 15:10:12</td>\n",
       "      <td>e268e5fb093fffaf083eaeefad77eff733a0679baf30f9...</td>\n",
       "      <td>55114b16d46af67fc1a7309a0b65fb91f1c6958616fda8...</td>\n",
       "      <td>T</td>\n",
       "    </tr>\n",
       "  </tbody>\n",
       "</table>\n",
       "</div>"
      ],
      "text/plain": [
       "           project_igf_id project_name     start_timestamp    description  \\\n",
       "project_id                                                                  \n",
       "1                IGFP0003    project_C 2017-08-16 15:10:01  Its project C   \n",
       "1                IGFP0003    project_C 2017-08-16 15:10:01  Its project C   \n",
       "2                IGFP0004    project_D 2017-08-16 15:10:01  Its project D   \n",
       "\n",
       "           deliverable  user_id user_igf_id    name        email_id username  \\\n",
       "project_id                                                                     \n",
       "1                FASTQ        1    IGFC0001  User A  usera@ic.ac.uk    usera   \n",
       "1                FASTQ        2    IGFC0002  User B  userb@ic.ac.uk    userb   \n",
       "2                FASTQ        2    IGFC0002  User B  userb@ic.ac.uk    userb   \n",
       "\n",
       "           hpc_username      category  status        date_created  \\\n",
       "project_id                                                          \n",
       "1                  None  NON_HPC_USER  ACTIVE 2017-08-16 15:10:12   \n",
       "1                 buser      HPC_USER  ACTIVE 2017-08-16 15:10:12   \n",
       "2                 buser      HPC_USER  ACTIVE 2017-08-16 15:10:12   \n",
       "\n",
       "                                                     password  \\\n",
       "project_id                                                      \n",
       "1           d0c1d497a062b181efd9afcb7ae2f50eeadcb4b7ea3268...   \n",
       "1           e268e5fb093fffaf083eaeefad77eff733a0679baf30f9...   \n",
       "2           e268e5fb093fffaf083eaeefad77eff733a0679baf30f9...   \n",
       "\n",
       "                                              encryption_salt data_authority  \n",
       "project_id                                                                    \n",
       "1           4a29f3c8ca01ad14fe23bbcee1e93b08fe61ba04f4e21a...              T  \n",
       "1           55114b16d46af67fc1a7309a0b65fb91f1c6958616fda8...           None  \n",
       "2           55114b16d46af67fc1a7309a0b65fb91f1c6958616fda8...              T  "
      ]
     },
     "execution_count": 27,
     "metadata": {},
     "output_type": "execute_result"
    }
   ],
   "source": [
    "pu_data.set_index('project_id')"
   ]
  },
  {
   "cell_type": "code",
   "execution_count": 28,
   "metadata": {
    "collapsed": true
   },
   "outputs": [],
   "source": [
    "pa.close_session()"
   ]
  },
  {
   "cell_type": "markdown",
   "metadata": {},
   "source": [
    "## Define and store samples"
   ]
  },
  {
   "cell_type": "code",
   "execution_count": 29,
   "metadata": {
    "collapsed": true
   },
   "outputs": [],
   "source": [
    "sample_data=[{'sample_igf_id':'IGFS0001', \\\n",
    "              'taxon_id':'9606',\\\n",
    "              'scientific_name':'Homo sapiens',\\\n",
    "              'common_name':'human',\\\n",
    "              'donor_anonymized_id':'donor_001',\\\n",
    "              'description':'Sample A from donor 001',\\\n",
    "              'phenotype':'Healthy',\\\n",
    "              'sex':'FEMALE',\\\n",
    "              'project_igf_id':'IGFP0003',\\\n",
    "              'sample_tube':'tube001',\\\n",
    "              'sample_library':'IGFS0001_20170628'},\n",
    "             {'sample_igf_id':'IGFS0002', \\\n",
    "              'taxon_id':'9606',\\\n",
    "              'scientific_name':'Homo sapiens',\\\n",
    "              'common_name':'human',\\\n",
    "              'donor_anonymized_id':'donor_002',\\\n",
    "              'description':'Sample B from donor 002',\\\n",
    "              'phenotype':'Cancer',\\\n",
    "              'sex':'FEMALE',\\\n",
    "              'project_igf_id':'IGFP0003',\\\n",
    "              'sample_tube':'tube002',\\\n",
    "              'sample_library':'IGFS0002_20170628'},\n",
    "            ]"
   ]
  },
  {
   "cell_type": "code",
   "execution_count": 30,
   "metadata": {
    "collapsed": true
   },
   "outputs": [],
   "source": [
    "sa=SampleAdaptor(**{'session_class':base.session_class})\n",
    "sa.start_session()\n",
    "sa.store_sample_and_attribute_data(data=sample_data)"
   ]
  },
  {
   "cell_type": "markdown",
   "metadata": {},
   "source": [
    "### Check Samples"
   ]
  },
  {
   "cell_type": "code",
   "execution_count": 31,
   "metadata": {
    "collapsed": true
   },
   "outputs": [],
   "source": [
    "s_data=sa.fetch_records(sa.session.query(Sample))"
   ]
  },
  {
   "cell_type": "code",
   "execution_count": 32,
   "metadata": {},
   "outputs": [
    {
     "data": {
      "text/html": [
       "<div>\n",
       "<table border=\"1\" class=\"dataframe\">\n",
       "  <thead>\n",
       "    <tr style=\"text-align: right;\">\n",
       "      <th></th>\n",
       "      <th>sample_igf_id</th>\n",
       "      <th>taxon_id</th>\n",
       "      <th>scientific_name</th>\n",
       "      <th>common_name</th>\n",
       "      <th>donor_anonymized_id</th>\n",
       "      <th>description</th>\n",
       "      <th>phenotype</th>\n",
       "      <th>sex</th>\n",
       "      <th>status</th>\n",
       "      <th>biomaterial_type</th>\n",
       "      <th>cell_type</th>\n",
       "      <th>tissue_type</th>\n",
       "      <th>cell_line</th>\n",
       "      <th>date_created</th>\n",
       "      <th>project_id</th>\n",
       "    </tr>\n",
       "    <tr>\n",
       "      <th>sample_id</th>\n",
       "      <th></th>\n",
       "      <th></th>\n",
       "      <th></th>\n",
       "      <th></th>\n",
       "      <th></th>\n",
       "      <th></th>\n",
       "      <th></th>\n",
       "      <th></th>\n",
       "      <th></th>\n",
       "      <th></th>\n",
       "      <th></th>\n",
       "      <th></th>\n",
       "      <th></th>\n",
       "      <th></th>\n",
       "      <th></th>\n",
       "    </tr>\n",
       "  </thead>\n",
       "  <tbody>\n",
       "    <tr>\n",
       "      <th>1</th>\n",
       "      <td>IGFS0001</td>\n",
       "      <td>9606</td>\n",
       "      <td>Homo sapiens</td>\n",
       "      <td>human</td>\n",
       "      <td>donor_001</td>\n",
       "      <td>Sample A from donor 001</td>\n",
       "      <td>Healthy</td>\n",
       "      <td>FEMALE</td>\n",
       "      <td>ACTIVE</td>\n",
       "      <td>UNKNOWN</td>\n",
       "      <td>None</td>\n",
       "      <td>None</td>\n",
       "      <td>None</td>\n",
       "      <td>2017-08-16 15:10:27</td>\n",
       "      <td>1</td>\n",
       "    </tr>\n",
       "    <tr>\n",
       "      <th>2</th>\n",
       "      <td>IGFS0002</td>\n",
       "      <td>9606</td>\n",
       "      <td>Homo sapiens</td>\n",
       "      <td>human</td>\n",
       "      <td>donor_002</td>\n",
       "      <td>Sample B from donor 002</td>\n",
       "      <td>Cancer</td>\n",
       "      <td>FEMALE</td>\n",
       "      <td>ACTIVE</td>\n",
       "      <td>UNKNOWN</td>\n",
       "      <td>None</td>\n",
       "      <td>None</td>\n",
       "      <td>None</td>\n",
       "      <td>2017-08-16 15:10:27</td>\n",
       "      <td>1</td>\n",
       "    </tr>\n",
       "  </tbody>\n",
       "</table>\n",
       "</div>"
      ],
      "text/plain": [
       "          sample_igf_id  taxon_id scientific_name common_name  \\\n",
       "sample_id                                                       \n",
       "1              IGFS0001      9606    Homo sapiens       human   \n",
       "2              IGFS0002      9606    Homo sapiens       human   \n",
       "\n",
       "          donor_anonymized_id              description phenotype     sex  \\\n",
       "sample_id                                                                  \n",
       "1                   donor_001  Sample A from donor 001   Healthy  FEMALE   \n",
       "2                   donor_002  Sample B from donor 002    Cancer  FEMALE   \n",
       "\n",
       "           status biomaterial_type cell_type tissue_type cell_line  \\\n",
       "sample_id                                                            \n",
       "1          ACTIVE          UNKNOWN      None        None      None   \n",
       "2          ACTIVE          UNKNOWN      None        None      None   \n",
       "\n",
       "                 date_created  project_id  \n",
       "sample_id                                  \n",
       "1         2017-08-16 15:10:27           1  \n",
       "2         2017-08-16 15:10:27           1  "
      ]
     },
     "execution_count": 32,
     "metadata": {},
     "output_type": "execute_result"
    }
   ],
   "source": [
    "s_data.set_index('sample_id')"
   ]
  },
  {
   "cell_type": "code",
   "execution_count": 33,
   "metadata": {
    "collapsed": true
   },
   "outputs": [],
   "source": [
    "sa_data=sa.fetch_records(sa.session.query(Sample_attribute))"
   ]
  },
  {
   "cell_type": "code",
   "execution_count": 34,
   "metadata": {},
   "outputs": [
    {
     "data": {
      "text/html": [
       "<div>\n",
       "<table border=\"1\" class=\"dataframe\">\n",
       "  <thead>\n",
       "    <tr style=\"text-align: right;\">\n",
       "      <th></th>\n",
       "      <th>attribute_name</th>\n",
       "      <th>attribute_value</th>\n",
       "      <th>sample_id</th>\n",
       "    </tr>\n",
       "    <tr>\n",
       "      <th>sample_attribute_id</th>\n",
       "      <th></th>\n",
       "      <th></th>\n",
       "      <th></th>\n",
       "    </tr>\n",
       "  </thead>\n",
       "  <tbody>\n",
       "    <tr>\n",
       "      <th>1</th>\n",
       "      <td>sample_library</td>\n",
       "      <td>IGFS0001_20170628</td>\n",
       "      <td>1</td>\n",
       "    </tr>\n",
       "    <tr>\n",
       "      <th>2</th>\n",
       "      <td>sample_tube</td>\n",
       "      <td>tube001</td>\n",
       "      <td>1</td>\n",
       "    </tr>\n",
       "    <tr>\n",
       "      <th>3</th>\n",
       "      <td>sample_library</td>\n",
       "      <td>IGFS0002_20170628</td>\n",
       "      <td>2</td>\n",
       "    </tr>\n",
       "    <tr>\n",
       "      <th>4</th>\n",
       "      <td>sample_tube</td>\n",
       "      <td>tube002</td>\n",
       "      <td>2</td>\n",
       "    </tr>\n",
       "  </tbody>\n",
       "</table>\n",
       "</div>"
      ],
      "text/plain": [
       "                     attribute_name    attribute_value  sample_id\n",
       "sample_attribute_id                                              \n",
       "1                    sample_library  IGFS0001_20170628          1\n",
       "2                       sample_tube            tube001          1\n",
       "3                    sample_library  IGFS0002_20170628          2\n",
       "4                       sample_tube            tube002          2"
      ]
     },
     "execution_count": 34,
     "metadata": {},
     "output_type": "execute_result"
    }
   ],
   "source": [
    "sa_data.set_index('sample_attribute_id')"
   ]
  },
  {
   "cell_type": "code",
   "execution_count": 35,
   "metadata": {
    "collapsed": true
   },
   "outputs": [],
   "source": [
    "sa.close_session()"
   ]
  },
  {
   "cell_type": "markdown",
   "metadata": {},
   "source": [
    "## Find new sequencing runs and load information"
   ]
  },
  {
   "cell_type": "markdown",
   "metadata": {},
   "source": [
    "* Look for new sequencing runs (seqrun) in the target directory\n",
    "* Steps after a new run directory is created\n",
    "   1. Read the Samplesheet.csv file and get the Project and Samples details\n",
    "   2. Define new Experiments and Runs based on samplesheet data\n",
    "    \n",
    "      Library:    Its an unique library information. I will consider library for each sequencing run as unique\n",
    "                  e.g. library prepared for sample_A on 07/07/2017 is sample_A_20170707\n",
    "      Experiment: Its is an unique combination of Sample + Library + Sequencing platform type\n",
    "                   e.g. a. sample_A has a library sample_A_20170707 and it was sequenced on Hiseq 4000 twice. All the data for sample_A from two sequencing runs will get combined under a single experiment\n",
    "                        b. Library sample_A_20170707 was sequenced twice on two different platforms,                   it will have two separate experiments for each sequencing runs\n",
    "       Run:       Fastq files for a sample in a particular lane is considered as a single run\n",
    "                  e.g. sample_A was present only on lane_1 of a hiseq data, it will have only one run.                  For a NextSeq sequencing run, it will have 4 runs\n",
    "   3. Generate the fastq files and assign them to relevent 'Run's after the demultiplexing event                  "
   ]
  },
  {
   "cell_type": "markdown",
   "metadata": {},
   "source": [
    "## Load sequencing Run details"
   ]
  },
  {
   "cell_type": "code",
   "execution_count": 36,
   "metadata": {
    "collapsed": true
   },
   "outputs": [],
   "source": [
    "seqrun_data=[{'seqrun_igf_id':'170627_K00345_0012_AHJJKTBBXX', \n",
    "              'flowcell_id':'AHJJKTBBXX', \n",
    "              'platform_igf_id':'ILM4K_001',\n",
    "              'Read1':'151', \n",
    "              'IndexRead1':'8',\n",
    "              'IndexRead2':'8',\n",
    "              'Read2':'151'},\n",
    "             {'seqrun_igf_id':'170627_M03291_0071_000000000-D0V30', \n",
    "              'flowcell_id':'D0V30', \n",
    "              'platform_igf_id':'ILM4K_001',\n",
    "              'Read1':'151', \n",
    "              'IndexRead1':'6',\n",
    "              'IndexRead2':'0',\n",
    "              'Read2':'0'},\n",
    "            ]\n"
   ]
  },
  {
   "cell_type": "code",
   "execution_count": 37,
   "metadata": {
    "collapsed": true
   },
   "outputs": [],
   "source": [
    "sra=SeqrunAdaptor(**{'session_class':base.session_class})\n",
    "sra.start_session()\n",
    "sra.store_seqrun_and_attribute_data(data=seqrun_data)"
   ]
  },
  {
   "cell_type": "markdown",
   "metadata": {},
   "source": [
    "### check sequencing runs"
   ]
  },
  {
   "cell_type": "code",
   "execution_count": 38,
   "metadata": {
    "collapsed": true
   },
   "outputs": [],
   "source": [
    "sra_data=sra.fetch_records(sra.session.query(Seqrun))"
   ]
  },
  {
   "cell_type": "code",
   "execution_count": 39,
   "metadata": {},
   "outputs": [
    {
     "data": {
      "text/html": [
       "<div>\n",
       "<table border=\"1\" class=\"dataframe\">\n",
       "  <thead>\n",
       "    <tr style=\"text-align: right;\">\n",
       "      <th></th>\n",
       "      <th>seqrun_igf_id</th>\n",
       "      <th>reject_run</th>\n",
       "      <th>date_created</th>\n",
       "      <th>flowcell_id</th>\n",
       "      <th>platform_id</th>\n",
       "    </tr>\n",
       "    <tr>\n",
       "      <th>seqrun_id</th>\n",
       "      <th></th>\n",
       "      <th></th>\n",
       "      <th></th>\n",
       "      <th></th>\n",
       "      <th></th>\n",
       "    </tr>\n",
       "  </thead>\n",
       "  <tbody>\n",
       "    <tr>\n",
       "      <th>1</th>\n",
       "      <td>170627_K00345_0012_AHJJKTBBXX</td>\n",
       "      <td>N</td>\n",
       "      <td>2017-08-16 15:12:23</td>\n",
       "      <td>AHJJKTBBXX</td>\n",
       "      <td>1</td>\n",
       "    </tr>\n",
       "    <tr>\n",
       "      <th>2</th>\n",
       "      <td>170627_M03291_0071_000000000-D0V30</td>\n",
       "      <td>N</td>\n",
       "      <td>2017-08-16 15:12:23</td>\n",
       "      <td>D0V30</td>\n",
       "      <td>1</td>\n",
       "    </tr>\n",
       "  </tbody>\n",
       "</table>\n",
       "</div>"
      ],
      "text/plain": [
       "                                seqrun_igf_id reject_run        date_created  \\\n",
       "seqrun_id                                                                      \n",
       "1               170627_K00345_0012_AHJJKTBBXX          N 2017-08-16 15:12:23   \n",
       "2          170627_M03291_0071_000000000-D0V30          N 2017-08-16 15:12:23   \n",
       "\n",
       "          flowcell_id  platform_id  \n",
       "seqrun_id                           \n",
       "1          AHJJKTBBXX            1  \n",
       "2               D0V30            1  "
      ]
     },
     "execution_count": 39,
     "metadata": {},
     "output_type": "execute_result"
    }
   ],
   "source": [
    "sra_data.set_index('seqrun_id')"
   ]
  },
  {
   "cell_type": "code",
   "execution_count": 47,
   "metadata": {
    "collapsed": true
   },
   "outputs": [],
   "source": [
    "sra_at_data=sra.fetch_records(sra.session.query(Seqrun_attribute))"
   ]
  },
  {
   "cell_type": "code",
   "execution_count": 41,
   "metadata": {},
   "outputs": [
    {
     "data": {
      "text/html": [
       "<div>\n",
       "<table border=\"1\" class=\"dataframe\">\n",
       "  <thead>\n",
       "    <tr style=\"text-align: right;\">\n",
       "      <th></th>\n",
       "      <th>attribute_name</th>\n",
       "      <th>attribute_value</th>\n",
       "      <th>seqrun_id</th>\n",
       "    </tr>\n",
       "    <tr>\n",
       "      <th>seqrun_attribute_id</th>\n",
       "      <th></th>\n",
       "      <th></th>\n",
       "      <th></th>\n",
       "    </tr>\n",
       "  </thead>\n",
       "  <tbody>\n",
       "    <tr>\n",
       "      <th>3</th>\n",
       "      <td>IndexRead1</td>\n",
       "      <td>8</td>\n",
       "      <td>1</td>\n",
       "    </tr>\n",
       "    <tr>\n",
       "      <th>2</th>\n",
       "      <td>IndexRead2</td>\n",
       "      <td>8</td>\n",
       "      <td>1</td>\n",
       "    </tr>\n",
       "    <tr>\n",
       "      <th>4</th>\n",
       "      <td>Read1</td>\n",
       "      <td>151</td>\n",
       "      <td>1</td>\n",
       "    </tr>\n",
       "    <tr>\n",
       "      <th>1</th>\n",
       "      <td>Read2</td>\n",
       "      <td>151</td>\n",
       "      <td>1</td>\n",
       "    </tr>\n",
       "    <tr>\n",
       "      <th>7</th>\n",
       "      <td>IndexRead1</td>\n",
       "      <td>6</td>\n",
       "      <td>2</td>\n",
       "    </tr>\n",
       "    <tr>\n",
       "      <th>6</th>\n",
       "      <td>IndexRead2</td>\n",
       "      <td>0</td>\n",
       "      <td>2</td>\n",
       "    </tr>\n",
       "    <tr>\n",
       "      <th>8</th>\n",
       "      <td>Read1</td>\n",
       "      <td>151</td>\n",
       "      <td>2</td>\n",
       "    </tr>\n",
       "    <tr>\n",
       "      <th>5</th>\n",
       "      <td>Read2</td>\n",
       "      <td>0</td>\n",
       "      <td>2</td>\n",
       "    </tr>\n",
       "  </tbody>\n",
       "</table>\n",
       "</div>"
      ],
      "text/plain": [
       "                    attribute_name attribute_value  seqrun_id\n",
       "seqrun_attribute_id                                          \n",
       "3                       IndexRead1               8          1\n",
       "2                       IndexRead2               8          1\n",
       "4                            Read1             151          1\n",
       "1                            Read2             151          1\n",
       "7                       IndexRead1               6          2\n",
       "6                       IndexRead2               0          2\n",
       "8                            Read1             151          2\n",
       "5                            Read2               0          2"
      ]
     },
     "execution_count": 41,
     "metadata": {},
     "output_type": "execute_result"
    }
   ],
   "source": [
    "sra_at_data.set_index('seqrun_attribute_id')"
   ]
  },
  {
   "cell_type": "code",
   "execution_count": 42,
   "metadata": {
    "collapsed": true
   },
   "outputs": [],
   "source": [
    "seqrun_stats_data=[{'seqrun_igf_id':'170627_K00345_0012_AHJJKTBBXX',\n",
    "                    'lane_number':'1',\n",
    "                    'bases_mask':'y150n1,i8,i8,y150n1',\n",
    "                    'undetermined_barcodes':[{'barcode':'ATTTA+GGGC','count':50,},\n",
    "                                             {'barcode':'TTTA+CCCG','count':150}],\n",
    "                    'known_barcodes':[{'barcode':'AAAAA+TTTT','count':10,},\n",
    "                                      {'barcode':'CCCC+GGGG','count':20}],\n",
    "                    'undetermined_fastqc':{'read1':{'number':130},\n",
    "                                           'read2':{'number':130}},\n",
    "                   }\n",
    "                  ]"
   ]
  },
  {
   "cell_type": "code",
   "execution_count": 43,
   "metadata": {
    "collapsed": true
   },
   "outputs": [],
   "source": [
    "sra.store_seqrun_stats_data(data=seqrun_stats_data)"
   ]
  },
  {
   "cell_type": "code",
   "execution_count": 48,
   "metadata": {},
   "outputs": [],
   "source": [
    "sra_st_data=sra.fetch_records(sra.session.query(Seqrun_stats))"
   ]
  },
  {
   "cell_type": "code",
   "execution_count": 49,
   "metadata": {},
   "outputs": [
    {
     "data": {
      "text/html": [
       "<div>\n",
       "<table border=\"1\" class=\"dataframe\">\n",
       "  <thead>\n",
       "    <tr style=\"text-align: right;\">\n",
       "      <th></th>\n",
       "      <th>seqrun_id</th>\n",
       "      <th>lane_number</th>\n",
       "      <th>bases_mask</th>\n",
       "      <th>undetermined_barcodes</th>\n",
       "      <th>known_barcodes</th>\n",
       "      <th>undetermined_fastqc</th>\n",
       "    </tr>\n",
       "    <tr>\n",
       "      <th>seqrun_stats_id</th>\n",
       "      <th></th>\n",
       "      <th></th>\n",
       "      <th></th>\n",
       "      <th></th>\n",
       "      <th></th>\n",
       "      <th></th>\n",
       "    </tr>\n",
       "  </thead>\n",
       "  <tbody>\n",
       "    <tr>\n",
       "      <th>1</th>\n",
       "      <td>1</td>\n",
       "      <td>1</td>\n",
       "      <td>y150n1,i8,i8,y150n1</td>\n",
       "      <td>[{'count': 50, 'barcode': 'ATTTA+GGGC'}, {'cou...</td>\n",
       "      <td>[{'count': 10, 'barcode': 'AAAAA+TTTT'}, {'cou...</td>\n",
       "      <td>{'read1': {'number': 130}, 'read2': {'number':...</td>\n",
       "    </tr>\n",
       "  </tbody>\n",
       "</table>\n",
       "</div>"
      ],
      "text/plain": [
       "                 seqrun_id lane_number           bases_mask  \\\n",
       "seqrun_stats_id                                               \n",
       "1                        1           1  y150n1,i8,i8,y150n1   \n",
       "\n",
       "                                             undetermined_barcodes  \\\n",
       "seqrun_stats_id                                                      \n",
       "1                [{'count': 50, 'barcode': 'ATTTA+GGGC'}, {'cou...   \n",
       "\n",
       "                                                    known_barcodes  \\\n",
       "seqrun_stats_id                                                      \n",
       "1                [{'count': 10, 'barcode': 'AAAAA+TTTT'}, {'cou...   \n",
       "\n",
       "                                               undetermined_fastqc  \n",
       "seqrun_stats_id                                                     \n",
       "1                {'read1': {'number': 130}, 'read2': {'number':...  "
      ]
     },
     "execution_count": 49,
     "metadata": {},
     "output_type": "execute_result"
    }
   ],
   "source": [
    "sra_st_data.set_index('seqrun_stats_id')"
   ]
  },
  {
   "cell_type": "code",
   "execution_count": 50,
   "metadata": {
    "collapsed": true
   },
   "outputs": [],
   "source": [
    "sra.close_session()"
   ]
  },
  {
   "cell_type": "markdown",
   "metadata": {},
   "source": [
    "## Define and store experiment"
   ]
  },
  {
   "cell_type": "code",
   "execution_count": 51,
   "metadata": {
    "collapsed": true
   },
   "outputs": [],
   "source": [
    "exp_data=[{'experiment_igf_id':'IGFS0001_20170628_IH4',\n",
    "           'library_name':'IGFS0001_20170628',\n",
    "           'library_strategy':'RNA-SEQ',\n",
    "           'experiment_type':'TOTAL-RNA',\n",
    "           'library_layout':'PAIRED',\n",
    "           'project_igf_id':'IGFP0003',\n",
    "           'sample_igf_id':'IGFS0001',\n",
    "           'platform_name':'HISEQ4000'},\n",
    "          {'experiment_igf_id':'IGFS0002_20170628_IH4',\n",
    "           'library_name':'IGFS0002_20170628',\n",
    "           'library_strategy':'RNA-SEQ',\n",
    "           'experiment_type':'TOTAL-RNA',\n",
    "           'library_layout':'PAIRED',\n",
    "           'project_igf_id':'IGFP0003',\n",
    "           'sample_igf_id':'IGFS0002',\n",
    "           'platform_name':'HISEQ4000'},\n",
    "          ]"
   ]
  },
  {
   "cell_type": "code",
   "execution_count": 52,
   "metadata": {
    "collapsed": true
   },
   "outputs": [],
   "source": [
    "ea=ExperimentAdaptor(**{'session_class':base.session_class})\n",
    "ea.start_session()\n",
    "ea.store_project_and_attribute_data(data=exp_data)"
   ]
  },
  {
   "cell_type": "markdown",
   "metadata": {},
   "source": [
    "### Check experiments"
   ]
  },
  {
   "cell_type": "code",
   "execution_count": 53,
   "metadata": {
    "collapsed": true
   },
   "outputs": [],
   "source": [
    "e_data=ea.fetch_records(ea.session.query(Experiment))"
   ]
  },
  {
   "cell_type": "code",
   "execution_count": 54,
   "metadata": {},
   "outputs": [
    {
     "data": {
      "text/html": [
       "<div>\n",
       "<table border=\"1\" class=\"dataframe\">\n",
       "  <thead>\n",
       "    <tr style=\"text-align: right;\">\n",
       "      <th></th>\n",
       "      <th>experiment_igf_id</th>\n",
       "      <th>project_id</th>\n",
       "      <th>sample_id</th>\n",
       "      <th>library_name</th>\n",
       "      <th>library_source</th>\n",
       "      <th>library_strategy</th>\n",
       "      <th>experiment_type</th>\n",
       "      <th>library_layout</th>\n",
       "      <th>status</th>\n",
       "      <th>date_created</th>\n",
       "      <th>platform_name</th>\n",
       "    </tr>\n",
       "    <tr>\n",
       "      <th>experiment_id</th>\n",
       "      <th></th>\n",
       "      <th></th>\n",
       "      <th></th>\n",
       "      <th></th>\n",
       "      <th></th>\n",
       "      <th></th>\n",
       "      <th></th>\n",
       "      <th></th>\n",
       "      <th></th>\n",
       "      <th></th>\n",
       "      <th></th>\n",
       "    </tr>\n",
       "  </thead>\n",
       "  <tbody>\n",
       "    <tr>\n",
       "      <th>1</th>\n",
       "      <td>IGFS0001_20170628_IH4</td>\n",
       "      <td>1</td>\n",
       "      <td>1</td>\n",
       "      <td>IGFS0001_20170628</td>\n",
       "      <td>UNKNOWN</td>\n",
       "      <td>RNA-SEQ</td>\n",
       "      <td>TOTAL-RNA</td>\n",
       "      <td>PAIRED</td>\n",
       "      <td>ACTIVE</td>\n",
       "      <td>2017-08-16 15:15:46</td>\n",
       "      <td>HISEQ4000</td>\n",
       "    </tr>\n",
       "    <tr>\n",
       "      <th>2</th>\n",
       "      <td>IGFS0002_20170628_IH4</td>\n",
       "      <td>1</td>\n",
       "      <td>2</td>\n",
       "      <td>IGFS0002_20170628</td>\n",
       "      <td>UNKNOWN</td>\n",
       "      <td>RNA-SEQ</td>\n",
       "      <td>TOTAL-RNA</td>\n",
       "      <td>PAIRED</td>\n",
       "      <td>ACTIVE</td>\n",
       "      <td>2017-08-16 15:15:46</td>\n",
       "      <td>HISEQ4000</td>\n",
       "    </tr>\n",
       "  </tbody>\n",
       "</table>\n",
       "</div>"
      ],
      "text/plain": [
       "                   experiment_igf_id  project_id  sample_id  \\\n",
       "experiment_id                                                 \n",
       "1              IGFS0001_20170628_IH4           1          1   \n",
       "2              IGFS0002_20170628_IH4           1          2   \n",
       "\n",
       "                    library_name library_source library_strategy  \\\n",
       "experiment_id                                                      \n",
       "1              IGFS0001_20170628        UNKNOWN          RNA-SEQ   \n",
       "2              IGFS0002_20170628        UNKNOWN          RNA-SEQ   \n",
       "\n",
       "              experiment_type library_layout  status        date_created  \\\n",
       "experiment_id                                                              \n",
       "1                   TOTAL-RNA         PAIRED  ACTIVE 2017-08-16 15:15:46   \n",
       "2                   TOTAL-RNA         PAIRED  ACTIVE 2017-08-16 15:15:46   \n",
       "\n",
       "              platform_name  \n",
       "experiment_id                \n",
       "1                 HISEQ4000  \n",
       "2                 HISEQ4000  "
      ]
     },
     "execution_count": 54,
     "metadata": {},
     "output_type": "execute_result"
    }
   ],
   "source": [
    "e_data.set_index('experiment_id')"
   ]
  },
  {
   "cell_type": "code",
   "execution_count": 55,
   "metadata": {
    "collapsed": true
   },
   "outputs": [],
   "source": [
    "ea_data=ea.fetch_records(query=ea.session.query(Experiment_attribute))"
   ]
  },
  {
   "cell_type": "code",
   "execution_count": 56,
   "metadata": {},
   "outputs": [
    {
     "data": {
      "text/html": [
       "<div>\n",
       "<table border=\"1\" class=\"dataframe\">\n",
       "  <thead>\n",
       "    <tr style=\"text-align: right;\">\n",
       "      <th></th>\n",
       "      <th>experiment_attribute_id</th>\n",
       "      <th>attribute_name</th>\n",
       "      <th>attribute_value</th>\n",
       "      <th>experiment_id</th>\n",
       "    </tr>\n",
       "  </thead>\n",
       "  <tbody>\n",
       "  </tbody>\n",
       "</table>\n",
       "</div>"
      ],
      "text/plain": [
       "Empty DataFrame\n",
       "Columns: [experiment_attribute_id, attribute_name, attribute_value, experiment_id]\n",
       "Index: []"
      ]
     },
     "execution_count": 56,
     "metadata": {},
     "output_type": "execute_result"
    }
   ],
   "source": [
    "ea_data"
   ]
  },
  {
   "cell_type": "code",
   "execution_count": 57,
   "metadata": {
    "collapsed": true
   },
   "outputs": [],
   "source": [
    "ea.close_session()"
   ]
  },
  {
   "cell_type": "markdown",
   "metadata": {},
   "source": [
    "## Define and store run"
   ]
  },
  {
   "cell_type": "code",
   "execution_count": 58,
   "metadata": {
    "collapsed": true
   },
   "outputs": [],
   "source": [
    "run_data=[{'run_igf_id':'IGFS0001_20170628_IH4_L1',\n",
    "           'experiment_igf_id':'IGFS0001_20170628_IH4',\n",
    "           'seqrun_igf_id':'170627_M03291_0071_000000000-D0V30',\n",
    "           'lane_number':'1',\n",
    "           'run_barcode':'BARCODE_X'},\n",
    "          {'run_igf_id':'IGFS0002_20170628_IH4_L2',\n",
    "           'experiment_igf_id':'IGFS0002_20170628_IH4',\n",
    "           'seqrun_igf_id':'170627_M03291_0071_000000000-D0V30',\n",
    "           'lane_number':'2',\n",
    "           'run_barcode':'BARCODE_Y'},\n",
    "         ]"
   ]
  },
  {
   "cell_type": "code",
   "execution_count": 59,
   "metadata": {
    "collapsed": true
   },
   "outputs": [],
   "source": [
    "ra=RunAdaptor(**{'session_class':base.session_class})\n",
    "ra.start_session()\n",
    "ra.store_run_and_attribute_data(data=run_data)"
   ]
  },
  {
   "cell_type": "markdown",
   "metadata": {},
   "source": [
    "### Check runs"
   ]
  },
  {
   "cell_type": "code",
   "execution_count": 60,
   "metadata": {
    "collapsed": true
   },
   "outputs": [],
   "source": [
    "r_data=ra.fetch_records(query=ra.session.query(Run))"
   ]
  },
  {
   "cell_type": "code",
   "execution_count": 61,
   "metadata": {},
   "outputs": [
    {
     "data": {
      "text/html": [
       "<div>\n",
       "<table border=\"1\" class=\"dataframe\">\n",
       "  <thead>\n",
       "    <tr style=\"text-align: right;\">\n",
       "      <th></th>\n",
       "      <th>run_igf_id</th>\n",
       "      <th>experiment_id</th>\n",
       "      <th>seqrun_id</th>\n",
       "      <th>status</th>\n",
       "      <th>lane_number</th>\n",
       "      <th>date_created</th>\n",
       "    </tr>\n",
       "    <tr>\n",
       "      <th>run_id</th>\n",
       "      <th></th>\n",
       "      <th></th>\n",
       "      <th></th>\n",
       "      <th></th>\n",
       "      <th></th>\n",
       "      <th></th>\n",
       "    </tr>\n",
       "  </thead>\n",
       "  <tbody>\n",
       "    <tr>\n",
       "      <th>1</th>\n",
       "      <td>IGFS0001_20170628_IH4_L1</td>\n",
       "      <td>1</td>\n",
       "      <td>2</td>\n",
       "      <td>ACTIVE</td>\n",
       "      <td>1</td>\n",
       "      <td>2017-08-16 15:15:58</td>\n",
       "    </tr>\n",
       "    <tr>\n",
       "      <th>2</th>\n",
       "      <td>IGFS0002_20170628_IH4_L2</td>\n",
       "      <td>2</td>\n",
       "      <td>2</td>\n",
       "      <td>ACTIVE</td>\n",
       "      <td>2</td>\n",
       "      <td>2017-08-16 15:15:58</td>\n",
       "    </tr>\n",
       "  </tbody>\n",
       "</table>\n",
       "</div>"
      ],
      "text/plain": [
       "                      run_igf_id  experiment_id  seqrun_id  status  \\\n",
       "run_id                                                               \n",
       "1       IGFS0001_20170628_IH4_L1              1          2  ACTIVE   \n",
       "2       IGFS0002_20170628_IH4_L2              2          2  ACTIVE   \n",
       "\n",
       "       lane_number        date_created  \n",
       "run_id                                  \n",
       "1                1 2017-08-16 15:15:58  \n",
       "2                2 2017-08-16 15:15:58  "
      ]
     },
     "execution_count": 61,
     "metadata": {},
     "output_type": "execute_result"
    }
   ],
   "source": [
    "r_data.set_index('run_id')"
   ]
  },
  {
   "cell_type": "code",
   "execution_count": 62,
   "metadata": {
    "collapsed": true
   },
   "outputs": [],
   "source": [
    "ra_data=ra.fetch_records(query=ra.session.query(Run_attribute))"
   ]
  },
  {
   "cell_type": "code",
   "execution_count": 63,
   "metadata": {},
   "outputs": [
    {
     "data": {
      "text/html": [
       "<div>\n",
       "<table border=\"1\" class=\"dataframe\">\n",
       "  <thead>\n",
       "    <tr style=\"text-align: right;\">\n",
       "      <th></th>\n",
       "      <th>attribute_name</th>\n",
       "      <th>attribute_value</th>\n",
       "      <th>run_id</th>\n",
       "    </tr>\n",
       "    <tr>\n",
       "      <th>run_attribute_id</th>\n",
       "      <th></th>\n",
       "      <th></th>\n",
       "      <th></th>\n",
       "    </tr>\n",
       "  </thead>\n",
       "  <tbody>\n",
       "    <tr>\n",
       "      <th>1</th>\n",
       "      <td>run_barcode</td>\n",
       "      <td>BARCODE_X</td>\n",
       "      <td>1</td>\n",
       "    </tr>\n",
       "    <tr>\n",
       "      <th>2</th>\n",
       "      <td>run_barcode</td>\n",
       "      <td>BARCODE_Y</td>\n",
       "      <td>2</td>\n",
       "    </tr>\n",
       "  </tbody>\n",
       "</table>\n",
       "</div>"
      ],
      "text/plain": [
       "                 attribute_name attribute_value  run_id\n",
       "run_attribute_id                                       \n",
       "1                   run_barcode       BARCODE_X       1\n",
       "2                   run_barcode       BARCODE_Y       2"
      ]
     },
     "execution_count": 63,
     "metadata": {},
     "output_type": "execute_result"
    }
   ],
   "source": [
    "ra_data.set_index('run_attribute_id')"
   ]
  },
  {
   "cell_type": "code",
   "execution_count": 64,
   "metadata": {
    "collapsed": true
   },
   "outputs": [],
   "source": [
    "ra.close_session()"
   ]
  },
  {
   "cell_type": "markdown",
   "metadata": {},
   "source": [
    "## Check combined data for projects"
   ]
  },
  {
   "cell_type": "code",
   "execution_count": 65,
   "metadata": {
    "collapsed": true
   },
   "outputs": [],
   "source": [
    "base.start_session()\n",
    "all_data=base.fetch_records(base.session.query(Project.project_igf_id, \\\n",
    "                                               Sample.sample_igf_id, \\\n",
    "                                               Experiment.experiment_igf_id, \\\n",
    "                                               Run.run_igf_id).\\\n",
    "                                               join(Sample).\\\n",
    "                                               join(Experiment).\\\n",
    "                                               join(Run))"
   ]
  },
  {
   "cell_type": "code",
   "execution_count": 66,
   "metadata": {},
   "outputs": [
    {
     "data": {
      "text/html": [
       "<div>\n",
       "<table border=\"1\" class=\"dataframe\">\n",
       "  <thead>\n",
       "    <tr style=\"text-align: right;\">\n",
       "      <th></th>\n",
       "      <th>sample_igf_id</th>\n",
       "      <th>experiment_igf_id</th>\n",
       "      <th>run_igf_id</th>\n",
       "    </tr>\n",
       "    <tr>\n",
       "      <th>project_igf_id</th>\n",
       "      <th></th>\n",
       "      <th></th>\n",
       "      <th></th>\n",
       "    </tr>\n",
       "  </thead>\n",
       "  <tbody>\n",
       "    <tr>\n",
       "      <th>IGFP0003</th>\n",
       "      <td>IGFS0001</td>\n",
       "      <td>IGFS0001_20170628_IH4</td>\n",
       "      <td>IGFS0001_20170628_IH4_L1</td>\n",
       "    </tr>\n",
       "    <tr>\n",
       "      <th>IGFP0003</th>\n",
       "      <td>IGFS0002</td>\n",
       "      <td>IGFS0002_20170628_IH4</td>\n",
       "      <td>IGFS0002_20170628_IH4_L2</td>\n",
       "    </tr>\n",
       "  </tbody>\n",
       "</table>\n",
       "</div>"
      ],
      "text/plain": [
       "               sample_igf_id      experiment_igf_id                run_igf_id\n",
       "project_igf_id                                                               \n",
       "IGFP0003            IGFS0001  IGFS0001_20170628_IH4  IGFS0001_20170628_IH4_L1\n",
       "IGFP0003            IGFS0002  IGFS0002_20170628_IH4  IGFS0002_20170628_IH4_L2"
      ]
     },
     "execution_count": 66,
     "metadata": {},
     "output_type": "execute_result"
    }
   ],
   "source": [
    "all_data.set_index('project_igf_id')"
   ]
  },
  {
   "cell_type": "code",
   "execution_count": 67,
   "metadata": {
    "collapsed": true
   },
   "outputs": [],
   "source": [
    "base.close_session()"
   ]
  },
  {
   "cell_type": "code",
   "execution_count": 68,
   "metadata": {
    "collapsed": true
   },
   "outputs": [],
   "source": [
    "collection_data=[{'name':'IGFS0001','type':'SAMPLE_BAM','table':'sample','aligner_name':'bwa'},\n",
    "                 {'name':'IGFS0002','type':'SAMPLE_BAM','table':'sample','aligner_name':'star'},\n",
    "                ]"
   ]
  },
  {
   "cell_type": "code",
   "execution_count": 69,
   "metadata": {
    "collapsed": true
   },
   "outputs": [],
   "source": [
    "ca=CollectionAdaptor(**{'session_class':base.session_class})\n",
    "ca.start_session()\n",
    "ca.store_collection_and_attribute_data(data=collection_data)"
   ]
  },
  {
   "cell_type": "code",
   "execution_count": 70,
   "metadata": {
    "collapsed": true
   },
   "outputs": [],
   "source": [
    "file_data=[{'file_path':'/demo/files1','file_attribute1':'its attribute1'},\n",
    "           {'file_path':'/demo/files2','file_attribute2':'its attribute2'},]"
   ]
  },
  {
   "cell_type": "code",
   "execution_count": 71,
   "metadata": {
    "collapsed": true
   },
   "outputs": [],
   "source": [
    "fa=FileAdaptor(**{'session_class':base.session_class})\n",
    "fa.start_session()"
   ]
  },
  {
   "cell_type": "code",
   "execution_count": 72,
   "metadata": {
    "collapsed": true
   },
   "outputs": [],
   "source": [
    "fa.store_file_and_attribute_data(data=file_data)\n",
    "fa.close_session()"
   ]
  },
  {
   "cell_type": "code",
   "execution_count": 73,
   "metadata": {
    "collapsed": true
   },
   "outputs": [],
   "source": [
    "collection_files_data=[{'name':'IGFS0001','type':'SAMPLE_BAM','file_path':'/demo/files1'},\n",
    "                       {'name':'IGFS0002','type':'SAMPLE_BAM', 'file_path':'/demo/files2'},\n",
    "                      ]"
   ]
  },
  {
   "cell_type": "code",
   "execution_count": 74,
   "metadata": {
    "collapsed": true
   },
   "outputs": [],
   "source": [
    "ca.create_collection_group(data=collection_files_data)"
   ]
  },
  {
   "cell_type": "code",
   "execution_count": 75,
   "metadata": {},
   "outputs": [
    {
     "name": "stderr",
     "output_type": "stream",
     "text": [
      "//home/vmuser/.pyenv/versions/3.5.2/lib/python3.5/site-packages/sqlalchemy/sql/base.py:524: SAWarning: Column 'type' on table <sqlalchemy.sql.selectable.Select at 0x7fc7a681bbe0; Select object> being replaced by Column('type', Enum('BCL_DIR', 'BCL_TAR', 'FASTQ_TAR', 'FASTQC_TAR', 'FASTQ', 'FASTQGZ', 'BAM', 'CRAM', 'GFF', 'BED', 'GTF', 'FASTA', 'UNKNOWN'), table=<Select object>, nullable=False), which has the same key.  Consider use_labels for select() statements.\n",
      "  (key, getattr(existing, 'table', None), value))\n"
     ]
    }
   ],
   "source": [
    "c_files=ca.get_collection_files(collection_name='IGFS0001', collection_type='SAMPLE_BAM')"
   ]
  },
  {
   "cell_type": "code",
   "execution_count": 76,
   "metadata": {},
   "outputs": [
    {
     "data": {
      "text/html": [
       "<div>\n",
       "<table border=\"1\" class=\"dataframe\">\n",
       "  <thead>\n",
       "    <tr style=\"text-align: right;\">\n",
       "      <th></th>\n",
       "      <th>collection_id</th>\n",
       "      <th>name</th>\n",
       "      <th>type</th>\n",
       "      <th>table</th>\n",
       "      <th>date_stamp</th>\n",
       "      <th>file_id</th>\n",
       "      <th>file_path</th>\n",
       "      <th>location</th>\n",
       "      <th>type</th>\n",
       "      <th>md5</th>\n",
       "      <th>size</th>\n",
       "      <th>date_created</th>\n",
       "      <th>date_updated</th>\n",
       "    </tr>\n",
       "  </thead>\n",
       "  <tbody>\n",
       "    <tr>\n",
       "      <th>0</th>\n",
       "      <td>1</td>\n",
       "      <td>IGFS0001</td>\n",
       "      <td>SAMPLE_BAM</td>\n",
       "      <td>sample</td>\n",
       "      <td>2017-08-16 15:17:03</td>\n",
       "      <td>1</td>\n",
       "      <td>/demo/files1</td>\n",
       "      <td>UNKNOWN</td>\n",
       "      <td>UNKNOWN</td>\n",
       "      <td>None</td>\n",
       "      <td>None</td>\n",
       "      <td>2017-08-16 15:17:42</td>\n",
       "      <td>2017-08-16 15:17:42</td>\n",
       "    </tr>\n",
       "  </tbody>\n",
       "</table>\n",
       "</div>"
      ],
      "text/plain": [
       "   collection_id      name        type   table          date_stamp  file_id  \\\n",
       "0              1  IGFS0001  SAMPLE_BAM  sample 2017-08-16 15:17:03        1   \n",
       "\n",
       "      file_path location     type   md5  size        date_created  \\\n",
       "0  /demo/files1  UNKNOWN  UNKNOWN  None  None 2017-08-16 15:17:42   \n",
       "\n",
       "         date_updated  \n",
       "0 2017-08-16 15:17:42  "
      ]
     },
     "execution_count": 76,
     "metadata": {},
     "output_type": "execute_result"
    }
   ],
   "source": [
    "c_files"
   ]
  },
  {
   "cell_type": "code",
   "execution_count": 77,
   "metadata": {
    "collapsed": true
   },
   "outputs": [],
   "source": [
    "ca.close_session()"
   ]
  },
  {
   "cell_type": "code",
   "execution_count": 78,
   "metadata": {
    "collapsed": true
   },
   "outputs": [],
   "source": [
    "pipeline_data=[{'pipeline_name':'demultiplexing_20170731', \n",
    "                'pipeline_db':'sqlite:////path/bcl2fastq.db', \n",
    "                'pipeline_init_conf':{'input_dir':'/path/input_dir',\n",
    "                                      'output_dir':'/path/output_dir'}, \n",
    "                'pipeline_run_conf':{'output_dir':'/path/output_dir2'},}]"
   ]
  },
  {
   "cell_type": "code",
   "execution_count": 79,
   "metadata": {
    "collapsed": true
   },
   "outputs": [],
   "source": [
    "pipeline_seed_data=[{'pipeline_name':'demultiplexing_20170731', 'seed_id':'1', 'seed_table':'seqrun'},\n",
    "                    {'pipeline_name':'demultiplexing_20170731', 'seed_id':'2', 'seed_table':'seqrun'},\n",
    "                   ]"
   ]
  },
  {
   "cell_type": "code",
   "execution_count": 80,
   "metadata": {
    "collapsed": true
   },
   "outputs": [],
   "source": [
    "pla=PipelineAdaptor(**{'session_class':base.session_class})\n",
    "pla.start_session()\n",
    "pla.store_pipeline_data(data=pipeline_data)"
   ]
  },
  {
   "cell_type": "code",
   "execution_count": 82,
   "metadata": {
    "collapsed": true
   },
   "outputs": [],
   "source": [
    "pla_data=pla.fetch_records(query=pla.session.query(Pipeline))"
   ]
  },
  {
   "cell_type": "code",
   "execution_count": 83,
   "metadata": {},
   "outputs": [
    {
     "data": {
      "text/html": [
       "<div>\n",
       "<table border=\"1\" class=\"dataframe\">\n",
       "  <thead>\n",
       "    <tr style=\"text-align: right;\">\n",
       "      <th></th>\n",
       "      <th>pipeline_name</th>\n",
       "      <th>pipeline_db</th>\n",
       "      <th>pipeline_init_conf</th>\n",
       "      <th>pipeline_run_conf</th>\n",
       "      <th>pipeline_type</th>\n",
       "      <th>is_active</th>\n",
       "      <th>date_stamp</th>\n",
       "    </tr>\n",
       "    <tr>\n",
       "      <th>pipeline_id</th>\n",
       "      <th></th>\n",
       "      <th></th>\n",
       "      <th></th>\n",
       "      <th></th>\n",
       "      <th></th>\n",
       "      <th></th>\n",
       "      <th></th>\n",
       "    </tr>\n",
       "  </thead>\n",
       "  <tbody>\n",
       "    <tr>\n",
       "      <th>1</th>\n",
       "      <td>demultiplexing_20170731</td>\n",
       "      <td>sqlite:////path/bcl2fastq.db</td>\n",
       "      <td>{'input_dir': '/path/input_dir', 'output_dir':...</td>\n",
       "      <td>{'output_dir': '/path/output_dir2'}</td>\n",
       "      <td>EHIVE</td>\n",
       "      <td>Y</td>\n",
       "      <td>2017-08-16 15:21:24</td>\n",
       "    </tr>\n",
       "  </tbody>\n",
       "</table>\n",
       "</div>"
      ],
      "text/plain": [
       "                       pipeline_name                   pipeline_db  \\\n",
       "pipeline_id                                                          \n",
       "1            demultiplexing_20170731  sqlite:////path/bcl2fastq.db   \n",
       "\n",
       "                                            pipeline_init_conf  \\\n",
       "pipeline_id                                                      \n",
       "1            {'input_dir': '/path/input_dir', 'output_dir':...   \n",
       "\n",
       "                               pipeline_run_conf pipeline_type is_active  \\\n",
       "pipeline_id                                                                \n",
       "1            {'output_dir': '/path/output_dir2'}         EHIVE         Y   \n",
       "\n",
       "                     date_stamp  \n",
       "pipeline_id                      \n",
       "1           2017-08-16 15:21:24  "
      ]
     },
     "execution_count": 83,
     "metadata": {},
     "output_type": "execute_result"
    }
   ],
   "source": [
    "pla_data.set_index('pipeline_id')"
   ]
  },
  {
   "cell_type": "code",
   "execution_count": 84,
   "metadata": {
    "collapsed": true
   },
   "outputs": [],
   "source": [
    "pla.create_pipeline_seed(data=pipeline_seed_data)"
   ]
  },
  {
   "cell_type": "code",
   "execution_count": 85,
   "metadata": {
    "collapsed": true
   },
   "outputs": [],
   "source": [
    "pls_data=pla.fetch_records(query=pla.session.query(Pipeline_seed))"
   ]
  },
  {
   "cell_type": "code",
   "execution_count": 87,
   "metadata": {},
   "outputs": [
    {
     "data": {
      "text/html": [
       "<div>\n",
       "<table border=\"1\" class=\"dataframe\">\n",
       "  <thead>\n",
       "    <tr style=\"text-align: right;\">\n",
       "      <th></th>\n",
       "      <th>seed_id</th>\n",
       "      <th>seed_table</th>\n",
       "      <th>pipeline_id</th>\n",
       "      <th>status</th>\n",
       "      <th>date_stamp</th>\n",
       "    </tr>\n",
       "    <tr>\n",
       "      <th>pipeline_seed_id</th>\n",
       "      <th></th>\n",
       "      <th></th>\n",
       "      <th></th>\n",
       "      <th></th>\n",
       "      <th></th>\n",
       "    </tr>\n",
       "  </thead>\n",
       "  <tbody>\n",
       "    <tr>\n",
       "      <th>1</th>\n",
       "      <td>1</td>\n",
       "      <td>SEQRUN</td>\n",
       "      <td>1</td>\n",
       "      <td>SEEDED</td>\n",
       "      <td>2017-08-16 15:23:28</td>\n",
       "    </tr>\n",
       "    <tr>\n",
       "      <th>2</th>\n",
       "      <td>2</td>\n",
       "      <td>SEQRUN</td>\n",
       "      <td>1</td>\n",
       "      <td>SEEDED</td>\n",
       "      <td>2017-08-16 15:23:28</td>\n",
       "    </tr>\n",
       "  </tbody>\n",
       "</table>\n",
       "</div>"
      ],
      "text/plain": [
       "                  seed_id seed_table  pipeline_id  status          date_stamp\n",
       "pipeline_seed_id                                                             \n",
       "1                       1     SEQRUN            1  SEEDED 2017-08-16 15:23:28\n",
       "2                       2     SEQRUN            1  SEEDED 2017-08-16 15:23:28"
      ]
     },
     "execution_count": 87,
     "metadata": {},
     "output_type": "execute_result"
    }
   ],
   "source": [
    "pls_data.set_index('pipeline_seed_id')"
   ]
  },
  {
   "cell_type": "code",
   "execution_count": 88,
   "metadata": {
    "collapsed": true
   },
   "outputs": [],
   "source": [
    "update_pipeline_seed_data=[{'pipeline_name':'demultiplexing_20170731', \n",
    "                            'seed_id':'1', \n",
    "                            'seed_table':'seqrun', \n",
    "                            'status':'RUNNING'},\n",
    "                           {'pipeline_name':'demultiplexing_20170731', \n",
    "                            'seed_id':'2', \n",
    "                            'seed_table':'seqrun', \n",
    "                            'status':'FAILED'},\n",
    "                          ]"
   ]
  },
  {
   "cell_type": "code",
   "execution_count": 89,
   "metadata": {
    "collapsed": true
   },
   "outputs": [],
   "source": [
    "pla.update_pipeline_seed(data=update_pipeline_seed_data)"
   ]
  },
  {
   "cell_type": "code",
   "execution_count": 90,
   "metadata": {
    "collapsed": true
   },
   "outputs": [],
   "source": [
    "pls_data=pla.fetch_records(query=pla.session.query(Pipeline_seed))"
   ]
  },
  {
   "cell_type": "code",
   "execution_count": 91,
   "metadata": {},
   "outputs": [
    {
     "data": {
      "text/html": [
       "<div>\n",
       "<table border=\"1\" class=\"dataframe\">\n",
       "  <thead>\n",
       "    <tr style=\"text-align: right;\">\n",
       "      <th></th>\n",
       "      <th>seed_id</th>\n",
       "      <th>seed_table</th>\n",
       "      <th>pipeline_id</th>\n",
       "      <th>status</th>\n",
       "      <th>date_stamp</th>\n",
       "    </tr>\n",
       "    <tr>\n",
       "      <th>pipeline_seed_id</th>\n",
       "      <th></th>\n",
       "      <th></th>\n",
       "      <th></th>\n",
       "      <th></th>\n",
       "      <th></th>\n",
       "    </tr>\n",
       "  </thead>\n",
       "  <tbody>\n",
       "    <tr>\n",
       "      <th>1</th>\n",
       "      <td>1</td>\n",
       "      <td>SEQRUN</td>\n",
       "      <td>1</td>\n",
       "      <td>RUNNING</td>\n",
       "      <td>2017-08-16 14:24:44</td>\n",
       "    </tr>\n",
       "    <tr>\n",
       "      <th>2</th>\n",
       "      <td>2</td>\n",
       "      <td>SEQRUN</td>\n",
       "      <td>1</td>\n",
       "      <td>FAILED</td>\n",
       "      <td>2017-08-16 14:24:44</td>\n",
       "    </tr>\n",
       "  </tbody>\n",
       "</table>\n",
       "</div>"
      ],
      "text/plain": [
       "                  seed_id seed_table  pipeline_id   status          date_stamp\n",
       "pipeline_seed_id                                                              \n",
       "1                       1     SEQRUN            1  RUNNING 2017-08-16 14:24:44\n",
       "2                       2     SEQRUN            1   FAILED 2017-08-16 14:24:44"
      ]
     },
     "execution_count": 91,
     "metadata": {},
     "output_type": "execute_result"
    }
   ],
   "source": [
    "pls_data.set_index('pipeline_seed_id')"
   ]
  },
  {
   "cell_type": "code",
   "execution_count": 92,
   "metadata": {
    "collapsed": true
   },
   "outputs": [],
   "source": [
    "pla.close_session()"
   ]
  },
  {
   "cell_type": "code",
   "execution_count": 93,
   "metadata": {
    "collapsed": true
   },
   "outputs": [],
   "source": [
    "analysis_data=[{'project_igf_id':'IGFP0003', \n",
    "                'analysis_type':'RNA_DIFFERENTIAL_EXPRESSION', \n",
    "                'analysis_description':[{'CONTROL':'IGFS0001','CASE' :'IGFS0002'},] }]"
   ]
  },
  {
   "cell_type": "code",
   "execution_count": 94,
   "metadata": {
    "collapsed": true
   },
   "outputs": [],
   "source": [
    "aa=AnalysisAdaptor(**{'session_class':base.session_class})\n",
    "aa.start_session()\n",
    "aa.store_analysis_data(data=analysis_data)"
   ]
  },
  {
   "cell_type": "code",
   "execution_count": 95,
   "metadata": {
    "collapsed": true
   },
   "outputs": [],
   "source": [
    "da=aa.fetch_analysis_records_project_igf_id(project_igf_id='IGFP0003')"
   ]
  },
  {
   "cell_type": "code",
   "execution_count": 96,
   "metadata": {},
   "outputs": [
    {
     "data": {
      "text/html": [
       "<div>\n",
       "<table border=\"1\" class=\"dataframe\">\n",
       "  <thead>\n",
       "    <tr style=\"text-align: right;\">\n",
       "      <th></th>\n",
       "      <th>project_igf_id</th>\n",
       "      <th>analysis_type</th>\n",
       "      <th>analysis_description</th>\n",
       "    </tr>\n",
       "  </thead>\n",
       "  <tbody>\n",
       "    <tr>\n",
       "      <th>0</th>\n",
       "      <td>IGFP0003</td>\n",
       "      <td>RNA_DIFFERENTIAL_EXPRESSION</td>\n",
       "      <td>[{'CASE': 'IGFS0002', 'CONTROL': 'IGFS0001'}]</td>\n",
       "    </tr>\n",
       "  </tbody>\n",
       "</table>\n",
       "</div>"
      ],
      "text/plain": [
       "  project_igf_id                analysis_type  \\\n",
       "0       IGFP0003  RNA_DIFFERENTIAL_EXPRESSION   \n",
       "\n",
       "                            analysis_description  \n",
       "0  [{'CASE': 'IGFS0002', 'CONTROL': 'IGFS0001'}]  "
      ]
     },
     "execution_count": 96,
     "metadata": {},
     "output_type": "execute_result"
    }
   ],
   "source": [
    "da"
   ]
  },
  {
   "cell_type": "code",
   "execution_count": 97,
   "metadata": {
    "collapsed": true
   },
   "outputs": [],
   "source": [
    "aa.close_session()"
   ]
  },
  {
   "cell_type": "code",
   "execution_count": null,
   "metadata": {
    "collapsed": true
   },
   "outputs": [],
   "source": []
  }
 ],
 "metadata": {
  "kernelspec": {
   "display_name": "Python 3",
   "language": "python",
   "name": "python3"
  },
  "language_info": {
   "codemirror_mode": {
    "name": "ipython",
    "version": 3
   },
   "file_extension": ".py",
   "mimetype": "text/x-python",
   "name": "python",
   "nbconvert_exporter": "python",
   "pygments_lexer": "ipython3",
   "version": "3.5.2"
  }
 },
 "nbformat": 4,
 "nbformat_minor": 2
}
