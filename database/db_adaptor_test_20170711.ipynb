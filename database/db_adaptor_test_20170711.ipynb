{
 "cells": [
  {
   "cell_type": "markdown",
   "metadata": {},
   "source": [
    "## Import libraries"
   ]
  },
  {
   "cell_type": "code",
   "execution_count": 60,
   "metadata": {
    "collapsed": true
   },
   "outputs": [],
   "source": [
    "import datetime\n",
    "import pandas as pd\n",
    "from igf_data.igfdb.igfTables import Base, Project, User, Platform, Sample, Experiment, Seqrun, Run\n",
    "from igf_data.igfdb.igfTables import Project_attribute, Sample_attribute, Experiment_attribute, Run_attribute\n",
    "from igf_data.igfdb.baseadaptor import BaseAdaptor\n",
    "from igf_data.igfdb.projectadaptor import ProjectAdaptor\n",
    "from igf_data.igfdb.useradaptor import UserAdaptor\n",
    "from igf_data.igfdb.sampleadaptor import SampleAdaptor\n",
    "from igf_data.igfdb.platformadaptor import PlatformAdaptor\n",
    "from igf_data.igfdb.seqrunadaptor import SeqrunAdaptor\n",
    "from igf_data.igfdb.experimentadaptor import ExperimentAdaptor\n",
    "from igf_data.igfdb.runadaptor import RunAdaptor\n",
    "from sqlalchemy import create_engine"
   ]
  },
  {
   "cell_type": "markdown",
   "metadata": {},
   "source": [
    "## Define database connection"
   ]
  },
  {
   "cell_type": "markdown",
   "metadata": {},
   "source": [
    "### MySQL config"
   ]
  },
  {
   "cell_type": "code",
   "execution_count": 2,
   "metadata": {
    "collapsed": true
   },
   "outputs": [],
   "source": [
    "dbparams={'dbhost':'0.0.0.0', \\\n",
    "          'dbuser':'igf', \\\n",
    "          'dbpass':'igf123', \\\n",
    "          'dbname':'igfdb', \\\n",
    "          'driver':'mysql', \\\n",
    "          'connector':'pymysql'}\n",
    "         # 'engine_config':{'echo':True}} "
   ]
  },
  {
   "cell_type": "markdown",
   "metadata": {},
   "source": [
    "### SQLite config"
   ]
  },
  {
   "cell_type": "code",
   "execution_count": 3,
   "metadata": {
    "collapsed": true
   },
   "outputs": [],
   "source": [
    "#dbparams={'dbname':'test.db'} #"
   ]
  },
  {
   "cell_type": "markdown",
   "metadata": {},
   "source": [
    "## Create base adaptor instance"
   ]
  },
  {
   "cell_type": "code",
   "execution_count": 4,
   "metadata": {
    "collapsed": true
   },
   "outputs": [],
   "source": [
    "base=BaseAdaptor(**dbparams)\n",
    "session_class=base.get_session_class()"
   ]
  },
  {
   "cell_type": "markdown",
   "metadata": {},
   "source": [
    "## Delete existing database and create new"
   ]
  },
  {
   "cell_type": "code",
   "execution_count": 38,
   "metadata": {
    "collapsed": true
   },
   "outputs": [],
   "source": [
    "Base.metadata.drop_all(base.engine)\n",
    "Base.metadata.create_all(base.engine)"
   ]
  },
  {
   "cell_type": "markdown",
   "metadata": {},
   "source": [
    "## Sequencing platform details for facility"
   ]
  },
  {
   "cell_type": "code",
   "execution_count": 14,
   "metadata": {
    "collapsed": true
   },
   "outputs": [],
   "source": [
    "platform_data=[{'platform_igf_id':'ILM4K_001', \\\n",
    "                'model_name':'HISEQ4000',\\\n",
    "                'vendor_name':'ILLUMINA', \\\n",
    "                'software_name':'RTA', \\\n",
    "                'software_version':'RTA2'},\n",
    "               {'platform_igf_id':'ILMNS_001', \\\n",
    "                'model_name':'NEXTSEQ',\\\n",
    "                'vendor_name':'ILLUMINA', \\\n",
    "                'software_name':'RTA', \\\n",
    "                'software_version':'RTA2'},\n",
    "               {'platform_igf_id':'ILMMS_001', \\\n",
    "                'model_name':'MISEQ',\\\n",
    "                'vendor_name':'ILLUMINA', \\\n",
    "                'software_name':'RTA', \\\n",
    "                'software_version':'RTA1.18.64'},\n",
    "              ]"
   ]
  },
  {
   "cell_type": "code",
   "execution_count": 39,
   "metadata": {
    "collapsed": true
   },
   "outputs": [],
   "source": [
    "pl=PlatformAdaptor(**{'session_class':base.session_class})\n",
    "pl.start_session()\n",
    "pl.store_platform_data(data=platform_data)"
   ]
  },
  {
   "cell_type": "markdown",
   "metadata": {},
   "source": [
    "### Check sequencing platforms"
   ]
  },
  {
   "cell_type": "code",
   "execution_count": 44,
   "metadata": {
    "collapsed": true
   },
   "outputs": [],
   "source": [
    "pl_data=pl.fetch_records(query=pl.session.query(Platform))"
   ]
  },
  {
   "cell_type": "code",
   "execution_count": 94,
   "metadata": {},
   "outputs": [
    {
     "data": {
      "text/html": [
       "<div>\n",
       "<table border=\"1\" class=\"dataframe\">\n",
       "  <thead>\n",
       "    <tr style=\"text-align: right;\">\n",
       "      <th></th>\n",
       "      <th>platform_igf_id</th>\n",
       "      <th>model_name</th>\n",
       "      <th>vendor_name</th>\n",
       "      <th>software_name</th>\n",
       "      <th>software_version</th>\n",
       "      <th>date_created</th>\n",
       "    </tr>\n",
       "    <tr>\n",
       "      <th>platform_id</th>\n",
       "      <th></th>\n",
       "      <th></th>\n",
       "      <th></th>\n",
       "      <th></th>\n",
       "      <th></th>\n",
       "      <th></th>\n",
       "    </tr>\n",
       "  </thead>\n",
       "  <tbody>\n",
       "    <tr>\n",
       "      <th>1</th>\n",
       "      <td>ILM4K_001</td>\n",
       "      <td>HISEQ4000</td>\n",
       "      <td>ILLUMINA</td>\n",
       "      <td>RTA</td>\n",
       "      <td>RTA2</td>\n",
       "      <td>2017-07-11 15:38:27</td>\n",
       "    </tr>\n",
       "    <tr>\n",
       "      <th>2</th>\n",
       "      <td>ILMNS_001</td>\n",
       "      <td>NEXTSEQ</td>\n",
       "      <td>ILLUMINA</td>\n",
       "      <td>RTA</td>\n",
       "      <td>RTA2</td>\n",
       "      <td>2017-07-11 15:38:27</td>\n",
       "    </tr>\n",
       "    <tr>\n",
       "      <th>3</th>\n",
       "      <td>ILMMS_001</td>\n",
       "      <td>MISEQ</td>\n",
       "      <td>ILLUMINA</td>\n",
       "      <td>RTA</td>\n",
       "      <td>RTA1.18.64</td>\n",
       "      <td>2017-07-11 15:38:27</td>\n",
       "    </tr>\n",
       "  </tbody>\n",
       "</table>\n",
       "</div>"
      ],
      "text/plain": [
       "            platform_igf_id model_name vendor_name software_name  \\\n",
       "platform_id                                                        \n",
       "1                 ILM4K_001  HISEQ4000    ILLUMINA           RTA   \n",
       "2                 ILMNS_001    NEXTSEQ    ILLUMINA           RTA   \n",
       "3                 ILMMS_001      MISEQ    ILLUMINA           RTA   \n",
       "\n",
       "            software_version        date_created  \n",
       "platform_id                                       \n",
       "1                       RTA2 2017-07-11 15:38:27  \n",
       "2                       RTA2 2017-07-11 15:38:27  \n",
       "3                 RTA1.18.64 2017-07-11 15:38:27  "
      ]
     },
     "execution_count": 94,
     "metadata": {},
     "output_type": "execute_result"
    }
   ],
   "source": [
    "pl_data.set_index('platform_id')"
   ]
  },
  {
   "cell_type": "code",
   "execution_count": null,
   "metadata": {
    "collapsed": true
   },
   "outputs": [],
   "source": [
    "pl.close_session()"
   ]
  },
  {
   "cell_type": "markdown",
   "metadata": {},
   "source": [
    "## Get Project, User and Sample Information"
   ]
  },
  {
   "cell_type": "markdown",
   "metadata": {},
   "source": [
    "Read all the information from project submission form (modification required)"
   ]
  },
  {
   "cell_type": "markdown",
   "metadata": {},
   "source": [
    "## Define and store project data"
   ]
  },
  {
   "cell_type": "code",
   "execution_count": 46,
   "metadata": {
    "collapsed": true
   },
   "outputs": [],
   "source": [
    "data=[{'project_igf_id':'IGFP0003', \\\n",
    "       'project_name':'project_C',  \\\n",
    "       'description':'Its project C', \\\n",
    "       'project_deadline':'Before August 2017', \\\n",
    "       'comments':'Some samples are treated with drug X'},\n",
    "      {'project_igf_id':'IGFP0004', \\\n",
    "       'project_name':'project_D',  \\\n",
    "       'description':'Its project D', \\\n",
    "       'project_deadline':'Second week of July', \\\n",
    "       'special_requirement':'Signal files for RNA samples'}]"
   ]
  },
  {
   "cell_type": "code",
   "execution_count": 61,
   "metadata": {
    "collapsed": true
   },
   "outputs": [],
   "source": [
    "pa=ProjectAdaptor(**{'session_class':base.session_class})\n",
    "pa.start_session()\n",
    "pa.store_project_and_attribute_data(data)"
   ]
  },
  {
   "cell_type": "markdown",
   "metadata": {},
   "source": [
    "### Check projects"
   ]
  },
  {
   "cell_type": "code",
   "execution_count": 48,
   "metadata": {
    "collapsed": true
   },
   "outputs": [],
   "source": [
    "p_data=pa.fetch_records(query=pa.session.query(Project))"
   ]
  },
  {
   "cell_type": "code",
   "execution_count": 93,
   "metadata": {},
   "outputs": [
    {
     "data": {
      "text/html": [
       "<div>\n",
       "<table border=\"1\" class=\"dataframe\">\n",
       "  <thead>\n",
       "    <tr style=\"text-align: right;\">\n",
       "      <th></th>\n",
       "      <th>project_igf_id</th>\n",
       "      <th>project_name</th>\n",
       "      <th>start_timestamp</th>\n",
       "      <th>description</th>\n",
       "      <th>deliverable</th>\n",
       "    </tr>\n",
       "    <tr>\n",
       "      <th>project_id</th>\n",
       "      <th></th>\n",
       "      <th></th>\n",
       "      <th></th>\n",
       "      <th></th>\n",
       "      <th></th>\n",
       "    </tr>\n",
       "  </thead>\n",
       "  <tbody>\n",
       "    <tr>\n",
       "      <th>1</th>\n",
       "      <td>IGFP0003</td>\n",
       "      <td>project_C</td>\n",
       "      <td>2017-07-11 15:41:04</td>\n",
       "      <td>Its project C</td>\n",
       "      <td>FASTQ</td>\n",
       "    </tr>\n",
       "    <tr>\n",
       "      <th>2</th>\n",
       "      <td>IGFP0004</td>\n",
       "      <td>project_D</td>\n",
       "      <td>2017-07-11 15:41:04</td>\n",
       "      <td>Its project D</td>\n",
       "      <td>FASTQ</td>\n",
       "    </tr>\n",
       "  </tbody>\n",
       "</table>\n",
       "</div>"
      ],
      "text/plain": [
       "           project_igf_id project_name     start_timestamp    description  \\\n",
       "project_id                                                                  \n",
       "1                IGFP0003    project_C 2017-07-11 15:41:04  Its project C   \n",
       "2                IGFP0004    project_D 2017-07-11 15:41:04  Its project D   \n",
       "\n",
       "           deliverable  \n",
       "project_id              \n",
       "1                FASTQ  \n",
       "2                FASTQ  "
      ]
     },
     "execution_count": 93,
     "metadata": {},
     "output_type": "execute_result"
    }
   ],
   "source": [
    "p_data.set_index('project_id')"
   ]
  },
  {
   "cell_type": "code",
   "execution_count": 62,
   "metadata": {
    "collapsed": true
   },
   "outputs": [],
   "source": [
    "pa_data=pa.fetch_records(query=p_session.query(Project_attribute))"
   ]
  },
  {
   "cell_type": "code",
   "execution_count": 92,
   "metadata": {},
   "outputs": [
    {
     "data": {
      "text/html": [
       "<div>\n",
       "<table border=\"1\" class=\"dataframe\">\n",
       "  <thead>\n",
       "    <tr style=\"text-align: right;\">\n",
       "      <th></th>\n",
       "      <th>attribute_name</th>\n",
       "      <th>attribute_value</th>\n",
       "      <th>project_id</th>\n",
       "    </tr>\n",
       "    <tr>\n",
       "      <th>project_attribute_id</th>\n",
       "      <th></th>\n",
       "      <th></th>\n",
       "      <th></th>\n",
       "    </tr>\n",
       "  </thead>\n",
       "  <tbody>\n",
       "    <tr>\n",
       "      <th>1</th>\n",
       "      <td>comments</td>\n",
       "      <td>Some samples are treated with drug X</td>\n",
       "      <td>1</td>\n",
       "    </tr>\n",
       "    <tr>\n",
       "      <th>2</th>\n",
       "      <td>project_deadline</td>\n",
       "      <td>Before August 2017</td>\n",
       "      <td>1</td>\n",
       "    </tr>\n",
       "    <tr>\n",
       "      <th>3</th>\n",
       "      <td>special_requirement</td>\n",
       "      <td>Signal files for RNA samples</td>\n",
       "      <td>2</td>\n",
       "    </tr>\n",
       "    <tr>\n",
       "      <th>4</th>\n",
       "      <td>project_deadline</td>\n",
       "      <td>Second week of July</td>\n",
       "      <td>2</td>\n",
       "    </tr>\n",
       "  </tbody>\n",
       "</table>\n",
       "</div>"
      ],
      "text/plain": [
       "                           attribute_name  \\\n",
       "project_attribute_id                        \n",
       "1                                comments   \n",
       "2                        project_deadline   \n",
       "3                     special_requirement   \n",
       "4                        project_deadline   \n",
       "\n",
       "                                           attribute_value  project_id  \n",
       "project_attribute_id                                                    \n",
       "1                     Some samples are treated with drug X           1  \n",
       "2                                       Before August 2017           1  \n",
       "3                             Signal files for RNA samples           2  \n",
       "4                                      Second week of July           2  "
      ]
     },
     "execution_count": 92,
     "metadata": {},
     "output_type": "execute_result"
    }
   ],
   "source": [
    "pa_data.set_index('project_attribute_id')"
   ]
  },
  {
   "cell_type": "markdown",
   "metadata": {},
   "source": [
    "## Define and store User data"
   ]
  },
  {
   "cell_type": "code",
   "execution_count": 50,
   "metadata": {
    "collapsed": true
   },
   "outputs": [],
   "source": [
    "data=[{'user_igf_id':'IGFC0001', \\\n",
    "       'name':'User A', \\\n",
    "       'email_id':'usera@ic.ac.uk', \\\n",
    "       'username':'usera', \\\n",
    "       'password':'passa'}, \n",
    "      {'user_igf_id':'IGFC0002', \\\n",
    "       'name':'User B', \\\n",
    "       'email_id':'userb@ic.ac.uk', \\\n",
    "       'username':'userb', \\\n",
    "       'hpc_username':'buser', \\\n",
    "       'password':'passb'}\n",
    "     ]"
   ]
  },
  {
   "cell_type": "markdown",
   "metadata": {},
   "source": [
    "### Check users"
   ]
  },
  {
   "cell_type": "code",
   "execution_count": 51,
   "metadata": {
    "collapsed": true
   },
   "outputs": [],
   "source": [
    "ua=UserAdaptor(**{'session_class':base.session_class})\n",
    "ua.start_session()\n",
    "ua.store_user_data(data=data)"
   ]
  },
  {
   "cell_type": "code",
   "execution_count": 52,
   "metadata": {
    "collapsed": true
   },
   "outputs": [],
   "source": [
    "u_data=ua.fetch_records(query=ua.session.query(User))"
   ]
  },
  {
   "cell_type": "code",
   "execution_count": 91,
   "metadata": {},
   "outputs": [
    {
     "data": {
      "text/html": [
       "<div>\n",
       "<table border=\"1\" class=\"dataframe\">\n",
       "  <thead>\n",
       "    <tr style=\"text-align: right;\">\n",
       "      <th></th>\n",
       "      <th>user_igf_id</th>\n",
       "      <th>name</th>\n",
       "      <th>email_id</th>\n",
       "      <th>username</th>\n",
       "      <th>hpc_username</th>\n",
       "      <th>category</th>\n",
       "      <th>status</th>\n",
       "      <th>date_created</th>\n",
       "      <th>password</th>\n",
       "      <th>encryption_salt</th>\n",
       "    </tr>\n",
       "    <tr>\n",
       "      <th>user_id</th>\n",
       "      <th></th>\n",
       "      <th></th>\n",
       "      <th></th>\n",
       "      <th></th>\n",
       "      <th></th>\n",
       "      <th></th>\n",
       "      <th></th>\n",
       "      <th></th>\n",
       "      <th></th>\n",
       "      <th></th>\n",
       "    </tr>\n",
       "  </thead>\n",
       "  <tbody>\n",
       "    <tr>\n",
       "      <th>1</th>\n",
       "      <td>IGFC0001</td>\n",
       "      <td>User A</td>\n",
       "      <td>usera@ic.ac.uk</td>\n",
       "      <td>usera</td>\n",
       "      <td>None</td>\n",
       "      <td>HPC_USER</td>\n",
       "      <td>ACTIVE</td>\n",
       "      <td>2017-07-11 15:41:11</td>\n",
       "      <td>05d5eed1b768809b852e4253595f9cf7196f8ee67a0396...</td>\n",
       "      <td>82f86726f6470615b0fe92712f1919738498c4742ccf08...</td>\n",
       "    </tr>\n",
       "    <tr>\n",
       "      <th>2</th>\n",
       "      <td>IGFC0002</td>\n",
       "      <td>User B</td>\n",
       "      <td>userb@ic.ac.uk</td>\n",
       "      <td>userb</td>\n",
       "      <td>buser</td>\n",
       "      <td>HPC_USER</td>\n",
       "      <td>ACTIVE</td>\n",
       "      <td>2017-07-11 15:41:11</td>\n",
       "      <td>0349abfa31a687b27b6a4cd1d9762df5b74b773bba75fe...</td>\n",
       "      <td>507f0928ce31e13b4a7a3a846efe99fed82a03bf6d9338...</td>\n",
       "    </tr>\n",
       "  </tbody>\n",
       "</table>\n",
       "</div>"
      ],
      "text/plain": [
       "        user_igf_id    name        email_id username hpc_username  category  \\\n",
       "user_id                                                                       \n",
       "1          IGFC0001  User A  usera@ic.ac.uk    usera         None  HPC_USER   \n",
       "2          IGFC0002  User B  userb@ic.ac.uk    userb        buser  HPC_USER   \n",
       "\n",
       "         status        date_created  \\\n",
       "user_id                               \n",
       "1        ACTIVE 2017-07-11 15:41:11   \n",
       "2        ACTIVE 2017-07-11 15:41:11   \n",
       "\n",
       "                                                  password  \\\n",
       "user_id                                                      \n",
       "1        05d5eed1b768809b852e4253595f9cf7196f8ee67a0396...   \n",
       "2        0349abfa31a687b27b6a4cd1d9762df5b74b773bba75fe...   \n",
       "\n",
       "                                           encryption_salt  \n",
       "user_id                                                     \n",
       "1        82f86726f6470615b0fe92712f1919738498c4742ccf08...  \n",
       "2        507f0928ce31e13b4a7a3a846efe99fed82a03bf6d9338...  "
      ]
     },
     "execution_count": 91,
     "metadata": {},
     "output_type": "execute_result"
    }
   ],
   "source": [
    "u_data.set_index('user_id')"
   ]
  },
  {
   "cell_type": "code",
   "execution_count": 54,
   "metadata": {
    "collapsed": true
   },
   "outputs": [],
   "source": [
    "ua.close_session()"
   ]
  },
  {
   "cell_type": "markdown",
   "metadata": {},
   "source": [
    "## Link users to relevant projects"
   ]
  },
  {
   "cell_type": "code",
   "execution_count": 55,
   "metadata": {
    "collapsed": true
   },
   "outputs": [],
   "source": [
    "project_user_data=[{'project_igf_id': 'IGFP0003', 'user_igf_id': 'IGFC0001', 'data_authority':True},\n",
    "                   {'project_igf_id': 'IGFP0003', 'user_igf_id': 'IGFC0002' },\n",
    "                   {'project_igf_id': 'IGFP0004', 'user_igf_id': 'IGFC0002', 'data_authority':True}\n",
    "                  ]"
   ]
  },
  {
   "cell_type": "code",
   "execution_count": 56,
   "metadata": {
    "collapsed": true
   },
   "outputs": [],
   "source": [
    "pa.assign_user_to_project(data=project_user_data)"
   ]
  },
  {
   "cell_type": "code",
   "execution_count": 57,
   "metadata": {
    "collapsed": true
   },
   "outputs": [],
   "source": [
    "pu_data=pa.get_project_user_info()"
   ]
  },
  {
   "cell_type": "markdown",
   "metadata": {},
   "source": [
    "### Check project users"
   ]
  },
  {
   "cell_type": "code",
   "execution_count": 90,
   "metadata": {},
   "outputs": [
    {
     "data": {
      "text/html": [
       "<div>\n",
       "<table border=\"1\" class=\"dataframe\">\n",
       "  <thead>\n",
       "    <tr style=\"text-align: right;\">\n",
       "      <th></th>\n",
       "      <th>project_igf_id</th>\n",
       "      <th>project_name</th>\n",
       "      <th>start_timestamp</th>\n",
       "      <th>description</th>\n",
       "      <th>deliverable</th>\n",
       "      <th>user_id</th>\n",
       "      <th>user_igf_id</th>\n",
       "      <th>name</th>\n",
       "      <th>email_id</th>\n",
       "      <th>username</th>\n",
       "      <th>hpc_username</th>\n",
       "      <th>category</th>\n",
       "      <th>status</th>\n",
       "      <th>date_created</th>\n",
       "      <th>password</th>\n",
       "      <th>encryption_salt</th>\n",
       "      <th>data_authority</th>\n",
       "    </tr>\n",
       "    <tr>\n",
       "      <th>project_id</th>\n",
       "      <th></th>\n",
       "      <th></th>\n",
       "      <th></th>\n",
       "      <th></th>\n",
       "      <th></th>\n",
       "      <th></th>\n",
       "      <th></th>\n",
       "      <th></th>\n",
       "      <th></th>\n",
       "      <th></th>\n",
       "      <th></th>\n",
       "      <th></th>\n",
       "      <th></th>\n",
       "      <th></th>\n",
       "      <th></th>\n",
       "      <th></th>\n",
       "      <th></th>\n",
       "    </tr>\n",
       "  </thead>\n",
       "  <tbody>\n",
       "    <tr>\n",
       "      <th>1</th>\n",
       "      <td>IGFP0003</td>\n",
       "      <td>project_C</td>\n",
       "      <td>2017-07-11 15:41:04</td>\n",
       "      <td>Its project C</td>\n",
       "      <td>FASTQ</td>\n",
       "      <td>1</td>\n",
       "      <td>IGFC0001</td>\n",
       "      <td>User A</td>\n",
       "      <td>usera@ic.ac.uk</td>\n",
       "      <td>usera</td>\n",
       "      <td>None</td>\n",
       "      <td>HPC_USER</td>\n",
       "      <td>ACTIVE</td>\n",
       "      <td>2017-07-11 15:41:11</td>\n",
       "      <td>05d5eed1b768809b852e4253595f9cf7196f8ee67a0396...</td>\n",
       "      <td>82f86726f6470615b0fe92712f1919738498c4742ccf08...</td>\n",
       "      <td>T</td>\n",
       "    </tr>\n",
       "    <tr>\n",
       "      <th>1</th>\n",
       "      <td>IGFP0003</td>\n",
       "      <td>project_C</td>\n",
       "      <td>2017-07-11 15:41:04</td>\n",
       "      <td>Its project C</td>\n",
       "      <td>FASTQ</td>\n",
       "      <td>2</td>\n",
       "      <td>IGFC0002</td>\n",
       "      <td>User B</td>\n",
       "      <td>userb@ic.ac.uk</td>\n",
       "      <td>userb</td>\n",
       "      <td>buser</td>\n",
       "      <td>HPC_USER</td>\n",
       "      <td>ACTIVE</td>\n",
       "      <td>2017-07-11 15:41:11</td>\n",
       "      <td>0349abfa31a687b27b6a4cd1d9762df5b74b773bba75fe...</td>\n",
       "      <td>507f0928ce31e13b4a7a3a846efe99fed82a03bf6d9338...</td>\n",
       "      <td>None</td>\n",
       "    </tr>\n",
       "    <tr>\n",
       "      <th>2</th>\n",
       "      <td>IGFP0004</td>\n",
       "      <td>project_D</td>\n",
       "      <td>2017-07-11 15:41:04</td>\n",
       "      <td>Its project D</td>\n",
       "      <td>FASTQ</td>\n",
       "      <td>2</td>\n",
       "      <td>IGFC0002</td>\n",
       "      <td>User B</td>\n",
       "      <td>userb@ic.ac.uk</td>\n",
       "      <td>userb</td>\n",
       "      <td>buser</td>\n",
       "      <td>HPC_USER</td>\n",
       "      <td>ACTIVE</td>\n",
       "      <td>2017-07-11 15:41:11</td>\n",
       "      <td>0349abfa31a687b27b6a4cd1d9762df5b74b773bba75fe...</td>\n",
       "      <td>507f0928ce31e13b4a7a3a846efe99fed82a03bf6d9338...</td>\n",
       "      <td>T</td>\n",
       "    </tr>\n",
       "  </tbody>\n",
       "</table>\n",
       "</div>"
      ],
      "text/plain": [
       "           project_igf_id project_name     start_timestamp    description  \\\n",
       "project_id                                                                  \n",
       "1                IGFP0003    project_C 2017-07-11 15:41:04  Its project C   \n",
       "1                IGFP0003    project_C 2017-07-11 15:41:04  Its project C   \n",
       "2                IGFP0004    project_D 2017-07-11 15:41:04  Its project D   \n",
       "\n",
       "           deliverable  user_id user_igf_id    name        email_id username  \\\n",
       "project_id                                                                     \n",
       "1                FASTQ        1    IGFC0001  User A  usera@ic.ac.uk    usera   \n",
       "1                FASTQ        2    IGFC0002  User B  userb@ic.ac.uk    userb   \n",
       "2                FASTQ        2    IGFC0002  User B  userb@ic.ac.uk    userb   \n",
       "\n",
       "           hpc_username  category  status        date_created  \\\n",
       "project_id                                                      \n",
       "1                  None  HPC_USER  ACTIVE 2017-07-11 15:41:11   \n",
       "1                 buser  HPC_USER  ACTIVE 2017-07-11 15:41:11   \n",
       "2                 buser  HPC_USER  ACTIVE 2017-07-11 15:41:11   \n",
       "\n",
       "                                                     password  \\\n",
       "project_id                                                      \n",
       "1           05d5eed1b768809b852e4253595f9cf7196f8ee67a0396...   \n",
       "1           0349abfa31a687b27b6a4cd1d9762df5b74b773bba75fe...   \n",
       "2           0349abfa31a687b27b6a4cd1d9762df5b74b773bba75fe...   \n",
       "\n",
       "                                              encryption_salt data_authority  \n",
       "project_id                                                                    \n",
       "1           82f86726f6470615b0fe92712f1919738498c4742ccf08...              T  \n",
       "1           507f0928ce31e13b4a7a3a846efe99fed82a03bf6d9338...           None  \n",
       "2           507f0928ce31e13b4a7a3a846efe99fed82a03bf6d9338...              T  "
      ]
     },
     "execution_count": 90,
     "metadata": {},
     "output_type": "execute_result"
    }
   ],
   "source": [
    "pu_data.set_index('project_id')"
   ]
  },
  {
   "cell_type": "code",
   "execution_count": 64,
   "metadata": {
    "collapsed": true
   },
   "outputs": [],
   "source": [
    "pa.close_session()"
   ]
  },
  {
   "cell_type": "markdown",
   "metadata": {},
   "source": [
    "## Define and store samples"
   ]
  },
  {
   "cell_type": "code",
   "execution_count": 65,
   "metadata": {
    "collapsed": true
   },
   "outputs": [],
   "source": [
    "sample_data=[{'sample_igf_id':'IGFS0001', \\\n",
    "              'taxon_id':'9606',\\\n",
    "              'scientific_name':'Homo sapiens',\\\n",
    "              'common_name':'human',\\\n",
    "              'donor_anonymized_id':'donor_001',\\\n",
    "              'description':'Sample A from donor 001',\\\n",
    "              'phenotype':'Healthy',\\\n",
    "              'sex':'FEMALE',\\\n",
    "              'project_igf_id':'IGFP0003',\\\n",
    "              'sample_tube':'tube001',\\\n",
    "              'sample_library':'IGFS0001_20170628'},\n",
    "             {'sample_igf_id':'IGFS0002', \\\n",
    "              'taxon_id':'9606',\\\n",
    "              'scientific_name':'Homo sapiens',\\\n",
    "              'common_name':'human',\\\n",
    "              'donor_anonymized_id':'donor_002',\\\n",
    "              'description':'Sample B from donor 002',\\\n",
    "              'phenotype':'Cancer',\\\n",
    "              'sex':'FEMALE',\\\n",
    "              'project_igf_id':'IGFP0003',\\\n",
    "              'sample_tube':'tube002',\\\n",
    "              'sample_library':'IGFS0002_20170628'},\n",
    "       ]"
   ]
  },
  {
   "cell_type": "code",
   "execution_count": 67,
   "metadata": {
    "collapsed": true
   },
   "outputs": [],
   "source": [
    "sa=SampleAdaptor(**{'session_class':base.session_class})\n",
    "sa.start_session()\n",
    "sa.store_sample_and_attribute_data(data=sample_data)"
   ]
  },
  {
   "cell_type": "markdown",
   "metadata": {},
   "source": [
    "### Check Samples"
   ]
  },
  {
   "cell_type": "code",
   "execution_count": 68,
   "metadata": {
    "collapsed": true
   },
   "outputs": [],
   "source": [
    "s_data=sa.fetch_records(sa.session.query(Sample))"
   ]
  },
  {
   "cell_type": "code",
   "execution_count": 89,
   "metadata": {},
   "outputs": [
    {
     "data": {
      "text/html": [
       "<div>\n",
       "<table border=\"1\" class=\"dataframe\">\n",
       "  <thead>\n",
       "    <tr style=\"text-align: right;\">\n",
       "      <th></th>\n",
       "      <th>sample_igf_id</th>\n",
       "      <th>taxon_id</th>\n",
       "      <th>scientific_name</th>\n",
       "      <th>common_name</th>\n",
       "      <th>donor_anonymized_id</th>\n",
       "      <th>description</th>\n",
       "      <th>phenotype</th>\n",
       "      <th>sex</th>\n",
       "      <th>status</th>\n",
       "      <th>biomaterial_type</th>\n",
       "      <th>cell_type</th>\n",
       "      <th>tissue_type</th>\n",
       "      <th>cell_line</th>\n",
       "      <th>date_created</th>\n",
       "      <th>project_id</th>\n",
       "    </tr>\n",
       "    <tr>\n",
       "      <th>sample_id</th>\n",
       "      <th></th>\n",
       "      <th></th>\n",
       "      <th></th>\n",
       "      <th></th>\n",
       "      <th></th>\n",
       "      <th></th>\n",
       "      <th></th>\n",
       "      <th></th>\n",
       "      <th></th>\n",
       "      <th></th>\n",
       "      <th></th>\n",
       "      <th></th>\n",
       "      <th></th>\n",
       "      <th></th>\n",
       "      <th></th>\n",
       "    </tr>\n",
       "  </thead>\n",
       "  <tbody>\n",
       "    <tr>\n",
       "      <th>1</th>\n",
       "      <td>IGFS0001</td>\n",
       "      <td>9606</td>\n",
       "      <td>Homo sapiens</td>\n",
       "      <td>human</td>\n",
       "      <td>donor_001</td>\n",
       "      <td>Sample A from donor 001</td>\n",
       "      <td>Healthy</td>\n",
       "      <td>FEMALE</td>\n",
       "      <td>ACTIVE</td>\n",
       "      <td>UNKNOWN</td>\n",
       "      <td>None</td>\n",
       "      <td>None</td>\n",
       "      <td>None</td>\n",
       "      <td>2017-07-11 15:44:13</td>\n",
       "      <td>1</td>\n",
       "    </tr>\n",
       "    <tr>\n",
       "      <th>2</th>\n",
       "      <td>IGFS0002</td>\n",
       "      <td>9606</td>\n",
       "      <td>Homo sapiens</td>\n",
       "      <td>human</td>\n",
       "      <td>donor_002</td>\n",
       "      <td>Sample B from donor 002</td>\n",
       "      <td>Cancer</td>\n",
       "      <td>FEMALE</td>\n",
       "      <td>ACTIVE</td>\n",
       "      <td>UNKNOWN</td>\n",
       "      <td>None</td>\n",
       "      <td>None</td>\n",
       "      <td>None</td>\n",
       "      <td>2017-07-11 15:44:13</td>\n",
       "      <td>1</td>\n",
       "    </tr>\n",
       "  </tbody>\n",
       "</table>\n",
       "</div>"
      ],
      "text/plain": [
       "          sample_igf_id  taxon_id scientific_name common_name  \\\n",
       "sample_id                                                       \n",
       "1              IGFS0001      9606    Homo sapiens       human   \n",
       "2              IGFS0002      9606    Homo sapiens       human   \n",
       "\n",
       "          donor_anonymized_id              description phenotype     sex  \\\n",
       "sample_id                                                                  \n",
       "1                   donor_001  Sample A from donor 001   Healthy  FEMALE   \n",
       "2                   donor_002  Sample B from donor 002    Cancer  FEMALE   \n",
       "\n",
       "           status biomaterial_type cell_type tissue_type cell_line  \\\n",
       "sample_id                                                            \n",
       "1          ACTIVE          UNKNOWN      None        None      None   \n",
       "2          ACTIVE          UNKNOWN      None        None      None   \n",
       "\n",
       "                 date_created  project_id  \n",
       "sample_id                                  \n",
       "1         2017-07-11 15:44:13           1  \n",
       "2         2017-07-11 15:44:13           1  "
      ]
     },
     "execution_count": 89,
     "metadata": {},
     "output_type": "execute_result"
    }
   ],
   "source": [
    "s_data.set_index('sample_id')"
   ]
  },
  {
   "cell_type": "code",
   "execution_count": 70,
   "metadata": {
    "collapsed": true
   },
   "outputs": [],
   "source": [
    "sa_data=sa.fetch_records(sa_session.query(Sample_attribute))"
   ]
  },
  {
   "cell_type": "code",
   "execution_count": 88,
   "metadata": {},
   "outputs": [
    {
     "data": {
      "text/html": [
       "<div>\n",
       "<table border=\"1\" class=\"dataframe\">\n",
       "  <thead>\n",
       "    <tr style=\"text-align: right;\">\n",
       "      <th></th>\n",
       "      <th>attribute_name</th>\n",
       "      <th>attribute_value</th>\n",
       "      <th>sample_id</th>\n",
       "    </tr>\n",
       "    <tr>\n",
       "      <th>sample_attribute_id</th>\n",
       "      <th></th>\n",
       "      <th></th>\n",
       "      <th></th>\n",
       "    </tr>\n",
       "  </thead>\n",
       "  <tbody>\n",
       "    <tr>\n",
       "      <th>1</th>\n",
       "      <td>sample_tube</td>\n",
       "      <td>tube001</td>\n",
       "      <td>1</td>\n",
       "    </tr>\n",
       "    <tr>\n",
       "      <th>2</th>\n",
       "      <td>sample_library</td>\n",
       "      <td>IGFS0001_20170628</td>\n",
       "      <td>1</td>\n",
       "    </tr>\n",
       "    <tr>\n",
       "      <th>3</th>\n",
       "      <td>sample_tube</td>\n",
       "      <td>tube002</td>\n",
       "      <td>2</td>\n",
       "    </tr>\n",
       "    <tr>\n",
       "      <th>4</th>\n",
       "      <td>sample_library</td>\n",
       "      <td>IGFS0002_20170628</td>\n",
       "      <td>2</td>\n",
       "    </tr>\n",
       "  </tbody>\n",
       "</table>\n",
       "</div>"
      ],
      "text/plain": [
       "                     attribute_name    attribute_value  sample_id\n",
       "sample_attribute_id                                              \n",
       "1                       sample_tube            tube001          1\n",
       "2                    sample_library  IGFS0001_20170628          1\n",
       "3                       sample_tube            tube002          2\n",
       "4                    sample_library  IGFS0002_20170628          2"
      ]
     },
     "execution_count": 88,
     "metadata": {},
     "output_type": "execute_result"
    }
   ],
   "source": [
    "sa_data.set_index('sample_attribute_id')"
   ]
  },
  {
   "cell_type": "code",
   "execution_count": 72,
   "metadata": {
    "collapsed": true
   },
   "outputs": [],
   "source": [
    "sa.close_session()"
   ]
  },
  {
   "cell_type": "markdown",
   "metadata": {},
   "source": [
    "## Find new sequencing runs and load information"
   ]
  },
  {
   "cell_type": "markdown",
   "metadata": {},
   "source": [
    "* Look for new sequencing runs (seqrun) in the target directory\n",
    "* Steps after a new run directory is created\n",
    "   1. Read the Samplesheet.csv file and get the Project and Samples details\n",
    "   2. Define new Experiments and Runs based on samplesheet data\n",
    "    \n",
    "      Library:    Its an unique library information. I will consider library for each sequencing run as unique\n",
    "                  e.g. library prepared for sample_A on 07/07/2017 is sample_A_20170707\n",
    "      Experiment: Its is an unique combination of Sample + Library + Sequencing platform type\n",
    "                   e.g. a. sample_A has a library sample_A_20170707 and it was sequenced on Hiseq 4000 twice. All the data for sample_A from two sequencing runs will get combined under a single experiment\n",
    "                        b. Library sample_A_20170707 was sequenced twice on two different platforms,                   it will have two separate experiments for each sequencing runs\n",
    "       Run:       Fastq files for a sample in a particular lane is considered as a single run\n",
    "                  e.g. sample_A was present only on lane_1 of a hiseq data, it will have only one run.                  For a NextSeq sequencing run, it will have 4 runs\n",
    "   3. Generate the fastq files and assign them to relevent 'Run's after the demultiplexing event                  "
   ]
  },
  {
   "cell_type": "markdown",
   "metadata": {},
   "source": [
    "## Load sequencing Run details"
   ]
  },
  {
   "cell_type": "code",
   "execution_count": 73,
   "metadata": {
    "collapsed": true
   },
   "outputs": [],
   "source": [
    "seqrun_data=[{'seqrun_igf_id':'170627_K00345_0012_AHJJKTBBXX', \n",
    "              'flowcell_id':'AHJJKTBBXX', \n",
    "              'platform_igf_id':'ILM4K_001'},\n",
    "             {'seqrun_igf_id':'170627_M03291_0071_000000000-D0V30', \n",
    "              'flowcell_id':'D0V30', \n",
    "              'platform_igf_id':'ILMMS_001'},\n",
    "            ]"
   ]
  },
  {
   "cell_type": "code",
   "execution_count": 74,
   "metadata": {
    "collapsed": true
   },
   "outputs": [],
   "source": [
    "sra=SeqrunAdaptor(**{'session_class':base.session_class})\n",
    "sra.start_session()\n",
    "sra.store_seqrun_data(data=seqrun_data)"
   ]
  },
  {
   "cell_type": "markdown",
   "metadata": {},
   "source": [
    "### check sequencing runs"
   ]
  },
  {
   "cell_type": "code",
   "execution_count": 111,
   "metadata": {
    "collapsed": true
   },
   "outputs": [],
   "source": [
    "sra_data=sra.fetch_records(sra.session.query(Seqrun))"
   ]
  },
  {
   "cell_type": "code",
   "execution_count": 86,
   "metadata": {},
   "outputs": [
    {
     "data": {
      "text/html": [
       "<div>\n",
       "<table border=\"1\" class=\"dataframe\">\n",
       "  <thead>\n",
       "    <tr style=\"text-align: right;\">\n",
       "      <th></th>\n",
       "      <th>seqrun_igf_id</th>\n",
       "      <th>reject_run</th>\n",
       "      <th>date_created</th>\n",
       "      <th>flowcell_id</th>\n",
       "      <th>platform_id</th>\n",
       "    </tr>\n",
       "    <tr>\n",
       "      <th>seqrun_id</th>\n",
       "      <th></th>\n",
       "      <th></th>\n",
       "      <th></th>\n",
       "      <th></th>\n",
       "      <th></th>\n",
       "    </tr>\n",
       "  </thead>\n",
       "  <tbody>\n",
       "    <tr>\n",
       "      <th>1</th>\n",
       "      <td>170627_K00345_0012_AHJJKTBBXX</td>\n",
       "      <td>N</td>\n",
       "      <td>2017-07-11 15:47:49</td>\n",
       "      <td>AHJJKTBBXX</td>\n",
       "      <td>1</td>\n",
       "    </tr>\n",
       "    <tr>\n",
       "      <th>2</th>\n",
       "      <td>170627_M03291_0071_000000000-D0V30</td>\n",
       "      <td>N</td>\n",
       "      <td>2017-07-11 15:47:49</td>\n",
       "      <td>D0V30</td>\n",
       "      <td>1</td>\n",
       "    </tr>\n",
       "  </tbody>\n",
       "</table>\n",
       "</div>"
      ],
      "text/plain": [
       "                                seqrun_igf_id reject_run        date_created  \\\n",
       "seqrun_id                                                                      \n",
       "1               170627_K00345_0012_AHJJKTBBXX          N 2017-07-11 15:47:49   \n",
       "2          170627_M03291_0071_000000000-D0V30          N 2017-07-11 15:47:49   \n",
       "\n",
       "          flowcell_id  platform_id  \n",
       "seqrun_id                           \n",
       "1          AHJJKTBBXX            1  \n",
       "2               D0V30            1  "
      ]
     },
     "execution_count": 86,
     "metadata": {},
     "output_type": "execute_result"
    }
   ],
   "source": [
    "sra_data.set_index('seqrun_id')"
   ]
  },
  {
   "cell_type": "code",
   "execution_count": 79,
   "metadata": {
    "collapsed": true
   },
   "outputs": [],
   "source": [
    "sra.close_session()"
   ]
  },
  {
   "cell_type": "markdown",
   "metadata": {},
   "source": [
    "## Define and store experiment"
   ]
  },
  {
   "cell_type": "code",
   "execution_count": 80,
   "metadata": {
    "collapsed": true
   },
   "outputs": [],
   "source": [
    "exp_data=[{'experiment_igf_id':'IGFS0001_20170628_IH4',\n",
    "           'library_name':'IGFS0001_20170628',\n",
    "           'library_strategy':'RNA-SEQ',\n",
    "           'experiment_type':'TOTAL-RNA',\n",
    "           'library_layout':'PAIRED',\n",
    "           'project_igf_id':'IGFP0003',\n",
    "           'sample_igf_id':'IGFS0001',\n",
    "           'platform_name':'HISEQ4000'},\n",
    "          {'experiment_igf_id':'IGFS0002_20170628_IH4',\n",
    "           'library_name':'IGFS0002_20170628',\n",
    "           'library_strategy':'RNA-SEQ',\n",
    "           'experiment_type':'TOTAL-RNA',\n",
    "           'library_layout':'PAIRED',\n",
    "           'project_igf_id':'IGFP0003',\n",
    "           'sample_igf_id':'IGFS0002',\n",
    "           'platform_name':'HISEQ4000'},\n",
    "          ]"
   ]
  },
  {
   "cell_type": "code",
   "execution_count": 95,
   "metadata": {
    "collapsed": true
   },
   "outputs": [],
   "source": [
    "ea=ExperimentAdaptor(**{'session_class':base.session_class})\n",
    "ea.start_session()\n",
    "ea.store_project_and_attribute_data(data=exp_data)"
   ]
  },
  {
   "cell_type": "markdown",
   "metadata": {},
   "source": [
    "### Check experiments"
   ]
  },
  {
   "cell_type": "code",
   "execution_count": 96,
   "metadata": {
    "collapsed": true
   },
   "outputs": [],
   "source": [
    "e_data=ea.fetch_records(ea.session.query(Experiment))"
   ]
  },
  {
   "cell_type": "code",
   "execution_count": 85,
   "metadata": {},
   "outputs": [
    {
     "data": {
      "text/html": [
       "<div>\n",
       "<table border=\"1\" class=\"dataframe\">\n",
       "  <thead>\n",
       "    <tr style=\"text-align: right;\">\n",
       "      <th></th>\n",
       "      <th>experiment_igf_id</th>\n",
       "      <th>project_id</th>\n",
       "      <th>sample_id</th>\n",
       "      <th>library_name</th>\n",
       "      <th>library_source</th>\n",
       "      <th>library_strategy</th>\n",
       "      <th>experiment_type</th>\n",
       "      <th>library_layout</th>\n",
       "      <th>status</th>\n",
       "      <th>date_created</th>\n",
       "      <th>platform_name</th>\n",
       "    </tr>\n",
       "    <tr>\n",
       "      <th>experiment_id</th>\n",
       "      <th></th>\n",
       "      <th></th>\n",
       "      <th></th>\n",
       "      <th></th>\n",
       "      <th></th>\n",
       "      <th></th>\n",
       "      <th></th>\n",
       "      <th></th>\n",
       "      <th></th>\n",
       "      <th></th>\n",
       "      <th></th>\n",
       "    </tr>\n",
       "  </thead>\n",
       "  <tbody>\n",
       "    <tr>\n",
       "      <th>1</th>\n",
       "      <td>IGFS0001_20170628_IH4</td>\n",
       "      <td>1</td>\n",
       "      <td>1</td>\n",
       "      <td>IGFS0001_20170628</td>\n",
       "      <td>UNKNOWN</td>\n",
       "      <td>RNA-SEQ</td>\n",
       "      <td>TOTAL-RNA</td>\n",
       "      <td>PAIRED</td>\n",
       "      <td>ACTIVE</td>\n",
       "      <td>2017-07-11 15:51:01</td>\n",
       "      <td>HISEQ4000</td>\n",
       "    </tr>\n",
       "    <tr>\n",
       "      <th>2</th>\n",
       "      <td>IGFS0002_20170628_IH4</td>\n",
       "      <td>1</td>\n",
       "      <td>2</td>\n",
       "      <td>IGFS0002_20170628</td>\n",
       "      <td>UNKNOWN</td>\n",
       "      <td>RNA-SEQ</td>\n",
       "      <td>TOTAL-RNA</td>\n",
       "      <td>PAIRED</td>\n",
       "      <td>ACTIVE</td>\n",
       "      <td>2017-07-11 15:51:01</td>\n",
       "      <td>HISEQ4000</td>\n",
       "    </tr>\n",
       "  </tbody>\n",
       "</table>\n",
       "</div>"
      ],
      "text/plain": [
       "                   experiment_igf_id  project_id  sample_id  \\\n",
       "experiment_id                                                 \n",
       "1              IGFS0001_20170628_IH4           1          1   \n",
       "2              IGFS0002_20170628_IH4           1          2   \n",
       "\n",
       "                    library_name library_source library_strategy  \\\n",
       "experiment_id                                                      \n",
       "1              IGFS0001_20170628        UNKNOWN          RNA-SEQ   \n",
       "2              IGFS0002_20170628        UNKNOWN          RNA-SEQ   \n",
       "\n",
       "              experiment_type library_layout  status        date_created  \\\n",
       "experiment_id                                                              \n",
       "1                   TOTAL-RNA         PAIRED  ACTIVE 2017-07-11 15:51:01   \n",
       "2                   TOTAL-RNA         PAIRED  ACTIVE 2017-07-11 15:51:01   \n",
       "\n",
       "              platform_name  \n",
       "experiment_id                \n",
       "1                 HISEQ4000  \n",
       "2                 HISEQ4000  "
      ]
     },
     "execution_count": 85,
     "metadata": {},
     "output_type": "execute_result"
    }
   ],
   "source": [
    "e_data.set_index('experiment_id')"
   ]
  },
  {
   "cell_type": "code",
   "execution_count": 97,
   "metadata": {
    "collapsed": true
   },
   "outputs": [],
   "source": [
    "ea_data=ea.fetch_records(query=ea_session.query(Experiment_attribute))"
   ]
  },
  {
   "cell_type": "code",
   "execution_count": 98,
   "metadata": {},
   "outputs": [
    {
     "data": {
      "text/html": [
       "<div>\n",
       "<table border=\"1\" class=\"dataframe\">\n",
       "  <thead>\n",
       "    <tr style=\"text-align: right;\">\n",
       "      <th></th>\n",
       "      <th>experiment_attribute_id</th>\n",
       "      <th>attribute_name</th>\n",
       "      <th>attribute_value</th>\n",
       "      <th>experiment_id</th>\n",
       "    </tr>\n",
       "  </thead>\n",
       "  <tbody>\n",
       "  </tbody>\n",
       "</table>\n",
       "</div>"
      ],
      "text/plain": [
       "Empty DataFrame\n",
       "Columns: [experiment_attribute_id, attribute_name, attribute_value, experiment_id]\n",
       "Index: []"
      ]
     },
     "execution_count": 98,
     "metadata": {},
     "output_type": "execute_result"
    }
   ],
   "source": [
    "ea_data"
   ]
  },
  {
   "cell_type": "code",
   "execution_count": 99,
   "metadata": {
    "collapsed": true
   },
   "outputs": [],
   "source": [
    "ea.close_session()"
   ]
  },
  {
   "cell_type": "markdown",
   "metadata": {},
   "source": [
    "## Define and store run"
   ]
  },
  {
   "cell_type": "code",
   "execution_count": 100,
   "metadata": {
    "collapsed": true
   },
   "outputs": [],
   "source": [
    "run_data=[{'run_igf_id':'IGFS0001_20170628_IH4_L1',\n",
    "           'experiment_igf_id':'IGFS0001_20170628_IH4',\n",
    "           'seqrun_igf_id':'170627_M03291_0071_000000000-D0V30',\n",
    "           'lane_number':'1',\n",
    "           'run_barcode':'BARCODE_X'},\n",
    "          {'run_igf_id':'IGFS0002_20170628_IH4_L2',\n",
    "           'experiment_igf_id':'IGFS0002_20170628_IH4',\n",
    "           'seqrun_igf_id':'170627_M03291_0071_000000000-D0V30',\n",
    "           'lane_number':'2',\n",
    "           'run_barcode':'BARCODE_Y'},\n",
    "         ]"
   ]
  },
  {
   "cell_type": "code",
   "execution_count": 101,
   "metadata": {
    "collapsed": true
   },
   "outputs": [],
   "source": [
    "ra=RunAdaptor(**{'session_class':base.session_class})\n",
    "ra.start_session()\n",
    "ra.store_run_and_attribute_data(data=run_data)"
   ]
  },
  {
   "cell_type": "markdown",
   "metadata": {},
   "source": [
    "### Check runs"
   ]
  },
  {
   "cell_type": "code",
   "execution_count": 102,
   "metadata": {
    "collapsed": true
   },
   "outputs": [],
   "source": [
    "r_data=ra.fetch_records(query=ra.session.query(Run))"
   ]
  },
  {
   "cell_type": "code",
   "execution_count": 107,
   "metadata": {},
   "outputs": [
    {
     "data": {
      "text/html": [
       "<div>\n",
       "<table border=\"1\" class=\"dataframe\">\n",
       "  <thead>\n",
       "    <tr style=\"text-align: right;\">\n",
       "      <th></th>\n",
       "      <th>run_igf_id</th>\n",
       "      <th>experiment_id</th>\n",
       "      <th>seqrun_id</th>\n",
       "      <th>status</th>\n",
       "      <th>lane_number</th>\n",
       "      <th>date_created</th>\n",
       "    </tr>\n",
       "    <tr>\n",
       "      <th>run_id</th>\n",
       "      <th></th>\n",
       "      <th></th>\n",
       "      <th></th>\n",
       "      <th></th>\n",
       "      <th></th>\n",
       "      <th></th>\n",
       "    </tr>\n",
       "  </thead>\n",
       "  <tbody>\n",
       "    <tr>\n",
       "      <th>1</th>\n",
       "      <td>IGFS0001_20170628_IH4_L1</td>\n",
       "      <td>1</td>\n",
       "      <td>2</td>\n",
       "      <td>ACTIVE</td>\n",
       "      <td>1</td>\n",
       "      <td>2017-07-11 15:58:40</td>\n",
       "    </tr>\n",
       "    <tr>\n",
       "      <th>2</th>\n",
       "      <td>IGFS0002_20170628_IH4_L2</td>\n",
       "      <td>2</td>\n",
       "      <td>2</td>\n",
       "      <td>ACTIVE</td>\n",
       "      <td>2</td>\n",
       "      <td>2017-07-11 15:58:40</td>\n",
       "    </tr>\n",
       "  </tbody>\n",
       "</table>\n",
       "</div>"
      ],
      "text/plain": [
       "                      run_igf_id  experiment_id  seqrun_id  status  \\\n",
       "run_id                                                               \n",
       "1       IGFS0001_20170628_IH4_L1              1          2  ACTIVE   \n",
       "2       IGFS0002_20170628_IH4_L2              2          2  ACTIVE   \n",
       "\n",
       "       lane_number        date_created  \n",
       "run_id                                  \n",
       "1                1 2017-07-11 15:58:40  \n",
       "2                2 2017-07-11 15:58:40  "
      ]
     },
     "execution_count": 107,
     "metadata": {},
     "output_type": "execute_result"
    }
   ],
   "source": [
    "r_data.set_index('run_id')"
   ]
  },
  {
   "cell_type": "code",
   "execution_count": 104,
   "metadata": {
    "collapsed": true
   },
   "outputs": [],
   "source": [
    "ra_data=ra.fetch_records(query=ra.session.query(Run_attribute))"
   ]
  },
  {
   "cell_type": "code",
   "execution_count": 109,
   "metadata": {},
   "outputs": [
    {
     "data": {
      "text/html": [
       "<div>\n",
       "<table border=\"1\" class=\"dataframe\">\n",
       "  <thead>\n",
       "    <tr style=\"text-align: right;\">\n",
       "      <th></th>\n",
       "      <th>attribute_name</th>\n",
       "      <th>attribute_value</th>\n",
       "      <th>run_id</th>\n",
       "    </tr>\n",
       "    <tr>\n",
       "      <th>run_attribute_id</th>\n",
       "      <th></th>\n",
       "      <th></th>\n",
       "      <th></th>\n",
       "    </tr>\n",
       "  </thead>\n",
       "  <tbody>\n",
       "    <tr>\n",
       "      <th>1</th>\n",
       "      <td>run_barcode</td>\n",
       "      <td>BARCODE_X</td>\n",
       "      <td>1</td>\n",
       "    </tr>\n",
       "    <tr>\n",
       "      <th>2</th>\n",
       "      <td>run_barcode</td>\n",
       "      <td>BARCODE_Y</td>\n",
       "      <td>2</td>\n",
       "    </tr>\n",
       "  </tbody>\n",
       "</table>\n",
       "</div>"
      ],
      "text/plain": [
       "                 attribute_name attribute_value  run_id\n",
       "run_attribute_id                                       \n",
       "1                   run_barcode       BARCODE_X       1\n",
       "2                   run_barcode       BARCODE_Y       2"
      ]
     },
     "execution_count": 109,
     "metadata": {},
     "output_type": "execute_result"
    }
   ],
   "source": [
    "ra_data.set_index('run_attribute_id')"
   ]
  },
  {
   "cell_type": "code",
   "execution_count": 106,
   "metadata": {
    "collapsed": true
   },
   "outputs": [],
   "source": [
    "ra.close_session()"
   ]
  },
  {
   "cell_type": "markdown",
   "metadata": {},
   "source": [
    "## Check combined data for projects"
   ]
  },
  {
   "cell_type": "code",
   "execution_count": 115,
   "metadata": {
    "collapsed": true
   },
   "outputs": [],
   "source": [
    "base.start_session()\n",
    "all_data=base.fetch_records(base.session.query(Project.project_igf_id, \\\n",
    "                                               Sample.sample_igf_id, \\\n",
    "                                               Experiment.experiment_igf_id, \\\n",
    "                                               Run.run_igf_id).\\\n",
    "                                               join(Sample).\\\n",
    "                                               join(Experiment).\\\n",
    "                                               join(Run))"
   ]
  },
  {
   "cell_type": "code",
   "execution_count": 118,
   "metadata": {},
   "outputs": [
    {
     "data": {
      "text/html": [
       "<div>\n",
       "<table border=\"1\" class=\"dataframe\">\n",
       "  <thead>\n",
       "    <tr style=\"text-align: right;\">\n",
       "      <th></th>\n",
       "      <th>sample_igf_id</th>\n",
       "      <th>experiment_igf_id</th>\n",
       "      <th>run_igf_id</th>\n",
       "    </tr>\n",
       "    <tr>\n",
       "      <th>project_igf_id</th>\n",
       "      <th></th>\n",
       "      <th></th>\n",
       "      <th></th>\n",
       "    </tr>\n",
       "  </thead>\n",
       "  <tbody>\n",
       "    <tr>\n",
       "      <th>IGFP0003</th>\n",
       "      <td>IGFS0001</td>\n",
       "      <td>IGFS0001_20170628_IH4</td>\n",
       "      <td>IGFS0001_20170628_IH4_L1</td>\n",
       "    </tr>\n",
       "    <tr>\n",
       "      <th>IGFP0003</th>\n",
       "      <td>IGFS0002</td>\n",
       "      <td>IGFS0002_20170628_IH4</td>\n",
       "      <td>IGFS0002_20170628_IH4_L2</td>\n",
       "    </tr>\n",
       "  </tbody>\n",
       "</table>\n",
       "</div>"
      ],
      "text/plain": [
       "               sample_igf_id      experiment_igf_id                run_igf_id\n",
       "project_igf_id                                                               \n",
       "IGFP0003            IGFS0001  IGFS0001_20170628_IH4  IGFS0001_20170628_IH4_L1\n",
       "IGFP0003            IGFS0002  IGFS0002_20170628_IH4  IGFS0002_20170628_IH4_L2"
      ]
     },
     "execution_count": 118,
     "metadata": {},
     "output_type": "execute_result"
    }
   ],
   "source": [
    "all_data.set_index('project_igf_id')"
   ]
  },
  {
   "cell_type": "code",
   "execution_count": 117,
   "metadata": {
    "collapsed": true
   },
   "outputs": [],
   "source": [
    "base.close_session()"
   ]
  },
  {
   "cell_type": "code",
   "execution_count": null,
   "metadata": {
    "collapsed": true
   },
   "outputs": [],
   "source": []
  }
 ],
 "metadata": {
  "kernelspec": {
   "display_name": "Python 3",
   "language": "python",
   "name": "python3"
  },
  "language_info": {
   "codemirror_mode": {
    "name": "ipython",
    "version": 3
   },
   "file_extension": ".py",
   "mimetype": "text/x-python",
   "name": "python",
   "nbconvert_exporter": "python",
   "pygments_lexer": "ipython3",
   "version": "3.5.2"
  }
 },
 "nbformat": 4,
 "nbformat_minor": 2
}
