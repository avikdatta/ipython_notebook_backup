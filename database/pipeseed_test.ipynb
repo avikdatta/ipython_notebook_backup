{
 "cells": [
  {
   "cell_type": "code",
   "execution_count": 9,
   "metadata": {
    "collapsed": true
   },
   "outputs": [],
   "source": [
    "import pandas as pd\n",
    "from igf_data.igfdb.igfTables import Seqrun, Seqrun_attribute, Platform\n",
    "from igf_data.igfdb.seqrunadaptor import SeqrunAdaptor"
   ]
  },
  {
   "cell_type": "code",
   "execution_count": 10,
   "metadata": {
    "collapsed": true
   },
   "outputs": [],
   "source": [
    "pipe_seed=pd.DataFrame([{'pipeseed_id':'1','seed_id':'1','seed_table':'SEQRUN'},\n",
    "                        {'pipeseed_id':'2','seed_id':'2','seed_table':'SEQRUN'},\n",
    "                       ])"
   ]
  },
  {
   "cell_type": "code",
   "execution_count": 11,
   "metadata": {},
   "outputs": [
    {
     "data": {
      "text/html": [
       "<div>\n",
       "<style>\n",
       "    .dataframe thead tr:only-child th {\n",
       "        text-align: right;\n",
       "    }\n",
       "\n",
       "    .dataframe thead th {\n",
       "        text-align: left;\n",
       "    }\n",
       "\n",
       "    .dataframe tbody tr th {\n",
       "        vertical-align: top;\n",
       "    }\n",
       "</style>\n",
       "<table border=\"1\" class=\"dataframe\">\n",
       "  <thead>\n",
       "    <tr style=\"text-align: right;\">\n",
       "      <th></th>\n",
       "      <th>pipeseed_id</th>\n",
       "      <th>seed_id</th>\n",
       "      <th>seed_table</th>\n",
       "    </tr>\n",
       "  </thead>\n",
       "  <tbody>\n",
       "    <tr>\n",
       "      <th>0</th>\n",
       "      <td>1</td>\n",
       "      <td>1</td>\n",
       "      <td>SEQRUN</td>\n",
       "    </tr>\n",
       "    <tr>\n",
       "      <th>1</th>\n",
       "      <td>2</td>\n",
       "      <td>2</td>\n",
       "      <td>SEQRUN</td>\n",
       "    </tr>\n",
       "  </tbody>\n",
       "</table>\n",
       "</div>"
      ],
      "text/plain": [
       "  pipeseed_id seed_id seed_table\n",
       "0           1       1     SEQRUN\n",
       "1           2       2     SEQRUN"
      ]
     },
     "execution_count": 11,
     "metadata": {},
     "output_type": "execute_result"
    }
   ],
   "source": [
    "pipe_seed"
   ]
  },
  {
   "cell_type": "code",
   "execution_count": 12,
   "metadata": {
    "collapsed": true
   },
   "outputs": [],
   "source": [
    "seed_data=pipe_seed[['seed_id','seed_table']]"
   ]
  },
  {
   "cell_type": "code",
   "execution_count": 13,
   "metadata": {},
   "outputs": [
    {
     "data": {
      "text/html": [
       "<div>\n",
       "<style>\n",
       "    .dataframe thead tr:only-child th {\n",
       "        text-align: right;\n",
       "    }\n",
       "\n",
       "    .dataframe thead th {\n",
       "        text-align: left;\n",
       "    }\n",
       "\n",
       "    .dataframe tbody tr th {\n",
       "        vertical-align: top;\n",
       "    }\n",
       "</style>\n",
       "<table border=\"1\" class=\"dataframe\">\n",
       "  <thead>\n",
       "    <tr style=\"text-align: right;\">\n",
       "      <th></th>\n",
       "      <th>seed_id</th>\n",
       "      <th>seed_table</th>\n",
       "    </tr>\n",
       "  </thead>\n",
       "  <tbody>\n",
       "    <tr>\n",
       "      <th>0</th>\n",
       "      <td>1</td>\n",
       "      <td>SEQRUN</td>\n",
       "    </tr>\n",
       "    <tr>\n",
       "      <th>1</th>\n",
       "      <td>2</td>\n",
       "      <td>SEQRUN</td>\n",
       "    </tr>\n",
       "  </tbody>\n",
       "</table>\n",
       "</div>"
      ],
      "text/plain": [
       "  seed_id seed_table\n",
       "0       1     SEQRUN\n",
       "1       2     SEQRUN"
      ]
     },
     "execution_count": 13,
     "metadata": {},
     "output_type": "execute_result"
    }
   ],
   "source": [
    "seed_data"
   ]
  },
  {
   "cell_type": "code",
   "execution_count": 12,
   "metadata": {
    "collapsed": true
   },
   "outputs": [],
   "source": [
    "def map_seed_data(x):\n",
    "    if x.seed_table=='SEQRUN':\n",
    "        print('its seqrun')\n",
    "    else:\n",
    "        print('its not seqrun')"
   ]
  },
  {
   "cell_type": "code",
   "execution_count": 15,
   "metadata": {},
   "outputs": [
    {
     "name": "stdout",
     "output_type": "stream",
     "text": [
      "its seqrun\n",
      "its seqrun\n"
     ]
    },
    {
     "data": {
      "text/plain": [
       "0    None\n",
       "1    None\n",
       "dtype: object"
      ]
     },
     "execution_count": 15,
     "metadata": {},
     "output_type": "execute_result"
    }
   ],
   "source": [
    "seed_data.apply(lambda x: map_seed_data(x), axis=1)"
   ]
  },
  {
   "cell_type": "code",
   "execution_count": 2,
   "metadata": {
    "collapsed": true
   },
   "outputs": [],
   "source": [
    "dbparams={'dbhost':'0.0.0.0', \\\n",
    "          'dbuser':'root', \\\n",
    "          'dbpass':'root123', \\\n",
    "          'dbname':'igfdb', \\\n",
    "          'driver':'mysql', \\\n",
    "          'connector':'pymysql'}"
   ]
  },
  {
   "cell_type": "code",
   "execution_count": 3,
   "metadata": {
    "collapsed": true
   },
   "outputs": [],
   "source": [
    "sa=SeqrunAdaptor(**dbparams)"
   ]
  },
  {
   "cell_type": "code",
   "execution_count": 4,
   "metadata": {
    "collapsed": true
   },
   "outputs": [],
   "source": [
    "sa.start_session()"
   ]
  },
  {
   "cell_type": "code",
   "execution_count": 21,
   "metadata": {
    "collapsed": true
   },
   "outputs": [],
   "source": [
    "sa.close_session()"
   ]
  },
  {
   "cell_type": "code",
   "execution_count": 18,
   "metadata": {
    "collapsed": true
   },
   "outputs": [],
   "source": [
    "sa_query=sa.session.query(Seqrun,\n",
    "                          Platform.platform_igf_id,\n",
    "                          Platform.model_name,\n",
    "                          Platform.vendor_name,\n",
    "                          Platform.software_name,\n",
    "                          Platform.software_version,\n",
    "                         ).join(Platform)"
   ]
  },
  {
   "cell_type": "code",
   "execution_count": 19,
   "metadata": {
    "collapsed": true
   },
   "outputs": [],
   "source": [
    "def map_seed_data(x,sa_query):\n",
    "    x=pd.Series(x)\n",
    "    if x.seed_table=='SEQRUN':\n",
    "        query=sa_query.filter(Seqrun.seqrun_id==x.seed_id)\n",
    "        data=sa.fetch_records(query)\n",
    "        return data\n",
    "    #    print(x)\n",
    "    else:\n",
    "        print('its not seqrun')"
   ]
  },
  {
   "cell_type": "code",
   "execution_count": 20,
   "metadata": {},
   "outputs": [],
   "source": [
    "da=pd.concat([map_seed_data(x=record,sa_query=sa_query) for record in seed_data.to_dict(orient='records')], axis=0)"
   ]
  },
  {
   "cell_type": "code",
   "execution_count": 25,
   "metadata": {
    "collapsed": true
   },
   "outputs": [],
   "source": [
    "import datetime"
   ]
  },
  {
   "cell_type": "code",
   "execution_count": 37,
   "metadata": {},
   "outputs": [],
   "source": [
    "da['date_created']=da['date_created'].astype(str)"
   ]
  },
  {
   "cell_type": "code",
   "execution_count": 38,
   "metadata": {},
   "outputs": [
    {
     "data": {
      "text/plain": [
       "[{'date_created': '2017-09-05 16:00:18',\n",
       "  'flowcell_id': 'AHJJKTBBXX',\n",
       "  'model_name': 'HISEQ4000',\n",
       "  'platform_id': 1,\n",
       "  'platform_igf_id': 'ILM4K_001',\n",
       "  'reject_run': 'N',\n",
       "  'seqrun_id': 1,\n",
       "  'seqrun_igf_id': '170627_K00345_0012_AHJJKTBBXX',\n",
       "  'software_name': 'RTA',\n",
       "  'software_version': 'RTA2',\n",
       "  'vendor_name': 'ILLUMINA'},\n",
       " {'date_created': '2017-09-05 16:00:18',\n",
       "  'flowcell_id': 'D0V30',\n",
       "  'model_name': 'HISEQ4000',\n",
       "  'platform_id': 1,\n",
       "  'platform_igf_id': 'ILM4K_001',\n",
       "  'reject_run': 'N',\n",
       "  'seqrun_id': 2,\n",
       "  'seqrun_igf_id': '170627_M03291_0071_000000000-D0V30',\n",
       "  'software_name': 'RTA',\n",
       "  'software_version': 'RTA2',\n",
       "  'vendor_name': 'ILLUMINA'}]"
      ]
     },
     "execution_count": 38,
     "metadata": {},
     "output_type": "execute_result"
    }
   ],
   "source": [
    "da.to_dict(orient='records')"
   ]
  },
  {
   "cell_type": "code",
   "execution_count": 21,
   "metadata": {},
   "outputs": [
    {
     "data": {
      "text/plain": [
       "'[{\"seqrun_id\":1,\"seqrun_igf_id\":\"170627_K00345_0012_AHJJKTBBXX\",\"reject_run\":\"N\",\"date_created\":1504627218000,\"flowcell_id\":\"AHJJKTBBXX\",\"platform_id\":1,\"platform_igf_id\":\"ILM4K_001\",\"model_name\":\"HISEQ4000\",\"vendor_name\":\"ILLUMINA\",\"software_name\":\"RTA\",\"software_version\":\"RTA2\"},{\"seqrun_id\":2,\"seqrun_igf_id\":\"170627_M03291_0071_000000000-D0V30\",\"reject_run\":\"N\",\"date_created\":1504627218000,\"flowcell_id\":\"D0V30\",\"platform_id\":1,\"platform_igf_id\":\"ILM4K_001\",\"model_name\":\"HISEQ4000\",\"vendor_name\":\"ILLUMINA\",\"software_name\":\"RTA\",\"software_version\":\"RTA2\"}]'"
      ]
     },
     "execution_count": 21,
     "metadata": {},
     "output_type": "execute_result"
    }
   ],
   "source": [
    "da.to_json(orient='records')"
   ]
  },
  {
   "cell_type": "code",
   "execution_count": 124,
   "metadata": {},
   "outputs": [
    {
     "data": {
      "text/html": [
       "<div>\n",
       "<style>\n",
       "    .dataframe thead tr:only-child th {\n",
       "        text-align: right;\n",
       "    }\n",
       "\n",
       "    .dataframe thead th {\n",
       "        text-align: left;\n",
       "    }\n",
       "\n",
       "    .dataframe tbody tr th {\n",
       "        vertical-align: top;\n",
       "    }\n",
       "</style>\n",
       "<table border=\"1\" class=\"dataframe\">\n",
       "  <thead>\n",
       "    <tr style=\"text-align: right;\">\n",
       "      <th></th>\n",
       "      <th>seqrun_id</th>\n",
       "      <th>seqrun_igf_id</th>\n",
       "      <th>flowcell_id</th>\n",
       "      <th>reject_run</th>\n",
       "      <th>platform_igf_id</th>\n",
       "      <th>model_name</th>\n",
       "      <th>vendor_name</th>\n",
       "      <th>software_name</th>\n",
       "      <th>software_version</th>\n",
       "    </tr>\n",
       "  </thead>\n",
       "  <tbody>\n",
       "    <tr>\n",
       "      <th>0</th>\n",
       "      <td>1</td>\n",
       "      <td>170627_K00345_0012_AHJJKTBBXX</td>\n",
       "      <td>AHJJKTBBXX</td>\n",
       "      <td>N</td>\n",
       "      <td>ILM4K_001</td>\n",
       "      <td>HISEQ4000</td>\n",
       "      <td>ILLUMINA</td>\n",
       "      <td>RTA</td>\n",
       "      <td>RTA2</td>\n",
       "    </tr>\n",
       "    <tr>\n",
       "      <th>0</th>\n",
       "      <td>2</td>\n",
       "      <td>170627_M03291_0071_000000000-D0V30</td>\n",
       "      <td>D0V30</td>\n",
       "      <td>N</td>\n",
       "      <td>ILM4K_001</td>\n",
       "      <td>HISEQ4000</td>\n",
       "      <td>ILLUMINA</td>\n",
       "      <td>RTA</td>\n",
       "      <td>RTA2</td>\n",
       "    </tr>\n",
       "  </tbody>\n",
       "</table>\n",
       "</div>"
      ],
      "text/plain": [
       "   seqrun_id                       seqrun_igf_id flowcell_id reject_run  \\\n",
       "0          1       170627_K00345_0012_AHJJKTBBXX  AHJJKTBBXX          N   \n",
       "0          2  170627_M03291_0071_000000000-D0V30       D0V30          N   \n",
       "\n",
       "  platform_igf_id model_name vendor_name software_name software_version  \n",
       "0       ILM4K_001  HISEQ4000    ILLUMINA           RTA             RTA2  \n",
       "0       ILM4K_001  HISEQ4000    ILLUMINA           RTA             RTA2  "
      ]
     },
     "execution_count": 124,
     "metadata": {},
     "output_type": "execute_result"
    }
   ],
   "source": [
    "da"
   ]
  },
  {
   "cell_type": "code",
   "execution_count": 135,
   "metadata": {},
   "outputs": [
    {
     "data": {
      "text/html": [
       "<div>\n",
       "<style>\n",
       "    .dataframe thead tr:only-child th {\n",
       "        text-align: right;\n",
       "    }\n",
       "\n",
       "    .dataframe thead th {\n",
       "        text-align: left;\n",
       "    }\n",
       "\n",
       "    .dataframe tbody tr th {\n",
       "        vertical-align: top;\n",
       "    }\n",
       "</style>\n",
       "<table border=\"1\" class=\"dataframe\">\n",
       "  <thead>\n",
       "    <tr style=\"text-align: right;\">\n",
       "      <th></th>\n",
       "      <th>pipeseed_id</th>\n",
       "      <th>seed_id</th>\n",
       "      <th>seed_table</th>\n",
       "    </tr>\n",
       "  </thead>\n",
       "  <tbody>\n",
       "    <tr>\n",
       "      <th>0</th>\n",
       "      <td>1</td>\n",
       "      <td>1</td>\n",
       "      <td>SEQRUN</td>\n",
       "    </tr>\n",
       "    <tr>\n",
       "      <th>1</th>\n",
       "      <td>2</td>\n",
       "      <td>2</td>\n",
       "      <td>SEQRUN</td>\n",
       "    </tr>\n",
       "  </tbody>\n",
       "</table>\n",
       "</div>"
      ],
      "text/plain": [
       "  pipeseed_id  seed_id seed_table\n",
       "0           1        1     SEQRUN\n",
       "1           2        2     SEQRUN"
      ]
     },
     "execution_count": 135,
     "metadata": {},
     "output_type": "execute_result"
    }
   ],
   "source": [
    "pipe_seed"
   ]
  },
  {
   "cell_type": "code",
   "execution_count": 134,
   "metadata": {
    "collapsed": true
   },
   "outputs": [],
   "source": [
    "pipe_seed['seed_id']=pipe_seed['seed_id'].astype(int)"
   ]
  },
  {
   "cell_type": "code",
   "execution_count": 138,
   "metadata": {
    "collapsed": true
   },
   "outputs": [],
   "source": [
    "merged_df=pd.merge(pipe_seed,da,how='inner',on=None,left_on=['seed_id'],right_on=['seqrun_id'],left_index=False,right_index=False)"
   ]
  },
  {
   "cell_type": "code",
   "execution_count": 139,
   "metadata": {},
   "outputs": [
    {
     "data": {
      "text/plain": [
       "[{'flowcell_id': 'AHJJKTBBXX',\n",
       "  'model_name': 'HISEQ4000',\n",
       "  'pipeseed_id': '1',\n",
       "  'platform_igf_id': 'ILM4K_001',\n",
       "  'reject_run': 'N',\n",
       "  'seed_id': 1,\n",
       "  'seed_table': 'SEQRUN',\n",
       "  'seqrun_id': 1,\n",
       "  'seqrun_igf_id': '170627_K00345_0012_AHJJKTBBXX',\n",
       "  'software_name': 'RTA',\n",
       "  'software_version': 'RTA2',\n",
       "  'vendor_name': 'ILLUMINA'},\n",
       " {'flowcell_id': 'D0V30',\n",
       "  'model_name': 'HISEQ4000',\n",
       "  'pipeseed_id': '2',\n",
       "  'platform_igf_id': 'ILM4K_001',\n",
       "  'reject_run': 'N',\n",
       "  'seed_id': 2,\n",
       "  'seed_table': 'SEQRUN',\n",
       "  'seqrun_id': 2,\n",
       "  'seqrun_igf_id': '170627_M03291_0071_000000000-D0V30',\n",
       "  'software_name': 'RTA',\n",
       "  'software_version': 'RTA2',\n",
       "  'vendor_name': 'ILLUMINA'}]"
      ]
     },
     "execution_count": 139,
     "metadata": {},
     "output_type": "execute_result"
    }
   ],
   "source": [
    "merged_df.to_dict(orient='records')"
   ]
  },
  {
   "cell_type": "code",
   "execution_count": 8,
   "metadata": {},
   "outputs": [
    {
     "data": {
      "text/plain": [
       "['pipeseed_id', 'seed_id', 'seed_table']"
      ]
     },
     "execution_count": 8,
     "metadata": {},
     "output_type": "execute_result"
    }
   ],
   "source": [
    "list(pipe_seed.columns)"
   ]
  },
  {
   "cell_type": "code",
   "execution_count": 32,
   "metadata": {},
   "outputs": [
    {
     "data": {
      "text/plain": [
       "array(['SEQRUN'], dtype=object)"
      ]
     },
     "execution_count": 32,
     "metadata": {},
     "output_type": "execute_result"
    }
   ],
   "source": [
    "pipe_seed.loc[pipe_seed.seed_id=='1']['seed_table'].values"
   ]
  },
  {
   "cell_type": "code",
   "execution_count": 40,
   "metadata": {
    "collapsed": true
   },
   "outputs": [],
   "source": [
    "import pip"
   ]
  },
  {
   "cell_type": "code",
   "execution_count": 41,
   "metadata": {},
   "outputs": [
    {
     "name": "stdout",
     "output_type": "stream",
     "text": [
      "Collecting pysftp\n",
      "  Downloading pysftp-0.2.9.tar.gz\n",
      "Collecting paramiko>=1.17 (from pysftp)\n",
      "  Downloading paramiko-2.2.1-py2.py3-none-any.whl (176kB)\n",
      "Collecting bcrypt>=3.1.3 (from paramiko>=1.17->pysftp)\n",
      "  Downloading bcrypt-3.1.3-cp35-cp35m-manylinux1_x86_64.whl (54kB)\n",
      "Collecting pyasn1>=0.1.7 (from paramiko>=1.17->pysftp)\n",
      "  Downloading pyasn1-0.3.4-py2.py3-none-any.whl (63kB)\n",
      "Collecting pynacl>=1.0.1 (from paramiko>=1.17->pysftp)\n",
      "  Downloading PyNaCl-1.1.2-cp35-cp35m-manylinux1_x86_64.whl (536kB)\n",
      "Collecting cryptography>=1.1 (from paramiko>=1.17->pysftp)\n",
      "  Downloading cryptography-2.0.3-cp35-cp35m-manylinux1_x86_64.whl (2.2MB)\n",
      "Collecting cffi>=1.1 (from bcrypt>=3.1.3->paramiko>=1.17->pysftp)\n",
      "  Downloading cffi-1.10.0-cp35-cp35m-manylinux1_x86_64.whl (406kB)\n",
      "Requirement already satisfied (use --upgrade to upgrade): six>=1.4.1 in /home/vmuser/.pyenv/versions/3.5.2/lib/python3.5/site-packages (from bcrypt>=3.1.3->paramiko>=1.17->pysftp)\n",
      "Collecting asn1crypto>=0.21.0 (from cryptography>=1.1->paramiko>=1.17->pysftp)\n",
      "  Downloading asn1crypto-0.22.0-py2.py3-none-any.whl (97kB)\n",
      "Requirement already satisfied (use --upgrade to upgrade): idna>=2.1 in /home/vmuser/.pyenv/versions/3.5.2/lib/python3.5/site-packages (from cryptography>=1.1->paramiko>=1.17->pysftp)\n",
      "Collecting pycparser (from cffi>=1.1->bcrypt>=3.1.3->paramiko>=1.17->pysftp)\n",
      "  Downloading pycparser-2.18.tar.gz (245kB)\n",
      "Installing collected packages: pycparser, cffi, bcrypt, pyasn1, pynacl, asn1crypto, cryptography, paramiko, pysftp\n",
      "  Running setup.py install for pycparser: started\n",
      "    Running setup.py install for pycparser: finished with status 'done'\n",
      "  Running setup.py install for pysftp: started\n",
      "    Running setup.py install for pysftp: finished with status 'done'\n",
      "Successfully installed asn1crypto-0.22.0 bcrypt-3.1.3 cffi-1.10.0 cryptography-2.0.3 paramiko-2.2.1 pyasn1-0.3.4 pycparser-2.18 pynacl-1.1.2 pysftp-0.2.9\n"
     ]
    },
    {
     "name": "stderr",
     "output_type": "stream",
     "text": [
      "You are using pip version 8.1.1, however version 9.0.1 is available.\n",
      "You should consider upgrading via the 'pip install --upgrade pip' command.\n"
     ]
    },
    {
     "data": {
      "text/plain": [
       "0"
      ]
     },
     "execution_count": 41,
     "metadata": {},
     "output_type": "execute_result"
    }
   ],
   "source": [
    "pip.main(['install','pysftp'])"
   ]
  },
  {
   "cell_type": "code",
   "execution_count": 44,
   "metadata": {
    "collapsed": true
   },
   "outputs": [],
   "source": [
    "import pysftp"
   ]
  },
  {
   "cell_type": "code",
   "execution_count": 50,
   "metadata": {},
   "outputs": [
    {
     "ename": "SyntaxError",
     "evalue": "invalid syntax (<ipython-input-50-15825e1fae4e>, line 1)",
     "output_type": "error",
     "traceback": [
      "\u001b[0;36m  File \u001b[0;32m\"<ipython-input-50-15825e1fae4e>\"\u001b[0;36m, line \u001b[0;32m1\u001b[0m\n\u001b[0;31m    with pysftp.Connection('orwell.hh.med.ic.ac.uk',username='igf',password='4ZSsWqen',cnopts=pysftp.CnOpts({hostkeys=None})) as sftp:\u001b[0m\n\u001b[0m                                                                                                                     ^\u001b[0m\n\u001b[0;31mSyntaxError\u001b[0m\u001b[0;31m:\u001b[0m invalid syntax\n"
     ]
    }
   ],
   "source": [
    "with pysftp.Connection('orwell.hh.med.ic.ac.uk',username='igf',password='4ZSsWqen',cnopts=pysftp.CnOpts({hostkeys=None})) as sftp:\n",
    "    sftp.listdir(remotepath='/home/igf/igf_work')"
   ]
  },
  {
   "cell_type": "code",
   "execution_count": null,
   "metadata": {
    "collapsed": true
   },
   "outputs": [],
   "source": []
  }
 ],
 "metadata": {
  "kernelspec": {
   "display_name": "Python 3",
   "language": "python",
   "name": "python3"
  },
  "language_info": {
   "codemirror_mode": {
    "name": "ipython",
    "version": 3
   },
   "file_extension": ".py",
   "mimetype": "text/x-python",
   "name": "python",
   "nbconvert_exporter": "python",
   "pygments_lexer": "ipython3",
   "version": "3.5.2"
  }
 },
 "nbformat": 4,
 "nbformat_minor": 2
}
